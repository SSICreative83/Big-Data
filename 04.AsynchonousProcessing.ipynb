{
 "cells": [
  {
   "cell_type": "markdown",
   "metadata": {},
   "source": [
    "While many parallel applications can be described as maps, some can be more complex.\n",
    "In this section we look at the asynchronous Future interface,\n",
    "which provides a simple API for ad-hoc parallelism.\n",
    "This is useful for when your computations don't fit a regular pattern."
   ]
  },
  {
   "cell_type": "markdown",
   "metadata": {},
   "source": [
    "## Download data"
   ]
  },
  {
   "cell_type": "code",
   "execution_count": 1,
   "metadata": {},
   "outputs": [],
   "source": [
    "%rm -rf data/  # remove the data directory to restart execution"
   ]
  },
  {
   "cell_type": "code",
   "execution_count": 2,
   "metadata": {},
   "outputs": [
    {
     "name": "stdout",
     "output_type": "stream",
     "text": [
      "Finished CSV: hal\n",
      "Finished CSV: hp\n",
      "Finished CSV: hpq\n",
      "Finished CSV: ibm\n",
      "Finished CSV: jbl\n",
      "Finished CSV: jpm\n",
      "Finished CSV: luv\n",
      "Finished CSV: pcg\n",
      "Finished CSV: usb\n",
      "Finished JSON: hal\n",
      "Finished JSON: hp\n",
      "Finished JSON: hpq\n",
      "Finished JSON: ibm\n",
      "Finished JSON: jbl\n",
      "Finished JSON: jpm\n",
      "Finished JSON: luv\n",
      "Finished JSON: pcg\n",
      "Finished JSON: usb\n"
     ]
    }
   ],
   "source": [
    "import datetime\n",
    "import os, sys\n",
    "from glob import glob\n",
    "import pandas as pd\n",
    "import dask\n",
    "import dask.dataframe as dd\n",
    "try:\n",
    "    import ujson as json\n",
    "except ImportError:\n",
    "    import json\n",
    "\n",
    "\n",
    "here = os.getcwd() # get the current directory\n",
    "# create data and minute directories\n",
    "os.makedirs(os.path.join(here, 'data', 'minute'), exist_ok=True)\n",
    "\n",
    "stocks = ['hal', 'hp', 'hpq', 'ibm', 'jbl', 'jpm', 'luv', 'pcg','usb']\n",
    "\n",
    "def write_stock(symbol):\n",
    "    \"\"\" Get demo files from google using dask library and write some\n",
    "    csv files \"\"\"\n",
    "    dirname = os.path.join(here, 'data', 'minute', symbol)\n",
    "    today = datetime.datetime.now().date()\n",
    "    year = datetime.timedelta(days=365)\n",
    "    if not os.path.exists(dirname):\n",
    "        os.mkdir(dirname)\n",
    "        df = dd.demo.daily_stock(symbol, today - year, today, freq='30s',\n",
    "                                 data_source='google')\n",
    "        names = [str(ts.date()) for ts in df.divisions]\n",
    "        df.to_csv(os.path.join(here, 'data', 'minute', symbol, '*.csv'),\n",
    "                  name_function=names.__getitem__)\n",
    "        print(\"Finished CSV: %s\" % symbol)\n",
    "\n",
    "for symbol in stocks:\n",
    "    write_stock(symbol)\n",
    "\n",
    "\n",
    "def convert_to_json(d):\n",
    "    \"\"\" Convert all csv files of directory d into json format \"\"\"\n",
    "    filenames = sorted(glob(os.path.join(d, '*')))[-365:]\n",
    "    outfn = d.replace('minute', 'json') + '.json'\n",
    "    if os.path.exists(outfn):\n",
    "        return\n",
    "    with open(outfn, 'w') as f:\n",
    "        for fn in filenames:\n",
    "            df = pd.read_csv(fn)\n",
    "            for rec in df.to_dict(orient='records'):\n",
    "                json.dump(rec, f)\n",
    "                f.write('\\n')\n",
    "    print(\"Finished JSON: %s\" % d.split(os.path.sep)[-1])\n",
    "\n",
    "\n",
    "js = os.path.join(here, 'data', 'json')\n",
    "if not os.path.exists(js):\n",
    "    os.mkdir(js)\n",
    "\n",
    "directories = sorted(glob(os.path.join(here, 'data', 'minute', '*')))\n",
    "for d in directories:\n",
    "    convert_to_json(d)\n"
   ]
  },
  {
   "cell_type": "code",
   "execution_count": 17,
   "metadata": {},
   "outputs": [
    {
     "data": {
      "text/plain": [
       "['data/json/hal.json',\n",
       " 'data/json/hp.json',\n",
       " 'data/json/hpq.json',\n",
       " 'data/json/ibm.json',\n",
       " 'data/json/jbl.json',\n",
       " 'data/json/jpm.json',\n",
       " 'data/json/luv.json',\n",
       " 'data/json/pcg.json',\n",
       " 'data/json/usb.json']"
      ]
     },
     "execution_count": 17,
     "metadata": {},
     "output_type": "execute_result"
    }
   ],
   "source": [
    "import os, glob\n",
    "filenames = sorted(glob.glob(os.path.join('data', 'json', '*.json')))\n",
    "filenames"
   ]
  },
  {
   "cell_type": "markdown",
   "metadata": {},
   "source": [
    "### Exercise 4.1\n",
    "- Convert JSON data to HDF5 in parallel using `concurrent.futures`"
   ]
  },
  {
   "cell_type": "code",
   "execution_count": 18,
   "metadata": {},
   "outputs": [
    {
     "name": "stdout",
     "output_type": "stream",
     "text": [
      "Finished : hal.h5\n",
      "Finished : hp.h5\n",
      "Finished : hpq.h5\n",
      "Finished : ibm.h5\n",
      "Finished : jbl.h5\n",
      "Finished : jpm.h5\n",
      "Finished : luv.h5\n",
      "Finished : pcg.h5\n",
      "Finished : usb.h5\n",
      "CPU times: user 6.17 s, sys: 730 ms, total: 6.9 s\n",
      "Wall time: 6.98 s\n"
     ]
    }
   ],
   "source": [
    "%%time\n",
    "import pandas as pd\n",
    "import ujson as json # or json\n",
    "for fn in filenames:\n",
    "    with open(fn) as f:\n",
    "        data = [json.loads(line) for line in f]\n",
    "        \n",
    "    df = pd.DataFrame(data)\n",
    "    \n",
    "    out_filename = fn[:-5] + '.h5'\n",
    "    df.to_hdf(out_filename, '/data')\n",
    "    print(\"Finished : %s\" % out_filename.split(os.path.sep)[-1])"
   ]
  },
  {
   "cell_type": "markdown",
   "metadata": {},
   "source": [
    "## Application\n",
    "\n",
    "Given our HDF5 files from the last section we want to find the two datasets with the greatest pair-wise correlation.  This forces us to consider all $n\\times(n-1)$ possibilities.\n"
   ]
  },
  {
   "cell_type": "code",
   "execution_count": 19,
   "metadata": {},
   "outputs": [
    {
     "data": {
      "text/plain": [
       "['data/json/hal.h5',\n",
       " 'data/json/hp.h5',\n",
       " 'data/json/hpq.h5',\n",
       " 'data/json/ibm.h5',\n",
       " 'data/json/jbl.h5',\n",
       " 'data/json/jpm.h5',\n",
       " 'data/json/luv.h5',\n",
       " 'data/json/pcg.h5',\n",
       " 'data/json/usb.h5']"
      ]
     },
     "execution_count": 19,
     "metadata": {},
     "output_type": "execute_result"
    }
   ],
   "source": [
    "from glob import glob\n",
    "filenames = sorted(glob(os.path.join('data', 'json', '*.h5')))\n",
    "filenames"
   ]
  },
  {
   "cell_type": "code",
   "execution_count": 20,
   "metadata": {},
   "outputs": [],
   "source": [
    "\n",
    "for fn in filenames:\n",
    "    series[fn] = pd.read_hdf(fn)['close']"
   ]
  },
  {
   "cell_type": "code",
   "execution_count": 21,
   "metadata": {},
   "outputs": [
    {
     "name": "stdout",
     "output_type": "stream",
     "text": [
      "data/json/jbl.h5 matches with data/json/pcg.h5 with correlation 0.946251\n",
      "CPU times: user 310 ms, sys: 85.1 ms, total: 395 ms\n",
      "Wall time: 394 ms\n"
     ]
    }
   ],
   "source": [
    "%%time\n",
    "\n",
    "results = {}\n",
    "\n",
    "for a in filenames:\n",
    "    for b in filenames:\n",
    "        if a != b:\n",
    "            results[a, b] = series[a].corr(series[b])\n",
    "            \n",
    "((a, b), corr) = max(results.items(), key=lambda kv: kv[1])\n",
    "print(\"%s matches with %s with correlation %f\" % (a, b, corr))"
   ]
  },
  {
   "cell_type": "markdown",
   "metadata": {},
   "source": [
    "We use matplotlib to visually inspect the highly correlated timeseries"
   ]
  },
  {
   "cell_type": "code",
   "execution_count": 22,
   "metadata": {},
   "outputs": [
    {
     "data": {
      "image/png": "[encoded data removed]",
      "text/plain": [
       "<matplotlib.figure.Figure at 0x127c1c390>"
      ]
     },
     "metadata": {},
     "output_type": "display_data"
    }
   ],
   "source": [
    "%matplotlib inline\n",
    "from matplotlib import pyplot as plt\n",
    "plt.figure(figsize=(10, 4))\n",
    "plt.plot(series[a] / series[a].max())\n",
    "plt.plot(series[b] / series[b].max())\n",
    "plt.xticks(visible=False);"
   ]
  },
  {
   "cell_type": "code",
   "execution_count": null,
   "metadata": {},
   "outputs": [],
   "source": []
  }
 ],
 "metadata": {
  "kernelspec": {
   "display_name": "Python 3",
   "language": "python",
   "name": "python3"
  },
  "language_info": {
   "codemirror_mode": {
    "name": "ipython",
    "version": 3
   },
   "file_extension": ".py",
   "mimetype": "text/x-python",
   "name": "python",
   "nbconvert_exporter": "python",
   "pygments_lexer": "ipython3",
   "version": "3.6.3"
  }
 },
 "nbformat": 4,
 "nbformat_minor": 2
}
