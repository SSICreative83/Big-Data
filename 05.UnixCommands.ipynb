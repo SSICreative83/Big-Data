{
 "cells": [
  {
   "cell_type": "markdown",
   "metadata": {
    "slideshow": {
     "slide_type": "slide"
    }
   },
   "source": [
    "# Basic Commands In the Unix Shell\n",
    "\n",
    "\n",
    "## Unix Shell\n",
    "The shell is a command programming language that provides an interface to the UNIX operating system. Documentation of unix command is displayed by command `man`. Exemple:\n",
    "```bash\n",
    "man ls\n",
    "```\n",
    "\n"
   ]
  },
  {
   "cell_type": "code",
   "execution_count": 1,
   "metadata": {
    "slideshow": {
     "slide_type": "fragment"
    }
   },
   "outputs": [
    {
     "name": "stdout",
     "output_type": "stream",
     "text": [
      "MAN(1)          Utilitaires de l'afficheur des pages de manuel          MAN(1)\r\n",
      "\r\n",
      "N\bNO\bOM\bM\r\n",
      "       man - Interface de consultation des manuels de référence en ligne\r\n",
      "\r\n",
      "S\bSY\bYN\bNO\bOP\bPS\bSI\bIS\bS\r\n",
      "       m\bma\ban\bn  [-\b-C\bC  _\bf_\bi_\bl_\be]  [-\b-d\bd]  [-\b-D\bD]  [-\b--\b-w\bwa\bar\brn\bni\bin\bng\bgs\bs[=_\bw_\ba_\br_\bn_\bi_\bn_\bg_\bs]]  [-\b-R\bR _\be_\bn_\bc_\bo_\bd_\bi_\bn_\bg] [-\b-L\bL\r\n",
      "       _\bl_\bo_\bc_\ba_\bl_\be] [-\b-m\bm _\bs_\by_\bs_\bt_\be_\bm[,...]] [-\b-M\bM _\bp_\ba_\bt_\bh] [-\b-S\bS _\bl_\bi_\bs_\bt]  [-\b-e\be  _\be_\bx_\bt_\be_\bn_\bs_\bi_\bo_\bn]  [-\b-i\bi|-\b-I\bI]\r\n",
      "       [-\b--\b-r\bre\beg\bge\bex\bx|-\b--\b-w\bwi\bil\bld\bdc\bca\bar\brd\bd]   [-\b--\b-n\bna\bam\bme\bes\bs-\b-o\bon\bnl\bly\by]  [-\b-a\ba]  [-\b-u\bu]  [-\b--\b-n\bno\bo-\b-s\bsu\bub\bbp\bpa\bag\bge\bes\bs]  [-\b-P\bP\r\n",
      "       _\bp_\ba_\bg_\be_\br] [-\b-r\br _\bp_\br_\bo_\bm_\bp_\bt] [-\b-7\b7] [-\b-E\bE _\be_\bn_\bc_\bo_\bd_\bi_\bn_\bg] [-\b--\b-n\bno\bo-\b-h\bhy\byp\bph\bhe\ben\bna\bat\bti\bio\bon\bn] [-\b--\b-n\bno\bo-\b-j\bju\bus\bst\bti\bif\bfi\bi‐\b‐\r\n",
      "       c\bca\bat\bti\bio\bon\bn]  [-\b-p\bp  _\bs_\bt_\br_\bi_\bn_\bg]  [-\b-t\bt]  [-\b-T\bT[_\bd_\be_\bv_\bi_\bc_\be]]  [-\b-H\bH[_\bb_\br_\bo_\bw_\bs_\be_\br]] [-\b-X\bX[_\bd_\bp_\bi]] [-\b-Z\bZ]\r\n",
      "       [[_\bs_\be_\bc_\bt_\bi_\bo_\bn] _\bp_\ba_\bg_\be[._\bs_\be_\bc_\bt_\bi_\bo_\bn] ...] ...\r\n",
      "       m\bma\ban\bn -\b-k\bk [_\bo_\bp_\bt_\bi_\bo_\bn_\bs _\bd_\b'_\ba_\bp_\br_\bo_\bp_\bo_\bs] _\be_\bx_\bp_\br_\be_\bs_\bs_\bi_\bo_\bn_\b__\br_\ba_\bt_\bi_\bo_\bn_\bn_\be_\bl_\bl_\be ...\r\n",
      "       m\bma\ban\bn -\b-K\bK [-\b-w\bw|-\b-W\bW] [-\b-S\bS _\bl_\bi_\bs_\bt_\be] [-\b-i\bi|-\b-I\bI] [-\b--\b-r\bre\beg\bge\bex\bx] [_\bs_\be_\bc_\bt_\bi_\bo_\bn] _\bt_\be_\br_\bm ...\r\n",
      "       m\bma\ban\bn -\b-f\bf [_\bo_\bp_\bt_\bi_\bo_\bn_\bs _\bd_\be _\bw_\bh_\ba_\bt_\bi_\bs] _\bp_\ba_\bg_\be ...\r\n",
      "       m\bma\ban\bn -\b-l\bl [-\b-C\bC _\bf_\bi_\bc_\bh_\bi_\be_\br] [-\b-d\bd] [-\b-D\bD] [-\b--\b-w\bwa\bar\brn\bni\bin\bng\bgs\bs[=_\ba_\bv_\be_\br_\bt_\bi_\bs_\bs_\be_\bm_\be_\bn_\bt_\bs]]  [-\b-R\bR  _\be_\bn_\bc_\bo_\b‐\r\n",
      "       _\bd_\ba_\bg_\be]  [-\b-L\bL  _\bl_\bo_\bc_\ba_\bl_\be]  [-\b-P\bP  _\ba_\bf_\bf_\bi_\bc_\bh_\be_\bu_\br] [-\b-r\br _\bi_\bn_\bv_\bi_\bt_\be] [-\b-7\b7] [-\b-E\bE _\be_\bn_\bc_\bo_\bd_\ba_\bg_\be] [-\b-p\bp\r\n",
      "       _\bc_\bh_\ba_\bî_\bn_\be] [-\b-t\bt] [-\b-T\bT[_\bp_\bé_\br_\bi_\bp_\bh_\bé_\br_\bi_\bq_\bu_\be]] [-\b-H\bH[_\bn_\ba_\bv_\bi_\bg_\ba_\bt_\be_\bu_\br]] [-\b-X\bX[_\bp_\bp_\bp]] [-\b-Z\bZ] _\bf_\bi_\bc_\bh_\bi_\be_\br\r\n",
      "       ...\r\n",
      "       m\bma\ban\bn -\b-w\bw|-\b-W\bW [-\b-C\bC _\bf_\bi_\bc_\bh_\bi_\be_\br] [-\b-d\bd] [-\b-D\bD] _\bp_\ba_\bg_\be ...\r\n",
      "       m\bma\ban\bn -\b-c\bc [-\b-C\bC _\bf_\bi_\bc_\bh_\bi_\be_\br] [-\b-d\bd] [-\b-D\bD] _\bp_\ba_\bg_\be ...\r\n",
      "       m\bma\ban\bn [-\b-?\b?V\bV]\r\n",
      "\r\n",
      "D\bDE\bES\bSC\bCR\bRI\bIP\bPT\bTI\bIO\bON\bN\r\n",
      "       m\bma\ban\bn  est  le programme de visualisation des pages de manuel. Chacun des\r\n",
      "       arguments _\bp_\ba_\bg_\be, indiqué dans la ligne de commande  de  m\bma\ban\bn,  porte,  en\r\n",
      "       principe,  le nom d'un programme, d'un utilitaire ou d'une fonction. La\r\n",
      "       _\bp_\ba_\bg_\be _\bd_\be _\bm_\ba_\bn_\bu_\be_\bl correspondant à chaque argument  est  alors  trouvée  et\r\n",
      "       affichée.  Si  une _\bs_\be_\bc_\bt_\bi_\bo_\bn est précisée alors m\bma\ban\bn limite la recherche à\r\n",
      "       cette _\bs_\be_\bc_\bt_\bi_\bo_\bn. Par défaut, il recherche dans toutes les _\bs_\be_\bc_\bt_\bi_\bo_\bn_\bs dispo‐\r\n",
      "       nibles  en  suivant  un ordre prédéfini (« 1 n l 8 3 2 3posix 3pm 3perl\r\n",
      "       3am 5 4 9 6 7 » par défaut, à moins d’être  écrasée  par  la  directive\r\n",
      "       S\bSE\bEC\bCT\bTI\bIO\bON\bN dans _\b/_\be_\bt_\bc_\b/_\bm_\ba_\bn_\bp_\ba_\bt_\bh_\b._\bc_\bo_\bn_\bf_\bi_\bg). Il n'affiche que la première _\bp_\ba_\bg_\be _\bd_\be\r\n",
      "       _\bm_\ba_\bn_\bu_\be_\bl trouvée, même si d'autres _\bp_\ba_\bg_\be_\bs _\bd_\be _\bm_\ba_\bn_\bu_\be_\bl existent dans d'autres\r\n",
      "       _\bs_\be_\bc_\bt_\bi_\bo_\bn_\bs.\r\n",
      "\r\n",
      "       Le  tableau  ci-dessous  indique le numéro des _\bs_\be_\bc_\bt_\bi_\bo_\bn_\bs de manuel ainsi\r\n",
      "       que le type de pages qu'elles contiennent.\r\n",
      "\r\n",
      "       1   Programmes exécutables ou commandes de l'interpréteur de  commandes\r\n",
      "           (shell)\r\n",
      "       2   Appels système (fonctions fournies par le noyau)\r\n",
      "       3   Appels  de  bibliothèque  (fonctions fournies par les bibliothèques\r\n",
      "           des programmes)\r\n",
      "       4   Fichiers spéciaux (situés généralement dans _\b/_\bd_\be_\bv)\r\n",
      "       5   Formats des fichiers et conventions. Par exemple _\b/_\be_\bt_\bc_\b/_\bp_\ba_\bs_\bs_\bw_\bd\r\n",
      "       6   Jeux\r\n",
      "       7   Divers (y compris les macropaquets et les conventions), par exemple\r\n",
      "           m\bma\ban\bn(7), g\bgr\bro\bof\bff\bf(7)\r\n",
      "       8   Commandes  de gestion du système (généralement réservées au superu‐\r\n",
      "           tilisateur)\r\n",
      "       9   Sous-programmes du noyau [hors standard]\r\n",
      "\r\n",
      "       Une _\bp_\ba_\bg_\be de manuel est constituée de plusieurs sections.\r\n",
      "\r\n",
      "       Parmi les noms de section conventionnels  se  trouvent  N\bNO\bOM\bM,  S\bSY\bYN\bNO\bOP\bPS\bSI\bIS\bS,\r\n",
      "       C\bCO\bON\bNF\bFI\bIG\bGU\bUR\bRA\bAT\bTI\bIO\bON\bN,  D\bDE\bES\bSC\bCR\bRI\bIP\bPT\bTI\bIO\bON\bN,  O\bOP\bPT\bTI\bIO\bON\bNS\bS, C\bCO\bOD\bDE\bE D\bDE\bE R\bRE\bET\bTO\bOU\bUR\bR, V\bVA\bAL\bLE\bEU\bUR\bR R\bRE\bEN\bNV\bVO\bOY\bYÉ\bÉE\bE,\r\n",
      "       E\bER\bRR\bRE\bEU\bUR\bRS\bS, E\bEN\bNV\bVI\bIR\bRO\bON\bNN\bNE\bEM\bME\bEN\bNT\bT, F\bFI\bIC\bCH\bHI\bIE\bER\bRS\bS, V\bVE\bER\bRS\bSI\bIO\bON\bNS\bS, C\bCO\bON\bNF\bFO\bOR\bRM\bMI\bIT\bTÉ\bÉ, N\bNO\bOT\bTE\bES\bS,  B\bBO\bOG\bGU\bUE\bES\bS,\r\n",
      "       E\bEX\bXE\bEM\bMP\bPL\bLE\bE, A\bAU\bUT\bTE\bEU\bUR\bRS\bS et V\bVO\bOI\bIR\bR A\bAU\bUS\bSS\bSI\bI.\r\n",
      "\r\n",
      "       Les conventions suivantes s'appliquent à la section S\bSY\bYN\bNO\bOP\bPS\bSI\bIS\bS et peuvent\r\n",
      "       être utilisées comme un guide pour les autres sections.\r\n",
      "\r\n",
      "       t\bte\bex\bxt\bte\be g\bgr\bra\bas\bs         à taper exactement comme indiqué ;\r\n",
      "       _\bt_\be_\bx_\bt_\be _\bi_\bt_\ba_\bl_\bi_\bq_\bu_\be     à remplacer par l'argument approprié ;\r\n",
      "       [-\b-a\bab\bbc\bc]             tous les arguments entre [ ] sont facultatifs ;\r\n",
      "       -\b-a\ba|-\b-b\bb              les options séparées par | ne peuvent pas être  uti‐\r\n",
      "                          lisées simultanément ;\r\n",
      "       _\ba_\br_\bg_\bu_\bm_\be_\bn_\bt ...       _\ba_\br_\bg_\bu_\bm_\be_\bn_\bt peut être répété ;\r\n",
      "       [_\be_\bx_\bp_\br_\be_\bs_\bs_\bi_\bo_\bn] ...   toute  l'_\be_\bx_\bp_\br_\be_\bs_\bs_\bi_\bo_\bn située à l'intérieur de [ ] peut\r\n",
      "                          être répétée.\r\n",
      "\r\n",
      "       Le rendu exact dépend du dispositif d'affichage. Par  exemple,  man  ne\r\n",
      "       sera  généralement  pas capable d'afficher les italiques dans un termi‐\r\n",
      "       nal, et utilisera typiquement le soulignement ou la coloration du texte\r\n",
      "       à la place.\r\n",
      "\r\n",
      "       Le  synopsis  de la commande ou de la fonction est un modèle qui permet\r\n",
      "       de représenter toutes les utilisations possibles. Dans certains cas, il\r\n",
      "       est recommandé d'illustrer plusieurs utilisations exclusives comme dans\r\n",
      "       la partie S\bSY\bYN\bNO\bOP\bPS\bSI\bIS\bS de cette page de manuel.\r\n",
      "\r\n",
      "E\bEX\bXE\bEM\bMP\bPL\bLE\bES\bS\r\n",
      "       m\bma\ban\bn _\bl_\bs\r\n",
      "           Affiche la page de manuel de l'_\bé_\bl_\bé_\bm_\be_\bn_\bt (du programme) _\bl_\bs.\r\n",
      "\r\n",
      "       m\bma\ban\bn _\bm_\ba_\bn._\b7\r\n",
      "           Display the manual page for macro package _\bm_\ba_\bn from section _\b7.\r\n",
      "\r\n",
      "       m\bma\ban\bn -\b-a\ba _\bi_\bn_\bt_\br_\bo\r\n",
      "           Affiche, successivement, toutes les  pages  de  manuel  disponibles\r\n",
      "           nommées  « _\bi_\bn_\bt_\br_\bo ».  Il est possible de s'arrêter après l'affichage\r\n",
      "           de chaque page ou de sauter n'importe quelle page.\r\n",
      "\r\n",
      "       m\bma\ban\bn -\b-t\bt _\ba_\bl_\bi_\ba_\bs | _\bl_\bp_\br _\b-_\bP_\bp_\bs\r\n",
      "           Formate la page du manuel de  « _\ba_\bl_\bi_\ba_\bs »  (une  page  de  manuel  de\r\n",
      "           l'interpréteur  de  commandes) selon le format par défaut (t\btr\bro\bof\bff\bf ou\r\n",
      "           g\bgr\bro\bof\bff\bf) et la redirige vers l'imprimante nommée  « _\bp_\bs ».  Le  format\r\n",
      "           généré,  par  défaut, pour g\bgr\bro\bof\bff\bf est habituellement PostScript. m\bma\ban\bn\r\n",
      "           -\b--\b-h\bhe\bel\blp\bp devrait préciser le format associé à l'option -\b-t\bt.\r\n",
      "\r\n",
      "       m\bma\ban\bn -\b-l\bl -\b-T\bT_\bd_\bv_\bi _\b._\b/_\bt_\bo_\bt_\bo_\b._\b1_\bx_\b._\bg_\bz >\b> _\b._\b/_\bt_\bo_\bt_\bo_\b._\b1_\bx_\b._\bd_\bv_\bi\r\n",
      "           Cette commande décompresse puis met en  forme  la  page  de  manuel\r\n",
      "           source nroff nommée _\b._\b/_\bt_\bo_\bt_\bo_\b._\b1_\bx_\b._\bg_\bz. Elle l'enregistre ensuite dans un\r\n",
      "           fichier « d\bde\bev\bvi\bic\bce\be i\bin\bnd\bde\bep\bpe\ben\bnd\bde\ben\bnt\bt (\b(d\bdv\bvi\bi)\b) ». La redirection est nécessaire\r\n",
      "           car  l'option  -\b-T\bT produit un envoi vers la sortie standard (s\bst\btd\bdo\bou\but\bt)\r\n",
      "           sans aucun programme d'affichage. Le résultat peut  être  visualisé\r\n",
      "           avec un programme tel que x\bxd\bdv\bvi\bi ou être ultérieurement transformé au\r\n",
      "           format PostScript grâce à un programme comme d\bdv\bvi\bip\bps\bs.\r\n",
      "\r\n",
      "       m\bma\ban\bn -\b-k\bk _\bp_\br_\bi_\bn_\bt_\bf\r\n",
      "           Recherche la description courte et le nom des pages de manuel  com‐\r\n",
      "           portant  le  mot-clé  _\bp_\br_\bi_\bn_\bt_\bf,  utilisé comme une expression ration‐\r\n",
      "           nelle, puis affiche tout ce qui a été trouvé.  Cette  commande  est\r\n",
      "           équivalente à a\bap\bpr\bro\bop\bpo\bos\bs _\bp_\br_\bi_\bn_\bt_\bf.\b.\r\n",
      "\r\n",
      "       m\bma\ban\bn -\b-f\bf _\bs_\bm_\ba_\bi_\bl\r\n",
      "           Recherche  les pages de manuel nommées _\bs_\bm_\ba_\bi_\bl et en affiche les des‐\r\n",
      "           criptions courtes. Équivalent à w\bwh\bha\bat\bti\bis\bs _\bs_\bm_\ba_\bi_\bl.\b.\r\n",
      "\r\n",
      "V\bVU\bUE\bE D\bD'\b'E\bEN\bNS\bSE\bEM\bMB\bBL\bLE\bE\r\n",
      "       Beaucoup d'options sont disponibles avec m\bma\ban\bn afin de donner  autant  de\r\n",
      "       souplesse  que possible à l'utilisateur. Des modifications peuvent être\r\n",
      "       apportées au chemin de recherche, à l'ordre d'exploration des sections,\r\n",
      "       au programme d'affichage ainsi qu'à d'autres éléments et comportements.\r\n",
      "       Tout ceci est détaillé ci-après.\r\n",
      "\r\n",
      "       Si elles ne sont pas vides,  diverses  variables  d'environnement  sont\r\n",
      "       exploitées  pour  influer sur le fonctionnement de m\bma\ban\bn. Il est possible\r\n",
      "       de donner à la variable « fourre-tout » $M\bMA\bAN\bNO\bOP\bPT\bT n'importe quelle chaîne\r\n",
      "       de  caractères  respectant  le format de la ligne de commande. La seule\r\n",
      "       condition est que toutes les espaces, utilisées en tant  qu'élément  de\r\n",
      "       l'argument  d'une  option,  soient protégés, c'est-à-dire précédées par\r\n",
      "       une contre-oblique  « \\ »  (antislash).  m\bma\ban\bn  analysera  $M\bMA\bAN\bNO\bOP\bPT\bT  avant\r\n",
      "       d'analyser  sa propre ligne de commande. Ainsi, les options exigeant un\r\n",
      "       argument seront remplacées par les mêmes options trouvées sur la  ligne\r\n",
      "       de  commande.  Pour  ignorer  toutes  les options placées dans $M\bMA\bAN\bNO\bOP\bPT\bT,\r\n",
      "       l'option -\b-D\bD peut être indiquée comme option initiale  de  la  ligne  de\r\n",
      "       commande. Ceci permettra à man d'« oublier » les options indiquées dans\r\n",
      "       $M\bMA\bAN\bNO\bOP\bPT\bT. Toutefois, celles-ci doivent quand même être valides.\r\n",
      "\r\n",
      "       Les utilitaires de l'afficheur des pages de manuel de m\bma\ban\bn-\b-d\bdb\bb  font  une\r\n",
      "       large  utilisation des b\bba\bas\bse\bes\bs d\bde\be d\bdo\bon\bnn\bné\bée\bes\bs d\bd'\b'i\bin\bnd\bde\bex\bxa\bat\bti\bio\bon\bn. Ces bases de don‐\r\n",
      "       nées forment un « cache » du système de fichiers qui contient les pages\r\n",
      "       de  manuel. Elles contiennent des informations telles que l'emplacement\r\n",
      "       de chaque page de manuel et  la  description  courte  de  leur  contenu\r\n",
      "       (obtenue  par _\bw_\bh_\ba_\bt_\bi_\bs). Ceci est fait pour permettre à m\bma\ban\bn de s'exécuter\r\n",
      "       plus rapidement que s'il devait rechercher à chaque fois  ces  informa‐\r\n",
      "       tions  dans  le  système  de fichiers. Si l'option -\b-u\bu est utilisée, m\bma\ban\bn\r\n",
      "       vérifiera que ces b\bba\bas\bse\bes\bs d\bde\be d\bdo\bon\bnn\bné\bée\bes\bs  d\bd'\b'i\bin\bnd\bde\bex\bxa\bat\bti\bio\bon\bn  demeurent  cohérentes\r\n",
      "       afin  d'éviter  d'avoir recours manuellement à la mise à jour des bases\r\n",
      "       de données textuelles traditionnelles de _\bw_\bh_\ba_\bt_\bi_\bs.\r\n",
      "\r\n",
      "       Si m\bma\ban\bn ne trouve pas la b\bba\bas\bse\be  d\bde\be  d\bdo\bon\bnn\bné\bée\bes\bs  d\bd'\b'i\bin\bnd\bde\bex\bxa\bat\bti\bio\bon\bn,  produite  par\r\n",
      "       m\bma\ban\bnd\bdb\bb,  pour  une structure hiérarchique spécifique de pages de manuel,\r\n",
      "       il cherchera les pages de manuel demandées, bien que l'utilisation d'un\r\n",
      "       mécanisme semblable à la commande g\bgl\blo\bob\bb(3) soit nécessaire pour chercher\r\n",
      "       dans cette hiérarchie. Si w\bwh\bha\bat\bti\bis\bs ou a\bap\bpr\bro\bop\bpo\bos\bs ne trouvent pas la b\bba\bas\bse\be  d\bde\be\r\n",
      "       d\bdo\bon\bnn\bné\bée\bes\bs d\bd'\b'i\bin\bnd\bde\bex\bxa\bat\bti\bio\bon\bn ils essaieront d'extraire l'information depuis une\r\n",
      "       base de données _\bw_\bh_\ba_\bt_\bi_\bs traditionnelle.\r\n",
      "\r\n",
      "       Ces utilitaires acceptent les fichiers source compressés  nroff  ayant,\r\n",
      "       par défaut, les extensions .\b.Z\bZ, .\b.z\bz et .\b.g\bgz\bz. Il est possible de prendre en\r\n",
      "       charge n'importe quelle extension de compression, mais  cette  informa‐\r\n",
      "       tion  doit  être  fournie  au  moment  de la compilation. En outre, par\r\n",
      "       défaut, toutes les pages « cat » produites sont compressées avec  g\bgz\bzi\bip\bp.\r\n",
      "       Chaque  structure  hiérarchique  « globale »  de  pages de manuel comme\r\n",
      "       _\b/_\bu_\bs_\br_\b/_\bs_\bh_\ba_\br_\be_\b/_\bm_\ba_\bn ou _\b/_\bu_\bs_\br_\b/_\bX_\b1_\b1_\bR_\b6_\b/_\bm_\ba_\bn peut contenir un répertoire quelconque\r\n",
      "       pour  stocker la structure hiérarchique de pages « cat ». Traditionnel‐\r\n",
      "       lement les pages « cat » sont stockées dans la même  structure  hiérar‐\r\n",
      "       chique  que  les  pages  de manuel, mais, pour des raisons comme celles\r\n",
      "       indiquées dans la norme  de  structuration  hiérarchique  des  fichiers\r\n",
      "       « F\bFi\bil\ble\be  H\bHi\bie\ber\bra\bar\brc\bch\bhy\by S\bSt\bta\ban\bnd\bda\bar\brd\bd (\b(F\bFH\bHS\bS)\b) », il peut être préférable de les sto‐\r\n",
      "       cker ailleurs. Pour obtenir des précisions sur la façon  de  le  faire,\r\n",
      "       voir  m\bma\ban\bnp\bpa\bat\bth\bh(5). Pour des précisions sur les raisons de le faire, lire\r\n",
      "       la norme.\r\n",
      "\r\n",
      "       Les pages de manuel traduites sont prises en charge par  ce  programme.\r\n",
      "       Ces  pages  de manuel sont accessibles dans votre langue maternelle (si\r\n",
      "       la traduction est disponible sur votre système) par l'intermédiaire des\r\n",
      "       fonctions  _\bl_\bo_\bc_\ba_\bl_\be. Pour activer cette fonctionnalité, il est nécessaire\r\n",
      "       d'indiquer avec $L\bLC\bC_\b_M\bME\bES\bSS\bSA\bAG\bGE\bES\bS ou avec $L\bLA\bAN\bNG\bG (ou avec une autre  variable\r\n",
      "       d'environnement  suivant  le  système) la langue ou le dialecte désiré,\r\n",
      "       selon le format décrit dans P\bPO\bOS\bSI\bIX\bX 1\b10\b00\b03\b3.\b.1\b1 :\r\n",
      "\r\n",
      "       <_\bl_\ba_\bn_\bg_\bu_\be>[_\b_<_\bp_\ba_\by_\bs>[.\b.<_\bj_\be_\bu_\b__\bd_\be_\b__\bc_\ba_\br_\ba_\bc_\bt_\bè_\br_\be_\bs>[,\b,<_\bv_\be_\br_\bs_\bi_\bo_\bn>]]]\r\n",
      "\r\n",
      "       Si la page désirée est disponible dans  votre  « _\bl_\bo_\bc_\ba_\bl_\be »  (dans  votre\r\n",
      "       langue  ou votre dialecte), elle sera affichée au lieu de la page stan‐\r\n",
      "       dard, écrite le plus souvent dans le dialecte anglo-américain (en_US).\r\n",
      "\r\n",
      "       Ce programme prend également en charge  les  messages  traduits.  Cette\r\n",
      "       prise  en  charge peut être activée de la même manière, à condition que\r\n",
      "       la traduction soit disponible. Si  vous  constatez  que  les  pages  de\r\n",
      "       manuel  et  les  messages  fournis avec ce programme ne sont pas dispo‐\r\n",
      "       nibles dans votre langue maternelle et si  vous  voulez  les  réaliser,\r\n",
      "       contactez le responsable qui coordonnera cette activité.\r\n",
      "\r\n",
      "       Pour  obtenir  des  renseignements  concernant d'autres fonctionnalités\r\n",
      "       disponibles avec cet afficheur de manuel, lire  les  documents  fournis\r\n",
      "       avec le programme.\r\n",
      "\r\n",
      "C\bCO\bOM\bMP\bPO\bOR\bRT\bTE\bEM\bME\bEN\bNT\bT P\bPA\bAR\bR D\bDÉ\bÉF\bFA\bAU\bUT\bT\r\n",
      "       m\bma\ban\bn  recherche  les pages de manuel dans les b\bba\bas\bse\bes\bs d\bde\be d\bdo\bon\bnn\bné\bée\bes\bs d\bd'\b'i\bin\bnd\bde\bex\bxa\ba‐\b‐\r\n",
      "       t\bti\bio\bon\bn. Si l'option -\b-u\bu est indiquée, un contrôle de cohérence  des  b\bba\bas\bse\bes\bs\r\n",
      "       d\bde\be  d\bdo\bon\bnn\bné\bée\bes\bs  d\bd'\b'i\bin\bnd\bde\bex\bxa\bat\bti\bio\bon\bn  est  effectué  afin  de  s'assurer  qu'elles\r\n",
      "       reflètent exactement le contenu du système de fichiers. Si cette option\r\n",
      "       est toujours utilisée, il n'est, en principe, pas nécessaire d'exécuter\r\n",
      "       m\bma\ban\bnd\bdb\bb, une fois que les b\bba\bas\bse\bes\bs d\bde\be d\bdo\bon\bnn\bné\bée\bes\bs d\bd'\b'i\bin\bnd\bde\bex\bxa\bat\bti\bio\bon\bn auront  été  ini‐\r\n",
      "       tialement créées, sauf en cas d'altération de l'une d'elles. Cependant,\r\n",
      "       le contrôle de cohérence des b\bba\bas\bse\bes\bs d\bde\be d\bdo\bon\bnn\bné\bée\bes\bs  d\bd'\b'i\bin\bnd\bde\bex\bxa\bat\bti\bio\bon\bn  peut  être\r\n",
      "       long  sur  des systèmes où beaucoup de pages de manuel sont installées.\r\n",
      "       C'est pour cette raison que le contrôle de cohérence n'est pas  exécuté\r\n",
      "       par  défaut,  laissant à l'administrateur du système le soin d'exécuter\r\n",
      "       m\bma\ban\bnd\bdb\bb chaque semaine ou de laisser les b\bba\bas\bse\bes\bs  d\bde\be  d\bdo\bon\bnn\bné\bée\bes\bs  d\bd'\b'i\bin\bnd\bde\bex\bxa\bat\bti\bio\bon\bn\r\n",
      "       telles  quelles. Pour prévenir les problèmes provoqués par les b\bba\bas\bse\bes\bs d\bde\be\r\n",
      "       d\bdo\bon\bnn\bné\bée\bes\bs d\bd'\b'i\bin\bnd\bde\bex\bxa\bat\bti\bio\bon\bn périmées, m\bma\ban\bn  se  retournera  vers  l'utilisation\r\n",
      "       d'un  mécanisme  semblable à la commande g\bgl\blo\bob\bb(3) si une consultation de\r\n",
      "       la b\bba\bas\bse\be d\bde\be d\bdo\bon\bnn\bné\bée\bes\bs d\bd'\b'i\bin\bnd\bde\bex\bxa\bat\bti\bio\bon\bn  échoue,  exactement  comme  si  aucune\r\n",
      "       n'existait.\r\n",
      "\r\n",
      "       Une fois qu'une page de manuel a été trouvée, une vérification est exé‐\r\n",
      "       cutée pour déterminer s'il existe un fichier  « cat »  préformaté  plus\r\n",
      "       récent  que  le  fichier au format nroff. Si tel est le cas, le fichier\r\n",
      "       « cat » est (généralement) décompressé puis présenté par un  afficheur.\r\n",
      "       L'afficheur  à utiliser peut être précisé, sinon l'afficheur par défaut\r\n",
      "       sera utilisé (voir l'option -\b-p\bp  pour  plus  de  précisions).  Si  aucun\r\n",
      "       fichier  « cat »  plus  récent  que  le  fichier nroff n'est trouvé, le\r\n",
      "       fichier nroff est traité par divers programmes  et  affiché  immédiate‐\r\n",
      "       ment.\r\n",
      "\r\n",
      "       Si  un fichier « cat » peut être produit (si un répertoire relatif pour\r\n",
      "       les « cat » existe avec les droits appropriés) alors m\bma\ban\bn compressera et\r\n",
      "       enregistrera le fichier « cat » en arrière plan.\r\n",
      "\r\n",
      "       Les filtres sont déterminés de plusieurs façons. Tout d'abord, l'option\r\n",
      "       -\b-p\bp ou la variable d'environnement $M\bMA\bAN\bNR\bRO\bOF\bFF\bFS\bSE\bEQ\bQ  sont  vérifiées.  Si  -\b-p\bp\r\n",
      "       n'est  pas  employée et que la variable d'environnement est vide, alors\r\n",
      "       la première ligne du fichier nroff est analysée à  la  recherche  d'une\r\n",
      "       chaîne  de  caractères  indiquant le préprocesseur à utiliser. Pour que\r\n",
      "       l'indication du préprocesseur soit valide, la première ligne doit  res‐\r\n",
      "       sembler à :\r\n",
      "\r\n",
      "       '\b'\\\b\\\"\b\" <c\bch\bha\baî\bîn\bne\be>\r\n",
      "\r\n",
      "       dans laquelle c\bch\bha\baî\bîn\bne\be peut être n'importe quelle combinaison de lettres,\r\n",
      "       décrite par l'option -\b-p\bp ci-dessous.\r\n",
      "\r\n",
      "       Si aucune des méthodes  précédentes  ne  fournit  d'indication  sur  le\r\n",
      "       filtre à utiliser, une valeur par défaut est utilisée.\r\n",
      "\r\n",
      "       Une chaîne de formatage est constituée et exécutée à partir des filtres\r\n",
      "       et du format de départ (n\bnr\bro\bof\bff\bf ou [t\btg\bg]r\bro\bof\bff\bf avec l'option -\b-t\bt). Toutefois,\r\n",
      "       si  un programme exécutable _\bm_\ba_\bn_\bd_\bb_\b__\bn_\bf_\bm_\bt (ou _\bm_\ba_\bn_\bd_\bb_\b__\bt_\bf_\bm_\bt avec l'option -\b-t\bt)\r\n",
      "       existe à la racine de l'arborescence des pages de manuel, c'est lui qui\r\n",
      "       sera  exécuté.  Il  recevra en argument le fichier source de la page de\r\n",
      "       manuel, la chaîne de préprocesseur et, éventuellement, le  périphérique\r\n",
      "       indiqué par les arguments de -\b-T\bT ou -\b-E\bE.\r\n",
      "\r\n",
      "O\bOP\bPT\bTI\bIO\bON\bNS\bS\r\n",
      "       La  duplication  d'options  sans  argument dans la ligne de commande ou\r\n",
      "       dans $M\bMA\bAN\bNO\bOP\bPT\bT (ou dans les deux) n'est pas gênante. Pour les options qui\r\n",
      "       requièrent un argument, chaque duplication remplace la valeur précédem‐\r\n",
      "       ment donnée à l'argument.\r\n",
      "\r\n",
      "   O\bOp\bpt\bti\bio\bon\bns\bs g\bgé\bén\bné\bér\bra\bal\ble\bes\bs\r\n",
      "       -\b-C\bC _\bf_\bi_\bc_\bh_\bi_\be_\br, -\b--\b-c\bco\bon\bnf\bfi\big\bg-\b-f\bfi\bil\ble\be=\b=_\bf_\bi_\bc_\bh_\bi_\be_\br\r\n",
      "              Utilise le _\bf_\bi_\bc_\bh_\bi_\be_\br de configuration indiqué au lieu  du  fichier\r\n",
      "              _\b~_\b/_\b._\bm_\ba_\bn_\bp_\ba_\bt_\bh par défaut.\r\n",
      "\r\n",
      "       -\b-d\bd, -\b--\b-d\bde\beb\bbu\bug\bg\r\n",
      "              Affiche les informations de mise au point.\r\n",
      "\r\n",
      "       -\b-D\bD, -\b--\b-d\bde\bef\bfa\bau\bul\blt\bt\r\n",
      "              Cette  option  est normalement utilisée en toute première option\r\n",
      "              et réinitialise les comportements de m\bma\ban\bn  à  leurs  valeurs  par\r\n",
      "              défaut. Son utilisation réinitialise les options qui auraient pu\r\n",
      "              être modifiées par les valeurs placées dans $M\bMA\bAN\bNO\bOP\bPT\bT. Toutes  les\r\n",
      "              options qui suivent -\b-D\bD auront leur effet habituel.\r\n",
      "\r\n",
      "       -\b--\b-w\bwa\bar\brn\bni\bin\bng\bgs\bs[=_\ba_\bv_\be_\br_\bt_\bi_\bs_\bs_\be_\bm_\be_\bn_\bt_\bs]\r\n",
      "              Active les avertissements de _\bg_\br_\bo_\bf_\bf. C'est utilisable pour réali‐\r\n",
      "              ser des vérifications sur le texte source des pages  de  manuel.\r\n",
      "              _\ba_\bv_\be_\br_\bt_\bi_\bs_\bs_\be_\bm_\be_\bn_\bt_\bs est une liste de noms d'avertissement séparés par\r\n",
      "              des virgules ; si rien n'est fourni, la valeur  par  défaut  est\r\n",
      "              « mac ».  Voir  le nœud « Warnings » d'i\bin\bnf\bfo\bo g\bgr\bro\bof\bff\bf pour une liste\r\n",
      "              de noms d'avertissement disponibles.\r\n",
      "\r\n",
      "   M\bMo\bod\bde\bes\bs o\bop\bpé\bér\bra\bat\bto\boi\bir\bre\bes\bs p\bpr\bri\bin\bnc\bci\bip\bpa\bau\bux\bx\r\n",
      "       -\b-f\bf, -\b--\b-w\bwh\bha\bat\bti\bis\bs\r\n",
      "              Équivalent à w\bwh\bha\bat\bti\bis\bs. Affiche, si elle est disponible, une courte\r\n",
      "              description de la page de manuel. Consultez w\bwh\bha\bat\bti\bis\bs(1) pour obte‐\r\n",
      "              nir des précisions.\r\n",
      "\r\n",
      "       -\b-k\bk, -\b--\b-a\bap\bpr\bro\bop\bpo\bos\bs\r\n",
      "              Équivalent à a\bap\bpr\bro\bop\bpo\bos\bs. Cherche la description courte des pages de\r\n",
      "              manuel  correspondant  au mot-clé et affiche toutes celles qu'il\r\n",
      "              trouve. Voir a\bap\bpr\bro\bop\bpo\bos\bs(1) pour obtenir des précisions.\r\n",
      "\r\n",
      "       -\b-K\bK, -\b--\b-g\bgl\blo\bob\bba\bal\bl-\b-a\bap\bpr\bro\bop\bpo\bos\bs\r\n",
      "              Recherche le texte dans toutes les pages de  manuel.  Il  s'agit\r\n",
      "              d'une  recherche  par  force  brute  qui  peut prendre un peu de\r\n",
      "              temps ; si possible, vous  devriez  indiquer  une  section  pour\r\n",
      "              réduire  le  nombre  de  pages  à  prendre en considération. Les\r\n",
      "              termes de la recherche peuvent  être  de  simples  chaînes  (par\r\n",
      "              défaut)  ou des expressions rationnelles si l'option -\b--\b-r\bre\beg\bge\bex\bx est\r\n",
      "              utilisée.\r\n",
      "\r\n",
      "              Note that this searches the _\bs_\bo_\bu_\br_\bc_\be_\bs of the manual pages, not the\r\n",
      "              rendered  text, and so may include false positives due to things\r\n"
     ]
    },
    {
     "name": "stdout",
     "output_type": "stream",
     "text": [
      "              like comments in source files. Searching the rendered text would\r\n",
      "              be much slower.\r\n",
      "\r\n",
      "       -\b-l\bl, -\b--\b-l\blo\boc\bca\bal\bl-\b-f\bfi\bil\ble\be\r\n",
      "              Active  le  mode  « local ».  Formate et affiche les fichiers de\r\n",
      "              manuels locaux plutôt que de rechercher parmi la  collection  de\r\n",
      "              manuels  du  système.  Chaque page de manuel indiqué en argument\r\n",
      "              sera interprétée comme un fichier source nroff au format  appro‐\r\n",
      "              prié.  Aucun fichier « cat » n'est produit. Si un « - » apparaît\r\n",
      "              comme argument, l'entrée standard est  lue.  Quand  l'option  -\b-l\bl\r\n",
      "              n'est  pas  employée, et que m\bma\ban\bn ne trouve pas la page demandée,\r\n",
      "              avant d'afficher le message d'erreur, il essaie de  faire  comme\r\n",
      "              si  cette  option  avait  été indiquée en utilisant le nom de la\r\n",
      "              page demandée comme nom de fichier et en recherchant une corres‐\r\n",
      "              pondance exacte dans le répertoire actuel.\r\n",
      "\r\n",
      "       -\b-w\bw, -\b--\b-w\bwh\bhe\ber\bre\be, -\b--\b-p\bpa\bat\bth\bh, -\b--\b-l\blo\boc\bca\bat\bti\bio\bon\bn\r\n",
      "              N'affiche  pas les pages de manuel mais affiche le ou les empla‐\r\n",
      "              cements des fichiers source nroff qui auraient dû  être  mis  en\r\n",
      "              forme.\r\n",
      "\r\n",
      "       -\b-W\bW, -\b--\b-w\bwh\bhe\ber\bre\be-\b-c\bca\bat\bt, -\b--\b-l\blo\boc\bca\bat\bti\bio\bon\bn-\b-c\bca\bat\bt\r\n",
      "              N'affiche  pas les pages de manuel mais affiche le ou les empla‐\r\n",
      "              cements des fichiers « cat » qui auraient dû être  affichés.  Si\r\n",
      "              -w et -W sont indiqués conjointement, les deux affichages seront\r\n",
      "              séparés par une espace.\r\n",
      "\r\n",
      "       -\b-c\bc, -\b--\b-c\bca\bat\btm\bma\ban\bn\r\n",
      "              Cette option n'est pas d'un usage général et  devrait  seulement\r\n",
      "              être utilisée par le programme c\bca\bat\btm\bma\ban\bn.\r\n",
      "\r\n",
      "       -\b-R\bR _\be_\bn_\bc_\bo_\bd_\ba_\bg_\be, -\b--\b-r\bre\bec\bco\bod\bde\be=_\be_\bn_\bc_\bo_\bd_\ba_\bg_\be\r\n",
      "              Plutôt  que  de  formater  la  page  de manuel comme d'habitude,\r\n",
      "              affiche le code source converti en  _\be_\bn_\bc_\bo_\bd_\ba_\bg_\be  indiqué.  Si  vous\r\n",
      "              connaissez  déjà l'encodage du fichier source, vous pouvez aussi\r\n",
      "              utiliser directement m\bma\ban\bnc\bco\bon\bnv\bv(1). Cependant, cette option  permet\r\n",
      "              de  convertir  plusieurs pages de manuel vers un unique encodage\r\n",
      "              sans devoir explicitement  déclarer  l'encodage  de  chacune,  à\r\n",
      "              condition  qu'elles  soient  déjà  installées dans une structure\r\n",
      "              similaire à la hiérarchie des pages de manuel.\r\n",
      "\r\n",
      "   T\bTr\bro\bou\buv\bve\ber\br d\bde\bes\bs p\bpa\bag\bge\bes\bs d\bde\be m\bma\ban\bnu\bue\bel\bl\r\n",
      "       -\b-L\bL _\bl_\bo_\bc_\ba_\bl_\be, -\b--\b-l\blo\boc\bca\bal\ble\be=\b=_\bl_\bo_\bc_\ba_\bl_\be\r\n",
      "              m\bma\ban\bn détermine habituellement la _\bl_\bo_\bc_\ba_\bl_\be (NdT : la  langue  ou  le\r\n",
      "              dialecte) actuelle par un appel à la fonction C s\bse\bet\btl\blo\boc\bca\bal\ble\be(3) qui\r\n",
      "              consulte diverses variables d'environnement, y compris  $L\bLC\bC_\b_M\bME\bES\bS‐\b‐\r\n",
      "              S\bSA\bAG\bGE\bES\bS et $L\bLA\bAN\bNG\bG. Pour remplacer temporairement la valeur définie,\r\n",
      "              utilisez cette option. Elle fournit directement à m\bma\ban\bn la  chaîne\r\n",
      "              de  caractères représentant la _\bl_\bo_\bc_\ba_\bl_\be. Notez que cette valeur ne\r\n",
      "              prendra effet qu'à partir de la recherche des pages. Par  consé‐\r\n",
      "              quent,  les  autres  affichages,  tels  que les messages d'aide,\r\n",
      "              seront toujours montrés dans la langue initialement déterminée.\r\n",
      "\r\n",
      "       -\b-m\bm _\bs_\by_\bs_\bt_\bè_\bm_\be[,...], -\b--\b-s\bsy\bys\bst\bte\bem\bms\bs=\b=_\bs_\by_\bs_\bt_\bè_\bm_\be[,...]\r\n",
      "              Si le système a accès aux pages de  manuel  d'un  autre  système\r\n",
      "              d'exploitation,  celles-ci  peuvent être consultées en utilisant\r\n",
      "              cette option. Pour rechercher une  page  de  manuel  du  système\r\n",
      "              d'exploitation NouveauSE, employez l'option -\b-m\bm _\bN_\bo_\bu_\bv_\be_\ba_\bu_\bS_\bE.\r\n",
      "\r\n",
      "              Le  _\bs_\by_\bs_\bt_\bè_\bm_\be  mentionné  peut être une succession de noms de sys‐\r\n",
      "              tèmes d'exploitation, séparés par  des  virgules.  Pour  que  la\r\n",
      "              recherche  ait  lieu  également  sur  le  système d'exploitation\r\n",
      "              natif, il faut inclure le nom système m\bma\ban\bn dans la chaîne fournie\r\n",
      "              en  argument  (NdT :  il semble que le système natif soit inclus\r\n",
      "              dans la recherche, même en l'absence  de  cette  valeur).  Cette\r\n",
      "              option remplace la variable d'environnement $S\bSY\bYS\bST\bTE\bEM\bM.\r\n",
      "\r\n",
      "       -\b-M\bM _\bl_\bi_\bs_\bt_\be_\b__\bd_\be_\b__\bc_\bh_\be_\bm_\bi_\bn_\bs, -\b--\b-m\bma\ban\bnp\bpa\bat\bth\bh=\b=_\bl_\bi_\bs_\bt_\be_\b__\bd_\be_\b__\bc_\bh_\be_\bm_\bi_\bn_\bs\r\n",
      "              Précise  le  chemin  de recherche à utiliser. Par défaut, m\bma\ban\bn se\r\n",
      "              sert de m\bma\ban\bnp\bpa\bat\bth\bh pour déterminer la liste des chemins d'accès aux\r\n",
      "              structures  hiérarchiques  de pages de manuel. Cette option rem‐\r\n",
      "              place la variable d'environnement $M\bMA\bAN\bNP\bPA\bAT\bTH\bH et entraîne l'ineffi‐\r\n",
      "              cience de l'option -\b-m\bm.\r\n",
      "\r\n",
      "              Chaque  chemin  indiqué  avec  cette  option doit être la racine\r\n",
      "              d'une hiérarchie de pages de  manuel,  structurée  en  sections,\r\n",
      "              comme  décrit  dans  le  manuel  de  man-db, sous le titre « The\r\n",
      "              manual page system ». Pour consulter des pages de manuel situées\r\n",
      "              en  dehors de telles structures hiérarchiques, utilisez l'option\r\n",
      "              -\b-l\bl.\r\n",
      "\r\n",
      "       -\b-S\bS _\bl_\bi_\bs_\bt_\be, -\b-s\bs _\bl_\bi_\bs_\bt_\be, -\b--\b-s\bse\bec\bct\bti\bio\bon\bns\bs=\b=_\bl_\bi_\bs_\bt_\be\r\n",
      "              Liste ordonnée des numéros des sections où doit  être  effectuée\r\n",
      "              la recherche, séparés par des deux-points ou des virgules. Cette\r\n",
      "              option remplace la variable d'environnement $M\bMA\bAN\bNS\bSE\bEC\bCT\bT (l'écriture\r\n",
      "              -\b-s\bs existe par compatibilité avec System V).\r\n",
      "\r\n",
      "       -\b-e\be _\bs_\bo_\bu_\bs_\b-_\be_\bx_\bt_\be_\bn_\bs_\bi_\bo_\bn, -\b--\b-e\bex\bxt\bte\ben\bns\bsi\bio\bon\bn=\b=_\bs_\bo_\bu_\bs_\b-_\be_\bx_\bt_\be_\bn_\bs_\bi_\bo_\bn\r\n",
      "              Certains  programmes  installent  un  grand  nombre  de pages de\r\n",
      "              manuel dans la structure hiérarchique  principale  des  manuels,\r\n",
      "              comme  celles  qui  accompagnent  le  programme T\bTc\bcl\bl. Pour éviter\r\n",
      "              d'avoir deux pages de manuel avec le même  nom,  comme  e\bex\bxi\bit\bt(3),\r\n",
      "              toutes  les  pages de manuel de T\bTc\bcl\bl étaient habituellement assi‐\r\n",
      "              gnées à la section l\bl. Comme ceci est maladroit, il  est  mainte‐\r\n",
      "              nant  possible  de mettre les pages dans la bonne section, et de\r\n",
      "              leur assigner une extension  spécifique.  Dans  le  cas  présent\r\n",
      "              e\bex\bxi\bit\bt(3tcl).  En  fonctionnement normal, m\bma\ban\bn affichera e\bex\bxi\bit\bt(3) de\r\n",
      "              préférence à e\bex\bxi\bit\bt(3tcl). Pour gérer cette  situation  et  éviter\r\n",
      "              d'avoir  à connaître la section où se trouve la page désirée, il\r\n",
      "              est  maintenant  possible  de  donner  à  m\bma\ban\bn  une   chaîne   de\r\n",
      "              _\bs_\bo_\bu_\bs_\b-_\be_\bx_\bt_\be_\bn_\bs_\bi_\bo_\bn  indiquent  à  quel programme la page appartient.\r\n",
      "              Avec l'exemple ci-dessus, l'emploi de l'option  -\b-e\be t\btc\bcl\bl  limitera\r\n",
      "              la recherche aux pages ayant une extension *\b*t\btc\bcl\bl.\r\n",
      "\r\n",
      "       -\b-i\bi, -\b--\b-i\big\bgn\bno\bor\bre\be-\b-c\bca\bas\bse\be\r\n",
      "              Ignore la casse lors de la recherche de la page de manuel. C'est\r\n",
      "              le comportement par défaut.\r\n",
      "\r\n",
      "       -\b-I\bI, -\b--\b-m\bma\bat\btc\bch\bh-\b-c\bca\bas\bse\be\r\n",
      "              Cherche la page de manuel en tenant compte de la casse.\r\n",
      "\r\n",
      "       -\b--\b-r\bre\beg\bge\bex\bx\r\n",
      "              Montre toutes les pages ayant une partie de leur nom ou descrip‐\r\n",
      "              tion qui correspond à chaque argument _\bp_\ba_\bg_\be en tant qu'expression\r\n",
      "              rationnelle, comme avec a\bap\bpr\bro\bop\bpo\bos\bs(1). Puisqu'il  n'existe  pas  de\r\n",
      "              façon  raisonnable  de choisir une « meilleure » page lors d'une\r\n",
      "              recherche d'expression rationnelle, cette option induit -\b-a\ba.\r\n",
      "\r\n",
      "       -\b--\b-w\bwi\bil\bld\bdc\bca\bar\brd\bd\r\n",
      "              Montre toutes les pages ayant une partie de leur nom ou descrip‐\r\n",
      "              tion  qui  correspond  à  chaque  argument _\bp_\ba_\bg_\be en utilisant des\r\n",
      "              jokers (_\bw_\bi_\bl_\bd_\bc_\ba_\br_\bd_\bs), comme avec a\bap\bpr\bro\bop\bpo\bos\bs(1) -\b--\b-w\bwi\bil\bld\bdc\bca\bar\brd\bd. L'argument\r\n",
      "              _\bp_\ba_\bg_\be  doit  correspondre  à la totalité du nom ou de la descrip‐\r\n",
      "              tion, ou aux frontières de  mot  de  la  description.  Puisqu'il\r\n",
      "              n'existe  pas  de façon raisonnable de choisir une « meilleure »\r\n",
      "              page lors d'une recherche de joker, cette option induit -\b-a\ba.\r\n",
      "\r\n",
      "       -\b--\b-n\bna\bam\bme\bes\bs-\b-o\bon\bnl\bly\by\r\n",
      "              Si une des options -\b--\b-r\bre\beg\bge\bex\bx ou -\b--\b-w\bwi\bil\bld\bdc\bca\bar\brd\bd est  utilisée,  corres‐\r\n",
      "              pond  seulement  aux  noms de pages, pas aux descriptions, comme\r\n",
      "              avec w\bwh\bha\bat\bti\bis\bs(1), sans effet sinon.\r\n",
      "\r\n",
      "       -\b-a\ba, -\b--\b-a\bal\bll\bl\r\n",
      "              Par défaut, m\bma\ban\bn s'arrêtera après avoir affiché la page de manuel\r\n",
      "              la plus appropriée trouvée. L'emploi de cette option force m\bma\ban\bn à\r\n",
      "              afficher toutes les pages de manuel dont les noms satisfont  les\r\n",
      "              critères de recherche.\r\n",
      "\r\n",
      "       -\b-u\bu, -\b--\b-u\bup\bpd\bda\bat\bte\be\r\n",
      "              Cette option contraint m\bma\ban\bn à faire une vérification, au « niveau\r\n",
      "              inœud », des b\bba\bas\bse\bes\bs d\bde\be d\bdo\bon\bnn\bné\bée\bes\bs  d\bd'\b'i\bin\bnd\bde\bex\bxa\bat\bti\bio\bon\bn  afin  de  s'assurer\r\n",
      "              qu'elles reflètent bien la réalité du système de fichiers. Cette\r\n",
      "              option n'aura d'effet que  si  m\bma\ban\bn  est  installé  avec  le  bit\r\n",
      "              setuid.\r\n",
      "\r\n",
      "       -\b--\b-n\bno\bo-\b-s\bsu\bub\bbp\bpa\bag\bge\bes\bs\r\n",
      "              Par défaut, m\bma\ban\bn essaiera d'interpréter une paire de noms de page\r\n",
      "              de manuel donnés sur la ligne de commande comme s'il  s'agissait\r\n",
      "              d'un  seul  nom de page de manuel contenant un tiret ou un tiret\r\n",
      "              bas. Cela prend en charge le motif habituel des programmes  avec\r\n",
      "              plusieurs sous-commandes, leur permettant de fournir une page de\r\n",
      "              manuel pour chacune accessible  avec  une  syntaxe  similaire  à\r\n",
      "              celle utilisée pour appeler les sous-commandes. Par exemple :\r\n",
      "\r\n",
      "                $ man -aw git diff\r\n",
      "                /usr/share/man/man1/git-diff.1.gz\r\n",
      "\r\n",
      "              Pour  désactiver  ce  comportement,  utilisez l'option -\b--\b-n\bno\bo-\b-s\bsu\bub\bb‐\b‐\r\n",
      "              p\bpa\bag\bge\bes\bs :\r\n",
      "\r\n",
      "                $ man -aw --no-subpages git diff\r\n",
      "                /usr/share/man/man1/git.1.gz\r\n",
      "                /usr/share/man/man3/Git.3pm.gz\r\n",
      "                /usr/share/man/man1/diff.1.gz\r\n",
      "\r\n",
      "   C\bCo\bon\bnt\btr\brô\bôl\ble\be d\bdu\bu f\bfo\bor\brm\bma\bat\bt d\bd'\b'a\baf\bff\bfi\bic\bch\bha\bag\bge\be\r\n",
      "       -\b-P\bP _\ba_\bf_\bf_\bi_\bc_\bh_\be_\bu_\br, -\b--\b-p\bpa\bag\bge\ber\br=\b=_\ba_\bf_\bf_\bi_\bc_\bh_\be_\bu_\br\r\n",
      "              Précise l'afficheur à utiliser. Par défaut, m\bma\ban\bn  utilise  p\bpa\bag\bge\ber\br.\r\n",
      "              Cette  option  remplace  la  variable d'environnement $M\bMA\bAN\bNP\bPA\bAG\bGE\bER\bR,\r\n",
      "              elle-même remplaçant la variable  d'environnement  $P\bPA\bAG\bGE\bER\bR.  Elle\r\n",
      "              n'est pas utilisable avec -\b-f\bf ou -\b-k\bk.\r\n",
      "\r\n",
      "              La  valeur  peut  être  juste un nom de commande ou une commande\r\n",
      "              avec des arguments, et peut utiliser les protections de l'inter‐\r\n",
      "              préteur (contre-obliques, guillemets simples ou doubles). L'uti‐\r\n",
      "              lisation de tubes pour relier plusieurs commandes n'est pas pos‐\r\n",
      "              sible ;  si  vous  en  avez  vraiment besoin, utilisez un script\r\n",
      "              enveloppe qui pourra prendre en argument le fichier  à  afficher\r\n",
      "              ou l'entrée standard.\r\n",
      "\r\n",
      "       -\b-r\br _\bi_\bn_\bv_\bi_\bt_\be, -\b--\b-p\bpr\bro\bom\bmp\bpt\bt=\b=_\bi_\bn_\bv_\bi_\bt_\be\r\n",
      "              Si une version récente de l\ble\bes\bss\bs est utilisée comme afficheur, m\bma\ban\bn\r\n",
      "              tentera de régler l'invite ainsi que d'autres options.  L'invite\r\n",
      "              par défaut ressemble à :\r\n",
      "\r\n",
      "               M\bMa\ban\bnu\bua\bal\bl P\bPa\bag\bge\be _\bn_\bo_\bm(\b(_\bs_\be_\bc_\bt_\bi_\bo_\bn)\b) l\bli\bin\bne\be _\bx\r\n",
      "\r\n",
      "              dans  laquelle  _\bn_\bo_\bm représente le nom de la page de manuel, _\bs_\be_\bc_\b‐\r\n",
      "              _\bt_\bi_\bo_\bn le numéro de section où la page  a  été  trouvée  et  _\bx  le\r\n",
      "              numéro  de  la  ligne  actuelle.  C'est  réalisé en utilisant la\r\n",
      "              variable d'environnement $L\bLE\bES\bSS\bS.\r\n",
      "\r\n",
      "              Fournir -\b-r\br avec une chaîne écrasera ce comportement par  défaut.\r\n",
      "              La  chaîne  indiquée  peut  contenir la variable de substitution\r\n",
      "              $\b$M\bMA\bAN\bN_\b_P\bPN\bN qui sera remplacée par le nom de la page de manuel affi‐\r\n",
      "              chée, accompagnée de son numéro de section, entouré par « ( » et\r\n",
      "              « ) ». La chaîne employée pour obtenir la valeur par défaut res‐\r\n",
      "              semble à :\r\n",
      "\r\n",
      "              \\\b\\ M\bMa\ban\bnu\bua\bal\bl\\\b\\ p\bpa\bag\bge\be\\\b\\ \\\b\\$\b$M\bMA\bAN\bN_\b_P\bPN\bN\\\b\\ ?\b?l\blt\btl\bli\bin\bne\be\\\b\\ %\b%l\blt\bt?\b?L\bL/\b/%\b%L\bL.\b.:\b:\r\n",
      "              b\bby\byt\bte\be\\\b\\ %\b%b\bbB\bB?\b?s\bs/\b/%\b%s\bs.\b..\b.?\b?\\\b\\ (\b(E\bEN\bND\bD)\b):\b:?\b?p\bpB\bB\\\b\\ %\b%p\bpB\bB\\\b\\\\\b\\%\b%.\b..\b.\r\n",
      "              (\b(t\bta\bap\bpe\bez\bz h\bh p\bpo\bou\bur\br l\bl'\b'a\bai\bid\bde\be o\bou\bu q\bq p\bpo\bou\bur\br q\bqu\bui\bit\btt\bte\ber\br)\b)\r\n",
      "\r\n",
      "              Cette  chaîne a été coupée en trois lignes, ici, uniquement pour\r\n",
      "              des raisons de lisibilité. Pour sa signification,  consultez  la\r\n",
      "              page  de  manuel de l\ble\bes\bss\bs(1). La chaîne de caractères est d'abord\r\n",
      "              évaluée par l'interpréteur de commandes.  Tous  les  guillemets,\r\n",
      "              apostrophes  inversées  et  contre-obliques  (antislash)  devant\r\n",
      "              apparaître dans l'invite doivent être précédés du  caractère  de\r\n",
      "              protection  « \\ ».  La  chaîne de caractères de l'invite peut se\r\n",
      "              terminer par un « $ »  protégé  qui  peut  être  suivi  d'autres\r\n",
      "              options de l\ble\bes\bss\bs. Par défaut, m\bma\ban\bn utilise l'option -\b-i\bix\bx8\b8.\r\n",
      "\r\n",
      "              La  variable  d'environnement  $M\bMA\bAN\bNL\bLE\bES\bSS\bS  décrite ci-dessous peut\r\n",
      "              être utilisée pour définir une chaîne  d’invite  par  défaut  si\r\n",
      "              aucune n’est fournie sur la ligne de commande.\r\n",
      "\r\n",
      "       -\b-7\b7, -\b--\b-a\bas\bsc\bci\bii\bi\r\n",
      "              En visualisant une page de manuel en _\ba_\bs_\bc_\bi_\bi(7) pur, sur un termi‐\r\n",
      "              nal 7 bits ou sur un émulateur de terminal, certains  caractères\r\n",
      "              peuvent  ne pas être affichés correctement lors de l'utilisation\r\n",
      "              d'un descripteur de périphérique _\bl_\ba_\bt_\bi_\bn_\b1(7) avec G\bGN\bNU\bU n\bnr\bro\bof\bff\bf. Cette\r\n",
      "              option  permet aux pages de manuel en _\ba_\bs_\bc_\bi_\bi pur d'être affichées\r\n",
      "              en _\ba_\bs_\bc_\bi_\bi sur des périphériques _\bl_\ba_\bt_\bi_\bn_\b1. Il n'y aura pas  de  tra‐\r\n",
      "              duction  du texte en _\bl_\ba_\bt_\bi_\bn_\b1. La table ci-dessous montre les tra‐\r\n",
      "              ductions effectuées. Certains éléments de cette table ne peuvent\r\n",
      "              être  affichés  correctement  qu'en  utilisant  un  périphérique\r\n",
      "              _\bl_\ba_\bt_\bi_\bn_\b1 conforme à G\bGN\bNU\bU n\bnr\bro\bof\bff\bf.\r\n",
      "\r\n",
      "              Description       Octal   latin1   ascii\r\n",
      "              ─────────────────────────────────────────\r\n",
      "              trait d'union      255      ‐        -\r\n",
      "              point médian       267      ·        o\r\n",
      "              accent aigu        264      ´        '\r\n",
      "              symbole de mul‐    327      ×        x\r\n",
      "              tiplication\r\n",
      "\r\n",
      "              Si  la  colonne _\bl_\ba_\bt_\bi_\bn_\b1 est affichée correctement, votre terminal\r\n",
      "              peut être exploité avec les caractères _\bl_\ba_\bt_\bi_\bn_\b1  et  cette  option\r\n",
      "              est  inutile.  Si  les colonnes _\bl_\ba_\bt_\bi_\bn_\b1 et _\ba_\bs_\bc_\bi_\bi sont identiques,\r\n",
      "              soit vous avez utilisé cette option, soit m\bma\ban\bn  n'a  pas  formaté\r\n",
      "              cette  page  en utilisant le descripteur de périphérique _\bl_\ba_\bt_\bi_\bn_\b1.\r\n",
      "              Si la colonne _\bl_\ba_\bt_\bi_\bn_\b1 est absente ou altérée, vous devriez utili‐\r\n",
      "              sez cette option.\r\n",
      "\r\n",
      "              Cette option est ignorée lors de l'usage des options -\b-t\bt, -\b-H\bH, -\b-T\bT,\r\n",
      "              ou -\b-Z\bZ et peut être omise pour les n\bnr\bro\bof\bff\bf autres que ceux du G\bGN\bNU\bU.\r\n",
      "\r\n",
      "       -\b-E\bE _\be_\bn_\bc_\bo_\bd_\ba_\bg_\be, -\b--\b-e\ben\bnc\bco\bod\bdi\bin\bng\bg=_\be_\bn_\bc_\bo_\bd_\ba_\bg_\be\r\n",
      "              Produit une sortie avec un  encodage  de  caractères  autre  que\r\n",
      "              celui  par défaut. Pour des raisons de compatibilité ascendante,\r\n",
      "              _\be_\bn_\bc_\bo_\bd_\ba_\bg_\be peut être un périphérique n\bnr\bro\bof\bff\bf tel que a\bas\bsc\bci\bii\bi,  l\bla\bat\bti\bin\bn1\b1,\r\n",
      "              ou u\but\btf\bf8\b8 ainsi qu'une réelle valeur d'encodage comme U\bUT\bTF\bF-\b-8\b8.\r\n",
      "\r\n",
      "       -\b--\b-n\bno\bo-\b-h\bhy\byp\bph\bhe\ben\bna\bat\bti\bio\bon\bn, -\b--\b-n\bnh\bh\r\n",
      "              Normalement,  n\bnr\bro\bof\bff\bf  place  un  trait d'union lorsque les lignes\r\n",
      "              sont coupées même si les mots n'en  contiennent  pas,  s'il  est\r\n",
      "              nécessaire de le faire pour arranger les mots sur une ligne sans\r\n",
      "              espacements excessifs. Cette option désactive la césure  automa‐\r\n",
      "              tique, et les mots ne seront coupés que s'il contiennent déjà un\r\n",
      "              trait d'union.\r\n",
      "\r\n",
      "              Pour éviter à n\bnr\bro\bof\bff\bf de couper un mot au  mauvais  endroit  quand\r\n",
      "              vous  écrivez  une  page de manuel, n'utilisez pas cette option,\r\n",
      "              mais consultez plutôt la documentation de  n\bnr\bro\bof\bff\bf.  Par  exemple,\r\n",
      "              vous  pouvez  placer « \\% » dans un mot pour indiquer qu'il peut\r\n",
      "              être coupé à cet endroit, ou  « \\% »  au  début  d'un  mot  pour\r\n",
      "              l'empêcher d'être coupé.\r\n",
      "\r\n",
      "       -\b--\b-n\bno\bo-\b-j\bju\bus\bst\bti\bif\bfi\bic\bca\bat\bti\bio\bon\bn, -\b--\b-n\bnj\bj\r\n",
      "              Normalement,  n\bnr\bro\bof\bff\bf  justifie  automatiquement  le  texte. Cette\r\n",
      "              option désactive la justification, laissant le texte aligné  (ou\r\n",
      "              « ferré ») à droite, aussi appelé « drapeau gauche ».\r\n",
      "\r\n",
      "              Pour éviter à n\bnr\bro\bof\bff\bf de justifier certains paragraphes quand vous\r\n",
      "              écrivez une page de manuel, n'utilisez pas  cette  option,  mais\r\n",
      "              consultez  plutôt  la  documentation de n\bnr\bro\bof\bff\bf. Par exemple, vous\r\n",
      "              pouvez  utiliser  les  requêtes  « .na »,  « .nf »,  « .fi »  et\r\n",
      "              « .ad » pour désactiver temporairement le réglage et le remplis‐\r\n",
      "              sage.\r\n",
      "\r\n",
      "       -\b-p\bp _\bc_\bh_\ba_\bî_\bn_\be, -\b--\b-p\bpr\bre\bep\bpr\bro\boc\bce\bes\bss\bso\bor\br=\b=_\bc_\bh_\ba_\bî_\bn_\be\r\n",
      "              Indique la liste des  préprocesseurs  à  utiliser  avant  n\bnr\bro\bof\bff\bf,\r\n",
      "              t\btr\bro\bof\bff\bf  ou  g\bgr\bro\bof\bff\bf. Toutes les implémentations ne disposent pas du\r\n",
      "              jeu complet de préprocesseurs. Voici une liste de certains  pré‐\r\n",
      "              processeurs, avec les lettres les désignant : e\beq\bqn\bn (e\be), g\bgr\bra\bap\bp (g\bg),\r\n",
      "              p\bpi\bic\bc (p\bp), t\btb\bbl\bl (t\bt), v\bvg\bgr\bri\bin\bnd\bd (v\bv), r\bre\bef\bfe\ber\br (r\br). Cette  option  remplace\r\n",
      "              la  variable  d'environnement  $M\bMA\bAN\bNR\bRO\bOF\bFF\bFS\bSE\bEQ\bQ. z\bzs\bso\boe\bel\bli\bim\bm est toujours\r\n",
      "              exécuté comme le tout premier préprocesseur.\r\n",
      "\r\n",
      "       -\b-t\bt, -\b--\b-t\btr\bro\bof\bff\bf\r\n",
      "              Utilise g\bgr\bro\bof\bff\bf -\b-m\bma\ban\bnd\bdo\boc\bc pour mettre en forme la page de manuel sur\r\n",
      "              la  sortie  standard. Cette option n'est pas nécessaire avec -\b-H\bH,\r\n",
      "              -\b-T\bT, ou -\b-Z\bZ.\r\n",
      "\r\n",
      "       -\b-T\bT[_\bp_\bé_\br_\bi_\bp_\bh_\bé_\br_\bi_\bq_\bu_\be], -\b--\b-t\btr\bro\bof\bff\bf-\b-d\bde\bev\bvi\bic\bce\be[=_\bp_\bé_\br_\bi_\bp_\bh_\bé_\br_\bi_\bq_\bu_\be]\r\n",
      "              Cette option est utilisée pour modifier ce qui est  produit  par\r\n",
      "              g\bgr\bro\bof\bff\bf  (ou éventuellement par t\btr\bro\bof\bff\bf) afin d'être exploitable par\r\n",
      "              un périphérique autre que  le  périphérique  par  défaut.  Cette\r\n",
      "              option  implique l'option -\b-t\bt. Exemples de périphériques (fournis\r\n",
      "              avec Groff-1.17) : d\bdv\bvi\bi, l\bla\bat\bti\bin\bn1\b1, p\bps\bs, u\but\btf\bf8\b8, X\bX7\b75\b5 et X\bX1\b10\b00\b0.\r\n",
      "\r\n",
      "       -\b-H\bH[_\bn_\ba_\bv_\bi_\bg_\ba_\bt_\be_\bu_\br], -\b--\b-h\bht\btm\bml\bl[=_\bn_\ba_\bv_\bi_\bg_\ba_\bt_\be_\bu_\br]\r\n",
      "              Cette option fera produire à g\bgr\bro\bof\bff\bf une page au format  HTML  qui\r\n",
      "              sera  ensuite affichée dans un navigateur web. Le choix du navi‐\r\n",
      "              gateur est déterminé soit par l'argument  optionnel  _\bn_\ba_\bv_\bi_\bg_\ba_\bt_\be_\bu_\br,\r\n",
      "              s'il  est indiqué, soit par la variable d'environnement $B\bBR\bRO\bOW\bWS\bSE\bER\bR\r\n",
      "              ou sinon par la valeur par défaut indiquée lors de  la  compila‐\r\n",
      "              tion  (habituellement  l\bly\byn\bnx\bx). Cette option induit -\b-t\bt et ne fonc‐\r\n",
      "              tionne qu'avec les t\btr\bro\bof\bff\bf G\bGN\bNU\bU.\r\n",
      "\r\n",
      "       -\b-X\bX[_\bp_\bp_\bp], -\b--\b-g\bgx\bxd\bdi\bit\btv\bvi\bie\bew\bw[=_\bp_\bp_\bp]\r\n",
      "              Cette option affiche la sortie de g\bgr\bro\bof\bff\bf dans  une  fenêtre  gra‐\r\n",
      "              phique  en  utilisant le programme g\bgx\bxd\bdi\bit\btv\bvi\bie\bew\bw. Le _\bp_\bp_\bp (points par\r\n",
      "              pouce) peut être 75 (par  défaut),  75-12,  100  ou  100-12.  La\r\n",
      "              variante  « -12 »  utilise  une fonte de 12 points. Cette option\r\n",
      "              induit -\b-T\bT avec comme _\bp_\bé_\br_\bi_\bp_\bh_\bé_\br_\bi_\bq_\bu_\be respectif X75, X75-12, X100 ou\r\n",
      "              X100-12.\r\n",
      "\r\n",
      "       -\b-Z\bZ, -\b--\b-d\bdi\bit\btr\bro\bof\bff\bf\r\n",
      "              g\bgr\bro\bof\bff\bf exécutera t\btr\bro\bof\bff\bf puis utilisera le postprocesseur approprié\r\n",
      "              afin de produire une  sortie  exploitable  par  le  périphérique\r\n",
      "              choisi.  Si g\bgr\bro\bof\bff\bf -\b-m\bma\ban\bnd\bdo\boc\bc est g\bgr\bro\bof\bff\bf alors cette option sera pas‐\r\n",
      "              sée à g\bgr\bro\bof\bff\bf et  aucun  postprocesseur  ne  sera  exécuté.  Cette\r\n",
      "              option induit -\b-t\bt.\r\n",
      "\r\n",
      "   O\bOb\bbt\bte\ben\bni\bir\br d\bde\be l\bl'\b'a\bai\bid\bde\be\r\n",
      "       -\b-?\b?, -\b--\b-h\bhe\bel\blp\bp\r\n",
      "              Affiche un message d'aide et s'arrête.\r\n",
      "\r\n",
      "       -\b--\b-u\bus\bsa\bag\bge\be\r\n",
      "              Affiche un court mode d'emploi et s'arrête.\r\n",
      "\r\n",
      "       -\b-V\bV, -\b--\b-v\bve\ber\brs\bsi\bio\bon\bn\r\n",
      "              Affiche le numéro de version.\r\n",
      "\r\n",
      "C\bCO\bOD\bDE\bE D\bDE\bE R\bRE\bET\bTO\bOU\bUR\bR\r\n",
      "       0\b0      Programme exécuté sans erreur.\r\n",
      "\r\n",
      "       1\b1      Erreur d'utilisation, de syntaxe ou de fichier de configuration.\r\n",
      "\r\n",
      "       2\b2      Erreur d'exécution.\r\n",
      "\r\n",
      "       3\b3      Un processus fils a produit une valeur de retour non nulle.\r\n",
      "\r\n",
      "       1\b16\b6     Au  moins  une  des pages ou un des fichiers ou un des mots-clés\r\n",
      "              n'existe pas ou n'a pas été trouvé.\r\n",
      "\r\n",
      "E\bEN\bNV\bVI\bIR\bRO\bON\bNN\bNE\bEM\bME\bEN\bNT\bT\r\n",
      "       M\bMA\bAN\bNP\bPA\bAT\bTH\bH\r\n",
      "              Si $M\bMA\bAN\bNP\bPA\bAT\bTH\bH est définie, sa valeur est exploitée comme le chemin\r\n",
      "              de recherche des pages de manuel.\r\n",
      "\r\n",
      "       M\bMA\bAN\bNR\bRO\bOF\bFF\bFO\bOP\bPT\bT\r\n",
      "              Le  contenu  de  $M\bMA\bAN\bNR\bRO\bOF\bFF\bFO\bOP\bPT\bT est ajouté à la ligne de commande à\r\n",
      "              chaque fois que m\bma\ban\bn appelle  le  processeur  de  format  (n\bnr\bro\bof\bff\bf,\r\n",
      "              t\btr\bro\bof\bff\bf ou g\bgr\bro\bof\bff\bf).\r\n",
      "\r\n",
      "       M\bMA\bAN\bNR\bRO\bOF\bFF\bFS\bSE\bEQ\bQ\r\n",
      "              Si  $M\bMA\bAN\bNR\bRO\bOF\bFF\bFS\bSE\bEQ\bQ est définie, sa valeur est exploitée pour déter‐\r\n",
      "              miner l'ensemble des préprocesseurs à appliquer  à  chacune  des\r\n",
      "              pages  de  manuel. La liste des préprocesseurs est dépendante du\r\n",
      "              système utilisé.\r\n",
      "\r\n",
      "       M\bMA\bAN\bNS\bSE\bEC\bCT\bT\r\n",
      "              Si $M\bMA\bAN\bNS\bSE\bEC\bCT\bT est définie, sa valeur est une  liste  de  sections,\r\n",
      "              séparées  par  des  deux-points.  Cette  liste est utilisée pour\r\n",
      "              déterminer les sections de manuel, et l’ordre, utilisés pour  la\r\n",
      "              recherche.  C’est « 1 n l 8 3 2 3posix 3pm 3perl 3am 5 4 9 6 7 »\r\n",
      "              par défaut, à moins d’être écrasée par la directive S\bSE\bEC\bCT\bTI\bIO\bON\bN dans\r\n",
      "              _\b/_\be_\bt_\bc_\b/_\bm_\ba_\bn_\bp_\ba_\bt_\bh_\b._\bc_\bo_\bn_\bf_\bi_\bg.\r\n",
      "\r\n",
      "       M\bMA\bAN\bNP\bPA\bAG\bGE\bER\bR, P\bPA\bAG\bGE\bER\bR\r\n",
      "              Si  $M\bMA\bAN\bNP\bPA\bAG\bGE\bER\bR ou $P\bPA\bAG\bGE\bER\bR est définie ($M\bMA\bAN\bNP\bPA\bAG\bGE\bER\bR est prioritaire),\r\n",
      "              sa valeur est exploitée en tant que  nom  du  programme  utilisé\r\n",
      "              pour  afficher  les  pages de manuel. Par défaut, p\bpa\bag\bge\ber\br est uti‐\r\n",
      "              lisé.\r\n",
      "\r\n",
      "              La valeur peut être juste un nom de  commande  ou  une  commande\r\n",
      "              avec des arguments, et peut utiliser les protections de l'inter‐\r\n",
      "              préteur (contre-obliques, guillemets simples ou doubles). L'uti‐\r\n",
      "              lisation de tubes pour relier plusieurs commandes n'est pas pos‐\r\n",
      "              sible ; si vous en avez  vraiment  besoin,  utilisez  un  script\r\n",
      "              enveloppe  qui  pourra prendre en argument le fichier à afficher\r\n",
      "              ou l'entrée standard.\r\n",
      "\r\n",
      "       M\bMA\bAN\bNL\bLE\bES\bSS\bS\r\n",
      "              Si $M\bMA\bAN\bNL\bLE\bES\bSS\bS est définie, sa valeur sera  utilisée  comme  chaîne\r\n",
      "              d’invite par défaut de l'afficheur l\ble\bes\bss\bs, comme si elle avait été\r\n",
      "              passée en utilisant l’option -\b-r\br (donc toutes les occurrences  du\r\n",
      "              texte $\b$M\bMA\bAN\bN_\b_P\bPN\bN seront développées de la même façon). Par exemple,\r\n",
      "              si vous voulez obtenir dans tous les cas la chaîne d'invite « Ma\r\n",
      "              chaîne  d'invite »  donnez  à  $M\bMA\bAN\bNL\bLE\bES\bSS\bS la valeur « -PsMa chaîne\r\n",
      "              d'invite ». L’utilisation de l’option -\b-r\br écrasera cette variable\r\n",
      "              d’environnement.\r\n",
      "\r\n",
      "       B\bBR\bRO\bOW\bWS\bSE\bER\bR\r\n",
      "              Si  $B\bBR\bRO\bOW\bWS\bSE\bER\bR  est  définie, sa valeur est une liste de commandes\r\n",
      "              séparées par des deux-points. Chaque élément  de  la  liste  est\r\n",
      "              utilisé  pour essayer de lancer un navigateur web lors de l'uti‐\r\n",
      "              lisation de m\bma\ban\bn -\b--\b-h\bht\btm\bml\bl. Dans chaque commande,  _\b%_\bs  est  remplacé\r\n",
      "              par un nom de fichier contenant la page de manuel au format HTML\r\n",
      "              produite à partir de g\bgr\bro\bof\bff\bf, _\b%_\b% est remplacé par un simple  signe\r\n",
      "              « % » et _\b%_\bc est remplacé par « : ».\r\n",
      "\r\n",
      "       S\bSY\bYS\bST\bTE\bEM\bM Si  $S\bSY\bYS\bST\bTE\bEM\bM  est définie, l'effet sera le même que si on l'avait\r\n",
      "              indiquée comme argument de l'option -\b-m\bm.\r\n",
      "\r\n",
      "       M\bMA\bAN\bNO\bOP\bPT\bT Si $M\bMA\bAN\bNO\bOP\bPT\bT est définie, elle sera analysée  préalablement  à  la\r\n",
      "              ligne  de  commande  de  m\bma\ban\bn et son contenu doit avoir un format\r\n",
      "              similaire. Étant donné que les actions produites par  l'ensemble\r\n",
      "              des  autres  variables d'environnement spécifiques à m\bma\ban\bn peuvent\r\n",
      "              être obtenues grâce aux options  de  la  ligne  de  commande  et\r\n",
      "              qu'elles  peuvent, de ce fait, être placées dans $M\bMA\bAN\bNO\bOP\bPT\bT, il est\r\n",
      "              prévu que ces variables d'environnement  tombent  en  désuétude.\r\n",
      "              N'oubliez  pas que toutes les espaces qui devront être interpré‐\r\n",
      "              tées comme éléments de l'argument d'une option doivent être pro‐\r\n",
      "              tégées.\r\n",
      "\r\n",
      "       M\bMA\bAN\bNW\bWI\bID\bDT\bTH\bH\r\n",
      "              Si $M\bMA\bAN\bNW\bWI\bID\bDT\bTH\bH est définie, sa valeur est utilisée comme indiquant\r\n",
      "              la largeur de la ligne pour  toutes  les  pages  de  manuel  qui\r\n",
      "              seront  formatées.  Si elle est vide, les pages de manuel seront\r\n",
      "              formatées avec une largeur de ligne appropriée au terminal  uti‐\r\n",
      "              lisé.  Cette  largeur  sera déterminée soit d'après la valeur de\r\n",
      "              $C\bCO\bOL\bLU\bUM\bMN\bNS\bS, soit grâce à un i\bio\boc\bct\btl\bl(2) s'il est disponible,  soit  à\r\n",
      "              80 colonnes  si  aucune  indication  n'est  trouvée.  Les  pages\r\n",
      "              « cat » ne seront enregistrées que  si  la  mise  en  forme  par\r\n",
      "              défaut  est  utilisée, c'est-à-dire quand la largeur de ligne du\r\n",
      "              terminal est comprise entre 66 et 80 colonnes.\r\n",
      "\r\n",
      "       M\bMA\bAN\bN_\b_K\bKE\bEE\bEP\bP_\b_F\bFO\bOR\bRM\bMA\bAT\bTT\bTI\bIN\bNG\bG\r\n",
      "              Normalement, quand la sortie n'est pas envoyée directement  vers\r\n",
      "              un  terminal  (comme vers un fichier ou un tube), les caractères\r\n",
      "              de mise en page sont effacés pour faciliter la lecture du résul‐\r\n",
      "              tat  sans  outil  spécial.  Cependant,  si  $M\bMA\bAN\bN_\b_K\bKE\bEE\bEP\bP_\b_F\bFO\bOR\bRM\bMA\bAT\bTT\bTI\bIN\bNG\bG\r\n",
      "              contient une valeur non nulle, les caractères de  mise  en  page\r\n",
      "              sont  gardés.  Ce  peut  être  utile pour les scripts enveloppes\r\n",
      "              autour de m\bma\ban\bn capable d'interpréter ces caractères  de  mise  en\r\n",
      "              page.\r\n",
      "\r\n",
      "       M\bMA\bAN\bN_\b_K\bKE\bEE\bEP\bP_\b_S\bST\bTD\bDE\bER\bRR\bR\r\n",
      "              Normalement,  quand  la  sortie  est envoyée directement vers un\r\n",
      "              terminal  (habituellement  vers  un  afficheur),  toute   sortie\r\n",
      "              d'erreur de la commande utilisée pour produire les versions for‐\r\n",
      "              matées des pages de manuel est ignorée pour éviter  d'interférer\r\n",
      "              avec  l'affichage  de  la  page. Des programmes comme g\bgr\bro\bof\bff\bf pro‐\r\n",
      "              duisent souvent des messages  d'erreur  relativement  mineurs  à\r\n",
      "              propos de problèmes typographiques comme de mauvais alignements.\r\n",
      "              L'affichage de la page de manuel s'en trouve enlaidi  et  dérou‐\r\n",
      "              tant. Cependant, certains utilisateurs veulent tout de même voir\r\n",
      "              ces erreurs, donc si $M\bMA\bAN\bN_\b_K\bKE\bEE\bEP\bP_\b_F\bFO\bOR\bRM\bMA\bAT\bTT\bTI\bIN\bNG\bG  contient  une  valeur\r\n",
      "              non nulle, la sortie d'erreur sera affichée comme d'habitude.\r\n",
      "\r\n",
      "       L\bLA\bAN\bNG\bG, L\bLC\bC_\b_M\bME\bES\bSS\bSA\bAG\bGE\bES\bS\r\n",
      "              Suivant   le  système  et  l'implémentation,  soit  $L\bLA\bAN\bNG\bG,  soit\r\n",
      "              $L\bLC\bC_\b_M\bME\bES\bSS\bSA\bAG\bGE\bES\bS, soit les deux, seront interrogées pour  déterminer\r\n",
      "              la  langue  ou  le  dialecte utilisé. m\bma\ban\bn affichera ses messages\r\n",
      "              dans cette langue  ou  ce  dialecte  (s'ils  sont  disponibles).\r\n",
      "              Consultez s\bse\bet\btl\blo\boc\bca\bal\ble\be(3) pour plus de précisions.\r\n",
      "\r\n",
      "F\bFI\bIC\bCH\bHI\bIE\bER\bRS\bS\r\n",
      "       _\b/_\be_\bt_\bc_\b/_\bm_\ba_\bn_\bp_\ba_\bt_\bh_\b._\bc_\bo_\bn_\bf_\bi_\bg\r\n",
      "              Fichier de configuration de man-db.\r\n",
      "\r\n",
      "       _\b/_\bu_\bs_\br_\b/_\bs_\bh_\ba_\br_\be_\b/_\bm_\ba_\bn\r\n",
      "              Structure hiérarchique de pages de manuel globale\r\n",
      "\r\n",
      "       _\b/_\bu_\bs_\br_\b/_\bs_\bh_\ba_\br_\be_\b/_\bm_\ba_\bn_\b/_\bi_\bn_\bd_\be_\bx_\b._\b(_\bb_\bt_\b|_\bd_\bb_\b|_\bd_\bi_\br_\b|_\bp_\ba_\bg_\b)\r\n",
      "              B\bBa\bas\bse\be d\bde\be d\bdo\bon\bnn\bné\bée\bes\bs d\bd'\b'i\bin\bnd\bde\bex\bxa\bat\bti\bio\bon\bn globale habituelle.\r\n",
      "\r\n",
      "       _\b/_\bv_\ba_\br_\b/_\bc_\ba_\bc_\bh_\be_\b/_\bm_\ba_\bn_\b/_\bi_\bn_\bd_\be_\bx_\b._\b(_\bb_\bt_\b|_\bd_\bb_\b|_\bd_\bi_\br_\b|_\bp_\ba_\bg_\b)\r\n",
      "              B\bBa\bas\bse\be d\bde\be d\bdo\bon\bnn\bné\bée\bes\bs d\bd'\b'i\bin\bnd\bde\bex\bxa\bat\bti\bio\bon\bn globale, conforme à FHS.\r\n",
      "\r\n",
      "V\bVO\bOI\bIR\bR A\bAU\bUS\bSS\bSI\bI\r\n",
      "       a\bap\bpr\bro\bop\bpo\bos\bs(1),  g\bgr\bro\bof\bff\bf(1),  l\ble\bes\bss\bs(1),  m\bma\ban\bnp\bpa\bat\bth\bh(1),  n\bnr\bro\bof\bff\bf(1), t\btr\bro\bof\bff\bf(1), w\bwh\bha\ba‐\b‐\r\n",
      "       t\bti\bis\bs(1),  z\bzs\bso\boe\bel\bli\bim\bm(1),  s\bse\bet\btl\blo\boc\bca\bal\ble\be(3),  m\bma\ban\bnp\bpa\bat\bth\bh(5),  a\bas\bsc\bci\bii\bi(7),  l\bla\bat\bti\bin\bn1\b1(7),\r\n",
      "       m\bma\ban\bn(7), c\bca\bat\btm\bma\ban\bn(8), m\bma\ban\bnd\bdb\bb(8), le manuel du programme man-db, F\bFS\bSS\bST\bTN\bND\bD\r\n",
      "\r\n",
      "H\bHI\bIS\bST\bTO\bOR\bRI\bIQ\bQU\bUE\bE\r\n",
      "       1990,   1991   –   Première   version   écrite   par   John   W.  Eaton\r\n",
      "       (jwe@che.utexas.edu).\r\n",
      "\r\n",
      "       23 Décembre 1992 : Rik Faith (faith@cs.unc.edu) a appliqué les  correc‐\r\n",
      "       tifs fournis par Willem Kasdorp (wkasdo@nikhefk.nikef.nl).\r\n",
      "\r\n",
      "       30  avril  1994 – 23 février 2000 : Wilf. (G.Wilford@ee.surrey.ac.uk) a\r\n",
      "       développé et assuré la maintenance  de  ce  programme  avec  l'aide  de\r\n",
      "       quelques personnes motivées.\r\n",
      "\r\n",
      "       30 octobre 1996 – 30 mars 2001 : Fabrizio Polacco <fpolacco@debian.org>\r\n",
      "       a assuré la maintenance et développé ce programme pour le projet Debian\r\n",
      "       avec l'aide de toute la communauté.\r\n",
      "\r\n",
      "       Depuis  le 31 mars 2001 : Colin Watson <cjwatson@debian.org> est désor‐\r\n",
      "       mais le responsable et le développeur de man-db.\r\n",
      "\r\n",
      "T\bTR\bRA\bAD\bDU\bUC\bCT\bTI\bIO\bON\bN\r\n",
      "       Cette   traduction   est   maintenue   à   l'aide   de   l'outil   po4a\r\n",
      "       <URL:http://po4a.alioth.debian.org/>  par  l'équipe francophone de tra‐\r\n",
      "       duction de Debian.\r\n",
      "\r\n",
      "       Valéry Perrin <valery.perrin.debian@free.fr> le 2 janvier  2006.  David\r\n",
      "       Prévot  <david@tilapin.org>  et  l'équipe  francophone de traduction de\r\n",
      "       Debian (2010).\r\n",
      "\r\n",
      "       Veuillez  signaler  toute  erreur   de   traduction   en   écrivant   à\r\n",
      "       <debian-l10n-french@lists.debian.org> ou par un rapport de bogue sur le\r\n",
      "       paquet man-db.\r\n",
      "\r\n",
      "       Vous pouvez toujours avoir accès à la version anglaise de  ce  document\r\n",
      "       en utilisant la commande « m\bma\ban\bn -\b-L\bL C\bC _\b<_\bs_\be_\bc_\bt_\bi_\bo_\bn_\b> _\b<_\bp_\ba_\bg_\be_\b__\bd_\be_\b__\bm_\ba_\bn_\b> ».\r\n",
      "\r\n",
      "2.7.6.1                           2016-12-12                            MAN(1)\r\n"
     ]
    }
   ],
   "source": [
    "!man man"
   ]
  },
  {
   "cell_type": "markdown",
   "metadata": {
    "slideshow": {
     "slide_type": "slide"
    }
   },
   "source": [
    "## Directories\n",
    "The shell should start you in your home directory. This is your individual space on the UNIX system for your files. You can find out the name of your current working directory by typing:\n",
    "```sh\n",
    "pwd\n",
    "```"
   ]
  },
  {
   "cell_type": "markdown",
   "metadata": {
    "slideshow": {
     "slide_type": "fragment"
    }
   },
   "source": [
    "In the terminal, type the letters 'p', 'w', 'd', and then \"enter\" - always conclude each command by pressing the \"enter\" key. The response that follows on the next line will be the name of your home directory, where the name following the last slash should be your username.) The directory structure can be conceptualized as an inverted tree."
   ]
  },
  {
   "cell_type": "markdown",
   "metadata": {
    "slideshow": {
     "slide_type": "slide"
    }
   },
   "source": [
    "In the jupyter notebook, unix shell command can be executed using the escape character \"!\". You can type command directly in a terminal without the \"!\"."
   ]
  },
  {
   "cell_type": "code",
   "execution_count": 2,
   "metadata": {
    "scrolled": true,
    "slideshow": {
     "slide_type": "fragment"
    }
   },
   "outputs": [
    {
     "name": "stdout",
     "output_type": "stream",
     "text": [
      "/home/navaro_p/big-data\r\n"
     ]
    }
   ],
   "source": [
    "!pwd"
   ]
  },
  {
   "cell_type": "markdown",
   "metadata": {
    "slideshow": {
     "slide_type": "fragment"
    }
   },
   "source": [
    "Some unix command (not all) are also jupyter magic command like %pwd"
   ]
  },
  {
   "cell_type": "code",
   "execution_count": 3,
   "metadata": {
    "slideshow": {
     "slide_type": "fragment"
    }
   },
   "outputs": [
    {
     "data": {
      "text/plain": [
       "'/home/navaro_p/big-data'"
      ]
     },
     "execution_count": 3,
     "metadata": {},
     "output_type": "execute_result"
    }
   ],
   "source": [
    "%pwd"
   ]
  },
  {
   "cell_type": "markdown",
   "metadata": {
    "slideshow": {
     "slide_type": "slide"
    }
   },
   "source": [
    "## Home directory\n",
    "\n",
    "No matter where in the directory structure you are, you can always get back to your home directory by typing:\n",
    "```sh\n",
    "cd\n",
    "```"
   ]
  },
  {
   "cell_type": "markdown",
   "metadata": {
    "slideshow": {
     "slide_type": "fragment"
    }
   },
   "source": [
    "### Create a new subdirectory named \"primer\" :\n",
    "```sh\n",
    "mkdir primer\n",
    "```"
   ]
  },
  {
   "cell_type": "code",
   "execution_count": 4,
   "metadata": {
    "collapsed": true,
    "slideshow": {
     "slide_type": "fragment"
    }
   },
   "outputs": [],
   "source": [
    "%rm -rf primer  # remove primer directory if it exists\n",
    "%mkdir  primer  # make the new directory "
   ]
  },
  {
   "cell_type": "markdown",
   "metadata": {
    "slideshow": {
     "slide_type": "fragment"
    }
   },
   "source": [
    "Now change to the \"primer\" subdirectory, making it your current working directory:\n",
    "```sh\n",
    "cd primer\n",
    "pwd\n",
    "```"
   ]
  },
  {
   "cell_type": "code",
   "execution_count": 5,
   "metadata": {
    "slideshow": {
     "slide_type": "fragment"
    }
   },
   "outputs": [
    {
     "name": "stdout",
     "output_type": "stream",
     "text": [
      "/home/navaro_p/big-data/primer\n"
     ]
    }
   ],
   "source": [
    "%cd primer"
   ]
  },
  {
   "cell_type": "markdown",
   "metadata": {
    "slideshow": {
     "slide_type": "slide"
    }
   },
   "source": [
    "## Files\n",
    "\n",
    "Create a file using `date` command and `whoami`:\n",
    "```sh\n",
    "date >> first.txt\n",
    "whoami >> first.txt\n",
    "```\n",
    "date and whoami are not jupyter magic commands"
   ]
  },
  {
   "cell_type": "code",
   "execution_count": 6,
   "metadata": {
    "collapsed": true,
    "slideshow": {
     "slide_type": "fragment"
    }
   },
   "outputs": [],
   "source": [
    "!date >> first.txt\n",
    "!whoami >> first.txt"
   ]
  },
  {
   "cell_type": "markdown",
   "metadata": {
    "slideshow": {
     "slide_type": "slide"
    }
   },
   "source": [
    "### List files and directories\n",
    "Files live within directories. You can see a list of the files in your \"primer\" directory (which should be your current working directory) by typing:\n",
    "```sh\n",
    "ls\n",
    "```"
   ]
  },
  {
   "cell_type": "code",
   "execution_count": 7,
   "metadata": {
    "slideshow": {
     "slide_type": "fragment"
    }
   },
   "outputs": [
    {
     "name": "stdout",
     "output_type": "stream",
     "text": [
      "first.txt\r\n"
     ]
    }
   ],
   "source": [
    "%ls"
   ]
  },
  {
   "cell_type": "markdown",
   "metadata": {
    "slideshow": {
     "slide_type": "slide"
    }
   },
   "source": [
    "### Display file content\n",
    "You can view a text file with the following command:\n",
    "```sh\n",
    "cat first.txt\n",
    "```\n",
    "(\"cat\" is short for concatenate - you can use this to display multiple files together on the screen.) If you have a file that is longer than your 24-line console window, use instead \"more\" to list one page at a time or \"less\" to scroll the file down and up with the arrow keys. Don't use these programs to try to display binary (non-text) files on your console - the attempt to print the non-printable control characters might alter your console settings and render the console unusable."
   ]
  },
  {
   "cell_type": "code",
   "execution_count": 8,
   "metadata": {
    "slideshow": {
     "slide_type": "fragment"
    }
   },
   "outputs": [
    {
     "name": "stdout",
     "output_type": "stream",
     "text": [
      "mardi 7 novembre 2017, 08:41:34 (UTC+0100)\r\n",
      "navaro_p\r\n"
     ]
    }
   ],
   "source": [
    "%cat first.txt"
   ]
  },
  {
   "cell_type": "markdown",
   "metadata": {
    "slideshow": {
     "slide_type": "slide"
    }
   },
   "source": [
    "- Copy file \"first\" using the following command:\n",
    "\n",
    "```sh\n",
    "cp first.txt 2nd.txt\n",
    "```\n",
    "By doing this you have created a new file named \"2nd.txt\" which is a duplicate of file \"first.txt\". Geet he file listing with:\n",
    "```sh\n",
    "ls\n",
    "```"
   ]
  },
  {
   "cell_type": "code",
   "execution_count": 9,
   "metadata": {
    "slideshow": {
     "slide_type": "fragment"
    }
   },
   "outputs": [
    {
     "name": "stdout",
     "output_type": "stream",
     "text": [
      "2nd.txt  first.txt\r\n"
     ]
    }
   ],
   "source": [
    "%cp first.txt 2nd.txt\n",
    "%ls"
   ]
  },
  {
   "cell_type": "markdown",
   "metadata": {
    "slideshow": {
     "slide_type": "fragment"
    }
   },
   "source": [
    "- Now rename the file \"2nd\" to \"second\":\n",
    "```sh\n",
    "mv 2nd.txt second.txt\n",
    "```\n",
    "Listing the files still shows two files because you haven't created a new file, just changed an existing file's name:\n",
    "```sh\n",
    "ls\n",
    "```"
   ]
  },
  {
   "cell_type": "code",
   "execution_count": 10,
   "metadata": {
    "slideshow": {
     "slide_type": "fragment"
    }
   },
   "outputs": [
    {
     "name": "stdout",
     "output_type": "stream",
     "text": [
      "first.txt  second.txt\r\n"
     ]
    }
   ],
   "source": [
    "%mv 2nd.txt second.txt\n",
    "%ls"
   ]
  },
  {
   "cell_type": "markdown",
   "metadata": {
    "slideshow": {
     "slide_type": "slide"
    }
   },
   "source": [
    "If you \"cat\" the second file, you'll see the same sentence as in your first file:\n",
    "```sh \n",
    "cat second.txt\n",
    "```"
   ]
  },
  {
   "cell_type": "code",
   "execution_count": 11,
   "metadata": {
    "slideshow": {
     "slide_type": "fragment"
    }
   },
   "outputs": [
    {
     "name": "stdout",
     "output_type": "stream",
     "text": [
      "mardi 7 novembre 2017, 08:41:34 (UTC+0100)\r\n",
      "navaro_p\r\n"
     ]
    }
   ],
   "source": [
    "%cat second.txt"
   ]
  },
  {
   "cell_type": "markdown",
   "metadata": {
    "slideshow": {
     "slide_type": "slide"
    }
   },
   "source": [
    "\"mv\" will allow you to move files, not just rename them. Perform the following commands:\n",
    "```sh \n",
    "mkdir sub\n",
    "mv second.txt sub\n",
    "ls sub\n",
    "ls\n",
    "```\n",
    "(where \"username\" will be your username and \"group\" will be your group name). Among other things, this lists the creation date and time, file access permissions, and file size in bytes. The letter 'd' (the first character on the line) indicates the directory names."
   ]
  },
  {
   "cell_type": "code",
   "execution_count": 12,
   "metadata": {
    "slideshow": {
     "slide_type": "slide"
    }
   },
   "outputs": [
    {
     "name": "stdout",
     "output_type": "stream",
     "text": [
      "second.txt\r\n"
     ]
    }
   ],
   "source": [
    "%mkdir sub\n",
    "%mv second.txt sub\n",
    "%ls sub"
   ]
  },
  {
   "cell_type": "markdown",
   "metadata": {
    "slideshow": {
     "slide_type": "fragment"
    }
   },
   "source": [
    "This creates a new subdirectory named \"sub\", moves \"second\" into \"sub\", then lists the contents of both directories. You can list even more information about files by using the \"-l\" option with \"ls\":"
   ]
  },
  {
   "cell_type": "code",
   "execution_count": 13,
   "metadata": {
    "slideshow": {
     "slide_type": "fragment"
    }
   },
   "outputs": [
    {
     "name": "stdout",
     "output_type": "stream",
     "text": [
      "total 8\r\n",
      "-rw-r--r-- 1 navaro_p domain users   52 nov.   7 08:41 first.txt\r\n",
      "drwxr-xr-x 2 navaro_p domain users 4096 nov.   7 08:41 \u001b[0m\u001b[01;34msub\u001b[0m/\r\n"
     ]
    }
   ],
   "source": [
    "%ls -l"
   ]
  },
  {
   "cell_type": "markdown",
   "metadata": {
    "slideshow": {
     "slide_type": "slide"
    }
   },
   "source": [
    "Next perform the following commands:\n",
    "```sh\n",
    "cd sub\n",
    "pwd\n",
    "ls -l\n",
    "cd ..\n",
    "pwd\n",
    "```\n"
   ]
  },
  {
   "cell_type": "code",
   "execution_count": 14,
   "metadata": {
    "slideshow": {
     "slide_type": "fragment"
    }
   },
   "outputs": [
    {
     "name": "stdout",
     "output_type": "stream",
     "text": [
      "/home/navaro_p/big-data/primer/sub\n",
      "total 4\n",
      "-rw-r--r-- 1 navaro_p domain users 52 nov.   7 08:41 second.txt\n",
      "/home/navaro_p/big-data/primer\n"
     ]
    },
    {
     "data": {
      "text/plain": [
       "'/home/navaro_p/big-data/primer'"
      ]
     },
     "execution_count": 14,
     "metadata": {},
     "output_type": "execute_result"
    }
   ],
   "source": [
    "# go to sub directory\n",
    "%cd sub \n",
    "# current working directory\n",
    "%pwd  \n",
    "# list files with permissions\n",
    "%ls -l \n",
    "# go to parent directory\n",
    "%cd ..  \n",
    "# current working directory\n",
    "%pwd     "
   ]
  },
  {
   "cell_type": "markdown",
   "metadata": {
    "slideshow": {
     "slide_type": "slide"
    }
   },
   "source": [
    "Finally, clean up the duplicate files by removing the \"second.txt\" file and the \"sub\" subdirectory:\n",
    "```sh\n",
    "rm sub/second.txt\n",
    "rmdir sub\n",
    "ls -l\n",
    "cd\n",
    "```\n",
    "This shows that you can refer to a file in a different directory using the relative path name to the file (you can also use the absolute path name to the file - something like \"/Users/username/primer/sub/second.txt\", depending on your home directory). You can also include the \"..\" within the path name (for instance, you could have referred to the file as \"../primer/sub/second.txt\")."
   ]
  },
  {
   "cell_type": "code",
   "execution_count": 15,
   "metadata": {
    "slideshow": {
     "slide_type": "fragment"
    }
   },
   "outputs": [
    {
     "name": "stdout",
     "output_type": "stream",
     "text": [
      "total 4\n",
      "-rw-r--r-- 1 navaro_p domain users 52 nov.   7 08:41 first.txt\n",
      "/home/navaro_p/big-data\n"
     ]
    }
   ],
   "source": [
    "%rm sub/second.txt\n",
    "%rmdir sub\n",
    "%ls -l\n",
    "%cd ..\n",
    "%rm -r primer"
   ]
  },
  {
   "cell_type": "markdown",
   "metadata": {
    "slideshow": {
     "slide_type": "slide"
    }
   },
   "source": [
    "## Connect to a server\n",
    "\n",
    "Remote login to another machine can be accomplished using the \"ssh\" command:\n",
    "```\n",
    "ssh -l myname host\n",
    "```\n",
    "where \"myname\" will be your username on the remote system (possibly identical to your username on this system) and \"host\" is the name (or IP address) of the machine you are logging into. \n",
    "\n",
    "Transfer files between machines using \"scp\". For example, to copy file \"myfile\" from the remote machine named \"host\", the command would be:\n",
    "```sh\n",
    "scp myname@host:myfile .\n",
    "```\n",
    "(The \".\" refers to your current working directory, meaning that the destination for \"myfile\" is your current directory.)"
   ]
  },
  {
   "cell_type": "markdown",
   "metadata": {
    "slideshow": {
     "slide_type": "slide"
    }
   },
   "source": [
    "## Summary Of Basic Shell Commands\n",
    "```sh\n",
    "% pico myfile\t#text edit file \"myfile\"\n",
    "% ls\t#list files in current directory\n",
    "% ls -l\t#long format listing\n",
    "% touch myfile  #create new empty file \"myfile\"\n",
    "% cat myfile\t#view contents of text file \"myfile\"\n",
    "% more myfile\t#paged viewing of text file \"myfile\"\n",
    "% less myfile\t#scroll through text file \"myfile\"\n",
    "% head myfile   #view 10 first lines of text file \"myfile\"\n",
    "% tail myfile   #view 10 last lines of text file \"myfile\"\n",
    "% cp srcfile destfile\t#copy file \"srcfile\" to new file \"destfile\"\n",
    "% mv oldname newname\t#rename (or move) file \"oldname\" to \"newname\"\n",
    "% rm myfile\t#remove file \"myfile\"\n",
    "% mkdir subdir\t#make new directory \"subdir\"\n",
    "% cd subdir\t#change current working directory to \"subdir\"\n",
    "% rmdir subdir\t#remove (empty) directory \"subdir\"\n",
    "% pwd\t#display current working directory\n",
    "% date\t#display current date and time of day\n",
    "% ssh -l myname host\t#remote shell login of username \"myname\" to \"host\"\n",
    "% scp myname@host:myfile .\t#remote copy of file \"myfile\" to current directory\n",
    "% firefox &\t#start Firefox web browser (in background)\n",
    "% jobs      # display programs running in background\n",
    "% kill %n  # kill job number n (use jobs to get this number)\n",
    "% man -k \"topic\"\t#search manual pages for \"topic\"\n",
    "% man command\t#display man page for \"command\"\n",
    "% exit\t#exit a terminal window\n",
    "% logout\t#logout of a console session\n",
    "```"
   ]
  },
  {
   "cell_type": "markdown",
   "metadata": {
    "slideshow": {
     "slide_type": "slide"
    }
   },
   "source": [
    "## Redirecting \n",
    "\n",
    "Redirection is usually implemented by placing characters <,>,|,>> between commands.\n",
    "\n",
    "- Use  > to redirect output.\n",
    "```bash\n",
    "ls *.ipynb > file_list.txt\n",
    "```\n",
    "executes `ls`, placing the output in file_list.txt, as opposed to displaying it at the terminal, which is the usual destination for standard output. This will clobber any existing data in file1."
   ]
  },
  {
   "cell_type": "code",
   "execution_count": 16,
   "metadata": {
    "collapsed": true,
    "slideshow": {
     "slide_type": "fragment"
    }
   },
   "outputs": [],
   "source": [
    "!ls *.ipynb > file_list.txt"
   ]
  },
  {
   "cell_type": "markdown",
   "metadata": {
    "slideshow": {
     "slide_type": "fragment"
    }
   },
   "source": [
    "- Use < to redirect input.\n",
    "```bash\n",
    "wc < file_list.txt\n",
    "```\n",
    "executes `wc`, with file_list.txt as the source of input, as opposed to the keyboard, which is the usual source for standard input.\n",
    "\n"
   ]
  },
  {
   "cell_type": "markdown",
   "metadata": {
    "slideshow": {
     "slide_type": "slide"
    }
   },
   "source": [
    "### Python example"
   ]
  },
  {
   "cell_type": "code",
   "execution_count": 17,
   "metadata": {
    "slideshow": {
     "slide_type": "fragment"
    }
   },
   "outputs": [
    {
     "name": "stdout",
     "output_type": "stream",
     "text": [
      "Writing test_stdin.py\n"
     ]
    }
   ],
   "source": [
    "%%file test_stdin.py\n",
    "\n",
    "import sys\n",
    "\n",
    "# input comes from standard input\n",
    "k = 0\n",
    "for file in sys.stdin:\n",
    "    k +=1\n",
    "    print('file {} : {}'.format(k,file))"
   ]
  },
  {
   "cell_type": "code",
   "execution_count": 18,
   "metadata": {
    "slideshow": {
     "slide_type": "fragment"
    }
   },
   "outputs": [
    {
     "name": "stdout",
     "output_type": "stream",
     "text": [
      "file 1 : 01.MapReduce.ipynb\r\n",
      "\r\n",
      "file 2 : 02.Containers.ipynb\r\n",
      "\r\n",
      "file 3 : 03.ParallelComputation.ipynb\r\n",
      "\r\n",
      "file 4 : 04.AsynchonousProcessing.ipynb\r\n",
      "\r\n",
      "file 5 : 05.UnixCommands.ipynb\r\n",
      "\r\n",
      "file 6 : 06.Hadoop.ipynb\r\n",
      "\r\n",
      "file 7 : 07.PySpark.ipynb\r\n",
      "\r\n",
      "file 8 : 08.Dask.ipynb\r\n",
      "\r\n"
     ]
    }
   ],
   "source": [
    "!python3 test_stdin.py < file_list.txt"
   ]
  },
  {
   "cell_type": "markdown",
   "metadata": {
    "slideshow": {
     "slide_type": "slide"
    }
   },
   "source": [
    "You can combine the two capabilities: read from an input file and write to an output file."
   ]
  },
  {
   "cell_type": "code",
   "execution_count": 19,
   "metadata": {
    "collapsed": true,
    "slideshow": {
     "slide_type": "fragment"
    }
   },
   "outputs": [],
   "source": [
    "!python3 test_stdin.py < file_list.txt > output.txt"
   ]
  },
  {
   "cell_type": "code",
   "execution_count": 20,
   "metadata": {
    "slideshow": {
     "slide_type": "fragment"
    }
   },
   "outputs": [
    {
     "name": "stdout",
     "output_type": "stream",
     "text": [
      "file 1 : 01.MapReduce.ipynb\r\n",
      "\r\n",
      "file 2 : 02.Containers.ipynb\r\n",
      "\r\n",
      "file 3 : 03.ParallelComputation.ipynb\r\n",
      "\r\n",
      "file 4 : 04.AsynchonousProcessing.ipynb\r\n",
      "\r\n",
      "file 5 : 05.UnixCommands.ipynb\r\n",
      "\r\n",
      "file 6 : 06.Hadoop.ipynb\r\n",
      "\r\n",
      "file 7 : 07.PySpark.ipynb\r\n",
      "\r\n",
      "file 8 : 08.Dask.ipynb\r\n",
      "\r\n"
     ]
    }
   ],
   "source": [
    "%cat output.txt"
   ]
  },
  {
   "cell_type": "markdown",
   "metadata": {
    "slideshow": {
     "slide_type": "slide"
    }
   },
   "source": [
    "To append output to the end of the file, rather than clobbering it, the >> operator is used:\n",
    "\n",
    "date >> output.txt\n",
    "\n",
    "It will append the today date to the end of the file output.txt\n"
   ]
  },
  {
   "cell_type": "code",
   "execution_count": 21,
   "metadata": {
    "slideshow": {
     "slide_type": "fragment"
    }
   },
   "outputs": [
    {
     "name": "stdout",
     "output_type": "stream",
     "text": [
      "file 1 : 01.MapReduce.ipynb\r\n",
      "\r\n",
      "file 2 : 02.Containers.ipynb\r\n",
      "\r\n",
      "file 3 : 03.ParallelComputation.ipynb\r\n",
      "\r\n",
      "file 4 : 04.AsynchonousProcessing.ipynb\r\n",
      "\r\n",
      "file 5 : 05.UnixCommands.ipynb\r\n",
      "\r\n",
      "file 6 : 06.Hadoop.ipynb\r\n",
      "\r\n",
      "file 7 : 07.PySpark.ipynb\r\n",
      "\r\n",
      "file 8 : 08.Dask.ipynb\r\n",
      "\r\n",
      "mardi 7 novembre 2017, 08:42:08 (UTC+0100)\r\n"
     ]
    }
   ],
   "source": [
    "!date >> output.txt\n",
    "%cat output.txt"
   ]
  },
  {
   "cell_type": "markdown",
   "metadata": {
    "slideshow": {
     "slide_type": "slide"
    }
   },
   "source": [
    "## Permissions\n",
    "Every file on the system has associated with it a set of permissions. Permissions tell UNIX what can be done with that file and by whom. There are three things you can (or can't) do with a given file:\n",
    "- read,\n",
    "- write (modify),\n",
    "- execute.\n",
    "\n",
    "Unix permissions specify what can 'owner', 'group' and 'all' can do. \n",
    "\n",
    "If you try ls -l on the command prompt you get something like the following:\n",
    "```bash\n",
    "-rw-r--r--  1 navaro  staff   15799  5 oct 15:57 01.MapReduce.ipynb\n",
    "-rw-r--r--  1 navaro  staff   18209 12 oct 16:04 02.Containers.ipynb\n",
    "-rw-r--r--  1 navaro  staff   37963 12 oct 21:28 03.ParallelComputation.ipynb\n",
    "```\n",
    "\n",
    "\n",
    "Three bits specify access permissions: \n",
    "- **r** read,\n",
    "- **w** access,\n",
    "- **w** execute. \n",
    "\n"
   ]
  },
  {
   "cell_type": "markdown",
   "metadata": {
    "slideshow": {
     "slide_type": "slide"
    }
   },
   "source": [
    "### Example \n",
    "```\n",
    "rwxr-xr--\n",
    "```\n",
    "- the owner can do anything with the file, \n",
    "- group owners and the  can only read or execute it. \n",
    "- rest of the world can only read\n",
    "\n",
    "## chmod\n",
    "To set/modify a file's permissions you need to use the chmod program. Of course, only the owner of a file may use chmod to alter a file's permissions. chmod has the following syntax: \n",
    "```bash\n",
    "chmod [options] mode file(s)\n",
    "```\n",
    "\n",
    "- The 'mode' part specifies the new permissions for the file(s) that follow as arguments. A mode specifies which user's permissions should be changed, and afterwards which access types should be changed.\n",
    "- We use `+` or `-` to change the mode for owner, group and the rest of the world.\n",
    "- The permissions start with a letter specifying what users should be affected by the change.\n",
    "\n",
    "Original permissions of script.py are `rw-------`\n",
    "\n",
    "- `chmod u+x script.py` set permissions to `rwx------`\n",
    "- `chmod a+x script.py` set permissions to `rwx--x--x`\n",
    "- `chmod g+r script.py` set permissions to `rwxr-x--x`\n",
    "- `chmod o-x script.py` set permissions to `rwxr-x---`\n",
    "- `chmod og+w script.py` set permissions to `rwxrwx-w-`\n",
    "\n",
    "\n",
    "\n",
    "\n"
   ]
  },
  {
   "cell_type": "markdown",
   "metadata": {
    "slideshow": {
     "slide_type": "slide"
    }
   },
   "source": [
    "## Download files\n",
    "\n",
    "```bash\n",
    "mkdir books\n",
    "wget -q -O books/972.txt http://www.gutenberg.org/ebooks/972.txt.utf-8\n",
    "wget -e use_proxy=yes -e http_proxy=127.0.0.1:8080 \n",
    "```"
   ]
  },
  {
   "cell_type": "markdown",
   "metadata": {
    "slideshow": {
     "slide_type": "slide"
    }
   },
   "source": [
    "## Pipelining\n",
    "```bash\n",
    "ls | grep ipynb\n",
    "```\n",
    "executes `ls`, using its output as the input for `grep`.\n",
    "\n",
    "### Exercice 5.1\n",
    "\n",
    "- Pipe `cat *.ipynb` output to `sort` command.\n",
    "- Pipe `ls` output to `wc` command.\n",
    "- Pipe `cat 06.UnixCommands.ipynb` to `less` command."
   ]
  },
  {
   "cell_type": "markdown",
   "metadata": {
    "slideshow": {
     "slide_type": "slide"
    }
   },
   "source": [
    "\n",
    "## Chained pipelines\n",
    "\n",
    "The redirection and piping tokens can be chained together to create complex commands. \n",
    "\n",
    "### Exercice 5.2\n",
    "\n",
    "Use unix commands chained to display word count of file `sample.txt`.\n",
    "\n",
    "Hints:\n",
    "\n",
    "- `fmt -n` takes text as input and reformats it into  paragraphs with no line longer than n. \n",
    "- `sort` sort the output alphabetically\n",
    "- `tr -d str` delete the string str from the output\n",
    "- `uniq -c` writes a copy of each unique input and precede each word with the count of the number of occurences.\n",
    "\n"
   ]
  },
  {
   "cell_type": "markdown",
   "metadata": {
    "slideshow": {
     "slide_type": "slide"
    }
   },
   "source": [
    "### Exercice 5.3\n",
    "\n",
    "- Create a python script mapper.py to count words from stdin. The script prints out every word found in stdin with the value 1 separate by a tab.\n",
    "```text\n",
    "Consectetur\t1\n",
    "adipisci\t1\n",
    "quiquia\t1\n",
    "sit\t1\n",
    "```\n"
   ]
  },
  {
   "cell_type": "code",
   "execution_count": 22,
   "metadata": {
    "slideshow": {
     "slide_type": "fragment"
    }
   },
   "outputs": [
    {
     "name": "stdout",
     "output_type": "stream",
     "text": [
      "Writing mapper.py\n"
     ]
    }
   ],
   "source": [
    "%%file mapper.py\n",
    "#! /usr/local/bin/python3\n",
    "import sys\n",
    "\n",
    "# input comes from standard input\n",
    "k = 0\n",
    "for line in sys.stdin:\n",
    "    k +=1\n",
    "    print('line {} : {}'.format(k,line))"
   ]
  },
  {
   "cell_type": "markdown",
   "metadata": {
    "slideshow": {
     "slide_type": "slide"
    }
   },
   "source": [
    "File `mapper.py` must be executable."
   ]
  },
  {
   "cell_type": "code",
   "execution_count": 25,
   "metadata": {
    "collapsed": true,
    "slideshow": {
     "slide_type": "fragment"
    }
   },
   "outputs": [],
   "source": [
    "!chmod +x mapper.py"
   ]
  },
  {
   "cell_type": "code",
   "execution_count": 26,
   "metadata": {
    "collapsed": true,
    "slideshow": {
     "slide_type": "skip"
    }
   },
   "outputs": [],
   "source": [
    "from lorem import text\n",
    "with open('sample.txt', 'w') as f:\n",
    "    f.write(text())"
   ]
  },
  {
   "cell_type": "code",
   "execution_count": 27,
   "metadata": {
    "slideshow": {
     "slide_type": "fragment"
    }
   },
   "outputs": [
    {
     "name": "stdout",
     "output_type": "stream",
     "text": [
      "line 1 : Tempora numquam magnam sed. Amet quaerat quisquam quisquam porro neque quaerat. Dolor eius neque ut. Modi porro est velit quiquia sed quisquam ut. Eius modi ipsum porro adipisci quisquam quaerat. Non non consectetur dolore velit. Numquam quaerat eius non non aliquam dolorem ipsum. Porro non voluptatem sit dolor adipisci.\r\n",
      "\r\n",
      "line 2 : \r\n",
      "\r\n",
      "line 3 : Magnam dolor quisquam quisquam voluptatem voluptatem etincidunt. Sit velit magnam dolore. Ut dolorem eius labore magnam eius neque sit. Quisquam porro eius numquam adipisci. Porro etincidunt dolore consectetur. Consectetur dolore dolorem modi.\r\n",
      "\r\n",
      "line 4 : \r\n",
      "\r\n",
      "line 5 : Quaerat ut neque dolorem dolorem porro. Amet adipisci quiquia velit non. Eius sed ipsum adipisci. Non tempora aliquam quaerat. Dolore numquam dolore neque aliquam labore labore. Porro dolore voluptatem dolor ut dolor ut.\r\n",
      "\r\n",
      "line 6 : \r\n",
      "\r\n",
      "line 7 : Sed non dolor non dolor consectetur magnam dolore. Tempora sit dolore sed sit. Voluptatem velit labore tempora ut quisquam. Modi sed quaerat porro dolore. Ut velit magnam dolore sit tempora adipisci est.\r\n",
      "\r\n",
      "line 8 : \r\n",
      "\r\n",
      "line 9 : Est sit etincidunt amet numquam. Numquam velit non amet sit tempora magnam. Quisquam ut eius numquam adipisci. Velit labore magnam aliquam dolore ipsum quisquam. Dolorem amet quiquia magnam. Etincidunt amet quiquia magnam. Quiquia quisquam consectetur porro consectetur tempora tempora. Neque dolorem aliquam ut ut. Neque non quisquam quiquia adipisci quaerat ut modi. Numquam labore amet ut.\r\n"
     ]
    }
   ],
   "source": [
    "!cat sample.txt | python3 mapper.py"
   ]
  },
  {
   "cell_type": "markdown",
   "metadata": {
    "slideshow": {
     "slide_type": "slide"
    }
   },
   "source": [
    "### Exercice 5.4\n",
    "\n",
    "- Create a python script reducer.py to read output from mapper.py. The script prints out every word and number of occurences.\n",
    "```bash\n",
    "cat sample.txt | ./mapper.py | ./reducer.py\n",
    "```\n",
    "\n",
    "```text\n",
    "7\tporro\n",
    "7\teius\n",
    "6\tnon\n",
    "6\tdolore\n",
    "```\n",
    "\n"
   ]
  }
 ],
 "metadata": {
  "kernelspec": {
   "display_name": "Python 3",
   "language": "python",
   "name": "python3"
  },
  "language_info": {
   "codemirror_mode": {
    "name": "ipython",
    "version": 3
   },
   "file_extension": ".py",
   "mimetype": "text/x-python",
   "name": "python",
   "nbconvert_exporter": "python",
   "pygments_lexer": "ipython3",
   "version": "3.6.1"
  }
 },
 "nbformat": 4,
 "nbformat_minor": 2
}
