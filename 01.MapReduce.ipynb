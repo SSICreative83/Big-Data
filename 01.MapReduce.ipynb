{
 "cells": [
  {
   "cell_type": "markdown",
   "metadata": {
    "slideshow": {
     "slide_type": "skip"
    }
   },
   "source": [
    "Pierre Navaro - [Institut de Recherche Mathématique de Rennes](https://irmar.univ-rennes1.fr) - [CNRS](http://www.cnrs.fr/)\n",
    "\n",
    "[Display on nbviewer](http://nbviewer.jupyter.org/github/pnavaro/big-data/blob/master/01.MapReduce.ipynb)\n",
    "\n",
    "Some recommendations:\n",
    "- *Please don't google the solution on the web, use the python documentation through `help` function.*\n",
    "- *Do not try to find a clever or optimized solution, do something that works.*\n",
    "- *Please don't get solution from your friends*\n",
    "- *Notebooks will be updated next week with solutions*"
   ]
  },
  {
   "cell_type": "markdown",
   "metadata": {
    "slideshow": {
     "slide_type": "slide"
    }
   },
   "source": [
    "# Data processing through MapReduce\n",
    "\n",
    "![MapReduce](http://mm-tom.s3.amazonaws.com/blog/MapReduce.png)"
   ]
  },
  {
   "cell_type": "markdown",
   "metadata": {
    "slideshow": {
     "slide_type": "slide"
    }
   },
   "source": [
    "\n",
    "## `map` function example\n",
    "\n",
    "The `map(func, seq)` Python function applies the function func to all the elements of the sequence seq. It returns a new list with the elements changed by func"
   ]
  },
  {
   "cell_type": "code",
   "execution_count": 16,
   "metadata": {
    "slideshow": {
     "slide_type": "fragment"
    }
   },
   "outputs": [
    {
     "data": {
      "text/plain": [
       "<map at 0x10cf1e780>"
      ]
     },
     "execution_count": 16,
     "metadata": {},
     "output_type": "execute_result"
    }
   ],
   "source": [
    "def func(x):\n",
    "    return x + 1\n",
    "\n",
    "res = map(f, [2, 6, -3, 7])\n",
    "res  # Res is an iterator"
   ]
  },
  {
   "cell_type": "code",
   "execution_count": 17,
   "metadata": {
    "slideshow": {
     "slide_type": "fragment"
    }
   },
   "outputs": [
    {
     "name": "stdout",
     "output_type": "stream",
     "text": [
      "3 7 -2 8\n"
     ]
    }
   ],
   "source": [
    "print(*res)"
   ]
  },
  {
   "cell_type": "markdown",
   "metadata": {
    "slideshow": {
     "slide_type": "slide"
    }
   },
   "source": [
    "## `functools.reduce` example\n",
    "\n",
    "The function `reduce(func, seq)` continually applies the function func() to the sequence seq and return a single value. For example, reduce(f, [1, 2, 3, 4, 5]) calculates f(f(f(f(1,2),3),4),5)."
   ]
  },
  {
   "cell_type": "code",
   "execution_count": 18,
   "metadata": {
    "slideshow": {
     "slide_type": "fragment"
    }
   },
   "outputs": [
    {
     "data": {
      "text/plain": [
       "15"
      ]
     },
     "execution_count": 18,
     "metadata": {},
     "output_type": "execute_result"
    }
   ],
   "source": [
    "def g(x,y):\n",
    "    return x + y\n",
    "\n",
    "from functools import reduce\n",
    "reduce(g, [1, 2, 3, 4, 5]) # computes ((((1+2)+3)+4)+5). "
   ]
  },
  {
   "cell_type": "markdown",
   "metadata": {
    "slideshow": {
     "slide_type": "slide"
    }
   },
   "source": [
    "## Vector norm\n",
    "We want to compute the vector norm $|v| = \\sqrt{\\sum_i v_i^2}$ with a Map-Reduce process:\n",
    "- use `map` function\n",
    "- use `reduce` funtion from `functools`"
   ]
  },
  {
   "cell_type": "markdown",
   "metadata": {
    "slideshow": {
     "slide_type": "fragment"
    }
   },
   "source": [
    "### Exercise 1.1\n",
    "Write these two functions and compute the norm of V representing by the Python list `V` above."
   ]
  },
  {
   "cell_type": "code",
   "execution_count": 19,
   "metadata": {
    "collapsed": true,
    "scrolled": false,
    "slideshow": {
     "slide_type": "fragment"
    }
   },
   "outputs": [],
   "source": [
    "V = [4,1,2,3]"
   ]
  },
  {
   "cell_type": "markdown",
   "metadata": {
    "slideshow": {
     "slide_type": "slide"
    }
   },
   "source": [
    "## Wordcount Example\n",
    "\n",
    "[WordCount](https://hadoop.apache.org/docs/current/hadoop-mapreduce-client/hadoop-mapreduce-client-core/MapReduceTutorial.html#Example:_WordCount_v1.0) is a simple application that counts the number of occurrences of each word in a given input set.\n",
    "\n",
    "Each mapper takes a line of text files as input and breaks it into words. It then emits a key/value pair of the word and 1 (separated by a tab). Each reducer sums the counts for each word and emits a single key/value with the word and sum."
   ]
  },
  {
   "cell_type": "code",
   "execution_count": 20,
   "metadata": {
    "scrolled": false,
    "slideshow": {
     "slide_type": "fragment"
    }
   },
   "outputs": [
    {
     "name": "stdout",
     "output_type": "stream",
     "text": [
      "Quaerat quaerat labore voluptatem. Est quaerat labore dolor adipisci amet ipsum. Porro dolore voluptatem aliquam amet dolor tempora. Consectetur eius \n"
     ]
    }
   ],
   "source": [
    "from lorem import text\n",
    "t = text()\n",
    "\n",
    "with open(\"sample.txt\", \"w\") as sample:\n",
    "    sample.write(t)\n",
    "\n",
    "print(t[:150]) # print only 150 first characters"
   ]
  },
  {
   "cell_type": "markdown",
   "metadata": {
    "slideshow": {
     "slide_type": "slide"
    }
   },
   "source": [
    "### Exercise 1.2\n",
    "Write a python program that counts the number of words in that file.\n"
   ]
  },
  {
   "cell_type": "markdown",
   "metadata": {
    "slideshow": {
     "slide_type": "slide"
    }
   },
   "source": [
    "## Map - Read file and return a key/value pairs\n",
    "\n",
    "### Exercise 1.3\n",
    "\n",
    "Write a function `words` with file name as input that returns a sorted sequence of tuples (word, 1) values.\n",
    "\n",
    "Hints: `str.lower` , `str.maketrans` and `str.translate` methods can help to remove punctuation (`string.punctuation`)."
   ]
  },
  {
   "cell_type": "markdown",
   "metadata": {
    "slideshow": {
     "slide_type": "slide"
    }
   },
   "source": [
    "# Reduce \n",
    "\n",
    "### Exercice 1.4\n",
    "\n",
    "Write the funtion `reduce` to read the results of words and sum the occurrences of each word to a final count, and then output the results\n",
    "as a list of (word, occurences). Two steps:\n",
    "- Group (word, 1) pairs into a dictionary as\n",
    "```python\n",
    "{word1 : [1, 1], word2 : [1, 1, 1], word3 : [1] }\n",
    "```\n",
    "- Reduce operation prints out the word and its number of occurences."
   ]
  },
  {
   "cell_type": "markdown",
   "metadata": {
    "slideshow": {
     "slide_type": "slide"
    }
   },
   "source": [
    "### Exercise 1.5\n",
    "\n",
    "Use `words` and `reduce` functions to return the words list of sample.txt with number of occurrences.\n",
    "\n",
    "Each item of this list is a tuple. Sort this list with `operator.itemgetter(1)` to use the second element of this tuple as key for the `sorted` function."
   ]
  },
  {
   "cell_type": "markdown",
   "metadata": {
    "slideshow": {
     "slide_type": "slide"
    }
   },
   "source": [
    "### Exercise 1.6\n",
    "\n",
    "Create 8 files `sample[0-7].txt` and use functions implemented above to\n",
    "count (word, occurences). Set most common words at the top of the output list."
   ]
  },
  {
   "cell_type": "code",
   "execution_count": null,
   "metadata": {
    "collapsed": true
   },
   "outputs": [],
   "source": []
  }
 ],
 "metadata": {
  "celltoolbar": "Slideshow",
  "kernelspec": {
   "display_name": "Python 3",
   "language": "python",
   "name": "python3"
  },
  "language_info": {
   "codemirror_mode": {
    "name": "ipython",
    "version": 3
   },
   "file_extension": ".py",
   "mimetype": "text/x-python",
   "name": "python",
   "nbconvert_exporter": "python",
   "pygments_lexer": "ipython3",
   "version": "3.6.2"
  }
 },
 "nbformat": 4,
 "nbformat_minor": 2
}
