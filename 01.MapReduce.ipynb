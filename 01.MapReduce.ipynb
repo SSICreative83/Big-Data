{
 "cells": [
  {
   "cell_type": "markdown",
   "metadata": {
    "slideshow": {
     "slide_type": "slide"
    }
   },
   "source": [
    "Pierre Navaro - [Institut de Recherche Mathématique de Rennes](https://irmar.univ-rennes1.fr) - [CNRS](http://www.cnrs.fr/)\n",
    "\n",
    "[Display on nbviewer](http://nbviewer.jupyter.org/github/pnavaro/big-data/blob/master/01.MapReduce.ipynb)\n",
    "\n",
    "Some recommendations:\n",
    "- *Please don't google the solution on the web, use the python documentation through `help` function.*\n",
    "- *Do not try to find a clever or optimized solution, do something that works.*\n",
    "- *Please don't get solution from your friends*\n",
    "- *Notebooks will be updated next week with solutions*"
   ]
  },
  {
   "cell_type": "markdown",
   "metadata": {
    "slideshow": {
     "slide_type": "slide"
    }
   },
   "source": [
    "# Data processing through MapReduce\n",
    "\n",
    "![MapReduce](http://mm-tom.s3.amazonaws.com/blog/MapReduce.png)"
   ]
  },
  {
   "cell_type": "markdown",
   "metadata": {
    "slideshow": {
     "slide_type": "slide"
    }
   },
   "source": [
    "\n",
    "## `map` function example\n",
    "\n",
    "The `map(func, seq)` Python function applies the function func to all the elements of the sequence seq. It returns a new list with the elements changed by func"
   ]
  },
  {
   "cell_type": "code",
   "execution_count": 16,
   "metadata": {
    "slideshow": {
     "slide_type": "fragment"
    }
   },
   "outputs": [
    {
     "data": {
      "text/plain": [
       "<map at 0x10cf1e780>"
      ]
     },
     "execution_count": 16,
     "metadata": {},
     "output_type": "execute_result"
    }
   ],
   "source": [
    "def f(x):\n",
    "    return x + 1\n",
    "\n",
    "res = map(f, [2, 6, -3, 7])\n",
    "res  # Res is an iterator"
   ]
  },
  {
   "cell_type": "code",
   "execution_count": 17,
   "metadata": {
    "slideshow": {
     "slide_type": "fragment"
    }
   },
   "outputs": [
    {
     "name": "stdout",
     "output_type": "stream",
     "text": [
      "3 7 -2 8\n"
     ]
    }
   ],
   "source": [
    "print(*res)"
   ]
  },
  {
   "cell_type": "markdown",
   "metadata": {
    "slideshow": {
     "slide_type": "slide"
    }
   },
   "source": [
    "## `functools.reduce` example\n",
    "\n",
    "The function `reduce(func, seq)` continually applies the function func() to the sequence seq and return a single value. For example, reduce(f, [1, 2, 3, 4, 5]) calculates f(f(f(f(1,2),3),4),5)."
   ]
  },
  {
   "cell_type": "code",
   "execution_count": 18,
   "metadata": {
    "slideshow": {
     "slide_type": "fragment"
    }
   },
   "outputs": [
    {
     "data": {
      "text/plain": [
       "15"
      ]
     },
     "execution_count": 18,
     "metadata": {},
     "output_type": "execute_result"
    }
   ],
   "source": [
    "def g(x,y):\n",
    "    return x + y\n",
    "\n",
    "from functools import reduce\n",
    "reduce(g, [1, 2, 3, 4, 5]) # computes ((((1+2)+3)+4)+5). "
   ]
  },
  {
   "cell_type": "markdown",
   "metadata": {
    "slideshow": {
     "slide_type": "slide"
    }
   },
   "source": [
    "## Vector norm\n",
    "We want to compute the vector norm $|v| = \\sqrt{\\sum_i v_i^2}$ with a Map-Reduce process:\n",
    "- use `map` function\n",
    "- use `reduce` funtion from `functools`"
   ]
  },
  {
   "cell_type": "markdown",
   "metadata": {
    "slideshow": {
     "slide_type": "fragment"
    }
   },
   "source": [
    "### Exercise 1.1\n",
    "Write these two functions and compute the norm of V representing by the Python list `V` above."
   ]
  },
  {
   "cell_type": "code",
   "execution_count": 1,
   "metadata": {
    "scrolled": false,
    "slideshow": {
     "slide_type": "fragment"
    }
   },
   "outputs": [],
   "source": [
    "V = [4,1,2,3]\n"
   ]
  },
  {
   "cell_type": "code",
   "execution_count": 2,
   "metadata": {},
   "outputs": [
    {
     "data": {
      "text/plain": [
       "True"
      ]
     },
     "execution_count": 2,
     "metadata": {},
     "output_type": "execute_result"
    }
   ],
   "source": [
    "from operator import add\n",
    "from functools import reduce\n",
    "from math import sqrt\n",
    "\n",
    "f = lambda x: x*x   # Function applied\n",
    "L = map(f, V)       # map return a iterator\n",
    "s = reduce(add,L)   # reduce compute the sum\n",
    "sqrt(s) == sqrt(sum(map(f,V))) # check the result"
   ]
  },
  {
   "cell_type": "markdown",
   "metadata": {
    "slideshow": {
     "slide_type": "slide"
    }
   },
   "source": [
    "## Wordcount Example\n",
    "\n",
    "[WordCount](https://hadoop.apache.org/docs/current/hadoop-mapreduce-client/hadoop-mapreduce-client-core/MapReduceTutorial.html#Example:_WordCount_v1.0) is a simple application that counts the number of occurrences of each word in a given input set.\n",
    "\n",
    "Each mapper takes a line of text files as input and breaks it into words. It then emits a key/value pair of the word and 1 (separated by a tab). Each reducer sums the counts for each word and emits a single key/value with the word and sum."
   ]
  },
  {
   "cell_type": "code",
   "execution_count": 20,
   "metadata": {
    "scrolled": false,
    "slideshow": {
     "slide_type": "fragment"
    }
   },
   "outputs": [
    {
     "name": "stdout",
     "output_type": "stream",
     "text": [
      "Quaerat quaerat labore voluptatem. Est quaerat labore dolor adipisci amet ipsum. Porro dolore voluptatem aliquam amet dolor tempora. Consectetur eius \n"
     ]
    }
   ],
   "source": [
    "from lorem import text\n",
    "t = text()\n",
    "\n",
    "with open(\"sample.txt\", \"w\") as sample:\n",
    "    sample.write(t)\n",
    "\n",
    "print(t[:150]) # print only 150 first characters"
   ]
  },
  {
   "cell_type": "markdown",
   "metadata": {
    "slideshow": {
     "slide_type": "slide"
    }
   },
   "source": [
    "### Exercise 1.2\n",
    "Write a python program that counts the number of words in that file.\n"
   ]
  },
  {
   "cell_type": "code",
   "execution_count": 4,
   "metadata": {},
   "outputs": [
    {
     "data": {
      "text/plain": [
       "284"
      ]
     },
     "execution_count": 4,
     "metadata": {},
     "output_type": "execute_result"
    }
   ],
   "source": [
    "import re\n",
    "splitter = re.compile('\\w+') # use regular expression to split file into words\n",
    "with open('sample.txt', 'r') as f:\n",
    "    data = f.read()\n",
    "result = len(splitter.findall(data))\n",
    "result"
   ]
  },
  {
   "cell_type": "markdown",
   "metadata": {
    "slideshow": {
     "slide_type": "slide"
    }
   },
   "source": [
    "## Map - Read file and return a key/value pairs\n",
    "\n",
    "### Exercise 1.3\n",
    "\n",
    "Write a function `words` with file name as input that returns a sorted sequence of tuples (word, 1) values.\n",
    "\n",
    "Hints: `str.lower` , `str.maketrans` and `str.translate` methods can help to remove punctuation (`string.punctuation`)."
   ]
  },
  {
   "cell_type": "code",
   "execution_count": 5,
   "metadata": {},
   "outputs": [],
   "source": [
    "import string\n",
    "\n",
    "def words(file):\n",
    "    \"\"\"\n",
    "    Read a text file and return a sorted list of (word, 1) values.\n",
    "    \"\"\"\n",
    "    translator = str.maketrans('', '', string.punctuation)\n",
    "    output = []\n",
    "    with open(file) as f:\n",
    "        for line in f:\n",
    "            line = line.strip()\n",
    "            line = line.translate(translator)\n",
    "            for word in line.split():\n",
    "                word = word.lower()\n",
    "                output.append((word, 1))\n",
    "    output.sort()\n",
    "    return output"
   ]
  },
  {
   "cell_type": "markdown",
   "metadata": {
    "slideshow": {
     "slide_type": "slide"
    }
   },
   "source": [
    "# Reduce \n",
    "\n",
    "### Exercice 1.4\n",
    "\n",
    "Write the funtion `reduce` to read the results of words and sum the occurrences of each word to a final count, and then output the results\n",
    "as a list of (word, occurences). Two steps:\n",
    "- Group (word, 1) pairs into a dictionary as\n",
    "```python\n",
    "{word1 : [1, 1], word2 : [1, 1, 1], word3 : [1] }\n",
    "```\n",
    "- Reduce operation prints out the word and its number of occurences."
   ]
  },
  {
   "cell_type": "code",
   "execution_count": 26,
   "metadata": {},
   "outputs": [],
   "source": [
    "def reduce(words):\n",
    "    \"\"\" Read the sorted list from map and print out every word with \n",
    "    its number of occurences\"\"\"\n",
    "    d = {}\n",
    "    for w in words:\n",
    "        try:\n",
    "            d[w[0]] +=1\n",
    "        except KeyError:\n",
    "            d[w[0]] = 1 \n",
    "    \n",
    "    return sorted(d.items(), key=operator.itemgetter(1), reverse=True)"
   ]
  },
  {
   "cell_type": "markdown",
   "metadata": {
    "slideshow": {
     "slide_type": "slide"
    }
   },
   "source": [
    "### Exercise 1.5\n",
    "\n",
    "Use `words` and `reduce` functions to return the words list of sample.txt with number of occurrences.\n",
    "\n",
    "Each item of this list is a tuple. Sort this list with `operator.itemgetter(1)` to use the second element of this tuple as key for the `sorted` function."
   ]
  },
  {
   "cell_type": "code",
   "execution_count": 29,
   "metadata": {},
   "outputs": [
    {
     "data": {
      "text/plain": [
       "[('etincidunt', 15),\n",
       " ('labore', 15),\n",
       " ('aliquam', 14),\n",
       " ('eius', 14),\n",
       " ('neque', 14),\n",
       " ('amet', 13),\n",
       " ('dolore', 13),\n",
       " ('modi', 13),\n",
       " ('non', 13),\n",
       " ('quiquia', 13),\n",
       " ('sed', 13),\n",
       " ('velit', 13),\n",
       " ('consectetur', 12),\n",
       " ('magnam', 11),\n",
       " ('dolor', 10),\n",
       " ('est', 10),\n",
       " ('ipsum', 10),\n",
       " ('numquam', 9),\n",
       " ('voluptatem', 9),\n",
       " ('dolorem', 8),\n",
       " ('tempora', 8),\n",
       " ('quisquam', 7),\n",
       " ('ut', 7),\n",
       " ('sit', 6),\n",
       " ('adipisci', 5),\n",
       " ('quaerat', 5),\n",
       " ('porro', 4)]"
      ]
     },
     "execution_count": 29,
     "metadata": {},
     "output_type": "execute_result"
    }
   ],
   "source": [
    "\n",
    "reduce(words('sample.txt'))\n"
   ]
  },
  {
   "cell_type": "markdown",
   "metadata": {
    "slideshow": {
     "slide_type": "slide"
    }
   },
   "source": [
    "### Exercise 1.6\n",
    "\n",
    "Create 8 files `sample[0-7].txt` and use functions implemented above to\n",
    "count (word, occurences). Set most common words at the top of the output list.\n",
    "\n"
   ]
  },
  {
   "cell_type": "code",
   "execution_count": 90,
   "metadata": {},
   "outputs": [],
   "source": [
    "from lorem import text\n",
    "for i in range(8):\n",
    "    with open(\"sample{0:02d}.txt\".format(i), \"w\") as f:\n",
    "        f.write(text())"
   ]
  },
  {
   "cell_type": "markdown",
   "metadata": {},
   "source": [
    "### Solution 1 with a for loop"
   ]
  },
  {
   "cell_type": "code",
   "execution_count": 101,
   "metadata": {},
   "outputs": [
    {
     "data": {
      "text/plain": [
       "[('amet', 88),\n",
       " ('numquam', 85),\n",
       " ('labore', 80),\n",
       " ('neque', 80),\n",
       " ('dolor', 77),\n",
       " ('voluptatem', 75),\n",
       " ('consectetur', 74),\n",
       " ('dolore', 74),\n",
       " ('modi', 73),\n",
       " ('ut', 73),\n",
       " ('non', 72),\n",
       " ('quisquam', 71),\n",
       " ('adipisci', 70),\n",
       " ('quiquia', 69),\n",
       " ('magnam', 68),\n",
       " ('quaerat', 68),\n",
       " ('sit', 68),\n",
       " ('velit', 68),\n",
       " ('est', 67),\n",
       " ('sed', 66),\n",
       " ('porro', 65),\n",
       " ('tempora', 64),\n",
       " ('eius', 62),\n",
       " ('etincidunt', 59),\n",
       " ('dolorem', 58),\n",
       " ('ipsum', 51),\n",
       " ('aliquam', 45)]"
      ]
     },
     "execution_count": 101,
     "metadata": {},
     "output_type": "execute_result"
    }
   ],
   "source": [
    "import glob\n",
    "import collections\n",
    "files = glob.glob('sample0*.txt')\n",
    "\n",
    "mapped_values = []\n",
    "for file in files:  # The Python map function does not work, we need to loop over files\n",
    "    mapped_values += words(file)\n",
    "\n",
    "reduce(mapped_values)"
   ]
  },
  {
   "cell_type": "markdown",
   "metadata": {
    "slideshow": {
     "slide_type": "slide"
    }
   },
   "source": [
    "### Solution 2 with `map` function\n",
    "`itertools.chain(*mapped_values)` is used for treating consecutive sequences as a single sequence. It makes an iterator that returns elements from the first iterable until it is exhausted, then proceeds to the next iterable, until all of the iterables are exhausted."
   ]
  },
  {
   "cell_type": "code",
   "execution_count": 104,
   "metadata": {},
   "outputs": [
    {
     "data": {
      "text/plain": [
       "[('amet', 88),\n",
       " ('numquam', 85),\n",
       " ('labore', 80),\n",
       " ('neque', 80),\n",
       " ('dolor', 77),\n",
       " ('voluptatem', 75),\n",
       " ('consectetur', 74),\n",
       " ('dolore', 74),\n",
       " ('modi', 73),\n",
       " ('ut', 73),\n",
       " ('non', 72),\n",
       " ('quisquam', 71),\n",
       " ('adipisci', 70),\n",
       " ('quiquia', 69),\n",
       " ('magnam', 68),\n",
       " ('quaerat', 68),\n",
       " ('sit', 68),\n",
       " ('velit', 68),\n",
       " ('est', 67),\n",
       " ('sed', 66),\n",
       " ('porro', 65),\n",
       " ('tempora', 64),\n",
       " ('eius', 62),\n",
       " ('etincidunt', 59),\n",
       " ('dolorem', 58),\n",
       " ('ipsum', 51),\n",
       " ('aliquam', 45)]"
      ]
     },
     "execution_count": 104,
     "metadata": {},
     "output_type": "execute_result"
    }
   ],
   "source": [
    "import glob\n",
    "import collections\n",
    "import itertools\n",
    "files = glob.glob('sample0*.txt')\n",
    "\n",
    "mapped_values = map(words, files)\n",
    "\n",
    "reduce(itertools.chain(*mapped_values))"
   ]
  },
  {
   "cell_type": "code",
   "execution_count": null,
   "metadata": {},
   "outputs": [],
   "source": []
  }
 ],
 "metadata": {
  "celltoolbar": "Slideshow",
  "kernelspec": {
   "display_name": "Python 3",
   "language": "python",
   "name": "python3"
  },
  "language_info": {
   "codemirror_mode": {
    "name": "ipython",
    "version": 3
   },
   "file_extension": ".py",
   "mimetype": "text/x-python",
   "name": "python",
   "nbconvert_exporter": "python",
   "pygments_lexer": "ipython3",
   "version": "3.6.2"
  }
 },
 "nbformat": 4,
 "nbformat_minor": 2
}
