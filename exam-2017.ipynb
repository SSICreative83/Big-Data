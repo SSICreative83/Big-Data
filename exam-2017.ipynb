{
 "cells": [
  {
   "cell_type": "markdown",
   "metadata": {},
   "source": [
    "**Contrôle du 14 décembre 2017**"
   ]
  },
  {
   "cell_type": "markdown",
   "metadata": {},
   "source": [
    "\n",
    "Prénom :\n"
   ]
  },
  {
   "cell_type": "markdown",
   "metadata": {},
   "source": [
    "\n",
    "Nom :\n"
   ]
  },
  {
   "cell_type": "markdown",
   "metadata": {},
   "source": [
    "Nous allons travailler avec les 4 textes des auteurs suivants\n",
    "\n",
    "- Victor Hugo http://www.gutenberg.org/files/135/135-0.txt\n",
    "- Marcel Proust http://www.gutenberg.org/files/7178/7178-8.txt\n",
    "- Emile Zola http://www.gutenberg.org/files/1069/1069-0.txt\n",
    "- Stendhal http://www.gutenberg.org/files/44747/44747-0.txt\n",
    "\n",
    "Pour ceux qui utilisent le proxy, téléchargez ces fichiers directement depuis votre navigateur. Sinon vous pouvez exécutez la cellule suivante."
   ]
  },
  {
   "cell_type": "code",
   "execution_count": null,
   "metadata": {},
   "outputs": [],
   "source": [
    "%mkdir -p books\n",
    "import urllib.request as url\n",
    "url.urlretrieve(\"http://www.gutenberg.org/files/135/135-0.txt\",     filename=\"books/hugo.txt\")\n",
    "url.urlretrieve(\"http://www.gutenberg.org/files/7178/7178-8.txt\",   filename=\"books/proust.txt\")\n",
    "url.urlretrieve(\"http://www.gutenberg.org/files/1069/1069-0.txt\",   filename=\"books/zola.txt\")\n",
    "url.urlretrieve(\"http://www.gutenberg.org/files/44747/44747-0.txt\", filename=\"books/stendhal.txt\")"
   ]
  },
  {
   "cell_type": "markdown",
   "metadata": {},
   "source": [
    "# Liste de fichiers\n",
    "\n",
    "- Créer une liste `filenames` contenant les chemins vers les fichiers contenant le texte des 4 livres."
   ]
  },
  {
   "cell_type": "code",
   "execution_count": null,
   "metadata": {},
   "outputs": [],
   "source": [
    "#\n",
    "#\n",
    "#\n",
    "#\n",
    "#\n",
    "#\n",
    "#\n",
    "#\n",
    "#\n",
    "#"
   ]
  },
  {
   "cell_type": "code",
   "execution_count": null,
   "metadata": {},
   "outputs": [],
   "source": [
    "filenames"
   ]
  },
  {
   "cell_type": "markdown",
   "metadata": {},
   "source": [
    "# Fonction `wordcount_map`\n",
    "\n",
    "- Coder une fonction nommée `wordcount_map` permettant de lire un fichier et de compter \n",
    "les mots transformés en minuscules et ne contenant que des lettres de l'alphabet.\n",
    "- Utiliser le codage `latin-1` pour ouvrir vos fichiers.\n",
    "- Cette fonction renvoie un dictionnaire dont chaque mot du texte est une clé et son\n",
    "nombre d'occurences la valeur correspondante."
   ]
  },
  {
   "cell_type": "code",
   "execution_count": null,
   "metadata": {},
   "outputs": [],
   "source": [
    "def wordcount_map(textfile):\n",
    "    \n",
    "    result = {}\n",
    "\n",
    "#    \n",
    "#   \n",
    "#    \n",
    "#    \n",
    "#    \n",
    "#    \n",
    "#    \n",
    "#    \n",
    "#    \n",
    "#    \n",
    "#    \n",
    "#    \n",
    "#                \n",
    "    return result"
   ]
  },
  {
   "cell_type": "markdown",
   "metadata": {},
   "source": [
    "- Donner le nombre d'apparitions du mot `valjean` dans `les misérables`."
   ]
  },
  {
   "cell_type": "code",
   "execution_count": null,
   "metadata": {},
   "outputs": [],
   "source": [
    "#\n",
    "#\n",
    "#\n",
    "#\n",
    "#\n",
    "#\n",
    "#\n",
    "#\n",
    "#\n",
    "#\n",
    "#\n",
    "#\n",
    "#"
   ]
  },
  {
   "cell_type": "markdown",
   "metadata": {},
   "source": [
    "# Fonction `wordcount_reduce`\n",
    "\n",
    "- Coder une fonction `wordcount_reduce` avec comme argument une liste de dictionnaires calculés chacun par la fonction `wordcount_map`. Cette fonction retourne un dictionnaire \n",
    "contenant les mots apparaissant dans **tous** les livres avec leur nombre d'occurences total. \n",
    "\n"
   ]
  },
  {
   "cell_type": "code",
   "execution_count": null,
   "metadata": {},
   "outputs": [],
   "source": [
    "#\n",
    "#\n",
    "#\n",
    "#\n",
    "#\n",
    "#\n",
    "#\n",
    "#\n",
    "#\n",
    "#\n",
    "#\n",
    "#\n",
    "#\n",
    "#\n",
    "#\n",
    "#\n",
    "#\n",
    "#\n",
    "#"
   ]
  },
  {
   "cell_type": "markdown",
   "metadata": {},
   "source": [
    "## Version sequentielle\n",
    "\n",
    "- Voici la boucle `for` qui permet de calculer les occurences des mots dans les 4 livres."
   ]
  },
  {
   "cell_type": "code",
   "execution_count": null,
   "metadata": {},
   "outputs": [],
   "source": [
    "mapped_values = []\n",
    "for f in filenames:\n",
    "   mapped_values.append(wordcount_map(f))\n",
    "\n",
    "result = wordcount_reduce(mapped_values)"
   ]
  },
  {
   "cell_type": "markdown",
   "metadata": {},
   "source": [
    "- Afficher le nombre de mots différents pour chaque livre\n",
    "- Afficher les 5 premiers mots les plus courants."
   ]
  },
  {
   "cell_type": "code",
   "execution_count": null,
   "metadata": {},
   "outputs": [],
   "source": [
    "#\n",
    "#\n",
    "#\n",
    "#\n",
    "#\n",
    "#\n",
    "#\n",
    "#\n",
    "#\n",
    "#\n",
    "#"
   ]
  },
  {
   "cell_type": "markdown",
   "metadata": {},
   "source": [
    "- Remplacer la boucle en utilisant `map`"
   ]
  },
  {
   "cell_type": "code",
   "execution_count": null,
   "metadata": {},
   "outputs": [],
   "source": [
    "#\n",
    "#\n",
    "#\n",
    "#\n",
    "#\n",
    "#\n",
    "#\n",
    "#\n",
    "#\n",
    "#"
   ]
  },
  {
   "cell_type": "markdown",
   "metadata": {},
   "source": [
    "## Version parallèle\n",
    "\n",
    "- Paralléliser l'étape utilisant `wordcount_map` sur 4 processus avec concurrent.futures\n"
   ]
  },
  {
   "cell_type": "code",
   "execution_count": null,
   "metadata": {},
   "outputs": [],
   "source": [
    "#\n",
    "#\n",
    "#\n",
    "#\n",
    "#\n",
    "#\n",
    "#\n",
    "#\n",
    "#\n",
    "#"
   ]
  },
  {
   "cell_type": "markdown",
   "metadata": {},
   "source": [
    "### PySpark\n",
    "\n",
    "- Paralleliser la boucle avec PySpark\n"
   ]
  },
  {
   "cell_type": "code",
   "execution_count": 2,
   "metadata": {},
   "outputs": [],
   "source": [
    "import pyspark\n",
    "\n",
    "sc = pyspark.SparkContext('local[4]')"
   ]
  },
  {
   "cell_type": "code",
   "execution_count": 3,
   "metadata": {
    "scrolled": false
   },
   "outputs": [],
   "source": [
    "#\n",
    "#\n",
    "#\n",
    "#\n",
    "#\n",
    "#\n",
    "#\n",
    "#\n",
    "#\n",
    "#\n",
    "#"
   ]
  },
  {
   "cell_type": "code",
   "execution_count": 4,
   "metadata": {},
   "outputs": [],
   "source": [
    "sc.stop()"
   ]
  },
  {
   "cell_type": "markdown",
   "metadata": {},
   "source": [
    "### Dask.delayed\n",
    "\n",
    "- Paralléliser la boucle avec Dask.delayed"
   ]
  },
  {
   "cell_type": "code",
   "execution_count": null,
   "metadata": {
    "scrolled": true
   },
   "outputs": [],
   "source": [
    "#\n",
    "#\n",
    "#\n",
    "#\n",
    "#\n",
    "#\n",
    "#\n",
    "#\n",
    "#\n",
    "#"
   ]
  },
  {
   "cell_type": "markdown",
   "metadata": {},
   "source": [
    "### Dask.bag\n",
    "\n",
    "- Paralléliser la boucle avec Dask.bag"
   ]
  },
  {
   "cell_type": "code",
   "execution_count": null,
   "metadata": {},
   "outputs": [],
   "source": [
    "import dask.bag as db\n",
    "#\n",
    "#\n",
    "#\n",
    "#\n",
    "#\n",
    "#\n",
    "#\n",
    "#\n",
    "#\n",
    "#\n",
    "#\n",
    "#"
   ]
  },
  {
   "cell_type": "markdown",
   "metadata": {},
   "source": [
    "# Question subsidiaire\n",
    "\n",
    " - Donner la liste des mots communs au 4 livres commencant par `q`. (avec le code)"
   ]
  },
  {
   "cell_type": "code",
   "execution_count": null,
   "metadata": {},
   "outputs": [],
   "source": [
    "#\n",
    "#\n",
    "#\n",
    "#\n",
    "#\n",
    "#\n",
    "#\n",
    "#\n",
    "#\n",
    "#\n",
    "#\n",
    "#\n",
    "#"
   ]
  }
 ],
 "metadata": {
  "kernelspec": {
   "display_name": "Python 3",
   "language": "python",
   "name": "python3"
  },
  "language_info": {
   "codemirror_mode": {
    "name": "ipython",
    "version": 3
   },
   "file_extension": ".py",
   "mimetype": "text/x-python",
   "name": "python",
   "nbconvert_exporter": "python",
   "pygments_lexer": "ipython3",
   "version": "3.6.3"
  },
  "widgets": {
   "state": {},
   "version": "1.1.2"
  }
 },
 "nbformat": 4,
 "nbformat_minor": 1
}
