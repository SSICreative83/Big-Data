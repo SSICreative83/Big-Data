{
 "cells": [
  {
   "cell_type": "markdown",
   "metadata": {
    "slideshow": {
     "slide_type": "slide"
    }
   },
   "source": [
    "# Basic Commands In the Unix Shell\n",
    "\n",
    "\n",
    "## Unix Shell\n",
    "The shell is a command programming language that provides an interface to the UNIX operating system. Documentation of unix command is displayed by command `man`. Exemple:\n",
    "```bash\n",
    "man cd\n",
    "```\n",
    "\n"
   ]
  },
  {
   "cell_type": "code",
   "execution_count": 1,
   "metadata": {
    "slideshow": {
     "slide_type": "fragment"
    }
   },
   "outputs": [
    {
     "name": "stdout",
     "output_type": "stream",
     "text": [
      "\r\n",
      "BUILTIN(1)                BSD General Commands Manual               BUILTIN(1)\r\n",
      "\r\n",
      "N\bNA\bAM\bME\bE\r\n",
      "     b\bbu\bui\bil\blt\bti\bin\bn, !\b!, %\b%, .\b., :\b:, @\b@, {\b{, }\b}, a\bal\bli\bia\bas\bs, a\bal\bll\blo\boc\bc, b\bbg\bg, b\bbi\bin\bnd\bd, b\bbi\bin\bnd\bdk\bke\bey\by, b\bbr\bre\bea\bak\bk,\r\n",
      "     b\bbr\bre\bea\bak\bks\bsw\bw, b\bbu\bui\bil\blt\bti\bin\bns\bs, c\bca\bas\bse\be, c\bcd\bd, c\bch\bhd\bdi\bir\br, c\bco\bom\bmm\bma\ban\bnd\bd, c\bco\bom\bmp\bpl\ble\bet\bte\be, c\bco\bon\bnt\bti\bin\bnu\bue\be, d\bde\bef\bfa\bau\bul\blt\bt,\r\n",
      "     d\bdi\bir\brs\bs, d\bdo\bo, d\bdo\bon\bne\be, e\bec\bch\bho\bo, e\bec\bch\bho\bot\btc\bc, e\bel\bli\bif\bf, e\bel\bls\bse\be, e\ben\bnd\bd, e\ben\bnd\bdi\bif\bf, e\ben\bnd\bds\bsw\bw, e\bes\bsa\bac\bc, e\bev\bva\bal\bl,\r\n",
      "     e\bex\bxe\bec\bc, e\bex\bxi\bit\bt, e\bex\bxp\bpo\bor\brt\bt, f\bfa\bal\bls\bse\be, f\bfc\bc, f\bfg\bg, f\bfi\bil\ble\bet\bte\bes\bst\bt, f\bfi\bi, f\bfo\bor\br, f\bfo\bor\bre\bea\bac\bch\bh, g\bge\bet\bto\bop\bpt\bts\bs,\r\n",
      "     g\bgl\blo\bob\bb, g\bgo\bot\bto\bo, h\bha\bas\bsh\bh, h\bha\bas\bsh\bhs\bst\bta\bat\bt, h\bhi\bis\bst\bto\bor\bry\by, h\bhu\bup\bp, i\bif\bf, j\bjo\bob\bbi\bid\bd, j\bjo\bob\bbs\bs, k\bki\bil\bll\bl, l\bli\bim\bmi\bit\bt,\r\n",
      "     l\blo\boc\bca\bal\bl, l\blo\bog\bg, l\blo\bog\bgi\bin\bn, l\blo\bog\bgo\bou\but\bt, l\bls\bs-\b-F\bF, n\bni\bic\bce\be, n\bno\boh\bhu\bup\bp, n\bno\bot\bti\bif\bfy\by, o\bon\bni\bin\bnt\btr\br, p\bpo\bop\bpd\bd,\r\n",
      "     p\bpr\bri\bin\bnt\bte\ben\bnv\bv, p\bpu\bus\bsh\bhd\bd, p\bpw\bwd\bd, r\bre\bea\bad\bd, r\bre\bea\bad\bdo\bon\bnl\bly\by, r\bre\beh\bha\bas\bsh\bh, r\bre\bep\bpe\bea\bat\bt, r\bre\bet\btu\bur\brn\bn, s\bsc\bch\bhe\bed\bd, s\bse\bet\bt,\r\n",
      "     s\bse\bet\bte\ben\bnv\bv, s\bse\bet\btt\btc\bc, s\bse\bet\btt\bty\by, s\bse\bet\btv\bva\bar\br, s\bsh\bhi\bif\bft\bt, s\bso\bou\bur\brc\bce\be, s\bst\bto\bop\bp, s\bsu\bus\bsp\bpe\ben\bnd\bd, s\bsw\bwi\bit\btc\bch\bh,\r\n",
      "     t\bte\bel\bll\blt\btc\bc, t\bte\bes\bst\bt, t\bth\bhe\ben\bn, t\bti\bim\bme\be, t\bti\bim\bme\bes\bs, t\btr\bra\bap\bp, t\btr\bru\bue\be, t\bty\byp\bpe\be, u\bul\bli\bim\bmi\bit\bt, u\bum\bma\bas\bsk\bk,\r\n",
      "     u\bun\bna\bal\bli\bia\bas\bs, u\bun\bnc\bco\bom\bmp\bpl\ble\bet\bte\be, u\bun\bnh\bha\bas\bsh\bh, u\bun\bnl\bli\bim\bmi\bit\bt, u\bun\bns\bse\bet\bt, u\bun\bns\bse\bet\bte\ben\bnv\bv, u\bun\bnt\bti\bil\bl, w\bwa\bai\bit\bt,\r\n",
      "     w\bwh\bhe\ber\bre\be, w\bwh\bhi\bic\bch\bh, w\bwh\bhi\bil\ble\be -- shell built-in commands\r\n",
      "\r\n",
      "S\bSY\bYN\bNO\bOP\bPS\bSI\bIS\bS\r\n",
      "     b\bbu\bui\bil\blt\bti\bin\bn [-\b-o\bop\bpt\bti\bio\bon\bns\bs] [_\ba_\br_\bg_\bs _\b._\b._\b.]\r\n",
      "\r\n",
      "D\bDE\bES\bSC\bCR\bRI\bIP\bPT\bTI\bIO\bON\bN\r\n",
      "     Shell builtin commands are commands that can be executed within the run-\r\n",
      "     ning shell's process.  Note that, in the case of csh(1) builtin commands,\r\n",
      "     the command is executed in a subshell if it occurs as any component of a\r\n",
      "     pipeline except the last.\r\n",
      "\r\n",
      "     If a command specified to the shell contains a slash ``/'', the shell\r\n",
      "     will not execute a builtin command, even if the last component of the\r\n",
      "     specified command matches the name of a builtin command.  Thus, while\r\n",
      "     specifying ``e\bec\bch\bho\bo'' causes a builtin command to be executed under shells\r\n",
      "     that support the e\bec\bch\bho\bo builtin command, specifying ``/\b/b\bbi\bin\bn/\b/e\bec\bch\bho\bo'' or\r\n",
      "     ``.\b./\b/e\bec\bch\bho\bo'' does not.\r\n",
      "\r\n",
      "     While some builtin commands may exist in more than one shell, their oper-\r\n",
      "     ation may be different under each shell which supports them.  Below is a\r\n",
      "     table which lists shell builtin commands, the standard shells that sup-\r\n",
      "     port them and whether they exist as standalone utilities.\r\n",
      "\r\n",
      "     Only builtin commands for the csh(1) and sh(1) shells are listed here.\r\n",
      "     Consult a shell's manual page for details on the operation of its builtin\r\n",
      "     commands.  Beware that the sh(1) manual page, at least, calls some of\r\n",
      "     these commands ``built-in commands'' and some of them ``reserved words''.\r\n",
      "     Users of other shells may need to consult an info(1) page or other\r\n",
      "     sources of documentation.\r\n",
      "\r\n",
      "     Commands marked ``No**'' under _\bE_\bx_\bt_\be_\br_\bn_\ba_\bl do exist externally, but are\r\n",
      "     implemented as scripts using a builtin command of the same name.\r\n",
      "\r\n",
      "           _\bC_\bo_\bm_\bm_\ba_\bn_\bd       _\bE_\bx_\bt_\be_\br_\bn_\ba_\bl    csh(1)    sh(1)\r\n",
      "           !             No          No        Yes\r\n",
      "           %\b%             No          Yes       No\r\n",
      "           .             No          No        Yes\r\n",
      "           :             No          Yes       Yes\r\n",
      "           @\b@             No          Yes       Yes\r\n",
      "           {\b{             No          No        Yes\r\n",
      "           }\b}             No          No        Yes\r\n",
      "           a\bal\bli\bia\bas\bs         No**        Yes       Yes\r\n",
      "           a\bal\bll\blo\boc\bc         No          Yes       No\r\n",
      "           b\bbg\bg            No**        Yes       Yes\r\n",
      "           b\bbi\bin\bnd\bd          No          No        Yes\r\n",
      "           b\bbi\bin\bnd\bdk\bke\bey\by       No          Yes       No\r\n",
      "           b\bbr\bre\bea\bak\bk         No          Yes       Yes\r\n",
      "           b\bbr\bre\bea\bak\bks\bsw\bw       No          Yes       No\r\n",
      "           b\bbu\bui\bil\blt\bti\bin\bn       No          No        Yes\r\n",
      "           b\bbu\bui\bil\blt\bti\bin\bns\bs      No          Yes       No\r\n",
      "           c\bca\bas\bse\be          No          Yes       Yes\r\n",
      "           c\bcd\bd            No**        Yes       Yes\r\n",
      "           c\bch\bhd\bdi\bir\br         No          Yes       Yes\r\n",
      "           c\bco\bom\bmm\bma\ban\bnd\bd       No**        No        Yes\r\n",
      "           c\bco\bom\bmp\bpl\ble\bet\bte\be      No          Yes       No\r\n",
      "           c\bco\bon\bnt\bti\bin\bnu\bue\be      No          Yes       Yes\r\n",
      "           d\bde\bef\bfa\bau\bul\blt\bt       No          Yes       No\r\n",
      "           d\bdi\bir\brs\bs          No          Yes       No\r\n",
      "           d\bdo\bo            No          No        Yes\r\n",
      "           d\bdo\bon\bne\be          No          No        Yes\r\n",
      "           e\bec\bch\bho\bo          Yes         Yes       Yes\r\n",
      "           e\bec\bch\bho\bot\btc\bc        No          Yes       No\r\n",
      "           e\bel\bli\bif\bf          No          No        Yes\r\n",
      "           e\bel\bls\bse\be          No          Yes       Yes\r\n",
      "           e\ben\bnd\bd           No          Yes       No\r\n",
      "           e\ben\bnd\bdi\bif\bf         No          Yes       No\r\n",
      "           e\ben\bnd\bds\bsw\bw         No          Yes       No\r\n",
      "           e\bes\bsa\bac\bc          No          No        Yes\r\n",
      "           e\bev\bva\bal\bl          No          Yes       Yes\r\n",
      "           e\bex\bxe\bec\bc          No          Yes       Yes\r\n",
      "           e\bex\bxi\bit\bt          No          Yes       Yes\r\n",
      "           e\bex\bxp\bpo\bor\brt\bt        No          No        Yes\r\n",
      "           f\bfa\bal\bls\bse\be         Yes         No        Yes\r\n",
      "           f\bfc\bc            No**        No        Yes\r\n",
      "           f\bfg\bg            No**        Yes       Yes\r\n",
      "           f\bfi\bil\ble\bet\bte\bes\bst\bt      No          Yes       No\r\n",
      "           f\bfi\bi            No          No        Yes\r\n",
      "           f\bfo\bor\br           No          No        Yes\r\n",
      "           f\bfo\bor\bre\bea\bac\bch\bh       No          Yes       No\r\n",
      "           g\bge\bet\bto\bop\bpt\bts\bs       No**        No        Yes\r\n",
      "           g\bgl\blo\bob\bb          No          Yes       No\r\n",
      "           g\bgo\bot\bto\bo          No          Yes       No\r\n",
      "           h\bha\bas\bsh\bh          No          No        Yes\r\n",
      "           h\bha\bas\bsh\bhs\bst\bta\bat\bt      No          Yes       No\r\n",
      "           h\bhi\bis\bst\bto\bor\bry\by       No          Yes       No\r\n",
      "           h\bhu\bup\bp           No          Yes       No\r\n",
      "           i\bif\bf            No          Yes       Yes\r\n",
      "           j\bjo\bob\bbi\bid\bd         No          No        Yes\r\n",
      "           j\bjo\bob\bbs\bs          No**        Yes       Yes\r\n",
      "           k\bki\bil\bll\bl          Yes         Yes       No\r\n",
      "           l\bli\bim\bmi\bit\bt         No          Yes       No\r\n",
      "           l\blo\boc\bca\bal\bl         No          No        Yes\r\n",
      "           l\blo\bog\bg           No          Yes       No\r\n",
      "           l\blo\bog\bgi\bin\bn         Yes         Yes       No\r\n",
      "           l\blo\bog\bgo\bou\but\bt        No          Yes       No\r\n",
      "           l\bls\bs-\b-F\bF          No          Yes       No\r\n",
      "           n\bni\bic\bce\be          Yes         Yes       No\r\n",
      "           n\bno\boh\bhu\bup\bp         Yes         Yes       No\r\n",
      "           n\bno\bot\bti\bif\bfy\by        No          Yes       No\r\n",
      "           o\bon\bni\bin\bnt\btr\br        No          Yes       No\r\n",
      "           p\bpo\bop\bpd\bd          No          Yes       No\r\n",
      "           p\bpr\bri\bin\bnt\bte\ben\bnv\bv      Yes         Yes       No\r\n",
      "           p\bpu\bus\bsh\bhd\bd         No          Yes       No\r\n",
      "           p\bpw\bwd\bd           Yes         No        Yes\r\n",
      "           r\bre\bea\bad\bd          No**        No        Yes\r\n",
      "           r\bre\bea\bad\bdo\bon\bnl\bly\by      No          No        Yes\r\n",
      "           r\bre\beh\bha\bas\bsh\bh        No          Yes       No\r\n",
      "           r\bre\bep\bpe\bea\bat\bt        No          Yes       No\r\n",
      "           r\bre\bet\btu\bur\brn\bn        No          No        Yes\r\n",
      "           s\bsc\bch\bhe\bed\bd         No          Yes       No\r\n",
      "           s\bse\bet\bt           No          Yes       Yes\r\n",
      "           s\bse\bet\bte\ben\bnv\bv        No          Yes       No\r\n",
      "           s\bse\bet\btt\btc\bc         No          Yes       No\r\n",
      "           s\bse\bet\btt\bty\by         No          Yes       No\r\n",
      "           s\bse\bet\btv\bva\bar\br        No          No        Yes\r\n",
      "           s\bsh\bhi\bif\bft\bt         No          Yes       Yes\r\n",
      "           s\bso\bou\bur\brc\bce\be        No          Yes       No\r\n",
      "           s\bst\bto\bop\bp          No          Yes       No\r\n",
      "           s\bsu\bus\bsp\bpe\ben\bnd\bd       No          Yes       No\r\n",
      "           s\bsw\bwi\bit\btc\bch\bh        No          Yes       No\r\n",
      "           t\bte\bel\bll\blt\btc\bc        No          Yes       No\r\n",
      "           t\bte\bes\bst\bt          Yes         No        Yes\r\n",
      "           t\bth\bhe\ben\bn          No          No        Yes\r\n",
      "           t\bti\bim\bme\be          Yes         Yes       No\r\n",
      "           t\bti\bim\bme\bes\bs         No          No        Yes\r\n",
      "           t\btr\bra\bap\bp          No          No        Yes\r\n",
      "           t\btr\bru\bue\be          Yes         No        Yes\r\n",
      "           t\bty\byp\bpe\be          No          No        Yes\r\n",
      "           u\bul\bli\bim\bmi\bit\bt        No          No        Yes\r\n",
      "           u\bum\bma\bas\bsk\bk         No**        Yes       Yes\r\n",
      "           u\bun\bna\bal\bli\bia\bas\bs       No**        Yes       Yes\r\n",
      "           u\bun\bnc\bco\bom\bmp\bpl\ble\bet\bte\be    No          Yes       No\r\n",
      "           u\bun\bnh\bha\bas\bsh\bh        No          Yes       No\r\n",
      "           u\bun\bnl\bli\bim\bmi\bit\bt       No          Yes       No\r\n",
      "           u\bun\bns\bse\bet\bt         No          Yes       Yes\r\n",
      "           u\bun\bns\bse\bet\bte\ben\bnv\bv      No          Yes       No\r\n",
      "           u\bun\bnt\bti\bil\bl         No          No        Yes\r\n",
      "           w\bwa\bai\bit\bt          No**        Yes       Yes\r\n",
      "           w\bwh\bhe\ber\bre\be         No          Yes       No\r\n",
      "           w\bwh\bhi\bic\bch\bh         Yes         Yes       No\r\n",
      "           w\bwh\bhi\bil\ble\be         No          Yes       Yes\r\n",
      "\r\n",
      "S\bSE\bEE\bE A\bAL\bLS\bSO\bO\r\n",
      "     csh(1), echo(1), false(1), info(1), kill(1), login(1), nice(1), nohup(1),\r\n",
      "     printenv(1), pwd(1), sh(1), test(1), time(1), true(1), which(1)\r\n",
      "\r\n",
      "H\bHI\bIS\bST\bTO\bOR\bRY\bY\r\n",
      "     The b\bbu\bui\bil\blt\bti\bin\bn manual page first appeared in FreeBSD 3.4.\r\n",
      "\r\n",
      "A\bAU\bUT\bTH\bHO\bOR\bRS\bS\r\n",
      "     This manual page was written by Sheldon Hearn <sheldonh@FreeBSD.org>.\r\n",
      "\r\n",
      "BSD                            February 23, 2005                           BSD\r\n"
     ]
    }
   ],
   "source": [
    "!man cd"
   ]
  },
  {
   "cell_type": "markdown",
   "metadata": {
    "slideshow": {
     "slide_type": "slide"
    }
   },
   "source": [
    "## Directories\n",
    "The shell should start you in your home directory. This is your individual space on the UNIX system for your files. You can find out the name of your current working directory by typing:\n",
    "```sh\n",
    "pwd\n",
    "```"
   ]
  },
  {
   "cell_type": "markdown",
   "metadata": {
    "slideshow": {
     "slide_type": "fragment"
    }
   },
   "source": [
    "In the terminal, type the letters 'p', 'w', 'd', and then \"enter\" - always conclude each command by pressing the \"enter\" key. The response that follows on the next line will be the name of your home directory, where the name following the last slash should be your username.) The directory structure can be conceptualized as an inverted tree."
   ]
  },
  {
   "cell_type": "markdown",
   "metadata": {
    "slideshow": {
     "slide_type": "slide"
    }
   },
   "source": [
    "In the jupyter notebook, unix shell command can be executed using the escape character \"!\". You can type command directly in a terminal without the \"!\"."
   ]
  },
  {
   "cell_type": "code",
   "execution_count": 2,
   "metadata": {
    "scrolled": true,
    "slideshow": {
     "slide_type": "fragment"
    }
   },
   "outputs": [
    {
     "name": "stdout",
     "output_type": "stream",
     "text": [
      "/Users/navaro/big-data\r\n"
     ]
    }
   ],
   "source": [
    "!pwd"
   ]
  },
  {
   "cell_type": "markdown",
   "metadata": {
    "slideshow": {
     "slide_type": "fragment"
    }
   },
   "source": [
    "Some unix command (not all) are also jupyter magic command like %pwd"
   ]
  },
  {
   "cell_type": "code",
   "execution_count": 3,
   "metadata": {
    "slideshow": {
     "slide_type": "fragment"
    }
   },
   "outputs": [
    {
     "data": {
      "text/plain": [
       "'/Users/navaro/big-data'"
      ]
     },
     "execution_count": 3,
     "metadata": {},
     "output_type": "execute_result"
    }
   ],
   "source": [
    "%pwd"
   ]
  },
  {
   "cell_type": "markdown",
   "metadata": {
    "slideshow": {
     "slide_type": "slide"
    }
   },
   "source": [
    "## Home directory\n",
    "\n",
    "No matter where in the directory structure you are, you can always get back to your home directory by typing:\n",
    "```sh\n",
    "cd\n",
    "```"
   ]
  },
  {
   "cell_type": "markdown",
   "metadata": {
    "slideshow": {
     "slide_type": "fragment"
    }
   },
   "source": [
    "### Create a new subdirectory named \"primer\" :\n",
    "```sh\n",
    "mkdir primer\n",
    "```"
   ]
  },
  {
   "cell_type": "code",
   "execution_count": 4,
   "metadata": {
    "slideshow": {
     "slide_type": "fragment"
    }
   },
   "outputs": [
    {
     "name": "stdout",
     "output_type": "stream",
     "text": [
      "mkdir: primer: File exists\r\n"
     ]
    }
   ],
   "source": [
    "%mkdir  primer"
   ]
  },
  {
   "cell_type": "markdown",
   "metadata": {
    "slideshow": {
     "slide_type": "fragment"
    }
   },
   "source": [
    "Now change to the \"primer\" subdirectory, making it your current working directory:\n",
    "```sh\n",
    "cd primer\n",
    "pwd\n",
    "```"
   ]
  },
  {
   "cell_type": "code",
   "execution_count": 5,
   "metadata": {
    "slideshow": {
     "slide_type": "fragment"
    }
   },
   "outputs": [
    {
     "name": "stdout",
     "output_type": "stream",
     "text": [
      "/Users/navaro/big-data/primer\n"
     ]
    }
   ],
   "source": [
    "%cd primer"
   ]
  },
  {
   "cell_type": "markdown",
   "metadata": {
    "slideshow": {
     "slide_type": "slide"
    }
   },
   "source": [
    "## Files\n",
    "\n",
    "Create a file using `date` command and `whoami`:\n",
    "```sh\n",
    "date >> first.txt\n",
    "whoami >> first.txt\n",
    "```\n",
    "date and whoami are not jupyter magic commands"
   ]
  },
  {
   "cell_type": "code",
   "execution_count": 6,
   "metadata": {
    "slideshow": {
     "slide_type": "fragment"
    }
   },
   "outputs": [],
   "source": [
    "!date >> first.txt\n",
    "!whoami >> first.txt"
   ]
  },
  {
   "cell_type": "markdown",
   "metadata": {
    "slideshow": {
     "slide_type": "slide"
    }
   },
   "source": [
    "### List files and directories\n",
    "Files live within directories. You can see a list of the files in your \"primer\" directory (which should be your current working directory) by typing:\n",
    "```sh\n",
    "ls\n",
    "```"
   ]
  },
  {
   "cell_type": "code",
   "execution_count": 23,
   "metadata": {
    "slideshow": {
     "slide_type": "fragment"
    }
   },
   "outputs": [
    {
     "name": "stdout",
     "output_type": "stream",
     "text": [
      "01.MapReduce.ipynb                  ouput.txt\r\n",
      "02.Containers.ipynb                 output.txt\r\n",
      "02.Containers.slides.html           sample.txt\r\n",
      "03.ParallelComputation.ipynb        sample00.txt\r\n",
      "03.ParallelComputation.slides.html  sample01.txt\r\n",
      "04.AsynchonousProcessing.ipynb      sample02.txt\r\n",
      "05.Dask.ipynb                       sample03.txt\r\n",
      "06.Unix.Commands.slides.html        sample04.txt\r\n",
      "06.UnixCommands.ipynb               sample05.txt\r\n",
      "07.Hadoop.ipynb                     sample06.txt\r\n",
      "\u001b[34mbooks\u001b[m\u001b[m/                              sample07.txt\r\n",
      "\u001b[34mdata\u001b[m\u001b[m/                               test_stdin.py\r\n",
      "file_list.txt                       test_stdin.txt\r\n",
      "ls_output.txt                       user.txt\r\n",
      "mydask.png\r\n"
     ]
    }
   ],
   "source": [
    "%ls"
   ]
  },
  {
   "cell_type": "code",
   "execution_count": 24,
   "metadata": {
    "slideshow": {
     "slide_type": "slide"
    }
   },
   "outputs": [
    {
     "name": "stdout",
     "output_type": "stream",
     "text": [
      "-rw-r--r--  1 navaro  staff  15799  5 oct 15:57 01.MapReduce.ipynb\r\n",
      "-rw-r--r--  1 navaro  staff  18209 12 oct 16:04 02.Containers.ipynb\r\n",
      "-rw-r--r--  1 navaro  staff  37963 12 oct 21:28 03.ParallelComputation.ipynb\r\n",
      "-rw-r--r--  1 navaro  staff  51457 12 oct 21:35 04.AsynchonousProcessing.ipynb\r\n",
      "-rw-r--r--  1 navaro  staff  37883 12 oct 21:42 05.Dask.ipynb\r\n",
      "-rw-r--r--  1 navaro  staff  30271  1 nov 14:34 07.Hadoop.ipynb\r\n",
      "-rw-r--r--  1 navaro  staff  37166  2 nov 22:33 06.UnixCommands.ipynb\r\n"
     ]
    }
   ],
   "source": [
    "%ls -lrt *.ipynb"
   ]
  },
  {
   "cell_type": "markdown",
   "metadata": {
    "slideshow": {
     "slide_type": "slide"
    }
   },
   "source": [
    "### Display file content\n",
    "You can view a text file with the following command:\n",
    "```sh\n",
    "cat first.txt\n",
    "```\n",
    "(\"cat\" is short for concatenate - you can use this to display multiple files together on the screen.) If you have a file that is longer than your 24-line console window, use instead \"more\" to list one page at a time or \"less\" to scroll the file down and up with the arrow keys. Don't use these programs to try to display binary (non-text) files on your console - the attempt to print the non-printable control characters might alter your console settings and render the console unusable."
   ]
  },
  {
   "cell_type": "code",
   "execution_count": 8,
   "metadata": {
    "slideshow": {
     "slide_type": "fragment"
    }
   },
   "outputs": [
    {
     "name": "stdout",
     "output_type": "stream",
     "text": [
      "Dim 29 oct 2017 20:47:10 CET\r\n",
      "navaro\r\n",
      "Jeu  2 nov 2017 22:31:14 CET\r\n",
      "navaro\r\n",
      "Jeu  2 nov 2017 22:32:16 CET\r\n",
      "navaro\r\n"
     ]
    }
   ],
   "source": [
    "%cat first.txt"
   ]
  },
  {
   "cell_type": "markdown",
   "metadata": {
    "slideshow": {
     "slide_type": "slide"
    }
   },
   "source": [
    "- Copy file \"first\" using the following command:\n",
    "\n",
    "```sh\n",
    "cp first.txt 2nd.txt\n",
    "```\n",
    "By doing this you have created a new file named \"2nd.txt\" which is a duplicate of file \"first.txt\". Geet he file listing with:\n",
    "```sh\n",
    "ls\n",
    "```"
   ]
  },
  {
   "cell_type": "code",
   "execution_count": 9,
   "metadata": {
    "slideshow": {
     "slide_type": "fragment"
    }
   },
   "outputs": [
    {
     "name": "stdout",
     "output_type": "stream",
     "text": [
      "2nd.txt    first.txt  \u001b[34mprimer\u001b[m\u001b[m/\r\n"
     ]
    }
   ],
   "source": [
    "%cp first.txt 2nd.txt\n",
    "%ls"
   ]
  },
  {
   "cell_type": "markdown",
   "metadata": {
    "slideshow": {
     "slide_type": "fragment"
    }
   },
   "source": [
    "- Now rename the file \"2nd\" to \"second\":\n",
    "```sh\n",
    "mv 2nd.txt second.txt\n",
    "```\n",
    "Listing the files still shows two files because you haven't created a new file, just changed an existing file's name:\n",
    "```sh\n",
    "ls\n",
    "```"
   ]
  },
  {
   "cell_type": "code",
   "execution_count": 10,
   "metadata": {
    "slideshow": {
     "slide_type": "fragment"
    }
   },
   "outputs": [
    {
     "name": "stdout",
     "output_type": "stream",
     "text": [
      "first.txt   \u001b[34mprimer\u001b[m\u001b[m/     second.txt\r\n"
     ]
    }
   ],
   "source": [
    "%mv 2nd.txt second.txt\n",
    "%ls"
   ]
  },
  {
   "cell_type": "markdown",
   "metadata": {
    "slideshow": {
     "slide_type": "slide"
    }
   },
   "source": [
    "If you \"cat\" the second file, you'll see the same sentence as in your first file:\n",
    "```sh \n",
    "cat second.txt\n",
    "```"
   ]
  },
  {
   "cell_type": "code",
   "execution_count": 11,
   "metadata": {
    "slideshow": {
     "slide_type": "fragment"
    }
   },
   "outputs": [
    {
     "name": "stdout",
     "output_type": "stream",
     "text": [
      "Dim 29 oct 2017 20:47:10 CET\r\n",
      "navaro\r\n",
      "Jeu  2 nov 2017 22:31:14 CET\r\n",
      "navaro\r\n",
      "Jeu  2 nov 2017 22:32:16 CET\r\n",
      "navaro\r\n"
     ]
    }
   ],
   "source": [
    "%cat second.txt"
   ]
  },
  {
   "cell_type": "markdown",
   "metadata": {
    "slideshow": {
     "slide_type": "slide"
    }
   },
   "source": [
    "\"mv\" will allow you to move files, not just rename them. Perform the following commands:\n",
    "```sh \n",
    "mkdir sub\n",
    "mv second.txt sub\n",
    "ls sub\n",
    "ls\n",
    "```\n",
    "(where \"username\" will be your username and \"group\" will be your group name). Among other things, this lists the creation date and time, file access permissions, and file size in bytes. The letter 'd' (the first character on the line) indicates the directory names."
   ]
  },
  {
   "cell_type": "code",
   "execution_count": 12,
   "metadata": {
    "slideshow": {
     "slide_type": "slide"
    }
   },
   "outputs": [
    {
     "name": "stdout",
     "output_type": "stream",
     "text": [
      "second.txt\r\n"
     ]
    }
   ],
   "source": [
    "%mkdir sub\n",
    "%mv second.txt sub\n",
    "%ls sub"
   ]
  },
  {
   "cell_type": "markdown",
   "metadata": {
    "slideshow": {
     "slide_type": "fragment"
    }
   },
   "source": [
    "This creates a new subdirectory named \"sub\", moves \"second\" into \"sub\", then lists the contents of both directories. You can list even more information about files by using the \"-l\" option with \"ls\":"
   ]
  },
  {
   "cell_type": "code",
   "execution_count": 13,
   "metadata": {
    "slideshow": {
     "slide_type": "fragment"
    }
   },
   "outputs": [
    {
     "name": "stdout",
     "output_type": "stream",
     "text": [
      "total 8\r\n",
      "-rw-r--r--  1 navaro  staff  108  2 nov 22:32 first.txt\r\n",
      "drwxr-xr-x  3 navaro  staff  102  2 nov 22:30 \u001b[34mprimer\u001b[m\u001b[m/\r\n",
      "drwxr-xr-x  3 navaro  staff  102  2 nov 22:32 \u001b[34msub\u001b[m\u001b[m/\r\n"
     ]
    }
   ],
   "source": [
    "%ls -l"
   ]
  },
  {
   "cell_type": "markdown",
   "metadata": {
    "slideshow": {
     "slide_type": "slide"
    }
   },
   "source": [
    "Next perform the following commands:\n",
    "```sh\n",
    "cd sub\n",
    "pwd\n",
    "ls -l\n",
    "cd ..\n",
    "pwd\n",
    "```\n"
   ]
  },
  {
   "cell_type": "code",
   "execution_count": 14,
   "metadata": {
    "slideshow": {
     "slide_type": "fragment"
    }
   },
   "outputs": [
    {
     "name": "stdout",
     "output_type": "stream",
     "text": [
      "/Users/navaro/big-data/primer/sub\n",
      "total 8\n",
      "-rw-r--r--  1 navaro  staff  108  2 nov 22:32 second.txt\n",
      "/Users/navaro/big-data/primer\n"
     ]
    },
    {
     "data": {
      "text/plain": [
       "'/Users/navaro/big-data/primer'"
      ]
     },
     "execution_count": 14,
     "metadata": {},
     "output_type": "execute_result"
    }
   ],
   "source": [
    "%cd sub\n",
    "%pwd\n",
    "%ls -l\n",
    "%cd ..\n",
    "%pwd"
   ]
  },
  {
   "cell_type": "markdown",
   "metadata": {
    "slideshow": {
     "slide_type": "fragment"
    }
   },
   "source": [
    "- changes your current working directory to the \"sub\" subdirectory under \"primer\", \n",
    "- lists the files there, then changes you back up a level. \n",
    "- The \"..\" always refers to the parent directory of the given subdirectory."
   ]
  },
  {
   "cell_type": "markdown",
   "metadata": {
    "slideshow": {
     "slide_type": "slide"
    }
   },
   "source": [
    "Finally, clean up the duplicate files by removing the \"second.txt\" file and the \"sub\" subdirectory:\n",
    "```sh\n",
    "rm sub/second.txt\n",
    "rmdir sub\n",
    "ls -l\n",
    "cd\n",
    "```\n",
    "This shows that you can refer to a file in a different directory using the relative path name to the file (you can also use the absolute path name to the file - something like \"/Users/username/primer/sub/second.txt\", depending on your home directory). You can also include the \"..\" within the path name (for instance, you could have referred to the file as \"../primer/sub/second.txt\")."
   ]
  },
  {
   "cell_type": "code",
   "execution_count": 15,
   "metadata": {
    "slideshow": {
     "slide_type": "fragment"
    }
   },
   "outputs": [
    {
     "name": "stdout",
     "output_type": "stream",
     "text": [
      "total 8\n",
      "-rw-r--r--  1 navaro  staff  108  2 nov 22:32 first.txt\n",
      "drwxr-xr-x  3 navaro  staff  102  2 nov 22:30 \u001b[34mprimer\u001b[m\u001b[m/\n",
      "/Users/navaro/big-data\n"
     ]
    }
   ],
   "source": [
    "%rm sub/second.txt\n",
    "%rmdir sub\n",
    "%ls -l\n",
    "%cd ..\n",
    "%rm -r primer"
   ]
  },
  {
   "cell_type": "markdown",
   "metadata": {
    "slideshow": {
     "slide_type": "slide"
    }
   },
   "source": [
    "## Other Useful Commands\n",
    "The current date and time are printed with the following command:\n",
    "```bash\n",
    "date\n",
    "``` \n",
    "Thu May 22 17:39:04 CDT 2003\n",
    "Remote login to another machine can be accomplished using the \"ssh\" command:\n",
    "```\n",
    "ssh -l myname host\n",
    "```\n",
    "where \"myname\" will be your username on the remote system (possibly identical to your username on this system) and \"host\" is the name (or IP address) of the machine you are logging into. \n",
    "\n",
    "Transfer files between machines using \"scp\". For example, to copy file \"myfile\" from the remote machine named \"host\", the command would be:\n",
    "```sh\n",
    "scp myname@host:myfile .\n",
    "```\n",
    "(The \".\" refers to your current working directory, meaning that the destination for \"myfile\" is your current directory.)"
   ]
  },
  {
   "cell_type": "markdown",
   "metadata": {
    "slideshow": {
     "slide_type": "slide"
    }
   },
   "source": [
    "## Summary Of Basic Shell Commands\n",
    "```sh\n",
    "% pico myfile\t#text edit file \"myfile\"\n",
    "% ls\t#list files in current directory\n",
    "% ls -l\t#long format listing\n",
    "% touch myfile  #create new empty file \"myfile\"\n",
    "% cat myfile\t#view contents of text file \"myfile\"\n",
    "% more myfile\t#paged viewing of text file \"myfile\"\n",
    "% less myfile\t#scroll through text file \"myfile\"\n",
    "% head myfile   #view 10 first lines of text file \"myfile\"\n",
    "% tail myfile   #view 10 last lines of text file \"myfile\"\n",
    "% cp srcfile destfile\t#copy file \"srcfile\" to new file \"destfile\"\n",
    "% mv oldname newname\t#rename (or move) file \"oldname\" to \"newname\"\n",
    "% rm myfile\t#remove file \"myfile\"\n",
    "% mkdir subdir\t#make new directory \"subdir\"\n",
    "% cd subdir\t#change current working directory to \"subdir\"\n",
    "% rmdir subdir\t#remove (empty) directory \"subdir\"\n",
    "% pwd\t#display current working directory\n",
    "% date\t#display current date and time of day\n",
    "% ssh -l myname host\t#remote shell login of username \"myname\" to \"host\"\n",
    "% scp myname@host:myfile .\t#remote copy of file \"myfile\" to current directory\n",
    "% firefox &\t#start Firefox web browser (in background)\n",
    "% jobs      # display programs running in background\n",
    "% kill %n  # kill job number n (use jobs to get this number)\n",
    "% man -k \"topic\"\t#search manual pages for \"topic\"\n",
    "% man command\t#display man page for \"command\"\n",
    "% exit\t#exit a terminal window\n",
    "% logout\t#logout of a console session\n",
    "```"
   ]
  },
  {
   "cell_type": "markdown",
   "metadata": {
    "slideshow": {
     "slide_type": "slide"
    }
   },
   "source": [
    "## Redirecting \n",
    "\n",
    "Redirection is usually implemented by placing characters <,>,|,>> between commands.\n",
    "\n",
    "- Use  > to redirect output.\n",
    "```bash\n",
    "ls *.ipynb > file_list.txt\n",
    "```\n",
    "executes `ls`, placing the output in file_list.txt, as opposed to displaying it at the terminal, which is the usual destination for standard output. This will clobber any existing data in file1."
   ]
  },
  {
   "cell_type": "code",
   "execution_count": 16,
   "metadata": {
    "slideshow": {
     "slide_type": "fragment"
    }
   },
   "outputs": [],
   "source": [
    "!ls *.ipynb > file_list.txt"
   ]
  },
  {
   "cell_type": "markdown",
   "metadata": {
    "slideshow": {
     "slide_type": "fragment"
    }
   },
   "source": [
    "- Use < to redirect input.\n",
    "```bash\n",
    "wc < file_list.txt\n",
    "```\n",
    "executes `wc`, with file_list.txt as the source of input, as opposed to the keyboard, which is the usual source for standard input.\n",
    "\n"
   ]
  },
  {
   "cell_type": "markdown",
   "metadata": {
    "slideshow": {
     "slide_type": "slide"
    }
   },
   "source": [
    "### Python example"
   ]
  },
  {
   "cell_type": "code",
   "execution_count": 17,
   "metadata": {
    "slideshow": {
     "slide_type": "fragment"
    }
   },
   "outputs": [
    {
     "name": "stdout",
     "output_type": "stream",
     "text": [
      "Overwriting test_stdin.py\n"
     ]
    }
   ],
   "source": [
    "%%file test_stdin.py\n",
    "\n",
    "import sys, itertools\n",
    "\n",
    "# input comes from standard input\n",
    "k = 0\n",
    "for file in sys.stdin:\n",
    "    k +=1\n",
    "    print('file {} : {}'.format(k,file))"
   ]
  },
  {
   "cell_type": "code",
   "execution_count": 18,
   "metadata": {
    "slideshow": {
     "slide_type": "fragment"
    }
   },
   "outputs": [
    {
     "name": "stdout",
     "output_type": "stream",
     "text": [
      "file 1 : 01.MapReduce.ipynb\r\n",
      "\r\n",
      "file 2 : 02.Containers.ipynb\r\n",
      "\r\n",
      "file 3 : 03.ParallelComputation.ipynb\r\n",
      "\r\n",
      "file 4 : 04.AsynchonousProcessing.ipynb\r\n",
      "\r\n",
      "file 5 : 05.Dask.ipynb\r\n",
      "\r\n",
      "file 6 : 06.UnixCommands.ipynb\r\n",
      "\r\n",
      "file 7 : 07.Hadoop.ipynb\r\n",
      "\r\n"
     ]
    }
   ],
   "source": [
    "!python3 test_stdin.py < file_list.txt"
   ]
  },
  {
   "cell_type": "markdown",
   "metadata": {
    "slideshow": {
     "slide_type": "slide"
    }
   },
   "source": [
    "You can combine the two capabilities: read from an input file and write to an output file."
   ]
  },
  {
   "cell_type": "code",
   "execution_count": 19,
   "metadata": {
    "slideshow": {
     "slide_type": "fragment"
    }
   },
   "outputs": [],
   "source": [
    "!python3 test_stdin.py < file_list.txt > output.txt"
   ]
  },
  {
   "cell_type": "code",
   "execution_count": 20,
   "metadata": {
    "slideshow": {
     "slide_type": "fragment"
    }
   },
   "outputs": [
    {
     "name": "stdout",
     "output_type": "stream",
     "text": [
      "file 1 : 01.MapReduce.ipynb\r\n",
      "\r\n",
      "file 2 : 02.Containers.ipynb\r\n",
      "\r\n",
      "file 3 : 03.ParallelComputation.ipynb\r\n",
      "\r\n",
      "file 4 : 04.AsynchonousProcessing.ipynb\r\n",
      "\r\n",
      "file 5 : 05.Dask.ipynb\r\n",
      "\r\n",
      "file 6 : 06.UnixCommands.ipynb\r\n",
      "\r\n",
      "file 7 : 07.Hadoop.ipynb\r\n",
      "\r\n"
     ]
    }
   ],
   "source": [
    "%cat output.txt"
   ]
  },
  {
   "cell_type": "markdown",
   "metadata": {
    "slideshow": {
     "slide_type": "slide"
    }
   },
   "source": [
    "To append output to the end of the file, rather than clobbering it, the >> operator is used:\n",
    "\n",
    "date >> output.txt\n",
    "\n",
    "It will append the today date to the end of the file output.txt\n"
   ]
  },
  {
   "cell_type": "code",
   "execution_count": 21,
   "metadata": {
    "slideshow": {
     "slide_type": "fragment"
    }
   },
   "outputs": [
    {
     "name": "stdout",
     "output_type": "stream",
     "text": [
      "file 1 : 01.MapReduce.ipynb\r\n",
      "\r\n",
      "file 2 : 02.Containers.ipynb\r\n",
      "\r\n",
      "file 3 : 03.ParallelComputation.ipynb\r\n",
      "\r\n",
      "file 4 : 04.AsynchonousProcessing.ipynb\r\n",
      "\r\n",
      "file 5 : 05.Dask.ipynb\r\n",
      "\r\n",
      "file 6 : 06.UnixCommands.ipynb\r\n",
      "\r\n",
      "file 7 : 07.Hadoop.ipynb\r\n",
      "\r\n",
      "Jeu  2 nov 2017 22:32:44 CET\r\n"
     ]
    }
   ],
   "source": [
    "!date >> output.txt\n",
    "%cat output.txt"
   ]
  },
  {
   "cell_type": "markdown",
   "metadata": {
    "slideshow": {
     "slide_type": "slide"
    }
   },
   "source": [
    "## Pipelining\n",
    "```bash\n",
    "ls | grep ipynb\n",
    "```\n",
    "executes `ls`, using its output as the input for `grep`.\n",
    "\n",
    "### Exercice\n",
    "\n",
    "- Pipe `cat *.ipynb` output to `sort` command.\n",
    "- Pipe `ls` output to `wc` command.\n",
    "- Pipe `cat 06.UnixCommands.ipynb` to `less` command.\n",
    "```"
   ]
  },
  {
   "cell_type": "markdown",
   "metadata": {
    "slideshow": {
     "slide_type": "slide"
    }
   },
   "source": [
    "\n",
    "## Chained pipelines\n",
    "\n",
    "The redirection and piping tokens can be chained together to create complex commands. \n",
    "\n",
    "### Exercice\n",
    "\n",
    "Use unix commands chained to display word count of file `sample.txt`.\n",
    "\n",
    "Hints:\n",
    "\n",
    "- `fmt -n` takes text as input and reformats it into  paragraphs with no line longer than n. \n",
    "- `sort` sort the output alphabetically\n",
    "- `tr -d str` delete the string str from the output\n",
    "- `uniq -c` writes a copy of each unique input and precede each word with the count of the number of occurences.\n",
    "\n"
   ]
  }
 ],
 "metadata": {
  "celltoolbar": "Slideshow",
  "kernelspec": {
   "display_name": "Python 3",
   "language": "python",
   "name": "python3"
  },
  "language_info": {
   "codemirror_mode": {
    "name": "ipython",
    "version": 3
   },
   "file_extension": ".py",
   "mimetype": "text/x-python",
   "name": "python",
   "nbconvert_exporter": "python",
   "pygments_lexer": "ipython3",
   "version": "3.6.3"
  }
 },
 "nbformat": 4,
 "nbformat_minor": 2
}
