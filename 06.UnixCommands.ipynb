{
 "cells": [
  {
   "cell_type": "markdown",
   "metadata": {
    "slideshow": {
     "slide_type": "slide"
    }
   },
   "source": [
    "# Basic Commands In the Unix Shell\n",
    "\n",
    "\n",
    "## Unix Shell\n",
    "The shell is a command programming language that provides an interface to the UNIX operating system. \n",
    "\n"
   ]
  },
  {
   "cell_type": "markdown",
   "metadata": {
    "slideshow": {
     "slide_type": "slide"
    }
   },
   "source": [
    "## Directories\n",
    "The shell should start you in your home directory. This is your individual space on the UNIX system for your files. You can find out the name of your current working directory by typing:\n",
    "```sh\n",
    "pwd\n",
    "```"
   ]
  },
  {
   "cell_type": "markdown",
   "metadata": {
    "slideshow": {
     "slide_type": "fragment"
    }
   },
   "source": [
    "In the terminal, type the letters 'p', 'w', 'd', and then \"enter\" - always conclude each command by pressing the \"enter\" key. The response that follows on the next line will be the name of your home directory, where the name following the last slash should be your username.) The directory structure can be conceptualized as an inverted tree."
   ]
  },
  {
   "cell_type": "markdown",
   "metadata": {
    "slideshow": {
     "slide_type": "slide"
    }
   },
   "source": [
    "In the jupyter notebook, unix shell command can be executed using the escape character \"!\". You can type command directly in a terminal without the \"!\"."
   ]
  },
  {
   "cell_type": "code",
   "execution_count": 85,
   "metadata": {
    "scrolled": true,
    "slideshow": {
     "slide_type": "fragment"
    }
   },
   "outputs": [
    {
     "name": "stdout",
     "output_type": "stream",
     "text": [
      "/Users/navaro\r\n"
     ]
    }
   ],
   "source": [
    "!pwd"
   ]
  },
  {
   "cell_type": "markdown",
   "metadata": {
    "slideshow": {
     "slide_type": "fragment"
    }
   },
   "source": [
    "Some unix command (not all) are also jupyter magic command like %pwd"
   ]
  },
  {
   "cell_type": "code",
   "execution_count": 86,
   "metadata": {
    "slideshow": {
     "slide_type": "fragment"
    }
   },
   "outputs": [
    {
     "data": {
      "text/plain": [
       "'/Users/navaro'"
      ]
     },
     "execution_count": 86,
     "metadata": {},
     "output_type": "execute_result"
    }
   ],
   "source": [
    "%pwd"
   ]
  },
  {
   "cell_type": "markdown",
   "metadata": {
    "slideshow": {
     "slide_type": "slide"
    }
   },
   "source": [
    "## Home directory\n",
    "\n",
    "No matter where in the directory structure you are, you can always get back to your home directory by typing:\n",
    "```sh\n",
    "cd\n",
    "```"
   ]
  },
  {
   "cell_type": "code",
   "execution_count": 87,
   "metadata": {
    "slideshow": {
     "slide_type": "fragment"
    }
   },
   "outputs": [
    {
     "name": "stdout",
     "output_type": "stream",
     "text": [
      "/Users/navaro\n"
     ]
    }
   ],
   "source": [
    "%cd"
   ]
  },
  {
   "cell_type": "markdown",
   "metadata": {
    "slideshow": {
     "slide_type": "fragment"
    }
   },
   "source": [
    "### Create a new subdirectory named \"primer\" :\n",
    "```sh\n",
    "mkdir primer\n",
    "```"
   ]
  },
  {
   "cell_type": "code",
   "execution_count": 1,
   "metadata": {
    "slideshow": {
     "slide_type": "fragment"
    }
   },
   "outputs": [
    {
     "name": "stdout",
     "output_type": "stream",
     "text": [
      "mkdir: primer: File exists\r\n"
     ]
    }
   ],
   "source": [
    "%mkdir primer"
   ]
  },
  {
   "cell_type": "markdown",
   "metadata": {
    "slideshow": {
     "slide_type": "fragment"
    }
   },
   "source": [
    "Now change to the \"primer\" subdirectory, making it your current working directory:\n",
    "```sh\n",
    "cd primer\n",
    "pwd\n",
    "```"
   ]
  },
  {
   "cell_type": "code",
   "execution_count": 2,
   "metadata": {
    "slideshow": {
     "slide_type": "fragment"
    }
   },
   "outputs": [
    {
     "name": "stdout",
     "output_type": "stream",
     "text": [
      "/Users/navaro/big-data/primer\n"
     ]
    }
   ],
   "source": [
    "%cd primer"
   ]
  },
  {
   "cell_type": "markdown",
   "metadata": {
    "slideshow": {
     "slide_type": "slide"
    }
   },
   "source": [
    "## Files\n",
    "\n",
    "Create a file using `date` command and `whoami`:\n",
    "```sh\n",
    "date >> first.txt\n",
    "whoami >> first.txt\n",
    "```\n",
    "date and whoami are not jupyter magic commands"
   ]
  },
  {
   "cell_type": "code",
   "execution_count": 3,
   "metadata": {
    "slideshow": {
     "slide_type": "fragment"
    }
   },
   "outputs": [],
   "source": [
    "!date >> first.txt\n",
    "!whoami >> first.txt"
   ]
  },
  {
   "cell_type": "markdown",
   "metadata": {
    "slideshow": {
     "slide_type": "slide"
    }
   },
   "source": [
    "### List files and directories\n",
    "Files live within directories. You can see a list of the files in your \"primer\" directory (which should be your current working directory) by typing:\n",
    "```sh\n",
    "ls\n",
    "```"
   ]
  },
  {
   "cell_type": "code",
   "execution_count": 4,
   "metadata": {
    "slideshow": {
     "slide_type": "fragment"
    }
   },
   "outputs": [
    {
     "name": "stdout",
     "output_type": "stream",
     "text": [
      "first.txt  \u001b[34mprimer\u001b[m\u001b[m/\r\n"
     ]
    }
   ],
   "source": [
    "%ls"
   ]
  },
  {
   "cell_type": "markdown",
   "metadata": {
    "slideshow": {
     "slide_type": "slide"
    }
   },
   "source": [
    "### Display file content\n",
    "You can view a text file with the following command:\n",
    "```sh\n",
    "cat first.txt\n",
    "```\n",
    "(\"cat\" is short for concatenate - you can use this to display multiple files together on the screen.) If you have a file that is longer than your 24-line console window, use instead \"more\" to list one page at a time or \"less\" to scroll the file down and up with the arrow keys. Don't use these programs to try to display binary (non-text) files on your console - the attempt to print the non-printable control characters might alter your console settings and render the console unusable."
   ]
  },
  {
   "cell_type": "code",
   "execution_count": 5,
   "metadata": {
    "slideshow": {
     "slide_type": "fragment"
    }
   },
   "outputs": [
    {
     "name": "stdout",
     "output_type": "stream",
     "text": [
      "Dim 29 oct 2017 20:47:10 CET\r\n",
      "navaro\r\n"
     ]
    }
   ],
   "source": [
    "%cat first.txt"
   ]
  },
  {
   "cell_type": "markdown",
   "metadata": {
    "slideshow": {
     "slide_type": "slide"
    }
   },
   "source": [
    "- Copy file \"first\" using the following command:\n",
    "\n",
    "```sh\n",
    "cp first.txt 2nd.txt\n",
    "```\n",
    "By doing this you have created a new file named \"2nd.txt\" which is a duplicate of file \"first.txt\". Geet he file listing with:\n",
    "```sh\n",
    "ls\n",
    "```"
   ]
  },
  {
   "cell_type": "code",
   "execution_count": 6,
   "metadata": {
    "slideshow": {
     "slide_type": "fragment"
    }
   },
   "outputs": [
    {
     "name": "stdout",
     "output_type": "stream",
     "text": [
      "2nd.txt    first.txt  \u001b[34mprimer\u001b[m\u001b[m/\r\n"
     ]
    }
   ],
   "source": [
    "%cp first.txt 2nd.txt\n",
    "%ls"
   ]
  },
  {
   "cell_type": "markdown",
   "metadata": {
    "slideshow": {
     "slide_type": "fragment"
    }
   },
   "source": [
    "- Now rename the file \"2nd\" to \"second\":\n",
    "```sh\n",
    "mv 2nd.txt second.txt\n",
    "```\n",
    "Listing the files still shows two files because you haven't created a new file, just changed an existing file's name:\n",
    "```sh\n",
    "ls\n",
    "```"
   ]
  },
  {
   "cell_type": "code",
   "execution_count": 7,
   "metadata": {
    "slideshow": {
     "slide_type": "fragment"
    }
   },
   "outputs": [
    {
     "name": "stdout",
     "output_type": "stream",
     "text": [
      "first.txt   \u001b[34mprimer\u001b[m\u001b[m/     second.txt\r\n"
     ]
    }
   ],
   "source": [
    "%mv 2nd.txt second.txt\n",
    "%ls"
   ]
  },
  {
   "cell_type": "markdown",
   "metadata": {
    "slideshow": {
     "slide_type": "slide"
    }
   },
   "source": [
    "If you \"cat\" the second file, you'll see the same sentence as in your first file:\n",
    "```sh \n",
    "cat second.txt\n",
    "```"
   ]
  },
  {
   "cell_type": "code",
   "execution_count": 8,
   "metadata": {
    "slideshow": {
     "slide_type": "fragment"
    }
   },
   "outputs": [
    {
     "name": "stdout",
     "output_type": "stream",
     "text": [
      "Dim 29 oct 2017 20:47:10 CET\r\n",
      "navaro\r\n"
     ]
    }
   ],
   "source": [
    "%cat second.txt"
   ]
  },
  {
   "cell_type": "markdown",
   "metadata": {
    "slideshow": {
     "slide_type": "slide"
    }
   },
   "source": [
    "\"mv\" will allow you to move files, not just rename them. Perform the following commands:\n",
    "```sh \n",
    "mkdir sub\n",
    "mv second.txt sub\n",
    "ls sub\n",
    "ls\n",
    "```\n",
    "(where \"username\" will be your username and \"group\" will be your group name). Among other things, this lists the creation date and time, file access permissions, and file size in bytes. The letter 'd' (the first character on the line) indicates the directory names."
   ]
  },
  {
   "cell_type": "code",
   "execution_count": 9,
   "metadata": {
    "slideshow": {
     "slide_type": "slide"
    }
   },
   "outputs": [
    {
     "name": "stdout",
     "output_type": "stream",
     "text": [
      "second.txt\r\n"
     ]
    }
   ],
   "source": [
    "%mkdir sub\n",
    "%mv second.txt sub\n",
    "%ls sub"
   ]
  },
  {
   "cell_type": "markdown",
   "metadata": {
    "slideshow": {
     "slide_type": "fragment"
    }
   },
   "source": [
    "This creates a new subdirectory named \"sub\", moves \"second\" into \"sub\", then lists the contents of both directories. You can list even more information about files by using the \"-l\" option with \"ls\":"
   ]
  },
  {
   "cell_type": "code",
   "execution_count": 14,
   "metadata": {
    "slideshow": {
     "slide_type": "fragment"
    }
   },
   "outputs": [
    {
     "name": "stdout",
     "output_type": "stream",
     "text": [
      "total 8\r\n",
      "-rw-r--r--  1 navaro  staff   36 29 oct 20:47 first.txt\r\n",
      "drwxr-xr-x  2 navaro  staff   68 28 oct 14:54 \u001b[34mprimer\u001b[m\u001b[m/\r\n",
      "drwxr-xr-x  3 navaro  staff  102 29 oct 20:49 \u001b[34msub\u001b[m\u001b[m/\r\n"
     ]
    }
   ],
   "source": [
    "%ls -l"
   ]
  },
  {
   "cell_type": "markdown",
   "metadata": {
    "slideshow": {
     "slide_type": "slide"
    }
   },
   "source": [
    "Next perform the following commands:\n",
    "```sh\n",
    "cd sub\n",
    "pwd\n",
    "ls -l\n",
    "cd ..\n",
    "pwd\n",
    "```\n"
   ]
  },
  {
   "cell_type": "code",
   "execution_count": 15,
   "metadata": {
    "slideshow": {
     "slide_type": "fragment"
    }
   },
   "outputs": [
    {
     "name": "stdout",
     "output_type": "stream",
     "text": [
      "/Users/navaro/big-data/primer/sub\n",
      "total 8\n",
      "-rw-r--r--  1 navaro  staff  36 29 oct 20:47 second.txt\n",
      "/Users/navaro/big-data/primer\n"
     ]
    },
    {
     "data": {
      "text/plain": [
       "'/Users/navaro/big-data/primer'"
      ]
     },
     "execution_count": 15,
     "metadata": {},
     "output_type": "execute_result"
    }
   ],
   "source": [
    "%cd sub\n",
    "%pwd\n",
    "%ls -l\n",
    "%cd ..\n",
    "%pwd"
   ]
  },
  {
   "cell_type": "markdown",
   "metadata": {
    "slideshow": {
     "slide_type": "fragment"
    }
   },
   "source": [
    "- changes your current working directory to the \"sub\" subdirectory under \"primer\", \n",
    "- lists the files there, then changes you back up a level. \n",
    "- The \"..\" always refers to the parent directory of the given subdirectory."
   ]
  },
  {
   "cell_type": "markdown",
   "metadata": {
    "slideshow": {
     "slide_type": "slide"
    }
   },
   "source": [
    "Finally, clean up the duplicate files by removing the \"second.txt\" file and the \"sub\" subdirectory:\n",
    "```sh\n",
    "rm sub/second.txt\n",
    "rmdir sub\n",
    "ls -l\n",
    "cd\n",
    "```\n",
    "This shows that you can refer to a file in a different directory using the relative path name to the file (you can also use the absolute path name to the file - something like \"/Users/username/primer/sub/second.txt\", depending on your home directory). You can also include the \"..\" within the path name (for instance, you could have referred to the file as \"../primer/sub/second.txt\")."
   ]
  },
  {
   "cell_type": "code",
   "execution_count": 16,
   "metadata": {
    "slideshow": {
     "slide_type": "fragment"
    }
   },
   "outputs": [
    {
     "name": "stdout",
     "output_type": "stream",
     "text": [
      "total 8\n",
      "-rw-r--r--  1 navaro  staff  36 29 oct 20:47 first.txt\n",
      "drwxr-xr-x  2 navaro  staff  68 28 oct 14:54 \u001b[34mprimer\u001b[m\u001b[m/\n",
      "/Users/navaro\n",
      "rm: primer: No such file or directory\n"
     ]
    }
   ],
   "source": [
    "%rm sub/second.txt\n",
    "%rmdir sub\n",
    "%ls -l\n",
    "%cd\n",
    "%rm -r primer"
   ]
  },
  {
   "cell_type": "markdown",
   "metadata": {
    "slideshow": {
     "slide_type": "slide"
    }
   },
   "source": [
    "## Other Useful Commands\n",
    "The current date and time are printed with the following command:\n",
    "```bash\n",
    "date\n",
    "``` \n",
    "Thu May 22 17:39:04 CDT 2003\n",
    "Remote login to another machine can be accomplished using the \"ssh\" command:\n",
    "```\n",
    "ssh -l myname host\n",
    "```\n",
    "where \"myname\" will be your username on the remote system (possibly identical to your username on this system) and \"host\" is the name (or IP address) of the machine you are logging into. \n",
    "\n",
    "Transfer files between machines using \"scp\". For example, to copy file \"myfile\" from the remote machine named \"host\", the command would be:\n",
    "```sh\n",
    "scp myname@host:myfile .\n",
    "```\n",
    "(The \".\" refers to your current working directory, meaning that the destination for \"myfile\" is your current directory.)"
   ]
  },
  {
   "cell_type": "markdown",
   "metadata": {
    "slideshow": {
     "slide_type": "slide"
    }
   },
   "source": [
    "## Summary Of Basic Shell Commands\n",
    "```sh\n",
    "% pico myfile\t#text edit file \"myfile\"\n",
    "% ls\t#list files in current directory\n",
    "% ls -l\t#long format listing\n",
    "% touch myfile  #create new empty file \"myfile\"\n",
    "% cat myfile\t#view contents of text file \"myfile\"\n",
    "% more myfile\t#paged viewing of text file \"myfile\"\n",
    "% less myfile\t#scroll through text file \"myfile\"\n",
    "% head myfile   #view 10 first lines of text file \"myfile\"\n",
    "% tail myfile   #view 10 last lines of text file \"myfile\"\n",
    "% cp srcfile destfile\t#copy file \"srcfile\" to new file \"destfile\"\n",
    "% mv oldname newname\t#rename (or move) file \"oldname\" to \"newname\"\n",
    "% rm myfile\t#remove file \"myfile\"\n",
    "% mkdir subdir\t#make new directory \"subdir\"\n",
    "% cd subdir\t#change current working directory to \"subdir\"\n",
    "% rmdir subdir\t#remove (empty) directory \"subdir\"\n",
    "% pwd\t#display current working directory\n",
    "% date\t#display current date and time of day\n",
    "% ssh -l myname host\t#remote shell login of username \"myname\" to \"host\"\n",
    "% scp myname@host:myfile .\t#remote copy of file \"myfile\" to current directory\n",
    "% firefox &\t#start Firefox web browser (in background)\n",
    "% jobs      # display programs running in background\n",
    "% kill %n  # kill job number n (use jobs to get this number)\n",
    "% man -k \"topic\"\t#search manual pages for \"topic\"\n",
    "% man command\t#display man page for \"command\"\n",
    "% exit\t#exit a terminal window\n",
    "% logout\t#logout of a console session\n",
    "```"
   ]
  },
  {
   "cell_type": "markdown",
   "metadata": {
    "slideshow": {
     "slide_type": "slide"
    }
   },
   "source": [
    "## Redirecting \n",
    "\n",
    "Redirection is usually implemented by placing characters <,>,|,>> between commands.\n",
    "\n",
    "- Use  > to redirect output.\n",
    "```bash\n",
    "ls *.ipynb > file_list.txt\n",
    "```\n",
    "executes `ls`, placing the output in file_list.txt, as opposed to displaying it at the terminal, which is the usual destination for standard output. This will clobber any existing data in file1."
   ]
  },
  {
   "cell_type": "code",
   "execution_count": 25,
   "metadata": {},
   "outputs": [],
   "source": [
    "!ls *.ipynb > file_list.txt"
   ]
  },
  {
   "cell_type": "markdown",
   "metadata": {
    "slideshow": {
     "slide_type": "fragment"
    }
   },
   "source": [
    "- Use < to redirect input.\n",
    "```bash\n",
    "wc < file_list.txt\n",
    "```\n",
    "executes `wc`, with file_list.txt as the source of input, as opposed to the keyboard, which is the usual source for standard input.\n",
    "\n"
   ]
  },
  {
   "cell_type": "markdown",
   "metadata": {
    "slideshow": {
     "slide_type": "slide"
    }
   },
   "source": [
    "### Python example"
   ]
  },
  {
   "cell_type": "code",
   "execution_count": 28,
   "metadata": {
    "slideshow": {
     "slide_type": "fragment"
    }
   },
   "outputs": [
    {
     "name": "stdout",
     "output_type": "stream",
     "text": [
      "Overwriting test_stdin.py\n"
     ]
    }
   ],
   "source": [
    "%%file test_stdin.py\n",
    "\n",
    "import sys, itertools\n",
    "\n",
    "# input comes from standard input\n",
    "k = 0\n",
    "for file in sys.stdin:\n",
    "    k +=1\n",
    "    print('file {} : {}'.format(k,file))"
   ]
  },
  {
   "cell_type": "code",
   "execution_count": 29,
   "metadata": {},
   "outputs": [
    {
     "name": "stdout",
     "output_type": "stream",
     "text": [
      "file 1 : 01.MapReduce.ipynb\r\n",
      "\r\n",
      "file 2 : 02.Containers.ipynb\r\n",
      "\r\n",
      "file 3 : 03.ParallelComputation.ipynb\r\n",
      "\r\n",
      "file 4 : 04.AsynchonousProcessing.ipynb\r\n",
      "\r\n",
      "file 5 : 05.Dask.ipynb\r\n",
      "\r\n",
      "file 6 : 06.Unix.Commands.ipynb\r\n",
      "\r\n",
      "file 7 : 07.Hadoop.ipynb\r\n",
      "\r\n"
     ]
    }
   ],
   "source": [
    "!python3 test_stdin.py < file_list.txt"
   ]
  },
  {
   "cell_type": "markdown",
   "metadata": {
    "slideshow": {
     "slide_type": "slide"
    }
   },
   "source": [
    "You can combine the two capabilities: read from an input file and write to an output file."
   ]
  },
  {
   "cell_type": "code",
   "execution_count": 38,
   "metadata": {
    "slideshow": {
     "slide_type": "fragment"
    }
   },
   "outputs": [],
   "source": [
    "!python3 test_stdin.py < file_list.txt > output.txt"
   ]
  },
  {
   "cell_type": "code",
   "execution_count": 39,
   "metadata": {},
   "outputs": [
    {
     "name": "stdout",
     "output_type": "stream",
     "text": [
      "file 1 : 01.MapReduce.ipynb\r\n",
      "\r\n",
      "file 2 : 02.Containers.ipynb\r\n",
      "\r\n",
      "file 3 : 03.ParallelComputation.ipynb\r\n",
      "\r\n",
      "file 4 : 04.AsynchonousProcessing.ipynb\r\n",
      "\r\n",
      "file 5 : 05.Dask.ipynb\r\n",
      "\r\n",
      "file 6 : 06.Unix.Commands.ipynb\r\n",
      "\r\n",
      "file 7 : 07.Hadoop.ipynb\r\n",
      "\r\n"
     ]
    }
   ],
   "source": [
    "%cat output.txt"
   ]
  },
  {
   "cell_type": "markdown",
   "metadata": {},
   "source": [
    "To append output to the end of the file, rather than clobbering it, the >> operator is used:\n",
    "\n",
    "date >> output.txt\n",
    "\n",
    "It will append the today date to the end of the file output.txt\n"
   ]
  },
  {
   "cell_type": "code",
   "execution_count": 41,
   "metadata": {},
   "outputs": [
    {
     "name": "stdout",
     "output_type": "stream",
     "text": [
      "file 1 : 01.MapReduce.ipynb\r\n",
      "\r\n",
      "file 2 : 02.Containers.ipynb\r\n",
      "\r\n",
      "file 3 : 03.ParallelComputation.ipynb\r\n",
      "\r\n",
      "file 4 : 04.AsynchonousProcessing.ipynb\r\n",
      "\r\n",
      "file 5 : 05.Dask.ipynb\r\n",
      "\r\n",
      "file 6 : 06.Unix.Commands.ipynb\r\n",
      "\r\n",
      "file 7 : 07.Hadoop.ipynb\r\n",
      "\r\n",
      "Jeu  2 nov 2017 13:26:07 CET\r\n",
      "Jeu  2 nov 2017 13:26:29 CET\r\n"
     ]
    }
   ],
   "source": [
    "!date >> output.txt\n",
    "%cat output.txt"
   ]
  },
  {
   "cell_type": "markdown",
   "metadata": {},
   "source": [
    "## Pipelining\n",
    "```bash\n",
    "ls | grep ipynb\n",
    "```\n",
    "executes `ls`, using its output as the input for `grep` (commonly called piping, with the \"|\" character being known as \"pipe\").\n",
    "\n",
    "## Exercice\n",
    "\n",
    "- Try to pipe the command above output to `sort` command\n",
    "- Try to pipe `ls` output to `wc` command\n",
    "- Try in a terminal the command:\n",
    "```bash\n",
    "cat 06.UnixCommands.ipynb | less\n",
    "```"
   ]
  },
  {
   "cell_type": "markdown",
   "metadata": {
    "slideshow": {
     "slide_type": "slide"
    }
   },
   "source": [
    "\n",
    "\n",
    "\n",
    "\n",
    "\n",
    "\n",
    "\n",
    "\n",
    "This produces the same end result as using two redirects and a temporary file, as in:\n",
    "\n",
    "command1 > tempfile\n",
    "command2 < tempfile\n",
    "rm tempfile\n",
    "But here, command2 does not start executing until command1 has finished, and a sufficiently large scratch file is required to hold the intermediate results as well as whatever work space each task required. As an example, although DOS allows the \"pipe\" syntax, it employs this second approach. Thus, suppose some long-running program \"Worker\" produces various messages as it works, and that a second program, TimeStamp copies each record from stdin to stdout, prefixed by the system's date and time when the record is received. A sequence such as\n",
    "\n",
    "Worker | TimeStamp > LogFile.txt\n",
    "Would produce timestamps only when Worker had finished, merely showing how swiftly its output file could be read and written.\n",
    "\n",
    "A good example for command piping is combining echo with another command to achieve something interactive in a non-interactive shell, e.g.\n",
    "\n",
    "echo -e 'user\\npass' | ftp localhost\n",
    "This runs the ftp client with input user, press return, then pass.\n",
    "\n",
    "In casual use, the initial step of a pipeline is often cat or echo, reading from a file or string. This can often be replaced by input indirection or a here string, and use of cat and piping rather than input redirection is known as useless use of cat. For example, the following commands:\n",
    "\n",
    "cat infile | cmd\n",
    "echo $string | cmd\n",
    "echo -e 'user\\npass' | ftp localhost\n",
    "can be replaced by:\n",
    "\n",
    "cmd < infile\n",
    "cmd <<< $string\n",
    "ftp localhost <<< $'user\\npass'\n",
    "As echo is often a shell-internal command, its use is not as criticized as cat, which is an external command.\n",
    "\n",
    "Redirecting to and from the standard file handles[edit]\n",
    "In Unix shells derived from the original Bourne shell, the first two actions can be further modified by placing a number (the file descriptor) immediately before the character; this will affect which stream is used for the redirection. The Unix standard I/O streams are:\n",
    "\n",
    "Handle\tName\tDescription\n",
    "0\tstdin\tStandard input\n",
    "1\tstdout\tStandard output\n",
    "2\tstderr\tStandard error\n",
    "For example:\n",
    "\n",
    "command1 2> file1\n",
    "executes command1, directing the standard error stream to file1.\n",
    "\n",
    "In shells derived from csh (the C shell), the syntax instead appends the & (ampersand) character to the redirect characters, thus achieving a similar result. The reason for this is to distinguish between a file named '1' and stdout, i.e. 'cat file 2>1' vs 'cat file 2>&1'. In the first case, stderr is redirected to a file named '1' and in the second, stderr is redirected to stdout.\n",
    "\n",
    "Another useful capability is to redirect one standard file handle to another. The most popular variation is to merge standard error into standard output so error messages can be processed together with (or alternately to) the usual output. Example:\n",
    "\n",
    "find / -name .profile > results 2>&1\n",
    "will try to find all files named .profile. Executed without redirection, it will output hits to stdout and errors (e.g. for lack of privilege to traverse protected directories) to stderr. If standard output is directed to file results, error messages appear on the console. To see both hits and error messages in file results, merge stderr (handle 2) into stdout (handle 1) using 2>&1 .\n",
    "\n",
    "\n",
    "If the merged output is to be piped into another program, the file merge sequence 2>&1 must precede the pipe symbol, thus:\n",
    "\n",
    "find / -name .profile 2>&1 | less\n",
    "A simplified but non-POSIX conforming form of the command:\n",
    "\n",
    "command > file 2>&1\n",
    "is (not available in Bourne Shell prior to version 4, final release, or in the standard shell Debian Almquist shell used in Debian/Ubuntu):\n",
    "\n",
    "command &>file\n",
    "or:\n",
    "\n",
    "command >&file\n",
    "NOTE: It is possible to use 2>&1 before \">\" but the result is commonly misunderstood. The rule is that any redirection sets the handle to the output stream independently. So \"2>&1\" sets handle 2 to whatever handle 1 points to, which at that point usually is stdout. Then \">\" redirects handle 1 to something else, e.g. a file, but it does not change handle 2, which still points to stdout. In the following example. standard output is written to file, but errors are redirected from stderr to stdout, i.e. sent to the screen.\n",
    "\n",
    "command 2>&1 > file\n",
    "To write both errors and standard output to file, the order should be reversed. Standard output would first be redirected to the file, then stderr would additionally be redirected to the stdout handle that has already been changed to point at the file:\n",
    "\n",
    "command > file 2>&1\n",
    "\n",
    "\n",
    "Chained pipelines[edit]\n",
    "The redirection and piping tokens can be chained together to create complex commands. For example:\n",
    "\n",
    "sort infile | uniq -c | sort -n > outfile\n",
    "sorts the lines of infile in lexicographical order, writes unique lines prefixed by the number of occurrences, sorts the resultant output numerically, and places the final output in outfile. This type of construction is used very commonly in shell scripts and batch files.\n",
    "\n",
    "Redirect to multiple outputs[edit]\n",
    "The standard command tee can redirect output from a command to several destinations.\n",
    "\n",
    "ls -lrt | tee xyz"
   ]
  },
  {
   "cell_type": "code",
   "execution_count": null,
   "metadata": {},
   "outputs": [],
   "source": []
  }
 ],
 "metadata": {
  "celltoolbar": "Slideshow",
  "kernelspec": {
   "display_name": "Python 3",
   "language": "python",
   "name": "python3"
  },
  "language_info": {
   "codemirror_mode": {
    "name": "ipython",
    "version": 3
   },
   "file_extension": ".py",
   "mimetype": "text/x-python",
   "name": "python",
   "nbconvert_exporter": "python",
   "pygments_lexer": "ipython3",
   "version": "3.6.3"
  }
 },
 "nbformat": 4,
 "nbformat_minor": 2
}
