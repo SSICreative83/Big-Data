{
 "cells": [
  {
   "cell_type": "markdown",
   "metadata": {
    "slideshow": {
     "slide_type": "slide"
    }
   },
   "source": [
    "![pandas](http://pandas.pydata.org/_static/pandas_logo.png \"Pandas Logo\")\n",
    "\n",
    "\n",
    "- Started by Wes MacKinney with a first release in 2011.\n",
    "- Based on NumPy, it is the most used library for all things data.\n",
    "- Motivated by the toolbox in R for manipulating data easily.\n",
    "- A lot of names in Pandas come from R world.\n",
    "- It is Open source (BSD)\n",
    "\n",
    "https://pandas.pydata.org/"
   ]
  },
  {
   "cell_type": "markdown",
   "metadata": {
    "slideshow": {
     "slide_type": "slide"
    }
   },
   "source": [
    "# Pandas \n",
    "\n",
    "```python\n",
    "import pandas as pd\n",
    "```\n",
    "\n",
    "\"*Pandas provides high-performance, easy-to-use data structures \n",
    "and data analysis tools in Python*\"\n",
    "\n",
    "- Self-describing data structures\n",
    "- Data loaders to/from common file formats\n",
    "- Plotting functions\n",
    "- Basic statistical tools.\n"
   ]
  },
  {
   "cell_type": "code",
   "execution_count": 67,
   "metadata": {
    "slideshow": {
     "slide_type": "skip"
    }
   },
   "outputs": [],
   "source": [
    "%reset -f\n",
    "%matplotlib inline\n",
    "%config InlineBackend.figure_format = 'retina'\n",
    "import pandas as pd\n",
    "import numpy as np\n",
    "import matplotlib.pyplot as plt\n",
    "import seaborn as sns\n",
    "sns.set()\n",
    "pd.set_option(\"display.max_rows\", 8)\n",
    "plt.rcParams['figure.figsize'] = (9, 6)"
   ]
  },
  {
   "cell_type": "markdown",
   "metadata": {
    "slideshow": {
     "slide_type": "slide"
    }
   },
   "source": [
    "# [Series](https://pandas.pydata.org/pandas-docs/stable/dsintro.html#series)\n",
    "\n",
    "- A Series contains a one-dimensional array of data, *and* an associated sequence of labels called the *index*.\n",
    "- The index can contain numeric, string, or date/time values.\n",
    "- When the index is a time value, the series is a [time series](https://en.wikipedia.org/wiki/Time_series).\n",
    "- The index must be the same length as the data.\n",
    "- If no index is supplied it is automatically generated as `range(len(data))`."
   ]
  },
  {
   "cell_type": "code",
   "execution_count": 68,
   "metadata": {
    "slideshow": {
     "slide_type": "fragment"
    }
   },
   "outputs": [
    {
     "data": {
      "text/plain": [
       "0    1.0\n",
       "1    3.0\n",
       "2    5.0\n",
       "3    NaN\n",
       "4    6.0\n",
       "5    8.0\n",
       "dtype: float64"
      ]
     },
     "execution_count": 68,
     "metadata": {},
     "output_type": "execute_result"
    }
   ],
   "source": [
    "pd.Series([1,3,5,np.nan,6,8])"
   ]
  },
  {
   "cell_type": "code",
   "execution_count": 69,
   "metadata": {
    "slideshow": {
     "slide_type": "slide"
    }
   },
   "outputs": [
    {
     "data": {
      "text/plain": [
       "2017-09-11   NaN\n",
       "2017-09-12   NaN\n",
       "2017-09-13   NaN\n",
       "2017-09-14   NaN\n",
       "2017-09-15   NaN\n",
       "2017-09-16   NaN\n",
       "2017-09-17   NaN\n",
       "2017-09-18   NaN\n",
       "Freq: D, dtype: float64"
      ]
     },
     "execution_count": 69,
     "metadata": {},
     "output_type": "execute_result"
    }
   ],
   "source": [
    "pd.Series(index=pd.period_range('09/11/2017', '09/18/2017', freq=\"D\"))"
   ]
  },
  {
   "cell_type": "markdown",
   "metadata": {
    "slideshow": {
     "slide_type": "slide"
    }
   },
   "source": [
    "### Exercise\n",
    "- Create a text with `lorem and count word occurences with a collection.Counter. Put the result in a `dict`."
   ]
  },
  {
   "cell_type": "code",
   "execution_count": 77,
   "metadata": {},
   "outputs": [
    {
     "data": {
      "text/plain": [
       "{'adipisci': 10,\n",
       " 'aliquam': 8,\n",
       " 'amet': 13,\n",
       " 'consectetur': 9,\n",
       " 'dolor': 11,\n",
       " 'dolore': 13,\n",
       " 'dolorem': 9,\n",
       " 'eius': 7,\n",
       " 'est': 8,\n",
       " 'etincidunt': 8,\n",
       " 'ipsum': 7,\n",
       " 'labore': 9,\n",
       " 'magnam': 10,\n",
       " 'modi': 10,\n",
       " 'neque': 6,\n",
       " 'non': 12,\n",
       " 'numquam': 8,\n",
       " 'porro': 5,\n",
       " 'quaerat': 11,\n",
       " 'quiquia': 5,\n",
       " 'quisquam': 9,\n",
       " 'sed': 9,\n",
       " 'sit': 5,\n",
       " 'tempora': 9,\n",
       " 'ut': 14,\n",
       " 'velit': 11,\n",
       " 'voluptatem': 12}"
      ]
     },
     "execution_count": 77,
     "metadata": {},
     "output_type": "execute_result"
    }
   ],
   "source": [
    "import string\n",
    "from lorem import text\n",
    "from collections import Counter\n",
    "translator = str.maketrans('', '', string.punctuation)\n",
    "\n",
    "words = []\n",
    "for line in text().split(\"\\n\"):\n",
    "    for word in line.strip().split(' '):\n",
    "        word = word.lower().translate(translator)\n",
    "        if len(word) > 0 : words.append(word)\n",
    "c = Counter(words)\n",
    "data = dict(c.most_common())\n",
    "data"
   ]
  },
  {
   "cell_type": "markdown",
   "metadata": {
    "slideshow": {
     "slide_type": "slide"
    }
   },
   "source": [
    "- From the results create a Pandas series name latin_series with words in alphabetical order as index."
   ]
  },
  {
   "cell_type": "code",
   "execution_count": 78,
   "metadata": {
    "slideshow": {
     "slide_type": "fragment"
    }
   },
   "outputs": [],
   "source": [
    "latin_series = pd.Series(data)"
   ]
  },
  {
   "cell_type": "markdown",
   "metadata": {
    "slideshow": {
     "slide_type": "slide"
    }
   },
   "source": [
    "- Plot the series using 'bar' kind."
   ]
  },
  {
   "cell_type": "code",
   "execution_count": 79,
   "metadata": {},
   "outputs": [
    {
     "data": {
      "image/png": "[encoded data removed]",
      "text/plain": [
       "<matplotlib.figure.Figure at 0x11251b9b0>"
      ]
     },
     "metadata": {
      "image/png": {
       "height": 399,
       "width": 534
      }
     },
     "output_type": "display_data"
    }
   ],
   "source": [
    "latin_series.plot(kind='bar');"
   ]
  },
  {
   "cell_type": "markdown",
   "metadata": {
    "slideshow": {
     "slide_type": "fragment"
    }
   },
   "source": [
    "- Pandas provides explicit functions for indexing `loc` and `iloc`.\n",
    "    - Use `loc` to display the number of occurrences of 'dolore'.\n",
    "    - Use `iloc` to diplay the number of occurrences of the last word in index."
   ]
  },
  {
   "cell_type": "code",
   "execution_count": 75,
   "metadata": {
    "slideshow": {
     "slide_type": "slide"
    }
   },
   "outputs": [
    {
     "data": {
      "text/plain": [
       "dolor     6\n",
       "dolore    9\n",
       "dtype: int64"
      ]
     },
     "execution_count": 75,
     "metadata": {},
     "output_type": "execute_result"
    }
   ],
   "source": [
    "latin_series.dolore\n",
    "latin_series[['dolor','dolore']]"
   ]
  },
  {
   "cell_type": "code",
   "execution_count": 80,
   "metadata": {
    "slideshow": {
     "slide_type": "fragment"
    }
   },
   "outputs": [
    {
     "data": {
      "text/plain": [
       "(13, 12)"
      ]
     },
     "execution_count": 80,
     "metadata": {},
     "output_type": "execute_result"
    }
   ],
   "source": [
    "latin_series.loc['dolore'], latin_series.iloc[-1]"
   ]
  },
  {
   "cell_type": "code",
   "execution_count": 94,
   "metadata": {
    "slideshow": {
     "slide_type": "fragment"
    }
   },
   "outputs": [
    {
     "data": {
      "image/png": "[encoded data removed]",
      "text/plain": [
       "<matplotlib.figure.Figure at 0x1180a8b38>"
      ]
     },
     "metadata": {
      "image/png": {
       "height": 399,
       "width": 534
      }
     },
     "output_type": "display_data"
    }
   ],
   "source": [
    "latin_series = latin_series.sort_values(axis=0)\n",
    "latin_series.plot(kind='bar');"
   ]
  },
  {
   "cell_type": "code",
   "execution_count": 99,
   "metadata": {},
   "outputs": [
    {
     "name": "stdout",
     "output_type": "stream",
     "text": [
      "\u001b[34mjson\u001b[m\u001b[m/\r\n",
      "\u001b[34mminute\u001b[m\u001b[m/\r\n",
      "monthly.land.00N.90N.df_1901-2000mean.dat.txt\r\n",
      "monthly.land.90S.00N.df_1901-2000mean.dat.txt\r\n",
      "monthly.land.90S.90N.df_1901-2000mean.dat.txt\r\n",
      "nycflights.tar.gz\r\n"
     ]
    }
   ],
   "source": [
    "%ls data"
   ]
  },
  {
   "cell_type": "code",
   "execution_count": 111,
   "metadata": {},
   "outputs": [],
   "source": [
    "import os\n",
    "here = os.getcwd()\n",
    "\n",
    "filename = os.path.join(here,\"data\",\"monthly.land.90S.90N.df_1901-2000mean.dat.txt\")\n",
    "\n",
    "df = pd.read_table(filename1, sep=\"\\s+\", \n",
    "                                names=[\"year\", \"month\", \"mean temp\"], \n",
    "                                index_col=0)\n"
   ]
  },
  {
   "cell_type": "code",
   "execution_count": 112,
   "metadata": {},
   "outputs": [
    {
     "data": {
      "text/plain": [
       "<matplotlib.axes._subplots.AxesSubplot at 0x11813f780>"
      ]
     },
     "execution_count": 112,
     "metadata": {},
     "output_type": "execute_result"
    },
    {
     "data": {
      "image/png": "[encoded data removed]",
      "text/plain": [
       "<matplotlib.figure.Figure at 0x116debdd8>"
      ]
     },
     "metadata": {
      "image/png": {
       "height": 371,
       "width": 551
      }
     },
     "output_type": "display_data"
    }
   ],
   "source": [
    "df1.plot()"
   ]
  },
  {
   "cell_type": "code",
   "execution_count": 88,
   "metadata": {},
   "outputs": [
    {
     "name": "stdout",
     "output_type": "stream",
     "text": [
      "\u001b[34mjson\u001b[m\u001b[m/\r\n",
      "\u001b[34mminute\u001b[m\u001b[m/\r\n",
      "monthly.land.00N.90N.df_1901-2000mean.dat.txt\r\n",
      "monthly.land.90S.00N.df_1901-2000mean.dat.txt\r\n",
      "monthly.land.90S.90N.df_1901-2000mean.dat.txt\r\n",
      "nycflights.tar.gz\r\n"
     ]
    }
   ],
   "source": [
    "%ls data"
   ]
  },
  {
   "cell_type": "markdown",
   "metadata": {
    "slideshow": {
     "slide_type": "slide"
    }
   },
   "source": [
    "#  [DataFrame](https://pandas.pydata.org/pandas-docs/stable/dsintro.html#dataframe)\n",
    "\n",
    "A data frame has multiple columns, each of which can hold a different type of value.\n",
    "Like a series, it has an index which provides a label for each and every row.\n",
    "Data frames can be constructed from:\n",
    "- dict of arrays,\n",
    "- dict of lists,\n",
    "- dict of dict\n",
    "- dict of Series\n",
    "- 2-dimensional array\n",
    "- a single Series\n",
    "- another DataFrame"
   ]
  },
  {
   "cell_type": "code",
   "execution_count": 4,
   "metadata": {
    "slideshow": {
     "slide_type": "fragment"
    }
   },
   "outputs": [
    {
     "data": {
      "text/html": [
       "<div>\n",
       "<style>\n",
       "    .dataframe thead tr:only-child th {\n",
       "        text-align: right;\n",
       "    }\n",
       "\n",
       "    .dataframe thead th {\n",
       "        text-align: left;\n",
       "    }\n",
       "\n",
       "    .dataframe tbody tr th {\n",
       "        vertical-align: top;\n",
       "    }\n",
       "</style>\n",
       "<table border=\"1\" class=\"dataframe\">\n",
       "  <thead>\n",
       "    <tr style=\"text-align: right;\">\n",
       "      <th></th>\n",
       "      <th>A</th>\n",
       "      <th>B</th>\n",
       "      <th>C</th>\n",
       "      <th>D</th>\n",
       "    </tr>\n",
       "  </thead>\n",
       "  <tbody>\n",
       "    <tr>\n",
       "      <th>2013-01-01</th>\n",
       "      <td>-0.416077</td>\n",
       "      <td>2.136504</td>\n",
       "      <td>0.359870</td>\n",
       "      <td>-0.352095</td>\n",
       "    </tr>\n",
       "    <tr>\n",
       "      <th>2013-01-02</th>\n",
       "      <td>-0.693560</td>\n",
       "      <td>-1.224612</td>\n",
       "      <td>-1.838794</td>\n",
       "      <td>1.040553</td>\n",
       "    </tr>\n",
       "    <tr>\n",
       "      <th>2013-01-03</th>\n",
       "      <td>-0.889094</td>\n",
       "      <td>0.915961</td>\n",
       "      <td>0.930261</td>\n",
       "      <td>0.559944</td>\n",
       "    </tr>\n",
       "    <tr>\n",
       "      <th>2013-01-04</th>\n",
       "      <td>-0.359792</td>\n",
       "      <td>1.480196</td>\n",
       "      <td>-0.821704</td>\n",
       "      <td>0.039390</td>\n",
       "    </tr>\n",
       "    <tr>\n",
       "      <th>2013-01-05</th>\n",
       "      <td>0.344367</td>\n",
       "      <td>-0.546498</td>\n",
       "      <td>0.221512</td>\n",
       "      <td>-1.182136</td>\n",
       "    </tr>\n",
       "    <tr>\n",
       "      <th>2013-01-06</th>\n",
       "      <td>-0.362630</td>\n",
       "      <td>-0.460493</td>\n",
       "      <td>-0.562382</td>\n",
       "      <td>2.247906</td>\n",
       "    </tr>\n",
       "  </tbody>\n",
       "</table>\n",
       "</div>"
      ],
      "text/plain": [
       "                   A         B         C         D\n",
       "2013-01-01 -0.416077  2.136504  0.359870 -0.352095\n",
       "2013-01-02 -0.693560 -1.224612 -1.838794  1.040553\n",
       "2013-01-03 -0.889094  0.915961  0.930261  0.559944\n",
       "2013-01-04 -0.359792  1.480196 -0.821704  0.039390\n",
       "2013-01-05  0.344367 -0.546498  0.221512 -1.182136\n",
       "2013-01-06 -0.362630 -0.460493 -0.562382  2.247906"
      ]
     },
     "execution_count": 4,
     "metadata": {},
     "output_type": "execute_result"
    }
   ],
   "source": [
    "dates = pd.date_range('20130101', periods=6)\n",
    "pd.DataFrame(np.random.randn(6,4), index=dates, columns=list('ABCD'))"
   ]
  },
  {
   "cell_type": "code",
   "execution_count": 5,
   "metadata": {
    "slideshow": {
     "slide_type": "slide"
    }
   },
   "outputs": [
    {
     "data": {
      "text/html": [
       "<div>\n",
       "<style>\n",
       "    .dataframe thead tr:only-child th {\n",
       "        text-align: right;\n",
       "    }\n",
       "\n",
       "    .dataframe thead th {\n",
       "        text-align: left;\n",
       "    }\n",
       "\n",
       "    .dataframe tbody tr th {\n",
       "        vertical-align: top;\n",
       "    }\n",
       "</style>\n",
       "<table border=\"1\" class=\"dataframe\">\n",
       "  <thead>\n",
       "    <tr style=\"text-align: right;\">\n",
       "      <th></th>\n",
       "      <th>A</th>\n",
       "      <th>B</th>\n",
       "      <th>C</th>\n",
       "      <th>D</th>\n",
       "      <th>E</th>\n",
       "      <th>F</th>\n",
       "    </tr>\n",
       "  </thead>\n",
       "  <tbody>\n",
       "    <tr>\n",
       "      <th>0</th>\n",
       "      <td>1.0</td>\n",
       "      <td>2013-01-02</td>\n",
       "      <td>1.0</td>\n",
       "      <td>0</td>\n",
       "      <td>test</td>\n",
       "      <td>foo</td>\n",
       "    </tr>\n",
       "    <tr>\n",
       "      <th>1</th>\n",
       "      <td>1.0</td>\n",
       "      <td>2013-01-02</td>\n",
       "      <td>1.0</td>\n",
       "      <td>1</td>\n",
       "      <td>train</td>\n",
       "      <td>foo</td>\n",
       "    </tr>\n",
       "    <tr>\n",
       "      <th>2</th>\n",
       "      <td>1.0</td>\n",
       "      <td>2013-01-02</td>\n",
       "      <td>1.0</td>\n",
       "      <td>2</td>\n",
       "      <td>test</td>\n",
       "      <td>foo</td>\n",
       "    </tr>\n",
       "    <tr>\n",
       "      <th>3</th>\n",
       "      <td>1.0</td>\n",
       "      <td>2013-01-02</td>\n",
       "      <td>1.0</td>\n",
       "      <td>3</td>\n",
       "      <td>train</td>\n",
       "      <td>foo</td>\n",
       "    </tr>\n",
       "  </tbody>\n",
       "</table>\n",
       "</div>"
      ],
      "text/plain": [
       "     A          B    C  D      E    F\n",
       "0  1.0 2013-01-02  1.0  0   test  foo\n",
       "1  1.0 2013-01-02  1.0  1  train  foo\n",
       "2  1.0 2013-01-02  1.0  2   test  foo\n",
       "3  1.0 2013-01-02  1.0  3  train  foo"
      ]
     },
     "execution_count": 5,
     "metadata": {},
     "output_type": "execute_result"
    }
   ],
   "source": [
    "pd.DataFrame({'A' : 1.,\n",
    "              'B' : pd.Timestamp('20130102'),\n",
    "              'C' : pd.Series(1,index=list(range(4)),dtype='float32'),\n",
    "              'D' : np.arange(4,dtype='int32'),\n",
    "              'E' : pd.Categorical([\"test\",\"train\",\"test\",\"train\"]),\n",
    "              'F' : 'foo' })\n"
   ]
  },
  {
   "cell_type": "markdown",
   "metadata": {
    "slideshow": {
     "slide_type": "slide"
    }
   },
   "source": [
    "# Indexing on DataFrames"
   ]
  },
  {
   "cell_type": "code",
   "execution_count": 35,
   "metadata": {
    "slideshow": {
     "slide_type": "fragment"
    }
   },
   "outputs": [
    {
     "data": {
      "text/plain": [
       "City\n",
       "Bordeaux      44.50\n",
       "Brest         48.24\n",
       "Clermont      45.47\n",
       "Grenoble      45.10\n",
       "              ...  \n",
       "Rennes        48.05\n",
       "Strasbourg    48.35\n",
       "Toulouse      43.36\n",
       "Vichy         46.08\n",
       "Name: Lati, Length: 15, dtype: float64"
      ]
     },
     "execution_count": 35,
     "metadata": {},
     "output_type": "execute_result"
    }
   ],
   "source": [
    "french_cities['Lati']  # DF [] accesses columns (Series)"
   ]
  },
  {
   "cell_type": "markdown",
   "metadata": {
    "slideshow": {
     "slide_type": "slide"
    }
   },
   "source": [
    "`.loc` and `.iloc` allow to access individual values, slices or masked selections:"
   ]
  },
  {
   "cell_type": "code",
   "execution_count": 36,
   "metadata": {
    "slideshow": {
     "slide_type": "fragment"
    }
   },
   "outputs": [
    {
     "data": {
      "text/plain": [
       "15.699999999999999"
      ]
     },
     "execution_count": 36,
     "metadata": {},
     "output_type": "execute_result"
    }
   ],
   "source": [
    "french_cities.loc['Rennes', \"Sep\"]"
   ]
  },
  {
   "cell_type": "code",
   "execution_count": 37,
   "metadata": {
    "slideshow": {
     "slide_type": "fragment"
    }
   },
   "outputs": [
    {
     "data": {
      "text/plain": [
       "Sep    15.7\n",
       "Dec     5.4\n",
       "Name: Rennes, dtype: object"
      ]
     },
     "execution_count": 37,
     "metadata": {},
     "output_type": "execute_result"
    }
   ],
   "source": [
    "french_cities.loc['Rennes', [\"Sep\", \"Dec\"]]"
   ]
  },
  {
   "cell_type": "code",
   "execution_count": 38,
   "metadata": {
    "slideshow": {
     "slide_type": "fragment"
    }
   },
   "outputs": [
    {
     "data": {
      "text/plain": [
       "Sep    15.7\n",
       "Oct    11.6\n",
       "Nov     7.8\n",
       "Dec     5.4\n",
       "Name: Rennes, dtype: object"
      ]
     },
     "execution_count": 38,
     "metadata": {},
     "output_type": "execute_result"
    }
   ],
   "source": [
    "french_cities.loc['Rennes', \"Sep\":\"Dec\"]"
   ]
  },
  {
   "cell_type": "markdown",
   "metadata": {
    "slideshow": {
     "slide_type": "slide"
    }
   },
   "source": [
    "# Masking"
   ]
  },
  {
   "cell_type": "code",
   "execution_count": 39,
   "metadata": {
    "slideshow": {
     "slide_type": "fragment"
    }
   },
   "outputs": [
    {
     "name": "stdout",
     "output_type": "stream",
     "text": [
      "Jan     5.6\n",
      "Mar    10.3\n",
      "May    15.8\n",
      "Jul    20.9\n",
      "Sep    18.6\n",
      "Nov     9.1\n",
      "Name: Bordeaux, dtype: object\n",
      "Jan     4.8\n",
      "Mar     7.9\n",
      "May    13.1\n",
      "Jul    17.9\n",
      "Sep    15.7\n",
      "Nov     7.8\n",
      "Name: Rennes, dtype: object\n"
     ]
    }
   ],
   "source": [
    "mask = [True, False] * 6\n",
    "print(french_cities.iloc[0, mask])\n",
    "print(french_cities.loc[\"Rennes\", mask])"
   ]
  },
  {
   "cell_type": "markdown",
   "metadata": {
    "slideshow": {
     "slide_type": "slide"
    }
   },
   "source": [
    "# New column\n"
   ]
  },
  {
   "cell_type": "code",
   "execution_count": 40,
   "metadata": {
    "slideshow": {
     "slide_type": "fragment"
    }
   },
   "outputs": [
    {
     "data": {
      "text/html": [
       "<div>\n",
       "<style>\n",
       "    .dataframe thead tr:only-child th {\n",
       "        text-align: right;\n",
       "    }\n",
       "\n",
       "    .dataframe thead th {\n",
       "        text-align: left;\n",
       "    }\n",
       "\n",
       "    .dataframe tbody tr th {\n",
       "        vertical-align: top;\n",
       "    }\n",
       "</style>\n",
       "<table border=\"1\" class=\"dataframe\">\n",
       "  <thead>\n",
       "    <tr style=\"text-align: right;\">\n",
       "      <th></th>\n",
       "      <th>Jan</th>\n",
       "      <th>Feb</th>\n",
       "      <th>Mar</th>\n",
       "      <th>Apr</th>\n",
       "      <th>May</th>\n",
       "      <th>Jun</th>\n",
       "      <th>Jul</th>\n",
       "      <th>Aug</th>\n",
       "      <th>Sep</th>\n",
       "      <th>Oct</th>\n",
       "      <th>Nov</th>\n",
       "      <th>Dec</th>\n",
       "      <th>Lati</th>\n",
       "      <th>Long</th>\n",
       "      <th>Mean</th>\n",
       "      <th>Ampl</th>\n",
       "      <th>Région</th>\n",
       "      <th>std</th>\n",
       "    </tr>\n",
       "    <tr>\n",
       "      <th>City</th>\n",
       "      <th></th>\n",
       "      <th></th>\n",
       "      <th></th>\n",
       "      <th></th>\n",
       "      <th></th>\n",
       "      <th></th>\n",
       "      <th></th>\n",
       "      <th></th>\n",
       "      <th></th>\n",
       "      <th></th>\n",
       "      <th></th>\n",
       "      <th></th>\n",
       "      <th></th>\n",
       "      <th></th>\n",
       "      <th></th>\n",
       "      <th></th>\n",
       "      <th></th>\n",
       "      <th></th>\n",
       "    </tr>\n",
       "  </thead>\n",
       "  <tbody>\n",
       "    <tr>\n",
       "      <th>Bordeaux</th>\n",
       "      <td>5.6</td>\n",
       "      <td>6.6</td>\n",
       "      <td>10.3</td>\n",
       "      <td>12.8</td>\n",
       "      <td>15.8</td>\n",
       "      <td>19.3</td>\n",
       "      <td>20.9</td>\n",
       "      <td>21.0</td>\n",
       "      <td>18.6</td>\n",
       "      <td>13.8</td>\n",
       "      <td>9.1</td>\n",
       "      <td>6.2</td>\n",
       "      <td>44.50</td>\n",
       "      <td>-0.34</td>\n",
       "      <td>13.33</td>\n",
       "      <td>15.4</td>\n",
       "      <td>SO</td>\n",
       "      <td>5.792681</td>\n",
       "    </tr>\n",
       "    <tr>\n",
       "      <th>Brest</th>\n",
       "      <td>6.1</td>\n",
       "      <td>5.8</td>\n",
       "      <td>7.8</td>\n",
       "      <td>9.2</td>\n",
       "      <td>11.6</td>\n",
       "      <td>14.4</td>\n",
       "      <td>15.6</td>\n",
       "      <td>16.0</td>\n",
       "      <td>14.7</td>\n",
       "      <td>12.0</td>\n",
       "      <td>9.0</td>\n",
       "      <td>7.0</td>\n",
       "      <td>48.24</td>\n",
       "      <td>-4.29</td>\n",
       "      <td>10.77</td>\n",
       "      <td>10.2</td>\n",
       "      <td>NO</td>\n",
       "      <td>3.773673</td>\n",
       "    </tr>\n",
       "    <tr>\n",
       "      <th>Clermont</th>\n",
       "      <td>2.6</td>\n",
       "      <td>3.7</td>\n",
       "      <td>7.5</td>\n",
       "      <td>10.3</td>\n",
       "      <td>13.8</td>\n",
       "      <td>17.3</td>\n",
       "      <td>19.4</td>\n",
       "      <td>19.1</td>\n",
       "      <td>16.2</td>\n",
       "      <td>11.2</td>\n",
       "      <td>6.6</td>\n",
       "      <td>3.6</td>\n",
       "      <td>45.47</td>\n",
       "      <td>3.05</td>\n",
       "      <td>10.94</td>\n",
       "      <td>16.8</td>\n",
       "      <td>SE</td>\n",
       "      <td>6.189795</td>\n",
       "    </tr>\n",
       "    <tr>\n",
       "      <th>Grenoble</th>\n",
       "      <td>1.5</td>\n",
       "      <td>3.2</td>\n",
       "      <td>7.7</td>\n",
       "      <td>10.6</td>\n",
       "      <td>14.5</td>\n",
       "      <td>17.8</td>\n",
       "      <td>20.1</td>\n",
       "      <td>19.5</td>\n",
       "      <td>16.7</td>\n",
       "      <td>11.4</td>\n",
       "      <td>6.5</td>\n",
       "      <td>2.3</td>\n",
       "      <td>45.10</td>\n",
       "      <td>5.43</td>\n",
       "      <td>10.98</td>\n",
       "      <td>18.6</td>\n",
       "      <td>SE</td>\n",
       "      <td>6.770771</td>\n",
       "    </tr>\n",
       "    <tr>\n",
       "      <th>...</th>\n",
       "      <td>...</td>\n",
       "      <td>...</td>\n",
       "      <td>...</td>\n",
       "      <td>...</td>\n",
       "      <td>...</td>\n",
       "      <td>...</td>\n",
       "      <td>...</td>\n",
       "      <td>...</td>\n",
       "      <td>...</td>\n",
       "      <td>...</td>\n",
       "      <td>...</td>\n",
       "      <td>...</td>\n",
       "      <td>...</td>\n",
       "      <td>...</td>\n",
       "      <td>...</td>\n",
       "      <td>...</td>\n",
       "      <td>...</td>\n",
       "      <td>...</td>\n",
       "    </tr>\n",
       "    <tr>\n",
       "      <th>Rennes</th>\n",
       "      <td>4.8</td>\n",
       "      <td>5.3</td>\n",
       "      <td>7.9</td>\n",
       "      <td>10.1</td>\n",
       "      <td>13.1</td>\n",
       "      <td>16.2</td>\n",
       "      <td>17.9</td>\n",
       "      <td>17.8</td>\n",
       "      <td>15.7</td>\n",
       "      <td>11.6</td>\n",
       "      <td>7.8</td>\n",
       "      <td>5.4</td>\n",
       "      <td>48.05</td>\n",
       "      <td>-1.41</td>\n",
       "      <td>11.13</td>\n",
       "      <td>13.1</td>\n",
       "      <td>NO</td>\n",
       "      <td>4.958800</td>\n",
       "    </tr>\n",
       "    <tr>\n",
       "      <th>Strasbourg</th>\n",
       "      <td>0.4</td>\n",
       "      <td>1.5</td>\n",
       "      <td>5.6</td>\n",
       "      <td>9.8</td>\n",
       "      <td>14.0</td>\n",
       "      <td>17.2</td>\n",
       "      <td>19.0</td>\n",
       "      <td>18.3</td>\n",
       "      <td>15.1</td>\n",
       "      <td>9.5</td>\n",
       "      <td>4.9</td>\n",
       "      <td>1.3</td>\n",
       "      <td>48.35</td>\n",
       "      <td>7.45</td>\n",
       "      <td>9.72</td>\n",
       "      <td>18.6</td>\n",
       "      <td>NE</td>\n",
       "      <td>6.931723</td>\n",
       "    </tr>\n",
       "    <tr>\n",
       "      <th>Toulouse</th>\n",
       "      <td>4.7</td>\n",
       "      <td>5.6</td>\n",
       "      <td>9.2</td>\n",
       "      <td>11.6</td>\n",
       "      <td>14.9</td>\n",
       "      <td>18.7</td>\n",
       "      <td>20.9</td>\n",
       "      <td>20.9</td>\n",
       "      <td>18.3</td>\n",
       "      <td>13.3</td>\n",
       "      <td>8.6</td>\n",
       "      <td>5.5</td>\n",
       "      <td>43.36</td>\n",
       "      <td>1.26</td>\n",
       "      <td>12.68</td>\n",
       "      <td>16.2</td>\n",
       "      <td>SO</td>\n",
       "      <td>6.056977</td>\n",
       "    </tr>\n",
       "    <tr>\n",
       "      <th>Vichy</th>\n",
       "      <td>2.4</td>\n",
       "      <td>3.4</td>\n",
       "      <td>7.1</td>\n",
       "      <td>9.9</td>\n",
       "      <td>13.6</td>\n",
       "      <td>17.1</td>\n",
       "      <td>19.3</td>\n",
       "      <td>18.8</td>\n",
       "      <td>16.0</td>\n",
       "      <td>11.0</td>\n",
       "      <td>6.6</td>\n",
       "      <td>3.4</td>\n",
       "      <td>46.08</td>\n",
       "      <td>3.26</td>\n",
       "      <td>10.72</td>\n",
       "      <td>16.9</td>\n",
       "      <td>SE</td>\n",
       "      <td>6.201148</td>\n",
       "    </tr>\n",
       "  </tbody>\n",
       "</table>\n",
       "<p>15 rows × 18 columns</p>\n",
       "</div>"
      ],
      "text/plain": [
       "            Jan  Feb   Mar   Apr   May   Jun   Jul   Aug   Sep   Oct  Nov  \\\n",
       "City                                                                        \n",
       "Bordeaux    5.6  6.6  10.3  12.8  15.8  19.3  20.9  21.0  18.6  13.8  9.1   \n",
       "Brest       6.1  5.8   7.8   9.2  11.6  14.4  15.6  16.0  14.7  12.0  9.0   \n",
       "Clermont    2.6  3.7   7.5  10.3  13.8  17.3  19.4  19.1  16.2  11.2  6.6   \n",
       "Grenoble    1.5  3.2   7.7  10.6  14.5  17.8  20.1  19.5  16.7  11.4  6.5   \n",
       "...         ...  ...   ...   ...   ...   ...   ...   ...   ...   ...  ...   \n",
       "Rennes      4.8  5.3   7.9  10.1  13.1  16.2  17.9  17.8  15.7  11.6  7.8   \n",
       "Strasbourg  0.4  1.5   5.6   9.8  14.0  17.2  19.0  18.3  15.1   9.5  4.9   \n",
       "Toulouse    4.7  5.6   9.2  11.6  14.9  18.7  20.9  20.9  18.3  13.3  8.6   \n",
       "Vichy       2.4  3.4   7.1   9.9  13.6  17.1  19.3  18.8  16.0  11.0  6.6   \n",
       "\n",
       "            Dec   Lati  Long   Mean  Ampl Région       std  \n",
       "City                                                        \n",
       "Bordeaux    6.2  44.50 -0.34  13.33  15.4     SO  5.792681  \n",
       "Brest       7.0  48.24 -4.29  10.77  10.2     NO  3.773673  \n",
       "Clermont    3.6  45.47  3.05  10.94  16.8     SE  6.189795  \n",
       "Grenoble    2.3  45.10  5.43  10.98  18.6     SE  6.770771  \n",
       "...         ...    ...   ...    ...   ...    ...       ...  \n",
       "Rennes      5.4  48.05 -1.41  11.13  13.1     NO  4.958800  \n",
       "Strasbourg  1.3  48.35  7.45   9.72  18.6     NE  6.931723  \n",
       "Toulouse    5.5  43.36  1.26  12.68  16.2     SO  6.056977  \n",
       "Vichy       3.4  46.08  3.26  10.72  16.9     SE  6.201148  \n",
       "\n",
       "[15 rows x 18 columns]"
      ]
     },
     "execution_count": 40,
     "metadata": {},
     "output_type": "execute_result"
    }
   ],
   "source": [
    "french_cities[\"std\"] = french_cities.iloc[:,:12].std(axis=1)\n",
    "french_cities"
   ]
  },
  {
   "cell_type": "code",
   "execution_count": 41,
   "metadata": {
    "collapsed": true,
    "slideshow": {
     "slide_type": "fragment"
    }
   },
   "outputs": [],
   "source": [
    "french_cities = french_cities.drop(\"std\", axis=1) # remove this new column"
   ]
  },
  {
   "cell_type": "code",
   "execution_count": 42,
   "metadata": {
    "slideshow": {
     "slide_type": "skip"
    }
   },
   "outputs": [
    {
     "data": {
      "text/html": [
       "<div>\n",
       "<style>\n",
       "    .dataframe thead tr:only-child th {\n",
       "        text-align: right;\n",
       "    }\n",
       "\n",
       "    .dataframe thead th {\n",
       "        text-align: left;\n",
       "    }\n",
       "\n",
       "    .dataframe tbody tr th {\n",
       "        vertical-align: top;\n",
       "    }\n",
       "</style>\n",
       "<table border=\"1\" class=\"dataframe\">\n",
       "  <thead>\n",
       "    <tr style=\"text-align: right;\">\n",
       "      <th></th>\n",
       "      <th>Jan</th>\n",
       "      <th>Feb</th>\n",
       "      <th>Mar</th>\n",
       "      <th>Apr</th>\n",
       "      <th>May</th>\n",
       "      <th>Jun</th>\n",
       "      <th>Jul</th>\n",
       "      <th>Aug</th>\n",
       "      <th>Sep</th>\n",
       "      <th>Oct</th>\n",
       "      <th>Nov</th>\n",
       "      <th>Dec</th>\n",
       "      <th>Lati</th>\n",
       "      <th>Long</th>\n",
       "      <th>Mean</th>\n",
       "      <th>Ampl</th>\n",
       "      <th>Région</th>\n",
       "    </tr>\n",
       "    <tr>\n",
       "      <th>City</th>\n",
       "      <th></th>\n",
       "      <th></th>\n",
       "      <th></th>\n",
       "      <th></th>\n",
       "      <th></th>\n",
       "      <th></th>\n",
       "      <th></th>\n",
       "      <th></th>\n",
       "      <th></th>\n",
       "      <th></th>\n",
       "      <th></th>\n",
       "      <th></th>\n",
       "      <th></th>\n",
       "      <th></th>\n",
       "      <th></th>\n",
       "      <th></th>\n",
       "      <th></th>\n",
       "    </tr>\n",
       "  </thead>\n",
       "  <tbody>\n",
       "    <tr>\n",
       "      <th>Bordeaux</th>\n",
       "      <td>5.6</td>\n",
       "      <td>6.6</td>\n",
       "      <td>10.3</td>\n",
       "      <td>12.8</td>\n",
       "      <td>15.8</td>\n",
       "      <td>19.3</td>\n",
       "      <td>20.9</td>\n",
       "      <td>21.0</td>\n",
       "      <td>18.6</td>\n",
       "      <td>13.8</td>\n",
       "      <td>9.1</td>\n",
       "      <td>6.2</td>\n",
       "      <td>44.50</td>\n",
       "      <td>-0.34</td>\n",
       "      <td>13.33</td>\n",
       "      <td>15.4</td>\n",
       "      <td>SO</td>\n",
       "    </tr>\n",
       "    <tr>\n",
       "      <th>Brest</th>\n",
       "      <td>6.1</td>\n",
       "      <td>5.8</td>\n",
       "      <td>7.8</td>\n",
       "      <td>9.2</td>\n",
       "      <td>11.6</td>\n",
       "      <td>14.4</td>\n",
       "      <td>15.6</td>\n",
       "      <td>16.0</td>\n",
       "      <td>14.7</td>\n",
       "      <td>12.0</td>\n",
       "      <td>9.0</td>\n",
       "      <td>7.0</td>\n",
       "      <td>48.24</td>\n",
       "      <td>-4.29</td>\n",
       "      <td>10.77</td>\n",
       "      <td>10.2</td>\n",
       "      <td>NO</td>\n",
       "    </tr>\n",
       "    <tr>\n",
       "      <th>Clermont</th>\n",
       "      <td>2.6</td>\n",
       "      <td>3.7</td>\n",
       "      <td>7.5</td>\n",
       "      <td>10.3</td>\n",
       "      <td>13.8</td>\n",
       "      <td>17.3</td>\n",
       "      <td>19.4</td>\n",
       "      <td>19.1</td>\n",
       "      <td>16.2</td>\n",
       "      <td>11.2</td>\n",
       "      <td>6.6</td>\n",
       "      <td>3.6</td>\n",
       "      <td>45.47</td>\n",
       "      <td>3.05</td>\n",
       "      <td>10.94</td>\n",
       "      <td>16.8</td>\n",
       "      <td>SE</td>\n",
       "    </tr>\n",
       "    <tr>\n",
       "      <th>Grenoble</th>\n",
       "      <td>1.5</td>\n",
       "      <td>3.2</td>\n",
       "      <td>7.7</td>\n",
       "      <td>10.6</td>\n",
       "      <td>14.5</td>\n",
       "      <td>17.8</td>\n",
       "      <td>20.1</td>\n",
       "      <td>19.5</td>\n",
       "      <td>16.7</td>\n",
       "      <td>11.4</td>\n",
       "      <td>6.5</td>\n",
       "      <td>2.3</td>\n",
       "      <td>45.10</td>\n",
       "      <td>5.43</td>\n",
       "      <td>10.98</td>\n",
       "      <td>18.6</td>\n",
       "      <td>SE</td>\n",
       "    </tr>\n",
       "    <tr>\n",
       "      <th>...</th>\n",
       "      <td>...</td>\n",
       "      <td>...</td>\n",
       "      <td>...</td>\n",
       "      <td>...</td>\n",
       "      <td>...</td>\n",
       "      <td>...</td>\n",
       "      <td>...</td>\n",
       "      <td>...</td>\n",
       "      <td>...</td>\n",
       "      <td>...</td>\n",
       "      <td>...</td>\n",
       "      <td>...</td>\n",
       "      <td>...</td>\n",
       "      <td>...</td>\n",
       "      <td>...</td>\n",
       "      <td>...</td>\n",
       "      <td>...</td>\n",
       "    </tr>\n",
       "    <tr>\n",
       "      <th>Rennes</th>\n",
       "      <td>4.8</td>\n",
       "      <td>5.3</td>\n",
       "      <td>7.9</td>\n",
       "      <td>10.1</td>\n",
       "      <td>13.1</td>\n",
       "      <td>16.2</td>\n",
       "      <td>17.9</td>\n",
       "      <td>17.8</td>\n",
       "      <td>15.7</td>\n",
       "      <td>11.6</td>\n",
       "      <td>7.8</td>\n",
       "      <td>5.4</td>\n",
       "      <td>48.05</td>\n",
       "      <td>-1.41</td>\n",
       "      <td>11.13</td>\n",
       "      <td>13.1</td>\n",
       "      <td>NO</td>\n",
       "    </tr>\n",
       "    <tr>\n",
       "      <th>Strasbourg</th>\n",
       "      <td>0.4</td>\n",
       "      <td>1.5</td>\n",
       "      <td>5.6</td>\n",
       "      <td>9.8</td>\n",
       "      <td>14.0</td>\n",
       "      <td>17.2</td>\n",
       "      <td>19.0</td>\n",
       "      <td>18.3</td>\n",
       "      <td>15.1</td>\n",
       "      <td>9.5</td>\n",
       "      <td>4.9</td>\n",
       "      <td>1.3</td>\n",
       "      <td>48.35</td>\n",
       "      <td>7.45</td>\n",
       "      <td>9.72</td>\n",
       "      <td>18.6</td>\n",
       "      <td>NE</td>\n",
       "    </tr>\n",
       "    <tr>\n",
       "      <th>Toulouse</th>\n",
       "      <td>4.7</td>\n",
       "      <td>5.6</td>\n",
       "      <td>9.2</td>\n",
       "      <td>11.6</td>\n",
       "      <td>14.9</td>\n",
       "      <td>18.7</td>\n",
       "      <td>20.9</td>\n",
       "      <td>20.9</td>\n",
       "      <td>18.3</td>\n",
       "      <td>13.3</td>\n",
       "      <td>8.6</td>\n",
       "      <td>5.5</td>\n",
       "      <td>43.36</td>\n",
       "      <td>1.26</td>\n",
       "      <td>12.68</td>\n",
       "      <td>16.2</td>\n",
       "      <td>SO</td>\n",
       "    </tr>\n",
       "    <tr>\n",
       "      <th>Vichy</th>\n",
       "      <td>2.4</td>\n",
       "      <td>3.4</td>\n",
       "      <td>7.1</td>\n",
       "      <td>9.9</td>\n",
       "      <td>13.6</td>\n",
       "      <td>17.1</td>\n",
       "      <td>19.3</td>\n",
       "      <td>18.8</td>\n",
       "      <td>16.0</td>\n",
       "      <td>11.0</td>\n",
       "      <td>6.6</td>\n",
       "      <td>3.4</td>\n",
       "      <td>46.08</td>\n",
       "      <td>3.26</td>\n",
       "      <td>10.72</td>\n",
       "      <td>16.9</td>\n",
       "      <td>SE</td>\n",
       "    </tr>\n",
       "  </tbody>\n",
       "</table>\n",
       "<p>15 rows × 17 columns</p>\n",
       "</div>"
      ],
      "text/plain": [
       "            Jan  Feb   Mar   Apr   May   Jun   Jul   Aug   Sep   Oct  Nov  \\\n",
       "City                                                                        \n",
       "Bordeaux    5.6  6.6  10.3  12.8  15.8  19.3  20.9  21.0  18.6  13.8  9.1   \n",
       "Brest       6.1  5.8   7.8   9.2  11.6  14.4  15.6  16.0  14.7  12.0  9.0   \n",
       "Clermont    2.6  3.7   7.5  10.3  13.8  17.3  19.4  19.1  16.2  11.2  6.6   \n",
       "Grenoble    1.5  3.2   7.7  10.6  14.5  17.8  20.1  19.5  16.7  11.4  6.5   \n",
       "...         ...  ...   ...   ...   ...   ...   ...   ...   ...   ...  ...   \n",
       "Rennes      4.8  5.3   7.9  10.1  13.1  16.2  17.9  17.8  15.7  11.6  7.8   \n",
       "Strasbourg  0.4  1.5   5.6   9.8  14.0  17.2  19.0  18.3  15.1   9.5  4.9   \n",
       "Toulouse    4.7  5.6   9.2  11.6  14.9  18.7  20.9  20.9  18.3  13.3  8.6   \n",
       "Vichy       2.4  3.4   7.1   9.9  13.6  17.1  19.3  18.8  16.0  11.0  6.6   \n",
       "\n",
       "            Dec   Lati  Long   Mean  Ampl Région  \n",
       "City                                              \n",
       "Bordeaux    6.2  44.50 -0.34  13.33  15.4     SO  \n",
       "Brest       7.0  48.24 -4.29  10.77  10.2     NO  \n",
       "Clermont    3.6  45.47  3.05  10.94  16.8     SE  \n",
       "Grenoble    2.3  45.10  5.43  10.98  18.6     SE  \n",
       "...         ...    ...   ...    ...   ...    ...  \n",
       "Rennes      5.4  48.05 -1.41  11.13  13.1     NO  \n",
       "Strasbourg  1.3  48.35  7.45   9.72  18.6     NE  \n",
       "Toulouse    5.5  43.36  1.26  12.68  16.2     SO  \n",
       "Vichy       3.4  46.08  3.26  10.72  16.9     SE  \n",
       "\n",
       "[15 rows x 17 columns]"
      ]
     },
     "execution_count": 42,
     "metadata": {},
     "output_type": "execute_result"
    }
   ],
   "source": [
    "french_cities"
   ]
  },
  {
   "cell_type": "markdown",
   "metadata": {
    "slideshow": {
     "slide_type": "slide"
    }
   },
   "source": [
    "# Modifying a dataframe with multiple indexing"
   ]
  },
  {
   "cell_type": "code",
   "execution_count": 43,
   "metadata": {
    "slideshow": {
     "slide_type": "fragment"
    }
   },
   "outputs": [
    {
     "data": {
      "text/plain": [
       "15.699999999999999"
      ]
     },
     "execution_count": 43,
     "metadata": {},
     "output_type": "execute_result"
    }
   ],
   "source": [
    "# french_cities['Rennes']['Sep'] = 25 # It does not works and breaks the DataFrame\n",
    "french_cities.loc['Rennes']['Sep'] # = 25 is the right way to do it"
   ]
  },
  {
   "cell_type": "code",
   "execution_count": 44,
   "metadata": {
    "slideshow": {
     "slide_type": "skip"
    }
   },
   "outputs": [
    {
     "data": {
      "text/html": [
       "<div>\n",
       "<style>\n",
       "    .dataframe thead tr:only-child th {\n",
       "        text-align: right;\n",
       "    }\n",
       "\n",
       "    .dataframe thead th {\n",
       "        text-align: left;\n",
       "    }\n",
       "\n",
       "    .dataframe tbody tr th {\n",
       "        vertical-align: top;\n",
       "    }\n",
       "</style>\n",
       "<table border=\"1\" class=\"dataframe\">\n",
       "  <thead>\n",
       "    <tr style=\"text-align: right;\">\n",
       "      <th></th>\n",
       "      <th>Jan</th>\n",
       "      <th>Feb</th>\n",
       "      <th>Mar</th>\n",
       "      <th>Apr</th>\n",
       "      <th>May</th>\n",
       "      <th>Jun</th>\n",
       "      <th>Jul</th>\n",
       "      <th>Aug</th>\n",
       "      <th>Sep</th>\n",
       "      <th>Oct</th>\n",
       "      <th>Nov</th>\n",
       "      <th>Dec</th>\n",
       "      <th>Lati</th>\n",
       "      <th>Long</th>\n",
       "      <th>Mean</th>\n",
       "      <th>Ampl</th>\n",
       "      <th>Région</th>\n",
       "    </tr>\n",
       "    <tr>\n",
       "      <th>City</th>\n",
       "      <th></th>\n",
       "      <th></th>\n",
       "      <th></th>\n",
       "      <th></th>\n",
       "      <th></th>\n",
       "      <th></th>\n",
       "      <th></th>\n",
       "      <th></th>\n",
       "      <th></th>\n",
       "      <th></th>\n",
       "      <th></th>\n",
       "      <th></th>\n",
       "      <th></th>\n",
       "      <th></th>\n",
       "      <th></th>\n",
       "      <th></th>\n",
       "      <th></th>\n",
       "    </tr>\n",
       "  </thead>\n",
       "  <tbody>\n",
       "    <tr>\n",
       "      <th>Bordeaux</th>\n",
       "      <td>5.6</td>\n",
       "      <td>6.6</td>\n",
       "      <td>10.3</td>\n",
       "      <td>12.8</td>\n",
       "      <td>15.8</td>\n",
       "      <td>19.3</td>\n",
       "      <td>20.9</td>\n",
       "      <td>21.0</td>\n",
       "      <td>18.6</td>\n",
       "      <td>13.8</td>\n",
       "      <td>9.1</td>\n",
       "      <td>6.2</td>\n",
       "      <td>44.50</td>\n",
       "      <td>-0.34</td>\n",
       "      <td>13.33</td>\n",
       "      <td>15.4</td>\n",
       "      <td>SO</td>\n",
       "    </tr>\n",
       "    <tr>\n",
       "      <th>Brest</th>\n",
       "      <td>6.1</td>\n",
       "      <td>5.8</td>\n",
       "      <td>7.8</td>\n",
       "      <td>9.2</td>\n",
       "      <td>11.6</td>\n",
       "      <td>14.4</td>\n",
       "      <td>15.6</td>\n",
       "      <td>16.0</td>\n",
       "      <td>14.7</td>\n",
       "      <td>12.0</td>\n",
       "      <td>9.0</td>\n",
       "      <td>7.0</td>\n",
       "      <td>48.24</td>\n",
       "      <td>-4.29</td>\n",
       "      <td>10.77</td>\n",
       "      <td>10.2</td>\n",
       "      <td>NO</td>\n",
       "    </tr>\n",
       "    <tr>\n",
       "      <th>Clermont</th>\n",
       "      <td>2.6</td>\n",
       "      <td>3.7</td>\n",
       "      <td>7.5</td>\n",
       "      <td>10.3</td>\n",
       "      <td>13.8</td>\n",
       "      <td>17.3</td>\n",
       "      <td>19.4</td>\n",
       "      <td>19.1</td>\n",
       "      <td>16.2</td>\n",
       "      <td>11.2</td>\n",
       "      <td>6.6</td>\n",
       "      <td>3.6</td>\n",
       "      <td>45.47</td>\n",
       "      <td>3.05</td>\n",
       "      <td>10.94</td>\n",
       "      <td>16.8</td>\n",
       "      <td>SE</td>\n",
       "    </tr>\n",
       "    <tr>\n",
       "      <th>Grenoble</th>\n",
       "      <td>1.5</td>\n",
       "      <td>3.2</td>\n",
       "      <td>7.7</td>\n",
       "      <td>10.6</td>\n",
       "      <td>14.5</td>\n",
       "      <td>17.8</td>\n",
       "      <td>20.1</td>\n",
       "      <td>19.5</td>\n",
       "      <td>16.7</td>\n",
       "      <td>11.4</td>\n",
       "      <td>6.5</td>\n",
       "      <td>2.3</td>\n",
       "      <td>45.10</td>\n",
       "      <td>5.43</td>\n",
       "      <td>10.98</td>\n",
       "      <td>18.6</td>\n",
       "      <td>SE</td>\n",
       "    </tr>\n",
       "    <tr>\n",
       "      <th>...</th>\n",
       "      <td>...</td>\n",
       "      <td>...</td>\n",
       "      <td>...</td>\n",
       "      <td>...</td>\n",
       "      <td>...</td>\n",
       "      <td>...</td>\n",
       "      <td>...</td>\n",
       "      <td>...</td>\n",
       "      <td>...</td>\n",
       "      <td>...</td>\n",
       "      <td>...</td>\n",
       "      <td>...</td>\n",
       "      <td>...</td>\n",
       "      <td>...</td>\n",
       "      <td>...</td>\n",
       "      <td>...</td>\n",
       "      <td>...</td>\n",
       "    </tr>\n",
       "    <tr>\n",
       "      <th>Rennes</th>\n",
       "      <td>4.8</td>\n",
       "      <td>5.3</td>\n",
       "      <td>7.9</td>\n",
       "      <td>10.1</td>\n",
       "      <td>13.1</td>\n",
       "      <td>16.2</td>\n",
       "      <td>17.9</td>\n",
       "      <td>17.8</td>\n",
       "      <td>15.7</td>\n",
       "      <td>11.6</td>\n",
       "      <td>7.8</td>\n",
       "      <td>5.4</td>\n",
       "      <td>48.05</td>\n",
       "      <td>-1.41</td>\n",
       "      <td>11.13</td>\n",
       "      <td>13.1</td>\n",
       "      <td>NO</td>\n",
       "    </tr>\n",
       "    <tr>\n",
       "      <th>Strasbourg</th>\n",
       "      <td>0.4</td>\n",
       "      <td>1.5</td>\n",
       "      <td>5.6</td>\n",
       "      <td>9.8</td>\n",
       "      <td>14.0</td>\n",
       "      <td>17.2</td>\n",
       "      <td>19.0</td>\n",
       "      <td>18.3</td>\n",
       "      <td>15.1</td>\n",
       "      <td>9.5</td>\n",
       "      <td>4.9</td>\n",
       "      <td>1.3</td>\n",
       "      <td>48.35</td>\n",
       "      <td>7.45</td>\n",
       "      <td>9.72</td>\n",
       "      <td>18.6</td>\n",
       "      <td>NE</td>\n",
       "    </tr>\n",
       "    <tr>\n",
       "      <th>Toulouse</th>\n",
       "      <td>4.7</td>\n",
       "      <td>5.6</td>\n",
       "      <td>9.2</td>\n",
       "      <td>11.6</td>\n",
       "      <td>14.9</td>\n",
       "      <td>18.7</td>\n",
       "      <td>20.9</td>\n",
       "      <td>20.9</td>\n",
       "      <td>18.3</td>\n",
       "      <td>13.3</td>\n",
       "      <td>8.6</td>\n",
       "      <td>5.5</td>\n",
       "      <td>43.36</td>\n",
       "      <td>1.26</td>\n",
       "      <td>12.68</td>\n",
       "      <td>16.2</td>\n",
       "      <td>SO</td>\n",
       "    </tr>\n",
       "    <tr>\n",
       "      <th>Vichy</th>\n",
       "      <td>2.4</td>\n",
       "      <td>3.4</td>\n",
       "      <td>7.1</td>\n",
       "      <td>9.9</td>\n",
       "      <td>13.6</td>\n",
       "      <td>17.1</td>\n",
       "      <td>19.3</td>\n",
       "      <td>18.8</td>\n",
       "      <td>16.0</td>\n",
       "      <td>11.0</td>\n",
       "      <td>6.6</td>\n",
       "      <td>3.4</td>\n",
       "      <td>46.08</td>\n",
       "      <td>3.26</td>\n",
       "      <td>10.72</td>\n",
       "      <td>16.9</td>\n",
       "      <td>SE</td>\n",
       "    </tr>\n",
       "  </tbody>\n",
       "</table>\n",
       "<p>15 rows × 17 columns</p>\n",
       "</div>"
      ],
      "text/plain": [
       "            Jan  Feb   Mar   Apr   May   Jun   Jul   Aug   Sep   Oct  Nov  \\\n",
       "City                                                                        \n",
       "Bordeaux    5.6  6.6  10.3  12.8  15.8  19.3  20.9  21.0  18.6  13.8  9.1   \n",
       "Brest       6.1  5.8   7.8   9.2  11.6  14.4  15.6  16.0  14.7  12.0  9.0   \n",
       "Clermont    2.6  3.7   7.5  10.3  13.8  17.3  19.4  19.1  16.2  11.2  6.6   \n",
       "Grenoble    1.5  3.2   7.7  10.6  14.5  17.8  20.1  19.5  16.7  11.4  6.5   \n",
       "...         ...  ...   ...   ...   ...   ...   ...   ...   ...   ...  ...   \n",
       "Rennes      4.8  5.3   7.9  10.1  13.1  16.2  17.9  17.8  15.7  11.6  7.8   \n",
       "Strasbourg  0.4  1.5   5.6   9.8  14.0  17.2  19.0  18.3  15.1   9.5  4.9   \n",
       "Toulouse    4.7  5.6   9.2  11.6  14.9  18.7  20.9  20.9  18.3  13.3  8.6   \n",
       "Vichy       2.4  3.4   7.1   9.9  13.6  17.1  19.3  18.8  16.0  11.0  6.6   \n",
       "\n",
       "            Dec   Lati  Long   Mean  Ampl Région  \n",
       "City                                              \n",
       "Bordeaux    6.2  44.50 -0.34  13.33  15.4     SO  \n",
       "Brest       7.0  48.24 -4.29  10.77  10.2     NO  \n",
       "Clermont    3.6  45.47  3.05  10.94  16.8     SE  \n",
       "Grenoble    2.3  45.10  5.43  10.98  18.6     SE  \n",
       "...         ...    ...   ...    ...   ...    ...  \n",
       "Rennes      5.4  48.05 -1.41  11.13  13.1     NO  \n",
       "Strasbourg  1.3  48.35  7.45   9.72  18.6     NE  \n",
       "Toulouse    5.5  43.36  1.26  12.68  16.2     SO  \n",
       "Vichy       3.4  46.08  3.26  10.72  16.9     SE  \n",
       "\n",
       "[15 rows x 17 columns]"
      ]
     },
     "execution_count": 44,
     "metadata": {},
     "output_type": "execute_result"
    }
   ],
   "source": [
    "french_cities"
   ]
  },
  {
   "cell_type": "markdown",
   "metadata": {
    "slideshow": {
     "slide_type": "slide"
    }
   },
   "source": [
    "# Working with dates and times\n",
    "\n",
    "Index dtype is NumPy's new 'int64Index':"
   ]
  },
  {
   "cell_type": "code",
   "execution_count": 45,
   "metadata": {
    "slideshow": {
     "slide_type": "fragment"
    }
   },
   "outputs": [
    {
     "data": {
      "text/plain": [
       "dtype('int64')"
      ]
     },
     "execution_count": 45,
     "metadata": {},
     "output_type": "execute_result"
    }
   ],
   "source": [
    "full_globe_temp.index.dtype"
   ]
  },
  {
   "cell_type": "markdown",
   "metadata": {
    "slideshow": {
     "slide_type": "fragment"
    }
   },
   "source": [
    "Use Real datetime index and add a flag to signal if the value is before or after the great depression's black Friday:"
   ]
  },
  {
   "cell_type": "code",
   "execution_count": 46,
   "metadata": {
    "slideshow": {
     "slide_type": "fragment"
    }
   },
   "outputs": [
    {
     "data": {
      "text/plain": [
       "array([False, False, False, False, False, False, False, False, False,\n",
       "       False, False, False, False, False, False, False, False, False,\n",
       "       False, False, False, False, False, False, False, False, False,\n",
       "       False, False, False, False, False, False, False, False, False,\n",
       "       False, False, False, False, False, False, False, False, False,\n",
       "       False, False, False, False, False,  True,  True,  True,  True,\n",
       "        True,  True,  True,  True,  True,  True,  True,  True,  True,\n",
       "        True,  True,  True,  True,  True,  True,  True,  True,  True,\n",
       "        True,  True,  True,  True,  True,  True,  True,  True,  True,\n",
       "        True,  True,  True,  True,  True,  True,  True,  True,  True,\n",
       "        True,  True,  True,  True,  True,  True,  True,  True,  True,\n",
       "        True,  True,  True,  True,  True,  True,  True,  True,  True,\n",
       "        True,  True,  True,  True,  True,  True,  True,  True,  True,\n",
       "        True,  True,  True,  True,  True,  True,  True,  True,  True,\n",
       "        True,  True,  True,  True,  True,  True], dtype=bool)"
      ]
     },
     "execution_count": 46,
     "metadata": {},
     "output_type": "execute_result"
    }
   ],
   "source": [
    "black_friday = pd.to_datetime('1929-10-29')\n",
    "full_globe_temp.index  = pd.to_datetime(full_globe_temp.index,format='%Y')\n",
    "full_globe_temp.index > black_friday"
   ]
  },
  {
   "cell_type": "markdown",
   "metadata": {
    "slideshow": {
     "slide_type": "slide"
    }
   },
   "source": [
    "# Timestamps to periods\n",
    "Convert its index from timestamp to period is more meaningfull since it was measured and averaged over the year...\n"
   ]
  },
  {
   "cell_type": "code",
   "execution_count": 47,
   "metadata": {
    "slideshow": {
     "slide_type": "fragment"
    }
   },
   "outputs": [
    {
     "data": {
      "text/plain": [
       "year\n",
       "1880   -0.1373\n",
       "1881   -0.0600\n",
       "1882   -0.1130\n",
       "1883   -0.1505\n",
       "         ...  \n",
       "2008    0.4842\n",
       "2009    0.5588\n",
       "2010    0.6147\n",
       "2011       NaN\n",
       "Freq: A-DEC, Name: mean temp, Length: 132, dtype: float64"
      ]
     },
     "execution_count": 47,
     "metadata": {},
     "output_type": "execute_result"
    }
   ],
   "source": [
    "full_globe_temp.index = full_globe_temp.index.to_period()\n",
    "full_globe_temp"
   ]
  },
  {
   "cell_type": "code",
   "execution_count": 48,
   "metadata": {
    "slideshow": {
     "slide_type": "fragment"
    }
   },
   "outputs": [
    {
     "data": {
      "text/plain": [
       "period[A-DEC]"
      ]
     },
     "execution_count": 48,
     "metadata": {},
     "output_type": "execute_result"
    }
   ],
   "source": [
    "full_globe_temp.index.dtype"
   ]
  },
  {
   "cell_type": "markdown",
   "metadata": {
    "slideshow": {
     "slide_type": "slide"
    }
   },
   "source": [
    "## Resampling\n",
    "\n",
    "Series can be resample, downsample or upsample.\n",
    "- Frequencies can be specified as strings: \"us\", \"ms\", \"S\", \"T\", \"H\", \"D\", \"B\", \"W\", \"M\", \"A\", \"3min\", \"2h20\", ...\n",
    "- More aliases at http://pandas.pydata.org/pandas-docs/stable/timeseries.html#offset-aliases\n",
    "\n",
    "### Series converted to 10 year blocks:"
   ]
  },
  {
   "cell_type": "code",
   "execution_count": 49,
   "metadata": {
    "slideshow": {
     "slide_type": "fragment"
    }
   },
   "outputs": [
    {
     "data": {
      "text/plain": [
       "year\n",
       "1880-12-31   -0.13730\n",
       "1890-12-31   -0.16727\n",
       "1900-12-31   -0.20713\n",
       "1910-12-31   -0.31178\n",
       "               ...   \n",
       "1990-12-31    0.21704\n",
       "2000-12-31    0.36462\n",
       "2010-12-31    0.56116\n",
       "2020-12-31        NaN\n",
       "Freq: 10A-DEC, Name: mean temp, Length: 15, dtype: float64"
      ]
     },
     "execution_count": 49,
     "metadata": {},
     "output_type": "execute_result"
    }
   ],
   "source": [
    "full_globe_temp.resample(\"10A\").mean()"
   ]
  },
  {
   "cell_type": "markdown",
   "metadata": {
    "slideshow": {
     "slide_type": "slide"
    }
   },
   "source": [
    "### Upscale to a monthly series"
   ]
  },
  {
   "cell_type": "code",
   "execution_count": 50,
   "metadata": {
    "slideshow": {
     "slide_type": "fragment"
    }
   },
   "outputs": [
    {
     "data": {
      "text/plain": [
       "year\n",
       "1880-01   -0.1373\n",
       "1880-02       NaN\n",
       "1880-03       NaN\n",
       "1880-04       NaN\n",
       "            ...  \n",
       "2011-09       NaN\n",
       "2011-10       NaN\n",
       "2011-11       NaN\n",
       "2011-12       NaN\n",
       "Freq: M, Name: mean temp, Length: 1584, dtype: float64"
      ]
     },
     "execution_count": 50,
     "metadata": {},
     "output_type": "execute_result"
    }
   ],
   "source": [
    "full_globe_temp.resample(\"M\").mean()"
   ]
  },
  {
   "cell_type": "markdown",
   "metadata": {
    "slideshow": {
     "slide_type": "slide"
    }
   },
   "source": [
    "# Transforming datasets"
   ]
  },
  {
   "cell_type": "code",
   "execution_count": 51,
   "metadata": {
    "slideshow": {
     "slide_type": "fragment"
    }
   },
   "outputs": [
    {
     "data": {
      "text/plain": [
       "(9.7200000000000006, 18.600000000000001)"
      ]
     },
     "execution_count": 51,
     "metadata": {},
     "output_type": "execute_result"
    }
   ],
   "source": [
    "french_cities['Mean'].min(), french_cities['Ampl'].max()"
   ]
  },
  {
   "cell_type": "markdown",
   "metadata": {
    "slideshow": {
     "slide_type": "fragment"
    }
   },
   "source": [
    "## Apply\n",
    "\n",
    "Let's convert the temperature mean from Celsius to Fahrenheit degree."
   ]
  },
  {
   "cell_type": "code",
   "execution_count": 52,
   "metadata": {
    "slideshow": {
     "slide_type": "fragment"
    }
   },
   "outputs": [
    {
     "data": {
      "text/plain": [
       "City\n",
       "Bordeaux      55.994\n",
       "Brest         51.386\n",
       "Clermont      51.692\n",
       "Grenoble      51.764\n",
       "               ...  \n",
       "Rennes        52.034\n",
       "Strasbourg    49.496\n",
       "Toulouse      54.824\n",
       "Vichy         51.296\n",
       "Name: Mean, Length: 15, dtype: float64"
      ]
     },
     "execution_count": 52,
     "metadata": {},
     "output_type": "execute_result"
    }
   ],
   "source": [
    "fahrenheit = lambda T: T*9/5+32\n",
    "french_cities['Mean'].apply(fahrenheit)"
   ]
  },
  {
   "cell_type": "markdown",
   "metadata": {
    "slideshow": {
     "slide_type": "slide"
    }
   },
   "source": [
    "## Sort"
   ]
  },
  {
   "cell_type": "code",
   "execution_count": 53,
   "metadata": {
    "slideshow": {
     "slide_type": "fragment"
    }
   },
   "outputs": [
    {
     "data": {
      "text/html": [
       "<div>\n",
       "<style>\n",
       "    .dataframe thead tr:only-child th {\n",
       "        text-align: right;\n",
       "    }\n",
       "\n",
       "    .dataframe thead th {\n",
       "        text-align: left;\n",
       "    }\n",
       "\n",
       "    .dataframe tbody tr th {\n",
       "        vertical-align: top;\n",
       "    }\n",
       "</style>\n",
       "<table border=\"1\" class=\"dataframe\">\n",
       "  <thead>\n",
       "    <tr style=\"text-align: right;\">\n",
       "      <th></th>\n",
       "      <th>Jan</th>\n",
       "      <th>Feb</th>\n",
       "      <th>Mar</th>\n",
       "      <th>Apr</th>\n",
       "      <th>May</th>\n",
       "      <th>Jun</th>\n",
       "      <th>Jul</th>\n",
       "      <th>Aug</th>\n",
       "      <th>Sep</th>\n",
       "      <th>Oct</th>\n",
       "      <th>Nov</th>\n",
       "      <th>Dec</th>\n",
       "      <th>Lati</th>\n",
       "      <th>Long</th>\n",
       "      <th>Mean</th>\n",
       "      <th>Ampl</th>\n",
       "      <th>Région</th>\n",
       "    </tr>\n",
       "    <tr>\n",
       "      <th>City</th>\n",
       "      <th></th>\n",
       "      <th></th>\n",
       "      <th></th>\n",
       "      <th></th>\n",
       "      <th></th>\n",
       "      <th></th>\n",
       "      <th></th>\n",
       "      <th></th>\n",
       "      <th></th>\n",
       "      <th></th>\n",
       "      <th></th>\n",
       "      <th></th>\n",
       "      <th></th>\n",
       "      <th></th>\n",
       "      <th></th>\n",
       "      <th></th>\n",
       "      <th></th>\n",
       "    </tr>\n",
       "  </thead>\n",
       "  <tbody>\n",
       "    <tr>\n",
       "      <th>Marseille</th>\n",
       "      <td>5.5</td>\n",
       "      <td>6.6</td>\n",
       "      <td>10.0</td>\n",
       "      <td>13.0</td>\n",
       "      <td>16.8</td>\n",
       "      <td>20.8</td>\n",
       "      <td>23.3</td>\n",
       "      <td>22.8</td>\n",
       "      <td>19.9</td>\n",
       "      <td>15.0</td>\n",
       "      <td>10.2</td>\n",
       "      <td>6.9</td>\n",
       "      <td>43.18</td>\n",
       "      <td>5.24</td>\n",
       "      <td>14.23</td>\n",
       "      <td>17.8</td>\n",
       "      <td>SE</td>\n",
       "    </tr>\n",
       "    <tr>\n",
       "      <th>Montpellier</th>\n",
       "      <td>5.6</td>\n",
       "      <td>6.7</td>\n",
       "      <td>9.9</td>\n",
       "      <td>12.8</td>\n",
       "      <td>16.2</td>\n",
       "      <td>20.1</td>\n",
       "      <td>22.7</td>\n",
       "      <td>22.3</td>\n",
       "      <td>19.3</td>\n",
       "      <td>14.6</td>\n",
       "      <td>10.0</td>\n",
       "      <td>6.5</td>\n",
       "      <td>43.36</td>\n",
       "      <td>3.53</td>\n",
       "      <td>13.89</td>\n",
       "      <td>17.1</td>\n",
       "      <td>SE</td>\n",
       "    </tr>\n",
       "    <tr>\n",
       "      <th>Toulouse</th>\n",
       "      <td>4.7</td>\n",
       "      <td>5.6</td>\n",
       "      <td>9.2</td>\n",
       "      <td>11.6</td>\n",
       "      <td>14.9</td>\n",
       "      <td>18.7</td>\n",
       "      <td>20.9</td>\n",
       "      <td>20.9</td>\n",
       "      <td>18.3</td>\n",
       "      <td>13.3</td>\n",
       "      <td>8.6</td>\n",
       "      <td>5.5</td>\n",
       "      <td>43.36</td>\n",
       "      <td>1.26</td>\n",
       "      <td>12.68</td>\n",
       "      <td>16.2</td>\n",
       "      <td>SO</td>\n",
       "    </tr>\n",
       "    <tr>\n",
       "      <th>Nice</th>\n",
       "      <td>7.5</td>\n",
       "      <td>8.5</td>\n",
       "      <td>10.8</td>\n",
       "      <td>13.3</td>\n",
       "      <td>16.7</td>\n",
       "      <td>20.1</td>\n",
       "      <td>22.7</td>\n",
       "      <td>22.5</td>\n",
       "      <td>20.3</td>\n",
       "      <td>16.0</td>\n",
       "      <td>11.5</td>\n",
       "      <td>8.2</td>\n",
       "      <td>43.42</td>\n",
       "      <td>7.15</td>\n",
       "      <td>14.84</td>\n",
       "      <td>15.2</td>\n",
       "      <td>SE</td>\n",
       "    </tr>\n",
       "    <tr>\n",
       "      <th>...</th>\n",
       "      <td>...</td>\n",
       "      <td>...</td>\n",
       "      <td>...</td>\n",
       "      <td>...</td>\n",
       "      <td>...</td>\n",
       "      <td>...</td>\n",
       "      <td>...</td>\n",
       "      <td>...</td>\n",
       "      <td>...</td>\n",
       "      <td>...</td>\n",
       "      <td>...</td>\n",
       "      <td>...</td>\n",
       "      <td>...</td>\n",
       "      <td>...</td>\n",
       "      <td>...</td>\n",
       "      <td>...</td>\n",
       "      <td>...</td>\n",
       "    </tr>\n",
       "    <tr>\n",
       "      <th>Brest</th>\n",
       "      <td>6.1</td>\n",
       "      <td>5.8</td>\n",
       "      <td>7.8</td>\n",
       "      <td>9.2</td>\n",
       "      <td>11.6</td>\n",
       "      <td>14.4</td>\n",
       "      <td>15.6</td>\n",
       "      <td>16.0</td>\n",
       "      <td>14.7</td>\n",
       "      <td>12.0</td>\n",
       "      <td>9.0</td>\n",
       "      <td>7.0</td>\n",
       "      <td>48.24</td>\n",
       "      <td>-4.29</td>\n",
       "      <td>10.77</td>\n",
       "      <td>10.2</td>\n",
       "      <td>NO</td>\n",
       "    </tr>\n",
       "    <tr>\n",
       "      <th>Strasbourg</th>\n",
       "      <td>0.4</td>\n",
       "      <td>1.5</td>\n",
       "      <td>5.6</td>\n",
       "      <td>9.8</td>\n",
       "      <td>14.0</td>\n",
       "      <td>17.2</td>\n",
       "      <td>19.0</td>\n",
       "      <td>18.3</td>\n",
       "      <td>15.1</td>\n",
       "      <td>9.5</td>\n",
       "      <td>4.9</td>\n",
       "      <td>1.3</td>\n",
       "      <td>48.35</td>\n",
       "      <td>7.45</td>\n",
       "      <td>9.72</td>\n",
       "      <td>18.6</td>\n",
       "      <td>NE</td>\n",
       "    </tr>\n",
       "    <tr>\n",
       "      <th>Paris</th>\n",
       "      <td>3.4</td>\n",
       "      <td>4.1</td>\n",
       "      <td>7.6</td>\n",
       "      <td>10.7</td>\n",
       "      <td>14.3</td>\n",
       "      <td>17.5</td>\n",
       "      <td>19.1</td>\n",
       "      <td>18.7</td>\n",
       "      <td>16.0</td>\n",
       "      <td>11.4</td>\n",
       "      <td>7.1</td>\n",
       "      <td>4.3</td>\n",
       "      <td>48.52</td>\n",
       "      <td>2.20</td>\n",
       "      <td>11.18</td>\n",
       "      <td>15.7</td>\n",
       "      <td>NE</td>\n",
       "    </tr>\n",
       "    <tr>\n",
       "      <th>Lille</th>\n",
       "      <td>2.4</td>\n",
       "      <td>2.9</td>\n",
       "      <td>6.0</td>\n",
       "      <td>8.9</td>\n",
       "      <td>12.4</td>\n",
       "      <td>15.3</td>\n",
       "      <td>17.1</td>\n",
       "      <td>17.1</td>\n",
       "      <td>14.7</td>\n",
       "      <td>10.4</td>\n",
       "      <td>6.1</td>\n",
       "      <td>3.5</td>\n",
       "      <td>50.38</td>\n",
       "      <td>3.04</td>\n",
       "      <td>9.73</td>\n",
       "      <td>14.7</td>\n",
       "      <td>NE</td>\n",
       "    </tr>\n",
       "  </tbody>\n",
       "</table>\n",
       "<p>15 rows × 17 columns</p>\n",
       "</div>"
      ],
      "text/plain": [
       "             Jan  Feb   Mar   Apr   May   Jun   Jul   Aug   Sep   Oct   Nov  \\\n",
       "City                                                                          \n",
       "Marseille    5.5  6.6  10.0  13.0  16.8  20.8  23.3  22.8  19.9  15.0  10.2   \n",
       "Montpellier  5.6  6.7   9.9  12.8  16.2  20.1  22.7  22.3  19.3  14.6  10.0   \n",
       "Toulouse     4.7  5.6   9.2  11.6  14.9  18.7  20.9  20.9  18.3  13.3   8.6   \n",
       "Nice         7.5  8.5  10.8  13.3  16.7  20.1  22.7  22.5  20.3  16.0  11.5   \n",
       "...          ...  ...   ...   ...   ...   ...   ...   ...   ...   ...   ...   \n",
       "Brest        6.1  5.8   7.8   9.2  11.6  14.4  15.6  16.0  14.7  12.0   9.0   \n",
       "Strasbourg   0.4  1.5   5.6   9.8  14.0  17.2  19.0  18.3  15.1   9.5   4.9   \n",
       "Paris        3.4  4.1   7.6  10.7  14.3  17.5  19.1  18.7  16.0  11.4   7.1   \n",
       "Lille        2.4  2.9   6.0   8.9  12.4  15.3  17.1  17.1  14.7  10.4   6.1   \n",
       "\n",
       "             Dec   Lati  Long   Mean  Ampl Région  \n",
       "City                                               \n",
       "Marseille    6.9  43.18  5.24  14.23  17.8     SE  \n",
       "Montpellier  6.5  43.36  3.53  13.89  17.1     SE  \n",
       "Toulouse     5.5  43.36  1.26  12.68  16.2     SO  \n",
       "Nice         8.2  43.42  7.15  14.84  15.2     SE  \n",
       "...          ...    ...   ...    ...   ...    ...  \n",
       "Brest        7.0  48.24 -4.29  10.77  10.2     NO  \n",
       "Strasbourg   1.3  48.35  7.45   9.72  18.6     NE  \n",
       "Paris        4.3  48.52  2.20  11.18  15.7     NE  \n",
       "Lille        3.5  50.38  3.04   9.73  14.7     NE  \n",
       "\n",
       "[15 rows x 17 columns]"
      ]
     },
     "execution_count": 53,
     "metadata": {},
     "output_type": "execute_result"
    }
   ],
   "source": [
    "french_cities.sort_values(by='Lati')"
   ]
  },
  {
   "cell_type": "code",
   "execution_count": 54,
   "metadata": {
    "slideshow": {
     "slide_type": "slide"
    }
   },
   "outputs": [
    {
     "data": {
      "text/html": [
       "<div>\n",
       "<style>\n",
       "    .dataframe thead tr:only-child th {\n",
       "        text-align: right;\n",
       "    }\n",
       "\n",
       "    .dataframe thead th {\n",
       "        text-align: left;\n",
       "    }\n",
       "\n",
       "    .dataframe tbody tr th {\n",
       "        vertical-align: top;\n",
       "    }\n",
       "</style>\n",
       "<table border=\"1\" class=\"dataframe\">\n",
       "  <thead>\n",
       "    <tr style=\"text-align: right;\">\n",
       "      <th></th>\n",
       "      <th>Jan</th>\n",
       "      <th>Feb</th>\n",
       "      <th>Mar</th>\n",
       "      <th>Apr</th>\n",
       "      <th>May</th>\n",
       "      <th>Jun</th>\n",
       "      <th>Jul</th>\n",
       "      <th>Aug</th>\n",
       "      <th>Sep</th>\n",
       "      <th>Oct</th>\n",
       "      <th>Nov</th>\n",
       "      <th>Dec</th>\n",
       "      <th>Lati</th>\n",
       "      <th>Long</th>\n",
       "      <th>Mean</th>\n",
       "      <th>Ampl</th>\n",
       "      <th>Région</th>\n",
       "    </tr>\n",
       "    <tr>\n",
       "      <th>City</th>\n",
       "      <th></th>\n",
       "      <th></th>\n",
       "      <th></th>\n",
       "      <th></th>\n",
       "      <th></th>\n",
       "      <th></th>\n",
       "      <th></th>\n",
       "      <th></th>\n",
       "      <th></th>\n",
       "      <th></th>\n",
       "      <th></th>\n",
       "      <th></th>\n",
       "      <th></th>\n",
       "      <th></th>\n",
       "      <th></th>\n",
       "      <th></th>\n",
       "      <th></th>\n",
       "    </tr>\n",
       "  </thead>\n",
       "  <tbody>\n",
       "    <tr>\n",
       "      <th>Lille</th>\n",
       "      <td>2.4</td>\n",
       "      <td>2.9</td>\n",
       "      <td>6.0</td>\n",
       "      <td>8.9</td>\n",
       "      <td>12.4</td>\n",
       "      <td>15.3</td>\n",
       "      <td>17.1</td>\n",
       "      <td>17.1</td>\n",
       "      <td>14.7</td>\n",
       "      <td>10.4</td>\n",
       "      <td>6.1</td>\n",
       "      <td>3.5</td>\n",
       "      <td>50.38</td>\n",
       "      <td>3.04</td>\n",
       "      <td>9.73</td>\n",
       "      <td>14.7</td>\n",
       "      <td>NE</td>\n",
       "    </tr>\n",
       "    <tr>\n",
       "      <th>Paris</th>\n",
       "      <td>3.4</td>\n",
       "      <td>4.1</td>\n",
       "      <td>7.6</td>\n",
       "      <td>10.7</td>\n",
       "      <td>14.3</td>\n",
       "      <td>17.5</td>\n",
       "      <td>19.1</td>\n",
       "      <td>18.7</td>\n",
       "      <td>16.0</td>\n",
       "      <td>11.4</td>\n",
       "      <td>7.1</td>\n",
       "      <td>4.3</td>\n",
       "      <td>48.52</td>\n",
       "      <td>2.20</td>\n",
       "      <td>11.18</td>\n",
       "      <td>15.7</td>\n",
       "      <td>NE</td>\n",
       "    </tr>\n",
       "    <tr>\n",
       "      <th>Strasbourg</th>\n",
       "      <td>0.4</td>\n",
       "      <td>1.5</td>\n",
       "      <td>5.6</td>\n",
       "      <td>9.8</td>\n",
       "      <td>14.0</td>\n",
       "      <td>17.2</td>\n",
       "      <td>19.0</td>\n",
       "      <td>18.3</td>\n",
       "      <td>15.1</td>\n",
       "      <td>9.5</td>\n",
       "      <td>4.9</td>\n",
       "      <td>1.3</td>\n",
       "      <td>48.35</td>\n",
       "      <td>7.45</td>\n",
       "      <td>9.72</td>\n",
       "      <td>18.6</td>\n",
       "      <td>NE</td>\n",
       "    </tr>\n",
       "    <tr>\n",
       "      <th>Brest</th>\n",
       "      <td>6.1</td>\n",
       "      <td>5.8</td>\n",
       "      <td>7.8</td>\n",
       "      <td>9.2</td>\n",
       "      <td>11.6</td>\n",
       "      <td>14.4</td>\n",
       "      <td>15.6</td>\n",
       "      <td>16.0</td>\n",
       "      <td>14.7</td>\n",
       "      <td>12.0</td>\n",
       "      <td>9.0</td>\n",
       "      <td>7.0</td>\n",
       "      <td>48.24</td>\n",
       "      <td>-4.29</td>\n",
       "      <td>10.77</td>\n",
       "      <td>10.2</td>\n",
       "      <td>NO</td>\n",
       "    </tr>\n",
       "    <tr>\n",
       "      <th>...</th>\n",
       "      <td>...</td>\n",
       "      <td>...</td>\n",
       "      <td>...</td>\n",
       "      <td>...</td>\n",
       "      <td>...</td>\n",
       "      <td>...</td>\n",
       "      <td>...</td>\n",
       "      <td>...</td>\n",
       "      <td>...</td>\n",
       "      <td>...</td>\n",
       "      <td>...</td>\n",
       "      <td>...</td>\n",
       "      <td>...</td>\n",
       "      <td>...</td>\n",
       "      <td>...</td>\n",
       "      <td>...</td>\n",
       "      <td>...</td>\n",
       "    </tr>\n",
       "    <tr>\n",
       "      <th>Nice</th>\n",
       "      <td>7.5</td>\n",
       "      <td>8.5</td>\n",
       "      <td>10.8</td>\n",
       "      <td>13.3</td>\n",
       "      <td>16.7</td>\n",
       "      <td>20.1</td>\n",
       "      <td>22.7</td>\n",
       "      <td>22.5</td>\n",
       "      <td>20.3</td>\n",
       "      <td>16.0</td>\n",
       "      <td>11.5</td>\n",
       "      <td>8.2</td>\n",
       "      <td>43.42</td>\n",
       "      <td>7.15</td>\n",
       "      <td>14.84</td>\n",
       "      <td>15.2</td>\n",
       "      <td>SE</td>\n",
       "    </tr>\n",
       "    <tr>\n",
       "      <th>Montpellier</th>\n",
       "      <td>5.6</td>\n",
       "      <td>6.7</td>\n",
       "      <td>9.9</td>\n",
       "      <td>12.8</td>\n",
       "      <td>16.2</td>\n",
       "      <td>20.1</td>\n",
       "      <td>22.7</td>\n",
       "      <td>22.3</td>\n",
       "      <td>19.3</td>\n",
       "      <td>14.6</td>\n",
       "      <td>10.0</td>\n",
       "      <td>6.5</td>\n",
       "      <td>43.36</td>\n",
       "      <td>3.53</td>\n",
       "      <td>13.89</td>\n",
       "      <td>17.1</td>\n",
       "      <td>SE</td>\n",
       "    </tr>\n",
       "    <tr>\n",
       "      <th>Toulouse</th>\n",
       "      <td>4.7</td>\n",
       "      <td>5.6</td>\n",
       "      <td>9.2</td>\n",
       "      <td>11.6</td>\n",
       "      <td>14.9</td>\n",
       "      <td>18.7</td>\n",
       "      <td>20.9</td>\n",
       "      <td>20.9</td>\n",
       "      <td>18.3</td>\n",
       "      <td>13.3</td>\n",
       "      <td>8.6</td>\n",
       "      <td>5.5</td>\n",
       "      <td>43.36</td>\n",
       "      <td>1.26</td>\n",
       "      <td>12.68</td>\n",
       "      <td>16.2</td>\n",
       "      <td>SO</td>\n",
       "    </tr>\n",
       "    <tr>\n",
       "      <th>Marseille</th>\n",
       "      <td>5.5</td>\n",
       "      <td>6.6</td>\n",
       "      <td>10.0</td>\n",
       "      <td>13.0</td>\n",
       "      <td>16.8</td>\n",
       "      <td>20.8</td>\n",
       "      <td>23.3</td>\n",
       "      <td>22.8</td>\n",
       "      <td>19.9</td>\n",
       "      <td>15.0</td>\n",
       "      <td>10.2</td>\n",
       "      <td>6.9</td>\n",
       "      <td>43.18</td>\n",
       "      <td>5.24</td>\n",
       "      <td>14.23</td>\n",
       "      <td>17.8</td>\n",
       "      <td>SE</td>\n",
       "    </tr>\n",
       "  </tbody>\n",
       "</table>\n",
       "<p>15 rows × 17 columns</p>\n",
       "</div>"
      ],
      "text/plain": [
       "             Jan  Feb   Mar   Apr   May   Jun   Jul   Aug   Sep   Oct   Nov  \\\n",
       "City                                                                          \n",
       "Lille        2.4  2.9   6.0   8.9  12.4  15.3  17.1  17.1  14.7  10.4   6.1   \n",
       "Paris        3.4  4.1   7.6  10.7  14.3  17.5  19.1  18.7  16.0  11.4   7.1   \n",
       "Strasbourg   0.4  1.5   5.6   9.8  14.0  17.2  19.0  18.3  15.1   9.5   4.9   \n",
       "Brest        6.1  5.8   7.8   9.2  11.6  14.4  15.6  16.0  14.7  12.0   9.0   \n",
       "...          ...  ...   ...   ...   ...   ...   ...   ...   ...   ...   ...   \n",
       "Nice         7.5  8.5  10.8  13.3  16.7  20.1  22.7  22.5  20.3  16.0  11.5   \n",
       "Montpellier  5.6  6.7   9.9  12.8  16.2  20.1  22.7  22.3  19.3  14.6  10.0   \n",
       "Toulouse     4.7  5.6   9.2  11.6  14.9  18.7  20.9  20.9  18.3  13.3   8.6   \n",
       "Marseille    5.5  6.6  10.0  13.0  16.8  20.8  23.3  22.8  19.9  15.0  10.2   \n",
       "\n",
       "             Dec   Lati  Long   Mean  Ampl Région  \n",
       "City                                               \n",
       "Lille        3.5  50.38  3.04   9.73  14.7     NE  \n",
       "Paris        4.3  48.52  2.20  11.18  15.7     NE  \n",
       "Strasbourg   1.3  48.35  7.45   9.72  18.6     NE  \n",
       "Brest        7.0  48.24 -4.29  10.77  10.2     NO  \n",
       "...          ...    ...   ...    ...   ...    ...  \n",
       "Nice         8.2  43.42  7.15  14.84  15.2     SE  \n",
       "Montpellier  6.5  43.36  3.53  13.89  17.1     SE  \n",
       "Toulouse     5.5  43.36  1.26  12.68  16.2     SO  \n",
       "Marseille    6.9  43.18  5.24  14.23  17.8     SE  \n",
       "\n",
       "[15 rows x 17 columns]"
      ]
     },
     "execution_count": 54,
     "metadata": {},
     "output_type": "execute_result"
    }
   ],
   "source": [
    "french_cities = french_cities.sort_values(by='Lati',ascending=False)\n",
    "french_cities"
   ]
  },
  {
   "cell_type": "markdown",
   "metadata": {
    "slideshow": {
     "slide_type": "slide"
    }
   },
   "source": [
    "## Stack and unstack\n",
    "\n",
    "Instead of seeing the months along the axis 1, and the cities along the axis 0, let's try to convert these into an outer and an inner axis along only 1 time dimension."
   ]
  },
  {
   "cell_type": "code",
   "execution_count": 55,
   "metadata": {
    "slideshow": {
     "slide_type": "fragment"
    }
   },
   "outputs": [
    {
     "data": {
      "text/plain": [
       "     City       \n",
       "Jan  Lille          2.4\n",
       "     Paris          3.4\n",
       "     Strasbourg     0.4\n",
       "     Brest          6.1\n",
       "     Rennes         4.8\n",
       "     Nantes         5.0\n",
       "     Vichy          2.4\n",
       "     Clermont       2.6\n",
       "     Lyon           2.1\n",
       "     Grenoble       1.5\n",
       "                   ... \n",
       "Dec  Nantes         5.5\n",
       "     Vichy          3.4\n",
       "     Clermont       3.6\n",
       "     Lyon           3.1\n",
       "     Grenoble       2.3\n",
       "     Bordeaux       6.2\n",
       "     Nice           8.2\n",
       "     Montpellier    6.5\n",
       "     Toulouse       5.5\n",
       "     Marseille      6.9\n",
       "Length: 180, dtype: float64"
      ]
     },
     "execution_count": 55,
     "metadata": {},
     "output_type": "execute_result"
    }
   ],
   "source": [
    "pd.set_option(\"display.max_rows\", 20)\n",
    "unstacked = french_cities.iloc[:,:12].unstack()\n",
    "unstacked"
   ]
  },
  {
   "cell_type": "code",
   "execution_count": 56,
   "metadata": {
    "slideshow": {
     "slide_type": "subslide"
    }
   },
   "outputs": [
    {
     "data": {
      "text/plain": [
       "pandas.core.series.Series"
      ]
     },
     "execution_count": 56,
     "metadata": {},
     "output_type": "execute_result"
    }
   ],
   "source": [
    "type(unstacked)"
   ]
  },
  {
   "cell_type": "markdown",
   "metadata": {
    "slideshow": {
     "slide_type": "slide"
    }
   },
   "source": [
    "## Transpose"
   ]
  },
  {
   "cell_type": "markdown",
   "metadata": {
    "slideshow": {
     "slide_type": "fragment"
    }
   },
   "source": [
    "The result is grouped in the wrong order since it sorts first the axis that was unstacked. We need to transpose the dataframe."
   ]
  },
  {
   "cell_type": "code",
   "execution_count": 57,
   "metadata": {
    "slideshow": {
     "slide_type": "slide"
    }
   },
   "outputs": [
    {
     "data": {
      "text/html": [
       "<div>\n",
       "<style>\n",
       "    .dataframe thead tr:only-child th {\n",
       "        text-align: right;\n",
       "    }\n",
       "\n",
       "    .dataframe thead th {\n",
       "        text-align: left;\n",
       "    }\n",
       "\n",
       "    .dataframe tbody tr th {\n",
       "        vertical-align: top;\n",
       "    }\n",
       "</style>\n",
       "<table border=\"1\" class=\"dataframe\">\n",
       "  <thead>\n",
       "    <tr style=\"text-align: right;\">\n",
       "      <th>City</th>\n",
       "      <th>Lille</th>\n",
       "      <th>Paris</th>\n",
       "      <th>Strasbourg</th>\n",
       "      <th>Brest</th>\n",
       "      <th>Rennes</th>\n",
       "      <th>Nantes</th>\n",
       "      <th>Vichy</th>\n",
       "      <th>Clermont</th>\n",
       "      <th>Lyon</th>\n",
       "      <th>Grenoble</th>\n",
       "      <th>Bordeaux</th>\n",
       "      <th>Nice</th>\n",
       "      <th>Montpellier</th>\n",
       "      <th>Toulouse</th>\n",
       "      <th>Marseille</th>\n",
       "    </tr>\n",
       "  </thead>\n",
       "  <tbody>\n",
       "    <tr>\n",
       "      <th>Jan</th>\n",
       "      <td>2.4</td>\n",
       "      <td>3.4</td>\n",
       "      <td>0.4</td>\n",
       "      <td>6.1</td>\n",
       "      <td>4.8</td>\n",
       "      <td>5.0</td>\n",
       "      <td>2.4</td>\n",
       "      <td>2.6</td>\n",
       "      <td>2.1</td>\n",
       "      <td>1.5</td>\n",
       "      <td>5.6</td>\n",
       "      <td>7.5</td>\n",
       "      <td>5.6</td>\n",
       "      <td>4.7</td>\n",
       "      <td>5.5</td>\n",
       "    </tr>\n",
       "    <tr>\n",
       "      <th>Feb</th>\n",
       "      <td>2.9</td>\n",
       "      <td>4.1</td>\n",
       "      <td>1.5</td>\n",
       "      <td>5.8</td>\n",
       "      <td>5.3</td>\n",
       "      <td>5.3</td>\n",
       "      <td>3.4</td>\n",
       "      <td>3.7</td>\n",
       "      <td>3.3</td>\n",
       "      <td>3.2</td>\n",
       "      <td>6.6</td>\n",
       "      <td>8.5</td>\n",
       "      <td>6.7</td>\n",
       "      <td>5.6</td>\n",
       "      <td>6.6</td>\n",
       "    </tr>\n",
       "    <tr>\n",
       "      <th>Mar</th>\n",
       "      <td>6.0</td>\n",
       "      <td>7.6</td>\n",
       "      <td>5.6</td>\n",
       "      <td>7.8</td>\n",
       "      <td>7.9</td>\n",
       "      <td>8.4</td>\n",
       "      <td>7.1</td>\n",
       "      <td>7.5</td>\n",
       "      <td>7.7</td>\n",
       "      <td>7.7</td>\n",
       "      <td>10.3</td>\n",
       "      <td>10.8</td>\n",
       "      <td>9.9</td>\n",
       "      <td>9.2</td>\n",
       "      <td>10.0</td>\n",
       "    </tr>\n",
       "    <tr>\n",
       "      <th>Apr</th>\n",
       "      <td>8.9</td>\n",
       "      <td>10.7</td>\n",
       "      <td>9.8</td>\n",
       "      <td>9.2</td>\n",
       "      <td>10.1</td>\n",
       "      <td>10.8</td>\n",
       "      <td>9.9</td>\n",
       "      <td>10.3</td>\n",
       "      <td>10.9</td>\n",
       "      <td>10.6</td>\n",
       "      <td>12.8</td>\n",
       "      <td>13.3</td>\n",
       "      <td>12.8</td>\n",
       "      <td>11.6</td>\n",
       "      <td>13.0</td>\n",
       "    </tr>\n",
       "    <tr>\n",
       "      <th>May</th>\n",
       "      <td>12.4</td>\n",
       "      <td>14.3</td>\n",
       "      <td>14.0</td>\n",
       "      <td>11.6</td>\n",
       "      <td>13.1</td>\n",
       "      <td>13.9</td>\n",
       "      <td>13.6</td>\n",
       "      <td>13.8</td>\n",
       "      <td>14.9</td>\n",
       "      <td>14.5</td>\n",
       "      <td>15.8</td>\n",
       "      <td>16.7</td>\n",
       "      <td>16.2</td>\n",
       "      <td>14.9</td>\n",
       "      <td>16.8</td>\n",
       "    </tr>\n",
       "    <tr>\n",
       "      <th>Jun</th>\n",
       "      <td>15.3</td>\n",
       "      <td>17.5</td>\n",
       "      <td>17.2</td>\n",
       "      <td>14.4</td>\n",
       "      <td>16.2</td>\n",
       "      <td>17.2</td>\n",
       "      <td>17.1</td>\n",
       "      <td>17.3</td>\n",
       "      <td>18.5</td>\n",
       "      <td>17.8</td>\n",
       "      <td>19.3</td>\n",
       "      <td>20.1</td>\n",
       "      <td>20.1</td>\n",
       "      <td>18.7</td>\n",
       "      <td>20.8</td>\n",
       "    </tr>\n",
       "    <tr>\n",
       "      <th>Jul</th>\n",
       "      <td>17.1</td>\n",
       "      <td>19.1</td>\n",
       "      <td>19.0</td>\n",
       "      <td>15.6</td>\n",
       "      <td>17.9</td>\n",
       "      <td>18.8</td>\n",
       "      <td>19.3</td>\n",
       "      <td>19.4</td>\n",
       "      <td>20.7</td>\n",
       "      <td>20.1</td>\n",
       "      <td>20.9</td>\n",
       "      <td>22.7</td>\n",
       "      <td>22.7</td>\n",
       "      <td>20.9</td>\n",
       "      <td>23.3</td>\n",
       "    </tr>\n",
       "    <tr>\n",
       "      <th>Aug</th>\n",
       "      <td>17.1</td>\n",
       "      <td>18.7</td>\n",
       "      <td>18.3</td>\n",
       "      <td>16.0</td>\n",
       "      <td>17.8</td>\n",
       "      <td>18.6</td>\n",
       "      <td>18.8</td>\n",
       "      <td>19.1</td>\n",
       "      <td>20.1</td>\n",
       "      <td>19.5</td>\n",
       "      <td>21.0</td>\n",
       "      <td>22.5</td>\n",
       "      <td>22.3</td>\n",
       "      <td>20.9</td>\n",
       "      <td>22.8</td>\n",
       "    </tr>\n",
       "    <tr>\n",
       "      <th>Sep</th>\n",
       "      <td>14.7</td>\n",
       "      <td>16.0</td>\n",
       "      <td>15.1</td>\n",
       "      <td>14.7</td>\n",
       "      <td>15.7</td>\n",
       "      <td>16.4</td>\n",
       "      <td>16.0</td>\n",
       "      <td>16.2</td>\n",
       "      <td>16.9</td>\n",
       "      <td>16.7</td>\n",
       "      <td>18.6</td>\n",
       "      <td>20.3</td>\n",
       "      <td>19.3</td>\n",
       "      <td>18.3</td>\n",
       "      <td>19.9</td>\n",
       "    </tr>\n",
       "    <tr>\n",
       "      <th>Oct</th>\n",
       "      <td>10.4</td>\n",
       "      <td>11.4</td>\n",
       "      <td>9.5</td>\n",
       "      <td>12.0</td>\n",
       "      <td>11.6</td>\n",
       "      <td>12.2</td>\n",
       "      <td>11.0</td>\n",
       "      <td>11.2</td>\n",
       "      <td>11.4</td>\n",
       "      <td>11.4</td>\n",
       "      <td>13.8</td>\n",
       "      <td>16.0</td>\n",
       "      <td>14.6</td>\n",
       "      <td>13.3</td>\n",
       "      <td>15.0</td>\n",
       "    </tr>\n",
       "    <tr>\n",
       "      <th>Nov</th>\n",
       "      <td>6.1</td>\n",
       "      <td>7.1</td>\n",
       "      <td>4.9</td>\n",
       "      <td>9.0</td>\n",
       "      <td>7.8</td>\n",
       "      <td>8.2</td>\n",
       "      <td>6.6</td>\n",
       "      <td>6.6</td>\n",
       "      <td>6.7</td>\n",
       "      <td>6.5</td>\n",
       "      <td>9.1</td>\n",
       "      <td>11.5</td>\n",
       "      <td>10.0</td>\n",
       "      <td>8.6</td>\n",
       "      <td>10.2</td>\n",
       "    </tr>\n",
       "    <tr>\n",
       "      <th>Dec</th>\n",
       "      <td>3.5</td>\n",
       "      <td>4.3</td>\n",
       "      <td>1.3</td>\n",
       "      <td>7.0</td>\n",
       "      <td>5.4</td>\n",
       "      <td>5.5</td>\n",
       "      <td>3.4</td>\n",
       "      <td>3.6</td>\n",
       "      <td>3.1</td>\n",
       "      <td>2.3</td>\n",
       "      <td>6.2</td>\n",
       "      <td>8.2</td>\n",
       "      <td>6.5</td>\n",
       "      <td>5.5</td>\n",
       "      <td>6.9</td>\n",
       "    </tr>\n",
       "  </tbody>\n",
       "</table>\n",
       "</div>"
      ],
      "text/plain": [
       "City  Lille  Paris  Strasbourg  Brest  Rennes  Nantes  Vichy  Clermont  Lyon  \\\n",
       "Jan     2.4    3.4         0.4    6.1     4.8     5.0    2.4       2.6   2.1   \n",
       "Feb     2.9    4.1         1.5    5.8     5.3     5.3    3.4       3.7   3.3   \n",
       "Mar     6.0    7.6         5.6    7.8     7.9     8.4    7.1       7.5   7.7   \n",
       "Apr     8.9   10.7         9.8    9.2    10.1    10.8    9.9      10.3  10.9   \n",
       "May    12.4   14.3        14.0   11.6    13.1    13.9   13.6      13.8  14.9   \n",
       "Jun    15.3   17.5        17.2   14.4    16.2    17.2   17.1      17.3  18.5   \n",
       "Jul    17.1   19.1        19.0   15.6    17.9    18.8   19.3      19.4  20.7   \n",
       "Aug    17.1   18.7        18.3   16.0    17.8    18.6   18.8      19.1  20.1   \n",
       "Sep    14.7   16.0        15.1   14.7    15.7    16.4   16.0      16.2  16.9   \n",
       "Oct    10.4   11.4         9.5   12.0    11.6    12.2   11.0      11.2  11.4   \n",
       "Nov     6.1    7.1         4.9    9.0     7.8     8.2    6.6       6.6   6.7   \n",
       "Dec     3.5    4.3         1.3    7.0     5.4     5.5    3.4       3.6   3.1   \n",
       "\n",
       "City  Grenoble  Bordeaux  Nice  Montpellier  Toulouse  Marseille  \n",
       "Jan        1.5       5.6   7.5          5.6       4.7        5.5  \n",
       "Feb        3.2       6.6   8.5          6.7       5.6        6.6  \n",
       "Mar        7.7      10.3  10.8          9.9       9.2       10.0  \n",
       "Apr       10.6      12.8  13.3         12.8      11.6       13.0  \n",
       "May       14.5      15.8  16.7         16.2      14.9       16.8  \n",
       "Jun       17.8      19.3  20.1         20.1      18.7       20.8  \n",
       "Jul       20.1      20.9  22.7         22.7      20.9       23.3  \n",
       "Aug       19.5      21.0  22.5         22.3      20.9       22.8  \n",
       "Sep       16.7      18.6  20.3         19.3      18.3       19.9  \n",
       "Oct       11.4      13.8  16.0         14.6      13.3       15.0  \n",
       "Nov        6.5       9.1  11.5         10.0       8.6       10.2  \n",
       "Dec        2.3       6.2   8.2          6.5       5.5        6.9  "
      ]
     },
     "execution_count": 57,
     "metadata": {},
     "output_type": "execute_result"
    }
   ],
   "source": [
    "city_temp = french_cities.iloc[:,:12].transpose()\n",
    "city_temp"
   ]
  },
  {
   "cell_type": "code",
   "execution_count": 58,
   "metadata": {
    "slideshow": {
     "slide_type": "slide"
    }
   },
   "outputs": [
    {
     "data": {
      "image/png": "[encoded data removed]",
      "text/plain": [
       "<matplotlib.figure.Figure at 0x11dab75f8>"
      ]
     },
     "metadata": {
      "image/png": {
       "height": 396,
       "width": 534
      }
     },
     "output_type": "display_data"
    }
   ],
   "source": [
    "city_temp.boxplot(rot=90);"
   ]
  },
  {
   "cell_type": "markdown",
   "metadata": {
    "slideshow": {
     "slide_type": "slide"
    }
   },
   "source": [
    "# Describing"
   ]
  },
  {
   "cell_type": "code",
   "execution_count": 59,
   "metadata": {
    "slideshow": {
     "slide_type": "fragment"
    }
   },
   "outputs": [
    {
     "data": {
      "text/plain": [
       "count     15\n",
       "unique     4\n",
       "top       SE\n",
       "freq       7\n",
       "Name: Région, dtype: object"
      ]
     },
     "execution_count": 59,
     "metadata": {},
     "output_type": "execute_result"
    }
   ],
   "source": [
    "french_cities['Région'].describe()"
   ]
  },
  {
   "cell_type": "code",
   "execution_count": 60,
   "metadata": {
    "slideshow": {
     "slide_type": "fragment"
    }
   },
   "outputs": [
    {
     "data": {
      "text/plain": [
       "array(['NE', 'NO', 'SE', 'SO'], dtype=object)"
      ]
     },
     "execution_count": 60,
     "metadata": {},
     "output_type": "execute_result"
    }
   ],
   "source": [
    "french_cities['Région'].unique()"
   ]
  },
  {
   "cell_type": "code",
   "execution_count": 61,
   "metadata": {
    "slideshow": {
     "slide_type": "fragment"
    }
   },
   "outputs": [
    {
     "data": {
      "text/plain": [
       "SE    7\n",
       "NO    3\n",
       "NE    3\n",
       "SO    2\n",
       "Name: Région, dtype: int64"
      ]
     },
     "execution_count": 61,
     "metadata": {},
     "output_type": "execute_result"
    }
   ],
   "source": [
    "french_cities['Région'].value_counts()"
   ]
  },
  {
   "cell_type": "code",
   "execution_count": 62,
   "metadata": {
    "collapsed": true,
    "slideshow": {
     "slide_type": "fragment"
    }
   },
   "outputs": [],
   "source": [
    "# To save memory, we can convert it to a categorical column:\n",
    "french_cities[\"Région\"] = french_cities[\"Région\"].astype(\"category\")"
   ]
  },
  {
   "cell_type": "code",
   "execution_count": 63,
   "metadata": {
    "slideshow": {
     "slide_type": "skip"
    }
   },
   "outputs": [
    {
     "data": {
      "text/plain": [
       "Index     760\n",
       "Jan       120\n",
       "Feb       120\n",
       "Mar       120\n",
       "Apr       120\n",
       "May       120\n",
       "Jun       120\n",
       "Jul       120\n",
       "Aug       120\n",
       "Sep       120\n",
       "Oct       120\n",
       "Nov       120\n",
       "Dec       120\n",
       "Lati      120\n",
       "Long      120\n",
       "Mean      120\n",
       "Ampl      120\n",
       "Région    207\n",
       "dtype: int64"
      ]
     },
     "execution_count": 63,
     "metadata": {},
     "output_type": "execute_result"
    }
   ],
   "source": [
    "french_cities.memory_usage()"
   ]
  },
  {
   "cell_type": "markdown",
   "metadata": {
    "slideshow": {
     "slide_type": "slide"
    }
   },
   "source": [
    "# Data Aggregation/summarization\n",
    "\n",
    "## groupby"
   ]
  },
  {
   "cell_type": "code",
   "execution_count": 64,
   "metadata": {
    "slideshow": {
     "slide_type": "fragment"
    }
   },
   "outputs": [
    {
     "data": {
      "text/plain": [
       "pandas.core.groupby.DataFrameGroupBy"
      ]
     },
     "execution_count": 64,
     "metadata": {},
     "output_type": "execute_result"
    }
   ],
   "source": [
    "fc_grouped_region = french_cities.groupby(\"Région\")\n",
    "type(fc_grouped_region)"
   ]
  },
  {
   "cell_type": "code",
   "execution_count": 65,
   "metadata": {
    "slideshow": {
     "slide_type": "fragment"
    }
   },
   "outputs": [
    {
     "name": "stdout",
     "output_type": "stream",
     "text": [
      "NE\n",
      "            Jan  Feb  Mar   Apr   May   Jun   Jul   Aug   Sep   Oct  Nov  Dec  \\\n",
      "City                                                                            \n",
      "Lille       2.4  2.9  6.0   8.9  12.4  15.3  17.1  17.1  14.7  10.4  6.1  3.5   \n",
      "Paris       3.4  4.1  7.6  10.7  14.3  17.5  19.1  18.7  16.0  11.4  7.1  4.3   \n",
      "Strasbourg  0.4  1.5  5.6   9.8  14.0  17.2  19.0  18.3  15.1   9.5  4.9  1.3   \n",
      "\n",
      "             Lati  Long   Mean  Ampl Région  \n",
      "City                                         \n",
      "Lille       50.38  3.04   9.73  14.7     NE  \n",
      "Paris       48.52  2.20  11.18  15.7     NE  \n",
      "Strasbourg  48.35  7.45   9.72  18.6     NE  \n",
      "\n",
      "NO\n",
      "        Jan  Feb  Mar   Apr   May   Jun   Jul   Aug   Sep   Oct  Nov  Dec  \\\n",
      "City                                                                        \n",
      "Brest   6.1  5.8  7.8   9.2  11.6  14.4  15.6  16.0  14.7  12.0  9.0  7.0   \n",
      "Rennes  4.8  5.3  7.9  10.1  13.1  16.2  17.9  17.8  15.7  11.6  7.8  5.4   \n",
      "Nantes  5.0  5.3  8.4  10.8  13.9  17.2  18.8  18.6  16.4  12.2  8.2  5.5   \n",
      "\n",
      "         Lati  Long   Mean  Ampl Région  \n",
      "City                                     \n",
      "Brest   48.24 -4.29  10.77  10.2     NO  \n",
      "Rennes  48.05 -1.41  11.13  13.1     NO  \n",
      "Nantes  47.13 -1.33  11.69  13.8     NO  \n",
      "\n",
      "SE\n",
      "             Jan  Feb   Mar   Apr   May   Jun   Jul   Aug   Sep   Oct   Nov  \\\n",
      "City                                                                          \n",
      "Vichy        2.4  3.4   7.1   9.9  13.6  17.1  19.3  18.8  16.0  11.0   6.6   \n",
      "Clermont     2.6  3.7   7.5  10.3  13.8  17.3  19.4  19.1  16.2  11.2   6.6   \n",
      "Lyon         2.1  3.3   7.7  10.9  14.9  18.5  20.7  20.1  16.9  11.4   6.7   \n",
      "Grenoble     1.5  3.2   7.7  10.6  14.5  17.8  20.1  19.5  16.7  11.4   6.5   \n",
      "Nice         7.5  8.5  10.8  13.3  16.7  20.1  22.7  22.5  20.3  16.0  11.5   \n",
      "Montpellier  5.6  6.7   9.9  12.8  16.2  20.1  22.7  22.3  19.3  14.6  10.0   \n",
      "Marseille    5.5  6.6  10.0  13.0  16.8  20.8  23.3  22.8  19.9  15.0  10.2   \n",
      "\n",
      "             Dec   Lati  Long   Mean  Ampl Région  \n",
      "City                                               \n",
      "Vichy        3.4  46.08  3.26  10.72  16.9     SE  \n",
      "Clermont     3.6  45.47  3.05  10.94  16.8     SE  \n",
      "Lyon         3.1  45.45  4.51  11.36  18.6     SE  \n",
      "Grenoble     2.3  45.10  5.43  10.98  18.6     SE  \n",
      "Nice         8.2  43.42  7.15  14.84  15.2     SE  \n",
      "Montpellier  6.5  43.36  3.53  13.89  17.1     SE  \n",
      "Marseille    6.9  43.18  5.24  14.23  17.8     SE  \n",
      "\n",
      "SO\n",
      "          Jan  Feb   Mar   Apr   May   Jun   Jul   Aug   Sep   Oct  Nov  Dec  \\\n",
      "City                                                                           \n",
      "Bordeaux  5.6  6.6  10.3  12.8  15.8  19.3  20.9  21.0  18.6  13.8  9.1  6.2   \n",
      "Toulouse  4.7  5.6   9.2  11.6  14.9  18.7  20.9  20.9  18.3  13.3  8.6  5.5   \n",
      "\n",
      "           Lati  Long   Mean  Ampl Région  \n",
      "City                                       \n",
      "Bordeaux  44.50 -0.34  13.33  15.4     SO  \n",
      "Toulouse  43.36  1.26  12.68  16.2     SO  \n",
      "\n"
     ]
    }
   ],
   "source": [
    "for group_name, subdf in fc_grouped_region:\n",
    "    print(group_name)\n",
    "    print(subdf)\n",
    "    print(\"\")"
   ]
  },
  {
   "cell_type": "markdown",
   "metadata": {
    "slideshow": {
     "slide_type": "slide"
    }
   },
   "source": [
    "## Transferring R data sets into Python"
   ]
  },
  {
   "cell_type": "code",
   "execution_count": 16,
   "metadata": {
    "collapsed": true,
    "slideshow": {
     "slide_type": "fragment"
    }
   },
   "outputs": [],
   "source": [
    "%load_ext rpy2.ipython"
   ]
  },
  {
   "cell_type": "markdown",
   "metadata": {
    "slideshow": {
     "slide_type": "fragment"
    }
   },
   "source": [
    "- conversions of R to pandas objects will be done automatically"
   ]
  },
  {
   "cell_type": "code",
   "execution_count": 17,
   "metadata": {
    "collapsed": true,
    "slideshow": {
     "slide_type": "fragment"
    }
   },
   "outputs": [],
   "source": [
    "from rpy2.robjects import r, pandas2ri\n",
    "\n",
    "pandas2ri.activate()\n",
    "r.library('missMDA')\n",
    "r.data('orange')\n",
    "orange = r('orange')"
   ]
  },
  {
   "cell_type": "code",
   "execution_count": 18,
   "metadata": {},
   "outputs": [
    {
     "data": {
      "text/plain": [
       "numpy.ndarray"
      ]
     },
     "execution_count": 18,
     "metadata": {},
     "output_type": "execute_result"
    }
   ],
   "source": [
    "x = r('c(1,2,3,4)')\n",
    "type(x)\n"
   ]
  },
  {
   "cell_type": "code",
   "execution_count": 19,
   "metadata": {},
   "outputs": [
    {
     "data": {
      "text/plain": [
       "array([ 1,  2,  3,  4,  5,  6,  7,  8,  9, 10], dtype=int32)"
      ]
     },
     "execution_count": 19,
     "metadata": {},
     "output_type": "execute_result"
    }
   ],
   "source": [
    "v = r('seq(1:10)')\n",
    "v"
   ]
  },
  {
   "cell_type": "code",
   "execution_count": 20,
   "metadata": {
    "slideshow": {
     "slide_type": "slide"
    }
   },
   "outputs": [
    {
     "data": {
      "text/html": [
       "<div>\n",
       "<style>\n",
       "    .dataframe thead tr:only-child th {\n",
       "        text-align: right;\n",
       "    }\n",
       "\n",
       "    .dataframe thead th {\n",
       "        text-align: left;\n",
       "    }\n",
       "\n",
       "    .dataframe tbody tr th {\n",
       "        vertical-align: top;\n",
       "    }\n",
       "</style>\n",
       "<table border=\"1\" class=\"dataframe\">\n",
       "  <thead>\n",
       "    <tr style=\"text-align: right;\">\n",
       "      <th></th>\n",
       "      <th>Color.intensity</th>\n",
       "      <th>Odor.intensity</th>\n",
       "      <th>Attack.intensity</th>\n",
       "      <th>Sweet</th>\n",
       "      <th>Acid</th>\n",
       "      <th>Bitter</th>\n",
       "      <th>Pulp</th>\n",
       "      <th>Typicity</th>\n",
       "    </tr>\n",
       "  </thead>\n",
       "  <tbody>\n",
       "    <tr>\n",
       "      <th>1</th>\n",
       "      <td>4.791667</td>\n",
       "      <td>5.291667</td>\n",
       "      <td>NaN</td>\n",
       "      <td>NaN</td>\n",
       "      <td>NaN</td>\n",
       "      <td>2.833333</td>\n",
       "      <td>NaN</td>\n",
       "      <td>5.208333</td>\n",
       "    </tr>\n",
       "    <tr>\n",
       "      <th>2</th>\n",
       "      <td>4.583333</td>\n",
       "      <td>6.041667</td>\n",
       "      <td>4.416667</td>\n",
       "      <td>5.458333</td>\n",
       "      <td>4.125000</td>\n",
       "      <td>3.541667</td>\n",
       "      <td>4.625000</td>\n",
       "      <td>4.458333</td>\n",
       "    </tr>\n",
       "    <tr>\n",
       "      <th>3</th>\n",
       "      <td>4.708333</td>\n",
       "      <td>5.333333</td>\n",
       "      <td>NaN</td>\n",
       "      <td>NaN</td>\n",
       "      <td>4.291667</td>\n",
       "      <td>3.166667</td>\n",
       "      <td>6.250000</td>\n",
       "      <td>5.166667</td>\n",
       "    </tr>\n",
       "    <tr>\n",
       "      <th>4</th>\n",
       "      <td>6.583333</td>\n",
       "      <td>6.000000</td>\n",
       "      <td>7.416667</td>\n",
       "      <td>4.166667</td>\n",
       "      <td>6.750000</td>\n",
       "      <td>NaN</td>\n",
       "      <td>1.416667</td>\n",
       "      <td>3.416667</td>\n",
       "    </tr>\n",
       "    <tr>\n",
       "      <th>5</th>\n",
       "      <td>NaN</td>\n",
       "      <td>6.166667</td>\n",
       "      <td>5.333333</td>\n",
       "      <td>4.083333</td>\n",
       "      <td>NaN</td>\n",
       "      <td>4.375000</td>\n",
       "      <td>3.416667</td>\n",
       "      <td>4.416667</td>\n",
       "    </tr>\n",
       "    <tr>\n",
       "      <th>6</th>\n",
       "      <td>6.333333</td>\n",
       "      <td>5.000000</td>\n",
       "      <td>5.375000</td>\n",
       "      <td>5.000000</td>\n",
       "      <td>5.500000</td>\n",
       "      <td>3.625000</td>\n",
       "      <td>4.208333</td>\n",
       "      <td>4.875000</td>\n",
       "    </tr>\n",
       "    <tr>\n",
       "      <th>7</th>\n",
       "      <td>4.291667</td>\n",
       "      <td>4.916667</td>\n",
       "      <td>5.291667</td>\n",
       "      <td>5.541667</td>\n",
       "      <td>5.250000</td>\n",
       "      <td>NaN</td>\n",
       "      <td>1.291667</td>\n",
       "      <td>4.333333</td>\n",
       "    </tr>\n",
       "    <tr>\n",
       "      <th>8</th>\n",
       "      <td>NaN</td>\n",
       "      <td>4.541667</td>\n",
       "      <td>4.833333</td>\n",
       "      <td>NaN</td>\n",
       "      <td>4.958333</td>\n",
       "      <td>2.916667</td>\n",
       "      <td>1.541667</td>\n",
       "      <td>3.958333</td>\n",
       "    </tr>\n",
       "    <tr>\n",
       "      <th>9</th>\n",
       "      <td>4.416667</td>\n",
       "      <td>NaN</td>\n",
       "      <td>5.166667</td>\n",
       "      <td>4.625000</td>\n",
       "      <td>5.041667</td>\n",
       "      <td>3.666667</td>\n",
       "      <td>1.541667</td>\n",
       "      <td>3.958333</td>\n",
       "    </tr>\n",
       "    <tr>\n",
       "      <th>10</th>\n",
       "      <td>4.541667</td>\n",
       "      <td>4.291667</td>\n",
       "      <td>NaN</td>\n",
       "      <td>5.791667</td>\n",
       "      <td>4.375000</td>\n",
       "      <td>NaN</td>\n",
       "      <td>NaN</td>\n",
       "      <td>5.000000</td>\n",
       "    </tr>\n",
       "    <tr>\n",
       "      <th>11</th>\n",
       "      <td>4.083333</td>\n",
       "      <td>5.125000</td>\n",
       "      <td>3.916667</td>\n",
       "      <td>NaN</td>\n",
       "      <td>NaN</td>\n",
       "      <td>NaN</td>\n",
       "      <td>7.333333</td>\n",
       "      <td>5.250000</td>\n",
       "    </tr>\n",
       "    <tr>\n",
       "      <th>12</th>\n",
       "      <td>6.500000</td>\n",
       "      <td>5.875000</td>\n",
       "      <td>6.125000</td>\n",
       "      <td>4.875000</td>\n",
       "      <td>5.291667</td>\n",
       "      <td>4.166667</td>\n",
       "      <td>1.500000</td>\n",
       "      <td>3.500000</td>\n",
       "    </tr>\n",
       "  </tbody>\n",
       "</table>\n",
       "</div>"
      ],
      "text/plain": [
       "    Color.intensity  Odor.intensity  Attack.intensity     Sweet      Acid  \\\n",
       "1          4.791667        5.291667               NaN       NaN       NaN   \n",
       "2          4.583333        6.041667          4.416667  5.458333  4.125000   \n",
       "3          4.708333        5.333333               NaN       NaN  4.291667   \n",
       "4          6.583333        6.000000          7.416667  4.166667  6.750000   \n",
       "5               NaN        6.166667          5.333333  4.083333       NaN   \n",
       "6          6.333333        5.000000          5.375000  5.000000  5.500000   \n",
       "7          4.291667        4.916667          5.291667  5.541667  5.250000   \n",
       "8               NaN        4.541667          4.833333       NaN  4.958333   \n",
       "9          4.416667             NaN          5.166667  4.625000  5.041667   \n",
       "10         4.541667        4.291667               NaN  5.791667  4.375000   \n",
       "11         4.083333        5.125000          3.916667       NaN       NaN   \n",
       "12         6.500000        5.875000          6.125000  4.875000  5.291667   \n",
       "\n",
       "      Bitter      Pulp  Typicity  \n",
       "1   2.833333       NaN  5.208333  \n",
       "2   3.541667  4.625000  4.458333  \n",
       "3   3.166667  6.250000  5.166667  \n",
       "4        NaN  1.416667  3.416667  \n",
       "5   4.375000  3.416667  4.416667  \n",
       "6   3.625000  4.208333  4.875000  \n",
       "7        NaN  1.291667  4.333333  \n",
       "8   2.916667  1.541667  3.958333  \n",
       "9   3.666667  1.541667  3.958333  \n",
       "10       NaN       NaN  5.000000  \n",
       "11       NaN  7.333333  5.250000  \n",
       "12  4.166667  1.500000  3.500000  "
      ]
     },
     "execution_count": 20,
     "metadata": {},
     "output_type": "execute_result"
    }
   ],
   "source": [
    "orange"
   ]
  },
  {
   "cell_type": "code",
   "execution_count": 21,
   "metadata": {
    "slideshow": {
     "slide_type": "slide"
    }
   },
   "outputs": [
    {
     "data": {
      "text/plain": [
       "$ncp\n",
       "[1] 2\n",
       "\n",
       "$criterion\n",
       "        0         1         2         3         4         5 \n",
       "1.0388714 0.9279948 0.5976727 0.7855501 2.0250470 2.6741735 \n",
       "\n"
      ]
     },
     "metadata": {},
     "output_type": "display_data"
    }
   ],
   "source": [
    "%%R\n",
    "\n",
    "library('missMDA')\n",
    "data(orange)\n",
    "estim_ncpPCA(orange)"
   ]
  },
  {
   "cell_type": "code",
   "execution_count": 22,
   "metadata": {
    "slideshow": {
     "slide_type": "fragment"
    }
   },
   "outputs": [
    {
     "data": {
      "text/plain": [
       "(rpy2.robjects.vectors.ListVector,\n",
       " [rpy2.robjects.vectors.Matrix, rpy2.robjects.vectors.Matrix])"
      ]
     },
     "execution_count": 22,
     "metadata": {},
     "output_type": "execute_result"
    }
   ],
   "source": [
    "from rpy2.robjects.packages import importr\n",
    "\n",
    "miss_mda = importr('missMDA')\n",
    "res = miss_mda.imputePCA(orange,ncp=2)\n",
    "type(res), [type(elt) for elt in res]"
   ]
  },
  {
   "cell_type": "code",
   "execution_count": 23,
   "metadata": {
    "slideshow": {
     "slide_type": "slide"
    }
   },
   "outputs": [
    {
     "name": "stdout",
     "output_type": "stream",
     "text": [
      "   Color.intensity Odor.intensity Attack.intensity    Sweet     Acid   Bitter\n",
      "1         4.791667       5.291667         4.077034 5.527352 4.177564 2.833333\n",
      "2         4.583333       6.041667         4.416667 5.458333 4.125000 3.541667\n",
      "3         4.708333       5.333333         4.158054 5.442936 4.291667 3.166667\n",
      "4         6.583333       6.000000         7.416667 4.166667 6.750000 4.702509\n",
      "5         6.271605       6.166667         5.333333 4.083333 5.455805 4.375000\n",
      "6         6.333333       5.000000         5.375000 5.000000 5.500000 3.625000\n",
      "7         4.291667       4.916667         5.291667 5.541667 5.250000 3.214232\n",
      "8         4.460613       4.541667         4.833333 5.479128 4.958333 2.916667\n",
      "9         4.416667       5.136550         5.166667 4.625000 5.041667 3.666667\n",
      "10        4.541667       4.291667         4.176991 5.791667 4.375000 2.735255\n",
      "11        4.083333       5.125000         3.916667 5.703297 3.900164 2.815857\n",
      "12        6.500000       5.875000         6.125000 4.875000 5.291667 4.166667\n",
      "       Pulp Typicity\n",
      "1  5.711715 5.208333\n",
      "2  4.625000 4.458333\n",
      "3  6.250000 5.166667\n",
      "4  1.416667 3.416667\n",
      "5  3.416667 4.416667\n",
      "6  4.208333 4.875000\n",
      "7  1.291667 4.333333\n",
      "8  1.541667 3.958333\n",
      "9  1.541667 3.958333\n",
      "10 4.026062 5.000000\n",
      "11 7.333333 5.250000\n",
      "12 1.500000 3.500000\n",
      "\n"
     ]
    }
   ],
   "source": [
    "print(res[0])"
   ]
  },
  {
   "cell_type": "code",
   "execution_count": 13,
   "metadata": {
    "slideshow": {
     "slide_type": "slide"
    }
   },
   "outputs": [
    {
     "data": {
      "text/html": [
       "<div>\n",
       "<style>\n",
       "    .dataframe thead tr:only-child th {\n",
       "        text-align: right;\n",
       "    }\n",
       "\n",
       "    .dataframe thead th {\n",
       "        text-align: left;\n",
       "    }\n",
       "\n",
       "    .dataframe tbody tr th {\n",
       "        vertical-align: top;\n",
       "    }\n",
       "</style>\n",
       "<table border=\"1\" class=\"dataframe\">\n",
       "  <thead>\n",
       "    <tr style=\"text-align: right;\">\n",
       "      <th></th>\n",
       "      <th>Color.intensity</th>\n",
       "      <th>Odor.intensity</th>\n",
       "      <th>Attack.intensity</th>\n",
       "      <th>Sweet</th>\n",
       "      <th>Acid</th>\n",
       "      <th>Bitter</th>\n",
       "      <th>Pulp</th>\n",
       "      <th>Typicity</th>\n",
       "    </tr>\n",
       "  </thead>\n",
       "  <tbody>\n",
       "    <tr>\n",
       "      <th>0</th>\n",
       "      <td>4.791667</td>\n",
       "      <td>5.291667</td>\n",
       "      <td>4.077034</td>\n",
       "      <td>5.527352</td>\n",
       "      <td>4.177564</td>\n",
       "      <td>2.833333</td>\n",
       "      <td>5.711715</td>\n",
       "      <td>5.208333</td>\n",
       "    </tr>\n",
       "    <tr>\n",
       "      <th>1</th>\n",
       "      <td>4.583333</td>\n",
       "      <td>6.041667</td>\n",
       "      <td>4.416667</td>\n",
       "      <td>5.458333</td>\n",
       "      <td>4.125000</td>\n",
       "      <td>3.541667</td>\n",
       "      <td>4.625000</td>\n",
       "      <td>4.458333</td>\n",
       "    </tr>\n",
       "    <tr>\n",
       "      <th>2</th>\n",
       "      <td>4.708333</td>\n",
       "      <td>5.333333</td>\n",
       "      <td>4.158054</td>\n",
       "      <td>5.442936</td>\n",
       "      <td>4.291667</td>\n",
       "      <td>3.166667</td>\n",
       "      <td>6.250000</td>\n",
       "      <td>5.166667</td>\n",
       "    </tr>\n",
       "    <tr>\n",
       "      <th>3</th>\n",
       "      <td>6.583333</td>\n",
       "      <td>6.000000</td>\n",
       "      <td>7.416667</td>\n",
       "      <td>4.166667</td>\n",
       "      <td>6.750000</td>\n",
       "      <td>4.702509</td>\n",
       "      <td>1.416667</td>\n",
       "      <td>3.416667</td>\n",
       "    </tr>\n",
       "    <tr>\n",
       "      <th>4</th>\n",
       "      <td>6.271605</td>\n",
       "      <td>6.166667</td>\n",
       "      <td>5.333333</td>\n",
       "      <td>4.083333</td>\n",
       "      <td>5.455805</td>\n",
       "      <td>4.375000</td>\n",
       "      <td>3.416667</td>\n",
       "      <td>4.416667</td>\n",
       "    </tr>\n",
       "    <tr>\n",
       "      <th>5</th>\n",
       "      <td>6.333333</td>\n",
       "      <td>5.000000</td>\n",
       "      <td>5.375000</td>\n",
       "      <td>5.000000</td>\n",
       "      <td>5.500000</td>\n",
       "      <td>3.625000</td>\n",
       "      <td>4.208333</td>\n",
       "      <td>4.875000</td>\n",
       "    </tr>\n",
       "    <tr>\n",
       "      <th>6</th>\n",
       "      <td>4.291667</td>\n",
       "      <td>4.916667</td>\n",
       "      <td>5.291667</td>\n",
       "      <td>5.541667</td>\n",
       "      <td>5.250000</td>\n",
       "      <td>3.214232</td>\n",
       "      <td>1.291667</td>\n",
       "      <td>4.333333</td>\n",
       "    </tr>\n",
       "    <tr>\n",
       "      <th>7</th>\n",
       "      <td>4.460613</td>\n",
       "      <td>4.541667</td>\n",
       "      <td>4.833333</td>\n",
       "      <td>5.479128</td>\n",
       "      <td>4.958333</td>\n",
       "      <td>2.916667</td>\n",
       "      <td>1.541667</td>\n",
       "      <td>3.958333</td>\n",
       "    </tr>\n",
       "    <tr>\n",
       "      <th>8</th>\n",
       "      <td>4.416667</td>\n",
       "      <td>5.136550</td>\n",
       "      <td>5.166667</td>\n",
       "      <td>4.625000</td>\n",
       "      <td>5.041667</td>\n",
       "      <td>3.666667</td>\n",
       "      <td>1.541667</td>\n",
       "      <td>3.958333</td>\n",
       "    </tr>\n",
       "    <tr>\n",
       "      <th>9</th>\n",
       "      <td>4.541667</td>\n",
       "      <td>4.291667</td>\n",
       "      <td>4.176991</td>\n",
       "      <td>5.791667</td>\n",
       "      <td>4.375000</td>\n",
       "      <td>2.735255</td>\n",
       "      <td>4.026062</td>\n",
       "      <td>5.000000</td>\n",
       "    </tr>\n",
       "    <tr>\n",
       "      <th>10</th>\n",
       "      <td>4.083333</td>\n",
       "      <td>5.125000</td>\n",
       "      <td>3.916667</td>\n",
       "      <td>5.703297</td>\n",
       "      <td>3.900164</td>\n",
       "      <td>2.815857</td>\n",
       "      <td>7.333333</td>\n",
       "      <td>5.250000</td>\n",
       "    </tr>\n",
       "    <tr>\n",
       "      <th>11</th>\n",
       "      <td>6.500000</td>\n",
       "      <td>5.875000</td>\n",
       "      <td>6.125000</td>\n",
       "      <td>4.875000</td>\n",
       "      <td>5.291667</td>\n",
       "      <td>4.166667</td>\n",
       "      <td>1.500000</td>\n",
       "      <td>3.500000</td>\n",
       "    </tr>\n",
       "  </tbody>\n",
       "</table>\n",
       "</div>"
      ],
      "text/plain": [
       "    Color.intensity  Odor.intensity  Attack.intensity     Sweet      Acid  \\\n",
       "0          4.791667        5.291667          4.077034  5.527352  4.177564   \n",
       "1          4.583333        6.041667          4.416667  5.458333  4.125000   \n",
       "2          4.708333        5.333333          4.158054  5.442936  4.291667   \n",
       "3          6.583333        6.000000          7.416667  4.166667  6.750000   \n",
       "4          6.271605        6.166667          5.333333  4.083333  5.455805   \n",
       "5          6.333333        5.000000          5.375000  5.000000  5.500000   \n",
       "6          4.291667        4.916667          5.291667  5.541667  5.250000   \n",
       "7          4.460613        4.541667          4.833333  5.479128  4.958333   \n",
       "8          4.416667        5.136550          5.166667  4.625000  5.041667   \n",
       "9          4.541667        4.291667          4.176991  5.791667  4.375000   \n",
       "10         4.083333        5.125000          3.916667  5.703297  3.900164   \n",
       "11         6.500000        5.875000          6.125000  4.875000  5.291667   \n",
       "\n",
       "      Bitter      Pulp  Typicity  \n",
       "0   2.833333  5.711715  5.208333  \n",
       "1   3.541667  4.625000  4.458333  \n",
       "2   3.166667  6.250000  5.166667  \n",
       "3   4.702509  1.416667  3.416667  \n",
       "4   4.375000  3.416667  4.416667  \n",
       "5   3.625000  4.208333  4.875000  \n",
       "6   3.214232  1.291667  4.333333  \n",
       "7   2.916667  1.541667  3.958333  \n",
       "8   3.666667  1.541667  3.958333  \n",
       "9   2.735255  4.026062  5.000000  \n",
       "10  2.815857  7.333333  5.250000  \n",
       "11  4.166667  1.500000  3.500000  "
      ]
     },
     "execution_count": 13,
     "metadata": {},
     "output_type": "execute_result"
    }
   ],
   "source": [
    "orange = pandas2ri.ri2py_dataframe(res[0])\n",
    "orange.columns = res[0].colnames\n",
    "orange"
   ]
  },
  {
   "cell_type": "code",
   "execution_count": 14,
   "metadata": {
    "slideshow": {
     "slide_type": "slide"
    }
   },
   "outputs": [
    {
     "data": {
      "text/html": [
       "<div>\n",
       "<style>\n",
       "    .dataframe thead tr:only-child th {\n",
       "        text-align: right;\n",
       "    }\n",
       "\n",
       "    .dataframe thead th {\n",
       "        text-align: left;\n",
       "    }\n",
       "\n",
       "    .dataframe tbody tr th {\n",
       "        vertical-align: top;\n",
       "    }\n",
       "</style>\n",
       "<table border=\"1\" class=\"dataframe\">\n",
       "  <thead>\n",
       "    <tr style=\"text-align: right;\">\n",
       "      <th></th>\n",
       "      <th>Color.intensity</th>\n",
       "      <th>Odor.intensity</th>\n",
       "      <th>Attack.intensity</th>\n",
       "      <th>Sweet</th>\n",
       "      <th>Acid</th>\n",
       "      <th>Bitter</th>\n",
       "      <th>Pulp</th>\n",
       "      <th>Typicity</th>\n",
       "    </tr>\n",
       "  </thead>\n",
       "  <tbody>\n",
       "    <tr>\n",
       "      <th>1</th>\n",
       "      <td>4.791667</td>\n",
       "      <td>5.291667</td>\n",
       "      <td>4.077034</td>\n",
       "      <td>5.527352</td>\n",
       "      <td>4.177564</td>\n",
       "      <td>2.833333</td>\n",
       "      <td>5.711715</td>\n",
       "      <td>5.208333</td>\n",
       "    </tr>\n",
       "    <tr>\n",
       "      <th>2</th>\n",
       "      <td>4.583333</td>\n",
       "      <td>6.041667</td>\n",
       "      <td>4.416667</td>\n",
       "      <td>5.458333</td>\n",
       "      <td>4.125000</td>\n",
       "      <td>3.541667</td>\n",
       "      <td>4.625000</td>\n",
       "      <td>4.458333</td>\n",
       "    </tr>\n",
       "    <tr>\n",
       "      <th>3</th>\n",
       "      <td>4.708333</td>\n",
       "      <td>5.333333</td>\n",
       "      <td>4.158054</td>\n",
       "      <td>5.442936</td>\n",
       "      <td>4.291667</td>\n",
       "      <td>3.166667</td>\n",
       "      <td>6.250000</td>\n",
       "      <td>5.166667</td>\n",
       "    </tr>\n",
       "    <tr>\n",
       "      <th>4</th>\n",
       "      <td>6.583333</td>\n",
       "      <td>6.000000</td>\n",
       "      <td>7.416667</td>\n",
       "      <td>4.166667</td>\n",
       "      <td>6.750000</td>\n",
       "      <td>4.702509</td>\n",
       "      <td>1.416667</td>\n",
       "      <td>3.416667</td>\n",
       "    </tr>\n",
       "    <tr>\n",
       "      <th>5</th>\n",
       "      <td>6.271605</td>\n",
       "      <td>6.166667</td>\n",
       "      <td>5.333333</td>\n",
       "      <td>4.083333</td>\n",
       "      <td>5.455805</td>\n",
       "      <td>4.375000</td>\n",
       "      <td>3.416667</td>\n",
       "      <td>4.416667</td>\n",
       "    </tr>\n",
       "    <tr>\n",
       "      <th>6</th>\n",
       "      <td>6.333333</td>\n",
       "      <td>5.000000</td>\n",
       "      <td>5.375000</td>\n",
       "      <td>5.000000</td>\n",
       "      <td>5.500000</td>\n",
       "      <td>3.625000</td>\n",
       "      <td>4.208333</td>\n",
       "      <td>4.875000</td>\n",
       "    </tr>\n",
       "    <tr>\n",
       "      <th>7</th>\n",
       "      <td>4.291667</td>\n",
       "      <td>4.916667</td>\n",
       "      <td>5.291667</td>\n",
       "      <td>5.541667</td>\n",
       "      <td>5.250000</td>\n",
       "      <td>3.214232</td>\n",
       "      <td>1.291667</td>\n",
       "      <td>4.333333</td>\n",
       "    </tr>\n",
       "    <tr>\n",
       "      <th>8</th>\n",
       "      <td>4.460613</td>\n",
       "      <td>4.541667</td>\n",
       "      <td>4.833333</td>\n",
       "      <td>5.479128</td>\n",
       "      <td>4.958333</td>\n",
       "      <td>2.916667</td>\n",
       "      <td>1.541667</td>\n",
       "      <td>3.958333</td>\n",
       "    </tr>\n",
       "    <tr>\n",
       "      <th>9</th>\n",
       "      <td>4.416667</td>\n",
       "      <td>5.136550</td>\n",
       "      <td>5.166667</td>\n",
       "      <td>4.625000</td>\n",
       "      <td>5.041667</td>\n",
       "      <td>3.666667</td>\n",
       "      <td>1.541667</td>\n",
       "      <td>3.958333</td>\n",
       "    </tr>\n",
       "    <tr>\n",
       "      <th>10</th>\n",
       "      <td>4.541667</td>\n",
       "      <td>4.291667</td>\n",
       "      <td>4.176991</td>\n",
       "      <td>5.791667</td>\n",
       "      <td>4.375000</td>\n",
       "      <td>2.735255</td>\n",
       "      <td>4.026062</td>\n",
       "      <td>5.000000</td>\n",
       "    </tr>\n",
       "    <tr>\n",
       "      <th>11</th>\n",
       "      <td>4.083333</td>\n",
       "      <td>5.125000</td>\n",
       "      <td>3.916667</td>\n",
       "      <td>5.703297</td>\n",
       "      <td>3.900164</td>\n",
       "      <td>2.815857</td>\n",
       "      <td>7.333333</td>\n",
       "      <td>5.250000</td>\n",
       "    </tr>\n",
       "    <tr>\n",
       "      <th>12</th>\n",
       "      <td>6.500000</td>\n",
       "      <td>5.875000</td>\n",
       "      <td>6.125000</td>\n",
       "      <td>4.875000</td>\n",
       "      <td>5.291667</td>\n",
       "      <td>4.166667</td>\n",
       "      <td>1.500000</td>\n",
       "      <td>3.500000</td>\n",
       "    </tr>\n",
       "  </tbody>\n",
       "</table>\n",
       "</div>"
      ],
      "text/plain": [
       "    Color.intensity  Odor.intensity  Attack.intensity     Sweet      Acid  \\\n",
       "1          4.791667        5.291667          4.077034  5.527352  4.177564   \n",
       "2          4.583333        6.041667          4.416667  5.458333  4.125000   \n",
       "3          4.708333        5.333333          4.158054  5.442936  4.291667   \n",
       "4          6.583333        6.000000          7.416667  4.166667  6.750000   \n",
       "5          6.271605        6.166667          5.333333  4.083333  5.455805   \n",
       "6          6.333333        5.000000          5.375000  5.000000  5.500000   \n",
       "7          4.291667        4.916667          5.291667  5.541667  5.250000   \n",
       "8          4.460613        4.541667          4.833333  5.479128  4.958333   \n",
       "9          4.416667        5.136550          5.166667  4.625000  5.041667   \n",
       "10         4.541667        4.291667          4.176991  5.791667  4.375000   \n",
       "11         4.083333        5.125000          3.916667  5.703297  3.900164   \n",
       "12         6.500000        5.875000          6.125000  4.875000  5.291667   \n",
       "\n",
       "      Bitter      Pulp  Typicity  \n",
       "1   2.833333  5.711715  5.208333  \n",
       "2   3.541667  4.625000  4.458333  \n",
       "3   3.166667  6.250000  5.166667  \n",
       "4   4.702509  1.416667  3.416667  \n",
       "5   4.375000  3.416667  4.416667  \n",
       "6   3.625000  4.208333  4.875000  \n",
       "7   3.214232  1.291667  4.333333  \n",
       "8   2.916667  1.541667  3.958333  \n",
       "9   3.666667  1.541667  3.958333  \n",
       "10  2.735255  4.026062  5.000000  \n",
       "11  2.815857  7.333333  5.250000  \n",
       "12  4.166667  1.500000  3.500000  "
      ]
     },
     "execution_count": 14,
     "metadata": {},
     "output_type": "execute_result"
    }
   ],
   "source": [
    "r('library(missMDA)')\n",
    "r('df <- imputePCA(orange,ncp=2) ')\n",
    "r('res <- as.data.frame(df$completeObs)')\n",
    "orange = r('res')\n",
    "orange"
   ]
  },
  {
   "cell_type": "code",
   "execution_count": 15,
   "metadata": {
    "slideshow": {
     "slide_type": "fragment"
    }
   },
   "outputs": [
    {
     "ename": "NameError",
     "evalue": "name 'full_globe_temp' is not defined",
     "output_type": "error",
     "traceback": [
      "\u001b[0;31m---------------------------------------------------------------------------\u001b[0m",
      "\u001b[0;31mNameError\u001b[0m                                 Traceback (most recent call last)",
      "\u001b[0;32m<ipython-input-15-1676846a62df>\u001b[0m in \u001b[0;36m<module>\u001b[0;34m()\u001b[0m\n\u001b[1;32m      1\u001b[0m \u001b[0;32mimport\u001b[0m \u001b[0mtoyplot\u001b[0m \u001b[0;31m# https://toyplot.readthedocs.io/\u001b[0m\u001b[0;34m\u001b[0m\u001b[0m\n\u001b[1;32m      2\u001b[0m \u001b[0mcanvas\u001b[0m \u001b[0;34m=\u001b[0m \u001b[0mtoyplot\u001b[0m\u001b[0;34m.\u001b[0m\u001b[0mCanvas\u001b[0m\u001b[0;34m(\u001b[0m\u001b[0mwidth\u001b[0m\u001b[0;34m=\u001b[0m\u001b[0;36m640\u001b[0m\u001b[0;34m,\u001b[0m \u001b[0mheight\u001b[0m\u001b[0;34m=\u001b[0m\u001b[0;36m480\u001b[0m\u001b[0;34m)\u001b[0m\u001b[0;34m\u001b[0m\u001b[0m\n\u001b[0;32m----> 3\u001b[0;31m \u001b[0mrolled_series\u001b[0m \u001b[0;34m=\u001b[0m \u001b[0mfull_globe_temp\u001b[0m\u001b[0;34m.\u001b[0m\u001b[0mrolling\u001b[0m\u001b[0;34m(\u001b[0m\u001b[0mwindow\u001b[0m\u001b[0;34m=\u001b[0m\u001b[0;36m10\u001b[0m\u001b[0;34m,\u001b[0m \u001b[0mcenter\u001b[0m\u001b[0;34m=\u001b[0m\u001b[0;32mTrue\u001b[0m\u001b[0;34m)\u001b[0m\u001b[0;34m\u001b[0m\u001b[0m\n\u001b[0m\u001b[1;32m      4\u001b[0m \u001b[0maxes\u001b[0m \u001b[0;34m=\u001b[0m \u001b[0mcanvas\u001b[0m\u001b[0;34m.\u001b[0m\u001b[0mcartesian\u001b[0m\u001b[0;34m(\u001b[0m\u001b[0mxlabel\u001b[0m\u001b[0;34m=\u001b[0m\u001b[0;34m\"Year\"\u001b[0m\u001b[0;34m,\u001b[0m \u001b[0mylabel\u001b[0m\u001b[0;34m=\u001b[0m\u001b[0;34mu\"Temperature \\u00b0F\"\u001b[0m\u001b[0;34m)\u001b[0m\u001b[0;34m\u001b[0m\u001b[0m\n\u001b[1;32m      5\u001b[0m \u001b[0maxes\u001b[0m\u001b[0;34m.\u001b[0m\u001b[0mplot\u001b[0m\u001b[0;34m(\u001b[0m\u001b[0mfull_globe_temp\u001b[0m\u001b[0;34m.\u001b[0m\u001b[0mvalues\u001b[0m\u001b[0;34m,\u001b[0m \u001b[0mcolor\u001b[0m\u001b[0;34m=\u001b[0m\u001b[0;34m\"red\"\u001b[0m\u001b[0;34m,\u001b[0m \u001b[0mstroke_width\u001b[0m\u001b[0;34m=\u001b[0m\u001b[0;36m1\u001b[0m\u001b[0;34m)\u001b[0m\u001b[0;34m\u001b[0m\u001b[0m\n",
      "\u001b[0;31mNameError\u001b[0m: name 'full_globe_temp' is not defined"
     ]
    },
    {
     "data": {
      "text/html": [
       "<div class=\"toyplot\" id=\"tf414df6cfeba454b9fd08b3fc0ac536f\" style=\"text-align:center\"><svg class=\"toyplot-canvas-Canvas\" height=\"480.0px\" id=\"t7c12817d8f8847749a57d3057a9aba90\" preserveAspectRatio=\"xMidYMid meet\" style=\"background-color:transparent;fill:rgb(16.1%,15.3%,14.1%);fill-opacity:1.0;font-family:Helvetica;font-size:12px;opacity:1.0;stroke:rgb(16.1%,15.3%,14.1%);stroke-opacity:1.0;stroke-width:1.0\" viewBox=\"0 0 640.0 480.0\" width=\"640.0px\" xmlns=\"http://www.w3.org/2000/svg\" xmlns:toyplot=\"http://www.sandia.gov/toyplot\" xmlns:xlink=\"http://www.w3.org/1999/xlink\"></svg><div class=\"toyplot-behavior\"><script>(function()\n",
       "{\n",
       "var modules={};\n",
       "})();</script></div></div>"
      ]
     },
     "metadata": {},
     "output_type": "display_data"
    }
   ],
   "source": [
    "import toyplot # https://toyplot.readthedocs.io/\n",
    "canvas = toyplot.Canvas(width=640, height=480)\n",
    "rolled_series = full_globe_temp.rolling(window=10, center=True)\n",
    "axes = canvas.cartesian(xlabel=\"Year\", ylabel=u\"Temperature \\u00b0F\")\n",
    "axes.plot(full_globe_temp.values, color=\"red\", stroke_width=1)\n",
    "axes.plot(rolled_series.mean(), color=\"blue\", stroke_width=2)"
   ]
  },
  {
   "cell_type": "markdown",
   "metadata": {
    "slideshow": {
     "slide_type": "slide"
    }
   },
   "source": [
    "# matplotlib\n",
    "```bash\n",
    "pip3 install adjusttext\n",
    "```"
   ]
  },
  {
   "cell_type": "code",
   "execution_count": 77,
   "metadata": {
    "slideshow": {
     "slide_type": "fragment"
    }
   },
   "outputs": [
    {
     "data": {
      "image/png": "[encoded data removed]",
      "text/plain": [
       "<matplotlib.figure.Figure at 0x11d9fe9e8>"
      ]
     },
     "metadata": {
      "image/png": {
       "height": 357,
       "width": 534
      }
     },
     "output_type": "display_data"
    }
   ],
   "source": [
    "from adjustText import adjust_text\n",
    "\n",
    "x, y = french_cities['Lati'],french_cities[\"Mean\"]\n",
    "labels = french_cities.index\n",
    "plt.scatter(x, y)\n",
    "texts = []\n",
    "for x0, y0, s0 in zip(x,y,labels):\n",
    "    texts.append(plt.text(x0, y0, s0, size=14))\n",
    "adjust_text(texts, x, y);"
   ]
  },
  {
   "cell_type": "code",
   "execution_count": 78,
   "metadata": {},
   "outputs": [
    {
     "data": {
      "text/plain": [
       "Index(['Jan', 'Feb', 'Mar', 'Apr', 'May', 'Jun', 'Jul', 'Aug', 'Sep', 'Oct',\n",
       "       'Nov', 'Dec', 'Lati', 'Long', 'Mean', 'Ampl', 'Région'],\n",
       "      dtype='object')"
      ]
     },
     "execution_count": 78,
     "metadata": {},
     "output_type": "execute_result"
    }
   ],
   "source": [
    "french_cities.columns"
   ]
  },
  {
   "cell_type": "markdown",
   "metadata": {
    "slideshow": {
     "slide_type": "slide"
    }
   },
   "source": [
    "# Altair https://altair-viz.github.io/"
   ]
  },
  {
   "cell_type": "code",
   "execution_count": 79,
   "metadata": {
    "slideshow": {
     "slide_type": "fragment"
    }
   },
   "outputs": [
    {
     "data": {
      "text/html": [
       "<div class=\"vega-embed\" id=\"7baca51e-d750-411f-bcef-cb58339abd3e\"></div>\n",
       "\n",
       "<style>\n",
       ".vega-embed svg, .vega-embed canvas {\n",
       "  border: 1px dotted gray;\n",
       "}\n",
       "\n",
       ".vega-embed .vega-actions a {\n",
       "  margin-right: 6px;\n",
       "}\n",
       "</style>\n"
      ]
     },
     "metadata": {
      "jupyter-vega": "#7baca51e-d750-411f-bcef-cb58339abd3e"
     },
     "output_type": "display_data"
    },
    {
     "data": {
      "application/javascript": [
       "var spec = {\"config\": {\"cell\": {\"height\": 350, \"width\": 500}}, \"encoding\": {\"y\": {\"type\": \"quantitative\", \"scale\": {\"zero\": false}, \"field\": \"Ampl\"}, \"text\": {\"type\": \"nominal\", \"field\": \"City\"}, \"color\": {\"type\": \"nominal\", \"field\": \"Mean\"}, \"x\": {\"type\": \"quantitative\", \"field\": \"Long\"}}, \"data\": {\"values\": [{\"Mean\": 9.73, \"Jul\": 17.1, \"R\\u00e9gion\": \"NE\", \"Lati\": 50.38, \"City\": \"Lille\", \"Long\": 3.04, \"Jan\": 2.4, \"Apr\": 8.9, \"May\": 12.4, \"Aug\": 17.1, \"Ampl\": 14.7, \"Dec\": 3.5, \"Mar\": 6.0, \"Jun\": 15.3, \"Sep\": 14.7, \"Nov\": 6.1, \"Oct\": 10.4, \"Feb\": 2.9}, {\"Mean\": 11.18, \"Jul\": 19.1, \"R\\u00e9gion\": \"NE\", \"Lati\": 48.52, \"City\": \"Paris\", \"Long\": 2.2, \"Jan\": 3.4, \"Apr\": 10.7, \"May\": 14.3, \"Aug\": 18.7, \"Ampl\": 15.7, \"Dec\": 4.3, \"Mar\": 7.6, \"Jun\": 17.5, \"Sep\": 16.0, \"Nov\": 7.1, \"Oct\": 11.4, \"Feb\": 4.1}, {\"Mean\": 9.72, \"Jul\": 19.0, \"R\\u00e9gion\": \"NE\", \"Lati\": 48.35, \"City\": \"Strasbourg\", \"Long\": 7.45, \"Jan\": 0.4, \"Apr\": 9.8, \"May\": 14.0, \"Aug\": 18.3, \"Ampl\": 18.6, \"Dec\": 1.3, \"Mar\": 5.6, \"Jun\": 17.2, \"Sep\": 15.1, \"Nov\": 4.9, \"Oct\": 9.5, \"Feb\": 1.5}, {\"Mean\": 10.77, \"Jul\": 15.6, \"R\\u00e9gion\": \"NO\", \"Lati\": 48.24, \"City\": \"Brest\", \"Long\": -4.29, \"Jan\": 6.1, \"Apr\": 9.2, \"May\": 11.6, \"Aug\": 16.0, \"Ampl\": 10.2, \"Dec\": 7.0, \"Mar\": 7.8, \"Jun\": 14.4, \"Sep\": 14.7, \"Nov\": 9.0, \"Oct\": 12.0, \"Feb\": 5.8}, {\"Mean\": 11.13, \"Jul\": 17.9, \"R\\u00e9gion\": \"NO\", \"Lati\": 48.05, \"City\": \"Rennes\", \"Long\": -1.41, \"Jan\": 4.8, \"Apr\": 10.1, \"May\": 13.1, \"Aug\": 17.8, \"Ampl\": 13.1, \"Dec\": 5.4, \"Mar\": 7.9, \"Jun\": 16.2, \"Sep\": 15.7, \"Nov\": 7.8, \"Oct\": 11.6, \"Feb\": 5.3}, {\"Mean\": 11.69, \"Jul\": 18.8, \"R\\u00e9gion\": \"NO\", \"Lati\": 47.13, \"City\": \"Nantes\", \"Long\": -1.33, \"Jan\": 5.0, \"Apr\": 10.8, \"May\": 13.9, \"Aug\": 18.6, \"Ampl\": 13.8, \"Dec\": 5.5, \"Mar\": 8.4, \"Jun\": 17.2, \"Sep\": 16.4, \"Nov\": 8.2, \"Oct\": 12.2, \"Feb\": 5.3}, {\"Mean\": 10.72, \"Jul\": 19.3, \"R\\u00e9gion\": \"SE\", \"Lati\": 46.08, \"City\": \"Vichy\", \"Long\": 3.26, \"Jan\": 2.4, \"Apr\": 9.9, \"May\": 13.6, \"Aug\": 18.8, \"Ampl\": 16.9, \"Dec\": 3.4, \"Mar\": 7.1, \"Jun\": 17.1, \"Sep\": 16.0, \"Nov\": 6.6, \"Oct\": 11.0, \"Feb\": 3.4}, {\"Mean\": 10.94, \"Jul\": 19.4, \"R\\u00e9gion\": \"SE\", \"Lati\": 45.47, \"City\": \"Clermont\", \"Long\": 3.05, \"Jan\": 2.6, \"Apr\": 10.3, \"May\": 13.8, \"Aug\": 19.1, \"Ampl\": 16.8, \"Dec\": 3.6, \"Mar\": 7.5, \"Jun\": 17.3, \"Sep\": 16.2, \"Nov\": 6.6, \"Oct\": 11.2, \"Feb\": 3.7}, {\"Mean\": 11.36, \"Jul\": 20.7, \"R\\u00e9gion\": \"SE\", \"Lati\": 45.45, \"City\": \"Lyon\", \"Long\": 4.51, \"Jan\": 2.1, \"Apr\": 10.9, \"May\": 14.9, \"Aug\": 20.1, \"Ampl\": 18.6, \"Dec\": 3.1, \"Mar\": 7.7, \"Jun\": 18.5, \"Sep\": 16.9, \"Nov\": 6.7, \"Oct\": 11.4, \"Feb\": 3.3}, {\"Mean\": 10.98, \"Jul\": 20.1, \"R\\u00e9gion\": \"SE\", \"Lati\": 45.1, \"City\": \"Grenoble\", \"Long\": 5.43, \"Jan\": 1.5, \"Apr\": 10.6, \"May\": 14.5, \"Aug\": 19.5, \"Ampl\": 18.6, \"Dec\": 2.3, \"Mar\": 7.7, \"Jun\": 17.8, \"Sep\": 16.7, \"Nov\": 6.5, \"Oct\": 11.4, \"Feb\": 3.2}, {\"Mean\": 13.33, \"Jul\": 20.9, \"R\\u00e9gion\": \"SO\", \"Lati\": 44.5, \"City\": \"Bordeaux\", \"Long\": -0.34, \"Jan\": 5.6, \"Apr\": 12.8, \"May\": 15.8, \"Aug\": 21.0, \"Ampl\": 15.4, \"Dec\": 6.2, \"Mar\": 10.3, \"Jun\": 19.3, \"Sep\": 18.6, \"Nov\": 9.1, \"Oct\": 13.8, \"Feb\": 6.6}, {\"Mean\": 14.84, \"Jul\": 22.7, \"R\\u00e9gion\": \"SE\", \"Lati\": 43.42, \"City\": \"Nice\", \"Long\": 7.15, \"Jan\": 7.5, \"Apr\": 13.3, \"May\": 16.7, \"Aug\": 22.5, \"Ampl\": 15.2, \"Dec\": 8.2, \"Mar\": 10.8, \"Jun\": 20.1, \"Sep\": 20.3, \"Nov\": 11.5, \"Oct\": 16.0, \"Feb\": 8.5}, {\"Mean\": 13.89, \"Jul\": 22.7, \"R\\u00e9gion\": \"SE\", \"Lati\": 43.36, \"City\": \"Montpellier\", \"Long\": 3.53, \"Jan\": 5.6, \"Apr\": 12.8, \"May\": 16.2, \"Aug\": 22.3, \"Ampl\": 17.1, \"Dec\": 6.5, \"Mar\": 9.9, \"Jun\": 20.1, \"Sep\": 19.3, \"Nov\": 10.0, \"Oct\": 14.6, \"Feb\": 6.7}, {\"Mean\": 12.68, \"Jul\": 20.9, \"R\\u00e9gion\": \"SO\", \"Lati\": 43.36, \"City\": \"Toulouse\", \"Long\": 1.26, \"Jan\": 4.7, \"Apr\": 11.6, \"May\": 14.9, \"Aug\": 20.9, \"Ampl\": 16.2, \"Dec\": 5.5, \"Mar\": 9.2, \"Jun\": 18.7, \"Sep\": 18.3, \"Nov\": 8.6, \"Oct\": 13.3, \"Feb\": 5.6}, {\"Mean\": 14.23, \"Jul\": 23.3, \"R\\u00e9gion\": \"SE\", \"Lati\": 43.18, \"City\": \"Marseille\", \"Long\": 5.24, \"Jan\": 5.5, \"Apr\": 13.0, \"May\": 16.8, \"Aug\": 22.8, \"Ampl\": 17.8, \"Dec\": 6.9, \"Mar\": 10.0, \"Jun\": 20.8, \"Sep\": 19.9, \"Nov\": 10.2, \"Oct\": 15.0, \"Feb\": 6.6}]}, \"mark\": \"text\"};\n",
       "var selector = \"#7baca51e-d750-411f-bcef-cb58339abd3e\";\n",
       "var type = \"vega-lite\";\n",
       "\n",
       "var output_area = this;\n",
       "require(['nbextensions/jupyter-vega/index'], function(vega) {\n",
       "  vega.render(selector, spec, type, output_area);\n",
       "}, function (err) {\n",
       "  if (err.requireType !== 'scripterror') {\n",
       "    throw(err);\n",
       "  }\n",
       "});\n"
      ]
     },
     "metadata": {
      "jupyter-vega": "#7baca51e-d750-411f-bcef-cb58339abd3e"
     },
     "output_type": "display_data"
    },
    {
     "data": {
      "image/png": "[encoded data removed]"
     },
     "metadata": {
      "jupyter-vega": "#7baca51e-d750-411f-bcef-cb58339abd3e"
     },
     "output_type": "display_data"
    }
   ],
   "source": [
    "from altair import Chart, Y, Scale, Formula\n",
    "\n",
    "french_cities['City'] = french_cities.index\n",
    "\n",
    "Chart(french_cities).mark_text().encode(\n",
    "    color='Mean:N',\n",
    "    y=Y('Ampl:Q',scale=Scale(zero=False)),\n",
    "    text='City:N',\n",
    "    x='Long:Q')"
   ]
  },
  {
   "cell_type": "markdown",
   "metadata": {
    "slideshow": {
     "slide_type": "slide"
    }
   },
   "source": [
    "# Bokeh\n",
    "\n",
    "http://bokeh.pydata.org/\n",
    "\n",
    "```sh\n",
    "conda install bokeh selenium PhantomJS\n",
    "```\n",
    "or\n",
    "```sh\n",
    "sudo -H pip3 install selenium\n",
    "brew install node\n",
    "npm install -g phantomjs-prebuilt\n",
    "```"
   ]
  },
  {
   "cell_type": "code",
   "execution_count": 80,
   "metadata": {
    "slideshow": {
     "slide_type": "fragment"
    }
   },
   "outputs": [
    {
     "data": {
      "text/html": [
       "\n",
       "    <div class=\"bk-root\">\n",
       "        <a href=\"https://bokeh.pydata.org\" target=\"_blank\" class=\"bk-logo bk-logo-small bk-logo-notebook\"></a>\n",
       "        <span id=\"1b6ee793-b89f-4486-a7a5-632b0f26df0a\">Loading BokehJS ...</span>\n",
       "    </div>"
      ]
     },
     "metadata": {},
     "output_type": "display_data"
    },
    {
     "data": {
      "application/javascript": [
       "\n",
       "(function(root) {\n",
       "  function now() {\n",
       "    return new Date();\n",
       "  }\n",
       "\n",
       "  var force = true;\n",
       "\n",
       "  if (typeof (root._bokeh_onload_callbacks) === \"undefined\" || force === true) {\n",
       "    root._bokeh_onload_callbacks = [];\n",
       "    root._bokeh_is_loading = undefined;\n",
       "  }\n",
       "\n",
       "  var JS_MIME_TYPE = 'application/javascript';\n",
       "  var HTML_MIME_TYPE = 'text/html';\n",
       "  var EXEC_MIME_TYPE = 'application/vnd.bokehjs_exec.v0+json';\n",
       "  var CLASS_NAME = 'output_bokeh rendered_html';\n",
       "\n",
       "  /**\n",
       "   * Render data to the DOM node\n",
       "   */\n",
       "  function render(props, node) {\n",
       "    var script = document.createElement(\"script\");\n",
       "    node.appendChild(script);\n",
       "  }\n",
       "\n",
       "  /**\n",
       "   * Handle when an output is cleared or removed\n",
       "   */\n",
       "  function handleClearOutput(event, handle) {\n",
       "    var cell = handle.cell;\n",
       "\n",
       "    var id = cell.output_area._bokeh_element_id;\n",
       "    var server_id = cell.output_area._bokeh_server_id;\n",
       "    // Clean up Bokeh references\n",
       "    if (id !== undefined) {\n",
       "      Bokeh.index[id].model.document.clear();\n",
       "      delete Bokeh.index[id];\n",
       "    }\n",
       "\n",
       "    if (server_id !== undefined) {\n",
       "      // Clean up Bokeh references\n",
       "      var cmd = \"from bokeh.io import _state; print(_state.uuid_to_server['\" + server_id + \"'].get_sessions()[0].document.roots[0]._id)\";\n",
       "      cell.notebook.kernel.execute(cmd, {\n",
       "        iopub: {\n",
       "          output: function(msg) {\n",
       "            var element_id = msg.content.text.trim();\n",
       "            Bokeh.index[element_id].model.document.clear();\n",
       "            delete Bokeh.index[element_id];\n",
       "          }\n",
       "        }\n",
       "      });\n",
       "      // Destroy server and session\n",
       "      var cmd = \"from bokeh import io; io._destroy_server('\" + server_id + \"')\";\n",
       "      cell.notebook.kernel.execute(cmd);\n",
       "    }\n",
       "  }\n",
       "\n",
       "  /**\n",
       "   * Handle when a new output is added\n",
       "   */\n",
       "  function handleAddOutput(event, handle) {\n",
       "    var output_area = handle.output_area;\n",
       "    var output = handle.output;\n",
       "\n",
       "    // limit handleAddOutput to display_data with EXEC_MIME_TYPE content only\n",
       "    if ((output.output_type != \"display_data\") || (!output.data.hasOwnProperty(EXEC_MIME_TYPE))) {\n",
       "      return\n",
       "    }\n",
       "\n",
       "    var toinsert = output_area.element.find(`.${CLASS_NAME.split(' ')[0]}`);\n",
       "\n",
       "    if (output.metadata[EXEC_MIME_TYPE][\"id\"] !== undefined) {\n",
       "      toinsert[0].firstChild.textContent = output.data[JS_MIME_TYPE];\n",
       "      // store reference to embed id on output_area\n",
       "      output_area._bokeh_element_id = output.metadata[EXEC_MIME_TYPE][\"id\"];\n",
       "    }\n",
       "    if (output.metadata[EXEC_MIME_TYPE][\"server_id\"] !== undefined) {\n",
       "      var bk_div = document.createElement(\"div\");\n",
       "      bk_div.innerHTML = output.data[HTML_MIME_TYPE];\n",
       "      var script_attrs = bk_div.children[0].attributes;\n",
       "      for (var i = 0; i < script_attrs.length; i++) {\n",
       "        toinsert[0].firstChild.setAttribute(script_attrs[i].name, script_attrs[i].value);\n",
       "      }\n",
       "      // store reference to server id on output_area\n",
       "      output_area._bokeh_server_id = output.metadata[EXEC_MIME_TYPE][\"server_id\"];\n",
       "    }\n",
       "  }\n",
       "\n",
       "  function register_renderer(events, OutputArea) {\n",
       "\n",
       "    function append_mime(data, metadata, element) {\n",
       "      // create a DOM node to render to\n",
       "      var toinsert = this.create_output_subarea(\n",
       "        metadata,\n",
       "        CLASS_NAME,\n",
       "        EXEC_MIME_TYPE\n",
       "      );\n",
       "      this.keyboard_manager.register_events(toinsert);\n",
       "      // Render to node\n",
       "      var props = {data: data, metadata: metadata[EXEC_MIME_TYPE]};\n",
       "      render(props, toinsert[0]);\n",
       "      element.append(toinsert);\n",
       "      return toinsert\n",
       "    }\n",
       "\n",
       "    /* Handle when an output is cleared or removed */\n",
       "    events.on('clear_output.CodeCell', handleClearOutput);\n",
       "    events.on('delete.Cell', handleClearOutput);\n",
       "\n",
       "    /* Handle when a new output is added */\n",
       "    events.on('output_added.OutputArea', handleAddOutput);\n",
       "\n",
       "    /**\n",
       "     * Register the mime type and append_mime function with output_area\n",
       "     */\n",
       "    OutputArea.prototype.register_mime_type(EXEC_MIME_TYPE, append_mime, {\n",
       "      /* Is output safe? */\n",
       "      safe: true,\n",
       "      /* Index of renderer in `output_area.display_order` */\n",
       "      index: 0\n",
       "    });\n",
       "  }\n",
       "\n",
       "  // register the mime type if in Jupyter Notebook environment and previously unregistered\n",
       "  if (root.Jupyter !== undefined) {\n",
       "    var events = require('base/js/events');\n",
       "    var OutputArea = require('notebook/js/outputarea').OutputArea;\n",
       "\n",
       "    if (OutputArea.prototype.mime_types().indexOf(EXEC_MIME_TYPE) == -1) {\n",
       "      register_renderer(events, OutputArea);\n",
       "    }\n",
       "  }\n",
       "\n",
       "  \n",
       "  if (typeof (root._bokeh_timeout) === \"undefined\" || force === true) {\n",
       "    root._bokeh_timeout = Date.now() + 5000;\n",
       "    root._bokeh_failed_load = false;\n",
       "  }\n",
       "\n",
       "  var NB_LOAD_WARNING = {'data': {'text/html':\n",
       "     \"<div style='background-color: #fdd'>\\n\"+\n",
       "     \"<p>\\n\"+\n",
       "     \"BokehJS does not appear to have successfully loaded. If loading BokehJS from CDN, this \\n\"+\n",
       "     \"may be due to a slow or bad network connection. Possible fixes:\\n\"+\n",
       "     \"</p>\\n\"+\n",
       "     \"<ul>\\n\"+\n",
       "     \"<li>re-rerun `output_notebook()` to attempt to load from CDN again, or</li>\\n\"+\n",
       "     \"<li>use INLINE resources instead, as so:</li>\\n\"+\n",
       "     \"</ul>\\n\"+\n",
       "     \"<code>\\n\"+\n",
       "     \"from bokeh.resources import INLINE\\n\"+\n",
       "     \"output_notebook(resources=INLINE)\\n\"+\n",
       "     \"</code>\\n\"+\n",
       "     \"</div>\"}};\n",
       "\n",
       "  function display_loaded() {\n",
       "    var el = document.getElementById(\"1b6ee793-b89f-4486-a7a5-632b0f26df0a\");\n",
       "    if (el != null) {\n",
       "      el.textContent = \"BokehJS is loading...\";\n",
       "    }\n",
       "    if (root.Bokeh !== undefined) {\n",
       "      if (el != null) {\n",
       "        el.textContent = \"BokehJS \" + root.Bokeh.version + \" successfully loaded.\";\n",
       "      }\n",
       "    } else if (Date.now() < root._bokeh_timeout) {\n",
       "      setTimeout(display_loaded, 100)\n",
       "    }\n",
       "  }\n",
       "\n",
       "\n",
       "  function run_callbacks() {\n",
       "    try {\n",
       "      root._bokeh_onload_callbacks.forEach(function(callback) { callback() });\n",
       "    }\n",
       "    finally {\n",
       "      delete root._bokeh_onload_callbacks\n",
       "    }\n",
       "    console.info(\"Bokeh: all callbacks have finished\");\n",
       "  }\n",
       "\n",
       "  function load_libs(js_urls, callback) {\n",
       "    root._bokeh_onload_callbacks.push(callback);\n",
       "    if (root._bokeh_is_loading > 0) {\n",
       "      console.log(\"Bokeh: BokehJS is being loaded, scheduling callback at\", now());\n",
       "      return null;\n",
       "    }\n",
       "    if (js_urls == null || js_urls.length === 0) {\n",
       "      run_callbacks();\n",
       "      return null;\n",
       "    }\n",
       "    console.log(\"Bokeh: BokehJS not loaded, scheduling load and callback at\", now());\n",
       "    root._bokeh_is_loading = js_urls.length;\n",
       "    for (var i = 0; i < js_urls.length; i++) {\n",
       "      var url = js_urls[i];\n",
       "      var s = document.createElement('script');\n",
       "      s.src = url;\n",
       "      s.async = false;\n",
       "      s.onreadystatechange = s.onload = function() {\n",
       "        root._bokeh_is_loading--;\n",
       "        if (root._bokeh_is_loading === 0) {\n",
       "          console.log(\"Bokeh: all BokehJS libraries loaded\");\n",
       "          run_callbacks()\n",
       "        }\n",
       "      };\n",
       "      s.onerror = function() {\n",
       "        console.warn(\"failed to load library \" + url);\n",
       "      };\n",
       "      console.log(\"Bokeh: injecting script tag for BokehJS library: \", url);\n",
       "      document.getElementsByTagName(\"head\")[0].appendChild(s);\n",
       "    }\n",
       "  };var element = document.getElementById(\"1b6ee793-b89f-4486-a7a5-632b0f26df0a\");\n",
       "  if (element == null) {\n",
       "    console.log(\"Bokeh: ERROR: autoload.js configured with elementid '1b6ee793-b89f-4486-a7a5-632b0f26df0a' but no matching script tag was found. \")\n",
       "    return false;\n",
       "  }\n",
       "\n",
       "  var js_urls = [\"https://cdn.pydata.org/bokeh/release/bokeh-0.12.9.min.js\", \"https://cdn.pydata.org/bokeh/release/bokeh-widgets-0.12.9.min.js\", \"https://cdn.pydata.org/bokeh/release/bokeh-tables-0.12.9.min.js\", \"https://cdn.pydata.org/bokeh/release/bokeh-gl-0.12.9.min.js\"];\n",
       "\n",
       "  var inline_js = [\n",
       "    function(Bokeh) {\n",
       "      Bokeh.set_log_level(\"info\");\n",
       "    },\n",
       "    \n",
       "    function(Bokeh) {\n",
       "      \n",
       "    },\n",
       "    function(Bokeh) {\n",
       "      console.log(\"Bokeh: injecting CSS: https://cdn.pydata.org/bokeh/release/bokeh-0.12.9.min.css\");\n",
       "      Bokeh.embed.inject_css(\"https://cdn.pydata.org/bokeh/release/bokeh-0.12.9.min.css\");\n",
       "      console.log(\"Bokeh: injecting CSS: https://cdn.pydata.org/bokeh/release/bokeh-widgets-0.12.9.min.css\");\n",
       "      Bokeh.embed.inject_css(\"https://cdn.pydata.org/bokeh/release/bokeh-widgets-0.12.9.min.css\");\n",
       "      console.log(\"Bokeh: injecting CSS: https://cdn.pydata.org/bokeh/release/bokeh-tables-0.12.9.min.css\");\n",
       "      Bokeh.embed.inject_css(\"https://cdn.pydata.org/bokeh/release/bokeh-tables-0.12.9.min.css\");\n",
       "    }\n",
       "  ];\n",
       "\n",
       "  function run_inline_js() {\n",
       "    \n",
       "    if ((root.Bokeh !== undefined) || (force === true)) {\n",
       "      for (var i = 0; i < inline_js.length; i++) {\n",
       "        inline_js[i].call(root, root.Bokeh);\n",
       "      }if (force === true) {\n",
       "        display_loaded();\n",
       "      }} else if (Date.now() < root._bokeh_timeout) {\n",
       "      setTimeout(run_inline_js, 100);\n",
       "    } else if (!root._bokeh_failed_load) {\n",
       "      console.log(\"Bokeh: BokehJS failed to load within specified timeout.\");\n",
       "      root._bokeh_failed_load = true;\n",
       "    } else if (force !== true) {\n",
       "      var cell = $(document.getElementById(\"1b6ee793-b89f-4486-a7a5-632b0f26df0a\")).parents('.cell').data().cell;\n",
       "      cell.output_area.append_execute_result(NB_LOAD_WARNING)\n",
       "    }\n",
       "\n",
       "  }\n",
       "\n",
       "  if (root._bokeh_is_loading === 0) {\n",
       "    console.log(\"Bokeh: BokehJS loaded, going straight to plotting\");\n",
       "    run_inline_js();\n",
       "  } else {\n",
       "    load_libs(js_urls, function() {\n",
       "      console.log(\"Bokeh: BokehJS plotting callback run at\", now());\n",
       "      run_inline_js();\n",
       "    });\n",
       "  }\n",
       "}(window));"
      ],
      "application/vnd.bokehjs_load.v0+json": "\n(function(root) {\n  function now() {\n    return new Date();\n  }\n\n  var force = true;\n\n  if (typeof (root._bokeh_onload_callbacks) === \"undefined\" || force === true) {\n    root._bokeh_onload_callbacks = [];\n    root._bokeh_is_loading = undefined;\n  }\n\n  \n\n  \n  if (typeof (root._bokeh_timeout) === \"undefined\" || force === true) {\n    root._bokeh_timeout = Date.now() + 5000;\n    root._bokeh_failed_load = false;\n  }\n\n  var NB_LOAD_WARNING = {'data': {'text/html':\n     \"<div style='background-color: #fdd'>\\n\"+\n     \"<p>\\n\"+\n     \"BokehJS does not appear to have successfully loaded. If loading BokehJS from CDN, this \\n\"+\n     \"may be due to a slow or bad network connection. Possible fixes:\\n\"+\n     \"</p>\\n\"+\n     \"<ul>\\n\"+\n     \"<li>re-rerun `output_notebook()` to attempt to load from CDN again, or</li>\\n\"+\n     \"<li>use INLINE resources instead, as so:</li>\\n\"+\n     \"</ul>\\n\"+\n     \"<code>\\n\"+\n     \"from bokeh.resources import INLINE\\n\"+\n     \"output_notebook(resources=INLINE)\\n\"+\n     \"</code>\\n\"+\n     \"</div>\"}};\n\n  function display_loaded() {\n    var el = document.getElementById(\"1b6ee793-b89f-4486-a7a5-632b0f26df0a\");\n    if (el != null) {\n      el.textContent = \"BokehJS is loading...\";\n    }\n    if (root.Bokeh !== undefined) {\n      if (el != null) {\n        el.textContent = \"BokehJS \" + root.Bokeh.version + \" successfully loaded.\";\n      }\n    } else if (Date.now() < root._bokeh_timeout) {\n      setTimeout(display_loaded, 100)\n    }\n  }\n\n\n  function run_callbacks() {\n    try {\n      root._bokeh_onload_callbacks.forEach(function(callback) { callback() });\n    }\n    finally {\n      delete root._bokeh_onload_callbacks\n    }\n    console.info(\"Bokeh: all callbacks have finished\");\n  }\n\n  function load_libs(js_urls, callback) {\n    root._bokeh_onload_callbacks.push(callback);\n    if (root._bokeh_is_loading > 0) {\n      console.log(\"Bokeh: BokehJS is being loaded, scheduling callback at\", now());\n      return null;\n    }\n    if (js_urls == null || js_urls.length === 0) {\n      run_callbacks();\n      return null;\n    }\n    console.log(\"Bokeh: BokehJS not loaded, scheduling load and callback at\", now());\n    root._bokeh_is_loading = js_urls.length;\n    for (var i = 0; i < js_urls.length; i++) {\n      var url = js_urls[i];\n      var s = document.createElement('script');\n      s.src = url;\n      s.async = false;\n      s.onreadystatechange = s.onload = function() {\n        root._bokeh_is_loading--;\n        if (root._bokeh_is_loading === 0) {\n          console.log(\"Bokeh: all BokehJS libraries loaded\");\n          run_callbacks()\n        }\n      };\n      s.onerror = function() {\n        console.warn(\"failed to load library \" + url);\n      };\n      console.log(\"Bokeh: injecting script tag for BokehJS library: \", url);\n      document.getElementsByTagName(\"head\")[0].appendChild(s);\n    }\n  };var element = document.getElementById(\"1b6ee793-b89f-4486-a7a5-632b0f26df0a\");\n  if (element == null) {\n    console.log(\"Bokeh: ERROR: autoload.js configured with elementid '1b6ee793-b89f-4486-a7a5-632b0f26df0a' but no matching script tag was found. \")\n    return false;\n  }\n\n  var js_urls = [\"https://cdn.pydata.org/bokeh/release/bokeh-0.12.9.min.js\", \"https://cdn.pydata.org/bokeh/release/bokeh-widgets-0.12.9.min.js\", \"https://cdn.pydata.org/bokeh/release/bokeh-tables-0.12.9.min.js\", \"https://cdn.pydata.org/bokeh/release/bokeh-gl-0.12.9.min.js\"];\n\n  var inline_js = [\n    function(Bokeh) {\n      Bokeh.set_log_level(\"info\");\n    },\n    \n    function(Bokeh) {\n      \n    },\n    function(Bokeh) {\n      console.log(\"Bokeh: injecting CSS: https://cdn.pydata.org/bokeh/release/bokeh-0.12.9.min.css\");\n      Bokeh.embed.inject_css(\"https://cdn.pydata.org/bokeh/release/bokeh-0.12.9.min.css\");\n      console.log(\"Bokeh: injecting CSS: https://cdn.pydata.org/bokeh/release/bokeh-widgets-0.12.9.min.css\");\n      Bokeh.embed.inject_css(\"https://cdn.pydata.org/bokeh/release/bokeh-widgets-0.12.9.min.css\");\n      console.log(\"Bokeh: injecting CSS: https://cdn.pydata.org/bokeh/release/bokeh-tables-0.12.9.min.css\");\n      Bokeh.embed.inject_css(\"https://cdn.pydata.org/bokeh/release/bokeh-tables-0.12.9.min.css\");\n    }\n  ];\n\n  function run_inline_js() {\n    \n    if ((root.Bokeh !== undefined) || (force === true)) {\n      for (var i = 0; i < inline_js.length; i++) {\n        inline_js[i].call(root, root.Bokeh);\n      }if (force === true) {\n        display_loaded();\n      }} else if (Date.now() < root._bokeh_timeout) {\n      setTimeout(run_inline_js, 100);\n    } else if (!root._bokeh_failed_load) {\n      console.log(\"Bokeh: BokehJS failed to load within specified timeout.\");\n      root._bokeh_failed_load = true;\n    } else if (force !== true) {\n      var cell = $(document.getElementById(\"1b6ee793-b89f-4486-a7a5-632b0f26df0a\")).parents('.cell').data().cell;\n      cell.output_area.append_execute_result(NB_LOAD_WARNING)\n    }\n\n  }\n\n  if (root._bokeh_is_loading === 0) {\n    console.log(\"Bokeh: BokehJS loaded, going straight to plotting\");\n    run_inline_js();\n  } else {\n    load_libs(js_urls, function() {\n      console.log(\"Bokeh: BokehJS plotting callback run at\", now());\n      run_inline_js();\n    });\n  }\n}(window));"
     },
     "metadata": {},
     "output_type": "display_data"
    }
   ],
   "source": [
    "from bokeh.plotting import figure, output_notebook, show, reset_output\n",
    "from bokeh.io import export_png\n",
    "reset_output()\n",
    "output_notebook()"
   ]
  },
  {
   "cell_type": "code",
   "execution_count": 82,
   "metadata": {
    "slideshow": {
     "slide_type": "slide"
    }
   },
   "outputs": [
    {
     "data": {
      "text/plain": [
       "'/Users/navaro/notebooks-python/bokeh_example.png'"
      ]
     },
     "execution_count": 82,
     "metadata": {},
     "output_type": "execute_result"
    }
   ],
   "source": [
    "from collections import OrderedDict\n",
    "from math import log, sqrt\n",
    "\n",
    "import numpy as np\n",
    "import pandas as pd\n",
    "\n",
    "city_color = OrderedDict([\n",
    "    (\"Lille\",        \"black\"),\n",
    "    (\"Paris\",        \"darkblue\"),\n",
    "    (\"Strasbourg\",   \"blue\"),\n",
    "    (\"Brest\",        \"grey\"),\n",
    "    (\"Rennes\",       \"red\"),\n",
    "    (\"Nantes\",       \"yellow\"),\n",
    "    (\"Vichy\",        \"lightcyan\"),\n",
    "    (\"Clermont\",     \"green\"),\n",
    "    (\"Lyon\",         \"darkred\"),\n",
    "    (\"Grenoble\",     \"pink\"),\n",
    "    (\"Bordeaux\",     \"navyblue\"),\n",
    "    (\"Nice\",         \"darkred\"),\n",
    "    (\"Montpellier\",  \"orange\"),\n",
    "    (\"Toulouse\",     \"purple\"),\n",
    "    (\"Marseille\",    \"lightblue\"  ),\n",
    "])\n",
    "\n",
    "temp_color = OrderedDict([\n",
    "    (\"Mean\", \"#0d3362\"),\n",
    "    (\"Ampl\", \"#c64737\"),\n",
    "])\n",
    "\n",
    "region_color = {\n",
    "    \"NO\" : \"#b3ecff\",\n",
    "    \"NE\" : \"#ccf2ff\",\n",
    "    \"SO\" : \"#80dfff\",\n",
    "    \"SE\" : \"#99e6ff\",\n",
    "}\n",
    "\n",
    "df = french_cities.sort_values(by='Région')\n",
    "\n",
    "width = 800\n",
    "height = 800\n",
    "inner_radius = 90\n",
    "outer_radius = 300 - 10\n",
    "\n",
    "minr = 0\n",
    "maxr = 30\n",
    "a = (outer_radius - inner_radius) / (maxr - minr)\n",
    "b = inner_radius \n",
    "\n",
    "def rad(t):\n",
    "    return a * t + b\n",
    "\n",
    "big_angle = 2.0 * np.pi / (len(df) + 1)\n",
    "small_angle = big_angle / 7\n",
    "\n",
    "p = figure(plot_width=width, plot_height=height, title=\"\",\n",
    "    x_axis_type=None, y_axis_type=None,\n",
    "    x_range=(-420, 420), y_range=(-420, 420),\n",
    "    min_border=0, outline_line_color=\"black\",\n",
    "    background_fill_color=\"navajowhite\", border_fill_color=\"#f0e1d2\",\n",
    "    toolbar_sticky=False)\n",
    "\n",
    "p.xgrid.grid_line_color = None\n",
    "p.ygrid.grid_line_color = None\n",
    "\n",
    "# annular wedges\n",
    "angles = np.pi/2 - big_angle/2 - pd.RangeIndex(0,16).to_series()*big_angle\n",
    "colors = [region_color[region] for region in df.Région]\n",
    "p.annular_wedge(0, 0, inner_radius, outer_radius, -big_angle+angles[:-1], angles[:-1], color=colors,\n",
    ")\n",
    "\n",
    "# small wedges\n",
    "p.annular_wedge(0, 0, inner_radius, rad(df.Mean),\n",
    "                -big_angle+angles[:-1]+5*small_angle, -big_angle+angles[:-1]+6*small_angle,\n",
    "                color=temp_color['Mean'])\n",
    "p.annular_wedge(0, 0, inner_radius, rad(df.Ampl),\n",
    "                -big_angle+angles[:-1]+3*small_angle, -big_angle+angles[:-1]+4*small_angle,\n",
    "                color=temp_color['Ampl'])\n",
    "\n",
    "# circular axes and labels\n",
    "labels = np.arange(0, maxr, 5)\n",
    "radii  = inner_radius + labels*a\n",
    "p.circle(0, 0, radius=radii, fill_color=None, line_color=\"white\")\n",
    "p.text(0, radii[:-1], [str(r) for r in labels[:-1]],\n",
    "       text_font_size=\"8pt\", text_align=\"center\", text_baseline=\"middle\")\n",
    "# radial axes\n",
    "p.annular_wedge(0, 0, inner_radius-10, outer_radius+10,\n",
    "                -big_angle+angles, -big_angle+angles, color=\"black\")\n",
    "\n",
    "# city names\n",
    "xr = radii[-1]*np.cos(np.array(-big_angle/2 + angles[:-1]))\n",
    "yr = radii[-1]*np.sin(np.array(-big_angle/2 + angles[:-1]))\n",
    "label_angle=np.array(-big_angle/2+angles[:-1])\n",
    "label_angle[label_angle < -np.pi/2] += np.pi # easier to read labels on the left side\n",
    "p.text(xr, yr, df.City, angle=label_angle,\n",
    "       text_font_size=\"9pt\", text_align=\"center\", text_baseline=\"middle\")\n",
    "\n",
    "p.circle(np.linspace(-340,340,4), 4*[-380], color=list(region_color.values()), radius=5)\n",
    "p.text(np.linspace(-340,340,4), 4*[-380], text=[\"  Region-\" + gr for gr in region_color.keys()],\n",
    "       text_font_size=\"9pt\", text_align=\"left\", text_baseline=\"top\")\n",
    "\n",
    "p.rect([-40, -40], [18, -18], width=30, height=13,\n",
    "       color=list(temp_color.values()))\n",
    "p.text([-15, -15], [18, -18], text=list(temp_color),\n",
    "       text_font_size=\"9pt\", text_align=\"left\", text_baseline=\"middle\")\n",
    "\n",
    "export_png(p, filename=\"bokeh_example.png\")"
   ]
  },
  {
   "cell_type": "markdown",
   "metadata": {
    "slideshow": {
     "slide_type": "slide"
    }
   },
   "source": [
    "![Bokeh example](./bokeh_example.png)"
   ]
  },
  {
   "cell_type": "markdown",
   "metadata": {
    "slideshow": {
     "slide_type": "slide"
    }
   },
   "source": [
    "# Saving Work"
   ]
  },
  {
   "cell_type": "markdown",
   "metadata": {
    "slideshow": {
     "slide_type": "fragment"
    }
   },
   "source": [
    "Excel Writer does not work with Series."
   ]
  },
  {
   "cell_type": "code",
   "execution_count": 84,
   "metadata": {
    "collapsed": true,
    "slideshow": {
     "slide_type": "fragment"
    }
   },
   "outputs": [],
   "source": [
    "with pd.ExcelWriter(\"data/test.xls\") as writer:\n",
    "    pd.DataFrame({\"Full Globe Temp\": full_globe_temp}).to_excel(writer, sheet_name=\"FullGlobe temp data\")"
   ]
  },
  {
   "cell_type": "markdown",
   "metadata": {
    "slideshow": {
     "slide_type": "fragment"
    }
   },
   "source": [
    "[HDF5](https://support.hdfgroup.org/HDF5/) is widely used and one of the most powerful file format to store binary data. It allows to store both Series and DataFrames."
   ]
  },
  {
   "cell_type": "code",
   "execution_count": 85,
   "metadata": {
    "collapsed": true,
    "slideshow": {
     "slide_type": "fragment"
    }
   },
   "outputs": [],
   "source": [
    "with pd.HDFStore(\"data/pandas_nb.h5\") as writer:\n",
    "    full_globe_temp.to_hdf(writer, \"/temperatures/full_globe\")\n",
    "    local_sea_level_stations.to_hdf(writer, \"/sea_level/stations\")"
   ]
  },
  {
   "cell_type": "code",
   "execution_count": 86,
   "metadata": {
    "slideshow": {
     "slide_type": "fragment"
    }
   },
   "outputs": [
    {
     "name": "stdout",
     "output_type": "stream",
     "text": [
      "\u001b[34mjson\u001b[m\u001b[m/              \u001b[34mnycflights\u001b[m\u001b[m/        pandas_nb.h5\r\n",
      "\u001b[34mminute\u001b[m\u001b[m/            nycflights.tar.gz  test.xls\r\n"
     ]
    }
   ],
   "source": [
    "%ls data"
   ]
  },
  {
   "cell_type": "markdown",
   "metadata": {
    "slideshow": {
     "slide_type": "slide"
    }
   },
   "source": [
    "# Reloading data"
   ]
  },
  {
   "cell_type": "code",
   "execution_count": 87,
   "metadata": {
    "collapsed": true,
    "slideshow": {
     "slide_type": "fragment"
    }
   },
   "outputs": [],
   "source": [
    "with pd.HDFStore(\"data/pandas_nb.h5\") as store:\n",
    "    full_globe_temp = store[\"/temperatures/full_globe\"]\n",
    "    local_sea_level_stations = store[\"/sea_level/stations\"]"
   ]
  }
 ],
 "metadata": {
  "celltoolbar": "Slideshow",
  "kernelspec": {
   "display_name": "Python 3",
   "language": "python",
   "name": "python3"
  },
  "language_info": {
   "codemirror_mode": {
    "name": "ipython",
    "version": 3
   },
   "file_extension": ".py",
   "mimetype": "text/x-python",
   "name": "python",
   "nbconvert_exporter": "python",
   "pygments_lexer": "ipython3",
   "version": "3.6.3"
  }
 },
 "nbformat": 4,
 "nbformat_minor": 2
}
