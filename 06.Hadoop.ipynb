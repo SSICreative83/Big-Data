{
 "cells": [
  {
   "cell_type": "markdown",
   "metadata": {
    "slideshow": {
     "slide_type": "slide"
    }
   },
   "source": [
    "# Big Data\n",
    "\n",
    "- Data sets that are so large or complex that traditional data processing application software is inadequate to deal with them. \n",
    "- Data analysis requires massively parallel software running on several servers.\n",
    "- **Volume, Variety, Velocity, Variability and Veracity** describe Big Data properties."
   ]
  },
  {
   "cell_type": "markdown",
   "metadata": {
    "slideshow": {
     "slide_type": "slide"
    }
   },
   "source": [
    "\n",
    "\n",
    "![Hadoop Logo](http://hadoop.apache.org/images/hadoop-logo.jpg)\n",
    "\n",
    "- Framework for running applications on large cluster. \n",
    "- The Hadoop framework transparently provides applications both reliability and data motion. \n",
    "- Hadoop implements the computational paradigm named **Map/Reduce**, where the application is divided into many small fragments of work, each of which may be executed or re-executed on any node in the cluster. \n",
    "- It provides a distributed file system (HDFS) that stores data on the compute nodes, providing very high aggregate bandwidth across the cluster.\n",
    "- Both MapReduce and the **Hadoop Distributed File System** are designed so that node failures are automatically handled by the framework."
   ]
  },
  {
   "cell_type": "markdown",
   "metadata": {
    "slideshow": {
     "slide_type": "slide"
    }
   },
   "source": [
    "# HDFS\n",
    "* It is a distributed file systems.\n",
    "* HDFS is highly fault-tolerant and is designed to be deployed on low-cost hardware.\n",
    "* HDFS is suitable for applications that have large data sets. \n",
    "* HDFS provides interfaces to move applications closer to where the data is located. The computation is much more efficient when the size of the data set is huge. \n",
    "* HDFS consists of a single NameNode with a number of DataNodes which manage storage. \n",
    "* HDFS exposes a file system namespace and allows user data to be stored in files. \n",
    "    1. A file is split by the NameNode into blocks stored in DataNodes. \n",
    "    2. The **NameNode** executes operations like opening, closing, and renaming files and directories.\n",
    "    3. The **Secondary NameNode** stores information from **NameNode**. \n",
    "    4. The **DataNodes** manage perform block creation, deletion, and replication upon instruction from the NameNode.\n",
    "    5. The placement of replicas is optimized for data reliability, availability, and network bandwidth utilization.\n",
    "    6. User data never flows through the NameNode.\n",
    "* Files in HDFS are write-once and have strictly one writer at any time.\n",
    "* The DataNode has no knowledge about HDFS files. "
   ]
  },
  {
   "cell_type": "markdown",
   "metadata": {
    "slideshow": {
     "slide_type": "slide"
    }
   },
   "source": [
    "# Accessibility\n",
    "\n",
    "All [HDFS commands](http://hadoop.apache.org/docs/stable/hadoop-project-dist/hadoop-common/FileSystemShell.html)  are invoked by the bin/hdfs Java script:\n",
    "```shell\n",
    "hdfs [SHELL_OPTIONS] COMMAND [GENERIC_OPTIONS] [COMMAND_OPTIONS]\n",
    "```\n",
    "## Manage files and directories\n",
    "```shell\n",
    "hdfs dfs -ls -h -R # Recursively list subdirectories with human-readable file sizes.\n",
    "hdfs dfs -cp  # Copy files from source to destination\n",
    "hdfs dfs -mv  # Move files from source to destination\n",
    "hdfs dfs -mkdir /foodir # Create a directory named /foodir\t\n",
    "hdfs dfs -rmr /foodir   # Remove a directory named /foodir\t\n",
    "hdfs dfs -cat /foodir/myfile.txt #View the contents of a file named /foodir/myfile.txt\t\n",
    "```"
   ]
  },
  {
   "cell_type": "markdown",
   "metadata": {
    "slideshow": {
     "slide_type": "slide"
    }
   },
   "source": [
    "# Transfer between nodes\n",
    "\n",
    "## put\n",
    "```shell\n",
    "hdfs fs -put [-f] [-p] [-l] [-d] [ - | <localsrc1> .. ]. <dst>\n",
    "```\n",
    "Copy single src, or multiple srcs from local file system to the destination file system. \n",
    "\n",
    "Options:\n",
    "\n",
    "    -p : Preserves rights and modification times.\n",
    "    -f : Overwrites the destination if it already exists.\n",
    "\n",
    "```shell\n",
    "hdfs fs -put localfile /user/hadoop/hadoopfile\n",
    "hdfs fs -put -f localfile1 localfile2 /user/hadoop/hadoopdir\n",
    "```\n",
    "Similar to the fs -put command\n",
    "- `moveFromLocal` : to delete the source localsrc after copy.\n",
    "- `copyFromLocal` : source is restricted to a local file\n",
    "- `copyToLocal` : destination is restricted to a local file"
   ]
  },
  {
   "cell_type": "markdown",
   "metadata": {
    "slideshow": {
     "slide_type": "slide"
    }
   },
   "source": [
    "![hdfs blocks](http://saphanatutorial.com/wp-content/uploads/2014/06/Hadoop-Course-4.jpg)\n",
    "\n",
    "The Name Node is not in the data path. The Name Node only provides the map of where data is and where data should go in the cluster (file system metadata)."
   ]
  },
  {
   "cell_type": "markdown",
   "metadata": {
    "slideshow": {
     "slide_type": "slide"
    }
   },
   "source": [
    "## Cluster Hadoop\n",
    "\n",
    "- 8 computers: 192.168.2.81 -> 192.168.2.89\n",
    "\n",
    "\n",
    "### NameNode Web Interface (HDFS layer) \n",
    "\n",
    "http://192.168.2.81:50070\n",
    "\n",
    "The name node web UI shows you a cluster summary including information about total/remaining capacity, live and dead nodes. Additionally, it allows you to browse the HDFS namespace and view the contents of its files in the web browser. It also gives access to the local machine’s Hadoop log files.\n",
    "\n",
    "### Secondary Namenode Information.\n",
    "\n",
    "http://192.168.2.81:50090/\n",
    "\n",
    "### Datanode Information.\n",
    "\n",
    "- http://192.168.2.81:50075/\n",
    "- http://192.168.2.82:50075/\n",
    "- http://192.168.2.83:50075/\n",
    "- http://192.168.2.84:50075/\n",
    "- http://192.168.2.85:50075/\n",
    "- http://192.168.2.86:50075/\n",
    "- http://192.168.2.87:50075/\n",
    "- http://192.168.2.88:50075/\n",
    "- http://192.168.2.89:50075/"
   ]
  },
  {
   "cell_type": "markdown",
   "metadata": {
    "slideshow": {
     "slide_type": "slide"
    }
   },
   "source": [
    "#### Connect to the cluster via ssh\n",
    "```sh\n",
    "ssh remote_username@remote_host\n",
    "```\n",
    "- remote_username is 01-30\n",
    "- remote_host is 192.168.2.81-89\n",
    "\n",
    "When you login to a remote host for the first time, the remote host's is unknown. The default behavior is to ask the user to confirm the fingerprint of the host key."
   ]
  },
  {
   "cell_type": "markdown",
   "metadata": {},
   "source": [
    "#### Store the remote host key\n",
    "```text\n",
    "The authenticity of host '192.168.2.* (192.168.2.*)' can't be established.\n",
    "RSA key fingerprint is ...\n",
    "Are you sure you want to continue connecting (yes/no)? \n",
    "```\n",
    "answer is **yes**.\n",
    "\n"
   ]
  },
  {
   "cell_type": "markdown",
   "metadata": {},
   "source": [
    "#### Once you have connected to the server, you must provide the password `2017`.\n",
    "\n",
    "To exit back into your local session, simply type:\n",
    "```sh\n",
    "exit\n",
    "```"
   ]
  },
  {
   "cell_type": "markdown",
   "metadata": {
    "slideshow": {
     "slide_type": "slide"
    }
   },
   "source": [
    "- Check that your HDFS home directory required to execute MapReduce jobs exists:\n",
    "```bash\n",
    "hdfs dfs -ls /user/${USER}\n",
    "```\n",
    "\n"
   ]
  },
  {
   "cell_type": "markdown",
   "metadata": {
    "slideshow": {
     "slide_type": "slide"
    }
   },
   "source": [
    "- Log on to the cluster and type the following commands: \n",
    "```bash\n",
    "hdfs dfs -ls\n",
    "hdfs dfs -ls /\n",
    "hdfs dfs -mkdir test\n",
    "```\n",
    "- Create a local file user.txt containing your name and the date:"
   ]
  },
  {
   "cell_type": "markdown",
   "metadata": {
    "slideshow": {
     "slide_type": "fragment"
    }
   },
   "source": [
    "```bash\n",
    "echo \"Pierre Navaro\" > user.txt\n",
    "echo `date` >> user.txt \n",
    "cat user.txt\n",
    "```"
   ]
  },
  {
   "cell_type": "code",
   "execution_count": 1,
   "metadata": {},
   "outputs": [
    {
     "name": "stdout",
     "output_type": "stream",
     "text": [
      "Pierre Navaro\r\n",
      "mercredi 22 novembre 2017, 10:27:46 (UTC+0100)\r\n"
     ]
    }
   ],
   "source": [
    "!echo \"Pierre Navaro\" > user.txt\n",
    "!echo `date` >> user.txt \n",
    "!cat user.txt"
   ]
  },
  {
   "cell_type": "markdown",
   "metadata": {
    "slideshow": {
     "slide_type": "slide"
    }
   },
   "source": [
    "Copy it on  HDFS :\n",
    "```bash\n",
    "hdfs dfs -put user.txt\n",
    "```\n",
    "\n",
    "Check with:\n",
    "```bash\n",
    "hdfs dfs -ls -R \n",
    "hdfs dfs -cat user.txt \n",
    "hdfs dfs -tail user.txt \n",
    "```"
   ]
  },
  {
   "cell_type": "code",
   "execution_count": 2,
   "metadata": {},
   "outputs": [
    {
     "name": "stdout",
     "output_type": "stream",
     "text": [
      "/bin/sh: 1: hdfs: not found\n",
      "/bin/sh: 1: hdfs: not found\n",
      "/bin/sh: 1: hdfs: not found\n"
     ]
    }
   ],
   "source": [
    "!hdfs dfs -put user.txt\n",
    "!hdfs dfs -ls -R\n",
    "!hdfs dfs -cat user.txt"
   ]
  },
  {
   "cell_type": "markdown",
   "metadata": {
    "slideshow": {
     "slide_type": "slide"
    }
   },
   "source": [
    "Remove the file:\n",
    "```bash\n",
    "hdfs dfs -rm user.txt\n",
    "```\n",
    "\n",
    "Put it again on HDFS and move to books directory:\n",
    "```bash\n",
    "hdfs dfs -copyFromLocal user.txt\n",
    "hdfs dfs -mv user.txt books/user.txt\n",
    "hdfs dfs -ls -R -h\n",
    "```\n",
    "\n",
    "Copy user.txt to hello.txt and remove it.\n",
    "```bash\n",
    "hdfs dfs -cp books/user.txt books/hello.txt\n",
    "hdfs dfs -count -h /user/$USER\n",
    "hdfs dfs -rm books/user.txt\n",
    "```"
   ]
  },
  {
   "cell_type": "markdown",
   "metadata": {},
   "source": [
    "# Hands-on practice:\n",
    "\n",
    "1. Create a directory `files` in HDFS.\n",
    "2. List the contents of a directory /.\n",
    "3. Upload the file today.txt in HDFS.\n",
    "```bash\n",
    "date > today.txt\n",
    "whoami >> today.txt\n",
    "```\n",
    "4. Display contents of file `today.txt`\n",
    "5. Copy `today.txt` file from source to `files` directory.\n",
    "6. Copy file `jps.txt` from/To Local file system to HDFS\n",
    "```bash\n",
    "jps > jps.txt\n",
    "```\n",
    "7. Move file `jps.txt` from source to `files`.\n",
    "8. Remove file `today.txt` from home directory in HDFS.\n",
    "9. Display last few lines of `jps.txt`.\n",
    "10. Display the help of `du` command and show the total amount of space in a human-readable fashion used by your home hdfs directory.\n",
    "12. Display the help of `df` command and show the total amount of space available in the filesystem in a human-readable fashion.\n",
    "13. With `chmod` change the rights of `today.txt` file. I has to be readable and writeable only by you."
   ]
  },
  {
   "cell_type": "markdown",
   "metadata": {
    "slideshow": {
     "slide_type": "slide"
    }
   },
   "source": [
    "# YARN\n",
    "\n",
    "*YARN takes care of resource management and job scheduling/monitoring.*\n",
    "\n",
    "- The **ResourceManager** is the ultimate authority that arbitrates resources among all the applications in the system. It has two components: **Scheduler** and **ApplicationsManager**.\n",
    "- The **NodeManager** is the per-machine framework agent who is responsible for **Containers**, monitoring their resource usage (cpu, memory, disk, network) and reporting the same to the **ResourceManager/Scheduler**.\n",
    "\n",
    "The per-application **ApplicationMaster** negotiates resources from the ResourceManager and working with the NodeManager(s) to execute and monitor the tasks.\n",
    "\n",
    "- The **Scheduler** is responsible for allocating resources to the applications.\n",
    "\n",
    "- The **ApplicationsManager** is responsible for accepting job-submissions, tracking their status and monitoring for progress.\n",
    "\n"
   ]
  },
  {
   "cell_type": "markdown",
   "metadata": {
    "slideshow": {
     "slide_type": "slide"
    }
   },
   "source": [
    "![Yarn in Hadoop documentation](http://hadoop.apache.org/docs/stable/hadoop-yarn/hadoop-yarn-site/yarn_architecture.gif)"
   ]
  },
  {
   "cell_type": "markdown",
   "metadata": {
    "slideshow": {
     "slide_type": "slide"
    }
   },
   "source": [
    "## Yarn Web Interface\n",
    "\n",
    "The JobTracker web UI provides information about general job statistics of the Hadoop cluster, running/completed/failed jobs and a job history log file. It also gives access to the ‘‘local machine’s’’ Hadoop log files (the machine on which the web UI is running on).\n",
    "\n",
    " - All Applications http://192.168.2.81:8088\n",
    " "
   ]
  },
  {
   "cell_type": "markdown",
   "metadata": {
    "slideshow": {
     "slide_type": "slide"
    }
   },
   "source": [
    "## WordCount Example \n",
    "\n",
    "The [Worcount example](https://wiki.apache.org/hadoop/WordCount) is implemented in Java and it is the example of [MapReduce Tutorial](https://hadoop.apache.org/docs/current/hadoop-mapreduce-client/hadoop-mapreduce-client-core/MapReduceTutorial.html)\n",
    "\n",
    "The program reads text files and counts how often words occur. The input is text files and the output is text files, each line of which contains a word and the count of how often it occured.\n",
    "\n",
    "Create some files with lorem python package"
   ]
  },
  {
   "cell_type": "code",
   "execution_count": 51,
   "metadata": {
    "collapsed": true
   },
   "outputs": [],
   "source": [
    "from lorem import text\n",
    "\n",
    "for i in range(1,5):\n",
    "    with open('sample{0:02d}.txt'.format(i), 'w') as f:\n",
    "        f.write(text())"
   ]
  },
  {
   "cell_type": "markdown",
   "metadata": {
    "slideshow": {
     "slide_type": "slide"
    }
   },
   "source": [
    "- Make input directory in your HDFS home directory required to execute MapReduce jobs:\n",
    "```bash\n",
    "hdfs dfs -mkdir -p /user/${USER}/input\n",
    "```\n",
    "\n",
    "`-p` flag force the directory creation even if it already exists."
   ]
  },
  {
   "cell_type": "markdown",
   "metadata": {
    "slideshow": {
     "slide_type": "slide"
    }
   },
   "source": [
    "### Exercise\n",
    "\n",
    "- Copy all necessary files in HDFS system.\n",
    "\n",
    "- Run the Java example using the command\n",
    "\n",
    "```bash\n",
    "hadoop jar /usr/local/hadoop-2.7.4/share/hadoop/mapreduce/hadoop-mapreduce-examples-2.7.4.jar wordcount /user/you/input /user/you/output\n",
    "```\n",
    "hint: \n",
    "\n"
   ]
  },
  {
   "cell_type": "markdown",
   "metadata": {
    "collapsed": true,
    "slideshow": {
     "slide_type": "slide"
    }
   },
   "source": [
    "\n",
    "## Deploying the MapReduce Python code on Hadoop\n",
    "\n",
    "This Python must use the [Hadoop Streaming API](http://hadoop.apache.org/docs/stable/hadoop-streaming/HadoopStreaming.html) to pass data between our Map and Reduce code via Python’s sys.stdin (standard input) and sys.stdout (standard output). \n",
    "\n"
   ]
  },
  {
   "cell_type": "markdown",
   "metadata": {
    "slideshow": {
     "slide_type": "slide"
    }
   },
   "source": [
    "## Map \n",
    "\n",
    "The following Python code read data from sys.stdin, split it into words and output a list of lines mapping words to their (intermediate) counts to sys.stdout. For every word it outputs <word> 1 tuples immediately. \n",
    "\n"
   ]
  },
  {
   "cell_type": "code",
   "execution_count": 18,
   "metadata": {
    "slideshow": {
     "slide_type": "slide"
    }
   },
   "outputs": [
    {
     "name": "stdout",
     "output_type": "stream",
     "text": [
      "Overwriting mapper.py\n"
     ]
    }
   ],
   "source": [
    "%%file mapper.py\n",
    "#!/usr/bin/env python3\n",
    "from __future__ import print_function # for python2 compatibility\n",
    "import sys, string\n",
    "translator = str.maketrans('', '', string.punctuation)\n",
    "# input comes from standard input\n",
    "for line in sys.stdin:\n",
    "    line = line.strip().lower() # remove leading and trailing whitespace\n",
    "    line = line.translate(translator)   # strip punctuation \n",
    "    words = line.split() # split the line into words\n",
    "    # increase counters\n",
    "    for word in words:\n",
    "        # write the results to standard output;\n",
    "        # what we output here will be the input for the\n",
    "        # Reduce step, i.e. the input for reducer.py\n",
    "        # tab-delimited; the trivial word count is 1\n",
    "        print ('%s\\t%s' % (word, 1))"
   ]
  },
  {
   "cell_type": "code",
   "execution_count": 19,
   "metadata": {
    "collapsed": true
   },
   "outputs": [],
   "source": [
    "!chmod +x mapper.py "
   ]
  },
  {
   "cell_type": "code",
   "execution_count": 20,
   "metadata": {},
   "outputs": [
    {
     "name": "stdout",
     "output_type": "stream",
     "text": [
      "magnam\t1\r\n",
      "dolore\t1\r\n",
      "porro\t1\r\n",
      "aliquam\t1\r\n",
      "dolor\t1\r\n",
      "dolore\t1\r\n",
      "est\t1\r\n",
      "dolor\t1\r\n",
      "sit\t1\r\n",
      "sed\t1\r\n",
      "consectetur\t1\r\n",
      "magnam\t1\r\n",
      "etincidunt\t1\r\n",
      "numquam\t1\r\n",
      "sed\t1\r\n",
      "consectetur\t1\r\n",
      "ut\t1\r\n",
      "ipsum\t1\r\n",
      "modi\t1\r\n",
      "non\t1\r\n",
      "aliquam\t1\r\n",
      "est\t1\r\n",
      "sed\t1\r\n",
      "aliquam\t1\r\n",
      "consectetur\t1\r\n",
      "neque\t1\r\n",
      "magnam\t1\r\n",
      "modi\t1\r\n",
      "adipisci\t1\r\n",
      "sed\t1\r\n",
      "aliquam\t1\r\n",
      "dolor\t1\r\n",
      "sed\t1\r\n",
      "quaerat\t1\r\n",
      "quaerat\t1\r\n",
      "modi\t1\r\n",
      "non\t1\r\n",
      "ipsum\t1\r\n",
      "sed\t1\r\n",
      "consectetur\t1\r\n",
      "quiquia\t1\r\n",
      "ut\t1\r\n",
      "dolor\t1\r\n",
      "numquam\t1\r\n",
      "quiquia\t1\r\n",
      "tempora\t1\r\n",
      "sed\t1\r\n",
      "quiquia\t1\r\n",
      "aliquam\t1\r\n",
      "neque\t1\r\n",
      "velit\t1\r\n",
      "eius\t1\r\n",
      "velit\t1\r\n",
      "dolorem\t1\r\n",
      "velit\t1\r\n",
      "velit\t1\r\n",
      "est\t1\r\n",
      "ut\t1\r\n",
      "ipsum\t1\r\n",
      "est\t1\r\n",
      "neque\t1\r\n",
      "sed\t1\r\n",
      "dolor\t1\r\n",
      "numquam\t1\r\n",
      "porro\t1\r\n",
      "quisquam\t1\r\n",
      "consectetur\t1\r\n",
      "modi\t1\r\n",
      "ipsum\t1\r\n",
      "tempora\t1\r\n",
      "dolorem\t1\r\n",
      "eius\t1\r\n",
      "dolorem\t1\r\n",
      "velit\t1\r\n",
      "est\t1\r\n",
      "numquam\t1\r\n",
      "est\t1\r\n",
      "aliquam\t1\r\n",
      "numquam\t1\r\n",
      "amet\t1\r\n",
      "est\t1\r\n",
      "dolorem\t1\r\n",
      "ipsum\t1\r\n",
      "ut\t1\r\n",
      "sit\t1\r\n",
      "non\t1\r\n",
      "quiquia\t1\r\n",
      "ut\t1\r\n",
      "dolore\t1\r\n",
      "etincidunt\t1\r\n",
      "quiquia\t1\r\n",
      "quiquia\t1\r\n",
      "est\t1\r\n",
      "aliquam\t1\r\n",
      "eius\t1\r\n",
      "sed\t1\r\n",
      "ipsum\t1\r\n",
      "ipsum\t1\r\n",
      "non\t1\r\n",
      "ipsum\t1\r\n",
      "non\t1\r\n",
      "neque\t1\r\n",
      "quiquia\t1\r\n",
      "etincidunt\t1\r\n",
      "amet\t1\r\n",
      "quisquam\t1\r\n",
      "non\t1\r\n",
      "ipsum\t1\r\n",
      "dolor\t1\r\n",
      "dolore\t1\r\n",
      "labore\t1\r\n",
      "velit\t1\r\n",
      "dolorem\t1\r\n",
      "eius\t1\r\n",
      "voluptatem\t1\r\n",
      "quiquia\t1\r\n",
      "quiquia\t1\r\n",
      "quaerat\t1\r\n",
      "labore\t1\r\n",
      "voluptatem\t1\r\n",
      "magnam\t1\r\n",
      "modi\t1\r\n",
      "tempora\t1\r\n",
      "dolor\t1\r\n",
      "sit\t1\r\n",
      "quisquam\t1\r\n",
      "modi\t1\r\n",
      "est\t1\r\n",
      "quisquam\t1\r\n",
      "velit\t1\r\n",
      "tempora\t1\r\n",
      "aliquam\t1\r\n",
      "numquam\t1\r\n",
      "quisquam\t1\r\n",
      "velit\t1\r\n",
      "tempora\t1\r\n",
      "porro\t1\r\n",
      "amet\t1\r\n",
      "dolore\t1\r\n",
      "voluptatem\t1\r\n",
      "amet\t1\r\n",
      "labore\t1\r\n",
      "voluptatem\t1\r\n",
      "quaerat\t1\r\n",
      "amet\t1\r\n",
      "dolorem\t1\r\n",
      "consectetur\t1\r\n",
      "velit\t1\r\n",
      "etincidunt\t1\r\n",
      "est\t1\r\n",
      "porro\t1\r\n",
      "adipisci\t1\r\n",
      "dolor\t1\r\n",
      "sit\t1\r\n",
      "dolore\t1\r\n",
      "velit\t1\r\n",
      "neque\t1\r\n",
      "dolore\t1\r\n",
      "non\t1\r\n",
      "labore\t1\r\n",
      "eius\t1\r\n",
      "neque\t1\r\n",
      "quiquia\t1\r\n",
      "ipsum\t1\r\n",
      "dolorem\t1\r\n",
      "porro\t1\r\n",
      "adipisci\t1\r\n",
      "voluptatem\t1\r\n",
      "neque\t1\r\n",
      "eius\t1\r\n",
      "non\t1\r\n",
      "numquam\t1\r\n",
      "ipsum\t1\r\n",
      "voluptatem\t1\r\n",
      "labore\t1\r\n",
      "quaerat\t1\r\n",
      "etincidunt\t1\r\n",
      "porro\t1\r\n",
      "non\t1\r\n",
      "labore\t1\r\n",
      "non\t1\r\n",
      "est\t1\r\n",
      "magnam\t1\r\n",
      "quisquam\t1\r\n",
      "consectetur\t1\r\n",
      "neque\t1\r\n",
      "labore\t1\r\n",
      "est\t1\r\n",
      "numquam\t1\r\n",
      "sed\t1\r\n",
      "porro\t1\r\n",
      "amet\t1\r\n",
      "magnam\t1\r\n",
      "dolore\t1\r\n",
      "porro\t1\r\n",
      "aliquam\t1\r\n",
      "tempora\t1\r\n",
      "amet\t1\r\n",
      "voluptatem\t1\r\n",
      "non\t1\r\n",
      "velit\t1\r\n",
      "amet\t1\r\n",
      "ipsum\t1\r\n",
      "voluptatem\t1\r\n",
      "porro\t1\r\n",
      "dolorem\t1\r\n",
      "porro\t1\r\n",
      "dolor\t1\r\n",
      "porro\t1\r\n",
      "ut\t1\r\n",
      "quaerat\t1\r\n",
      "modi\t1\r\n",
      "voluptatem\t1\r\n",
      "modi\t1\r\n",
      "non\t1\r\n",
      "amet\t1\r\n",
      "labore\t1\r\n",
      "sed\t1\r\n",
      "tempora\t1\r\n",
      "etincidunt\t1\r\n",
      "labore\t1\r\n",
      "neque\t1\r\n",
      "magnam\t1\r\n",
      "voluptatem\t1\r\n",
      "modi\t1\r\n",
      "tempora\t1\r\n",
      "amet\t1\r\n",
      "modi\t1\r\n",
      "labore\t1\r\n",
      "magnam\t1\r\n",
      "quaerat\t1\r\n",
      "velit\t1\r\n",
      "ipsum\t1\r\n",
      "modi\t1\r\n",
      "etincidunt\t1\r\n"
     ]
    }
   ],
   "source": [
    "!cat sample01.txt | ./mapper.py"
   ]
  },
  {
   "cell_type": "code",
   "execution_count": 21,
   "metadata": {},
   "outputs": [
    {
     "name": "stdout",
     "output_type": "stream",
     "text": [
      "adipisci\t1\r\n",
      "adipisci\t1\r\n",
      "adipisci\t1\r\n",
      "adipisci\t1\r\n",
      "aliquam\t1\r\n",
      "aliquam\t1\r\n",
      "aliquam\t1\r\n",
      "aliquam\t1\r\n",
      "amet\t1\r\n",
      "amet\t1\r\n",
      "amet\t1\r\n",
      "amet\t1\r\n",
      "amet\t1\r\n",
      "consectetur\t1\r\n",
      "dolor\t1\r\n",
      "dolor\t1\r\n",
      "dolor\t1\r\n",
      "dolore\t1\r\n",
      "dolorem\t1\r\n",
      "dolorem\t1\r\n",
      "dolorem\t1\r\n",
      "dolorem\t1\r\n",
      "eius\t1\r\n",
      "eius\t1\r\n",
      "eius\t1\r\n",
      "est\t1\r\n",
      "etincidunt\t1\r\n",
      "etincidunt\t1\r\n",
      "etincidunt\t1\r\n",
      "etincidunt\t1\r\n",
      "etincidunt\t1\r\n",
      "ipsum\t1\r\n",
      "ipsum\t1\r\n",
      "ipsum\t1\r\n",
      "labore\t1\r\n",
      "labore\t1\r\n",
      "magnam\t1\r\n",
      "magnam\t1\r\n",
      "modi\t1\r\n",
      "modi\t1\r\n",
      "modi\t1\r\n",
      "modi\t1\r\n",
      "modi\t1\r\n",
      "neque\t1\r\n",
      "neque\t1\r\n",
      "non\t1\r\n",
      "non\t1\r\n",
      "non\t1\r\n",
      "non\t1\r\n",
      "non\t1\r\n",
      "non\t1\r\n",
      "numquam\t1\r\n",
      "numquam\t1\r\n",
      "numquam\t1\r\n",
      "numquam\t1\r\n",
      "numquam\t1\r\n",
      "numquam\t1\r\n",
      "porro\t1\r\n",
      "porro\t1\r\n",
      "porro\t1\r\n",
      "porro\t1\r\n",
      "porro\t1\r\n",
      "porro\t1\r\n",
      "quaerat\t1\r\n",
      "quiquia\t1\r\n",
      "quiquia\t1\r\n",
      "quiquia\t1\r\n",
      "quisquam\t1\r\n",
      "quisquam\t1\r\n",
      "quisquam\t1\r\n",
      "quisquam\t1\r\n",
      "quisquam\t1\r\n",
      "quisquam\t1\r\n",
      "quisquam\t1\r\n",
      "quisquam\t1\r\n",
      "quisquam\t1\r\n",
      "sed\t1\r\n",
      "sed\t1\r\n",
      "sed\t1\r\n",
      "sed\t1\r\n",
      "sed\t1\r\n",
      "sit\t1\r\n",
      "sit\t1\r\n",
      "sit\t1\r\n",
      "tempora\t1\r\n",
      "tempora\t1\r\n",
      "tempora\t1\r\n",
      "tempora\t1\r\n",
      "ut\t1\r\n",
      "ut\t1\r\n",
      "velit\t1\r\n",
      "velit\t1\r\n",
      "velit\t1\r\n",
      "velit\t1\r\n",
      "velit\t1\r\n",
      "voluptatem\t1\r\n",
      "voluptatem\t1\r\n",
      "voluptatem\t1\r\n",
      "voluptatem\t1\r\n"
     ]
    }
   ],
   "source": [
    "!./mapper.py < sample.txt | sort"
   ]
  },
  {
   "cell_type": "markdown",
   "metadata": {},
   "source": [
    "# Reduce \n",
    "\n",
    "The following code reads the results of mapper.py and sum the occurrences of each word to a final count, and then output its results to sys.stdout.\n",
    "Remember that Hadoop sorts map output so it is easier to count words.\n",
    "\n"
   ]
  },
  {
   "cell_type": "code",
   "execution_count": 23,
   "metadata": {},
   "outputs": [
    {
     "name": "stdout",
     "output_type": "stream",
     "text": [
      "Overwriting reducer.py\n"
     ]
    }
   ],
   "source": [
    "%%file reducer.py\n",
    "#!/usr/bin/env python3\n",
    "from __future__ import print_function\n",
    "from operator import itemgetter\n",
    "import sys\n",
    "\n",
    "current_word = None\n",
    "current_count = 0\n",
    "word = None\n",
    "\n",
    "for line in sys.stdin:\n",
    "    \n",
    "    # parse the input we got from mapper.py\n",
    "    word, count = line.split('\\t', 1)\n",
    "\n",
    "    # convert count (currently a string) to int\n",
    "    try:\n",
    "        count = int(count)\n",
    "    except ValueError:\n",
    "        # count was not a number, so silently\n",
    "        # ignore/discard this line\n",
    "        continue\n",
    "\n",
    "    # this IF-switch only works because Hadoop sorts map output\n",
    "    # by key (here: word) before it is passed to the reducer\n",
    "    if current_word == word:\n",
    "        current_count += count\n",
    "    else:\n",
    "        if current_word:\n",
    "            # write result to sys.stdout\n",
    "            print ('{}\\t{}'.format(current_count, current_word))\n",
    "        current_count = count\n",
    "        current_word = word\n",
    "\n",
    "# do not forget to output the last word if needed!\n",
    "if current_word == word:\n",
    "    print ('{}\\t{}'.format(current_count, current_word ))"
   ]
  },
  {
   "cell_type": "code",
   "execution_count": 24,
   "metadata": {
    "collapsed": true
   },
   "outputs": [],
   "source": [
    "!chmod +x reducer.py "
   ]
  },
  {
   "cell_type": "code",
   "execution_count": 25,
   "metadata": {},
   "outputs": [
    {
     "name": "stdout",
     "output_type": "stream",
     "text": [
      "9\tquisquam\r\n",
      "6\tporro\r\n",
      "6\tnumquam\r\n",
      "6\tnon\r\n",
      "5\tvelit\r\n",
      "5\tsed\r\n",
      "5\tmodi\r\n",
      "5\tetincidunt\r\n",
      "5\tamet\r\n",
      "4\tvoluptatem\r\n",
      "4\ttempora\r\n",
      "4\tdolorem\r\n",
      "4\taliquam\r\n",
      "4\tadipisci\r\n",
      "3\tsit\r\n",
      "3\tquiquia\r\n",
      "3\tipsum\r\n",
      "3\teius\r\n",
      "3\tdolor\r\n",
      "2\tut\r\n",
      "2\tneque\r\n",
      "2\tmagnam\r\n",
      "2\tlabore\r\n",
      "1\tquaerat\r\n",
      "1\test\r\n",
      "1\tdolore\r\n",
      "1\tconsectetur\r\n"
     ]
    }
   ],
   "source": [
    "!cat sample.txt | ./mapper.py | sort | ./reducer.py | sort -r"
   ]
  },
  {
   "cell_type": "markdown",
   "metadata": {},
   "source": [
    "## Execution on Hadoop cluster\n",
    "\n",
    "* Copy all files to HDFS cluster\n",
    "* Run the WordCount MapReduce\n",
    "\n",
    "```bash\n",
    "scp -r big-data Y@192.168.2.8X:\n",
    "ssh Y@192.168.2.8X\n",
    "```\n",
    "- X takes int values from 1 to 9\n",
    "- Y takes values from 01 to 30"
   ]
  },
  {
   "cell_type": "code",
   "execution_count": 27,
   "metadata": {},
   "outputs": [
    {
     "name": "stdout",
     "output_type": "stream",
     "text": [
      "Overwriting Makefile\n"
     ]
    }
   ],
   "source": [
    "%%file Makefile\n",
    "HADOOP_TOOLS=/usr/local/hadoop-2.7.4/libexec/share/hadoop/tools/lib/\n",
    "HDFS_DIR=/user/${USER}\n",
    "\n",
    "SAMPLES = sample01.txt sample02.txt sample03.txt sample04.txt\n",
    "\n",
    "copy_to_hdfs: ${SAMPLES}\n",
    "\thdfs dfs -mkdir -p ${HDFS_DIR}/input\n",
    "\thdfs dfs -put $^ input\n",
    "\t\n",
    "run_with_hadoop: copy_to_hdfs\n",
    "\thadoop jar ${HADOOP_TOOLS}/hadoop-streaming-2.7.4.jar \\\n",
    "    -file  ${PWD}/mapper.py  -mapper  ${PWD}/mapper.py \\\n",
    "    -file  ${PWD}/reducer.py -reducer ${PWD}/reducer.py \\\n",
    "    -input ${HDFS_DIR}/input/*.txt -output ${HDFS_DIR}/output-hdfs\n",
    "\n",
    "run_with_yarn: copy_to_hdfs\n",
    "\tyarn jar ${HADOOP_TOOLS}/hadoop-streaming-2.7.4.jar \\\n",
    "\t-file  ${PWD}/mapper.py  -mapper  ${PWD}/mapper.py \\\n",
    "\t-file  ${PWD}/reducer.py -reducer ${PWD}/reducer.py \\\n",
    "\t-input ${HDFS_DIR}/input/*.txt -output ${HDFS_DIR}/output-yarn\n",
    "\n"
   ]
  },
  {
   "cell_type": "markdown",
   "metadata": {
    "slideshow": {
     "slide_type": "slide"
    }
   },
   "source": [
    "# ssh tunnel\n",
    "\n",
    "Synchronize big-data on the cluster:\n",
    "```bash\n",
    "scp -r big-data YY@192.168.2.8X:\n",
    "```\n",
    "ou\n",
    "```\n",
    "rsync -e ssh -avrz big-data YY@192.168.2.8X:\n",
    "```\n",
    "\n",
    "Log on hadoop cluster:\n",
    "```bash\n",
    "ssh -L 9999:localhost:9999 YY@192.168.2.8X\n",
    "```\n",
    "- X takes int values from 1 to 9\n",
    "- Y takes values from 01 to 30\n",
    "\n",
    "Launch jupyter on the hadoop cluster:\n",
    "```bash\n",
    "jupyter notebook --port 9999 --no-browser\n",
    "```\n",
    "Copy and paste the web address you get in output in your local browser. Don't forget to disabled the proxy.\n",
    "\n",
    "\n"
   ]
  },
  {
   "cell_type": "code",
   "execution_count": null,
   "metadata": {
    "collapsed": true
   },
   "outputs": [],
   "source": []
  }
 ],
 "metadata": {
  "celltoolbar": "Slideshow",
  "kernelspec": {
   "display_name": "Python 3",
   "language": "python",
   "name": "python3"
  },
  "language_info": {
   "codemirror_mode": {
    "name": "ipython",
    "version": 3
   },
   "file_extension": ".py",
   "mimetype": "text/x-python",
   "name": "python",
   "nbconvert_exporter": "python",
   "pygments_lexer": "ipython3",
   "version": "3.6.1"
  }
 },
 "nbformat": 4,
 "nbformat_minor": 2
}
