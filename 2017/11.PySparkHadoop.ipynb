{
 "cells": [
  {
   "cell_type": "markdown",
   "metadata": {
    "slideshow": {
     "slide_type": "slide"
    }
   },
   "source": [
    "# PySpark and Hadoop\n",
    "\n",
    "In this notebook we look at real data while using our small hadoop cluster. For programming we will use parallel Spark dataframes with real data.\n",
    "\n",
    "Copy your notebooks, connect to the cluster with a ssh tunnel and launch the jupyter notebook:\n",
    "```bash\n",
    "scp big-data YY@192.168.2.8X:\n",
    "ssh -L 99XX:localhost:99XX YY@192.168.2.8X\n",
    "jupyter notebook --port 99XX --no-browser\n",
    "```\n",
    "Copy paste the http address in your browser"
   ]
  },
  {
   "cell_type": "markdown",
   "metadata": {
    "slideshow": {
     "slide_type": "slide"
    }
   },
   "source": [
    "## Create some dummy data\n",
    "\n",
    "We want to implement the **WordCount application** already done in notebook 01.MapReduce. \n",
    "This time, files are 1000 times bigger and stored in hadoop file system.\n",
    "\n",
    "### Prepare data and put it on hdfs"
   ]
  },
  {
   "cell_type": "code",
   "execution_count": 1,
   "metadata": {
    "slideshow": {
     "slide_type": "fragment"
    }
   },
   "outputs": [],
   "source": [
    "from lorem import text\n",
    "with open('sample.txt','w') as f:\n",
    "    for i in range(500):\n",
    "        f.write(text())"
   ]
  },
  {
   "cell_type": "code",
   "execution_count": 10,
   "metadata": {
    "slideshow": {
     "slide_type": "fragment"
    }
   },
   "outputs": [
    {
     "name": "stdout",
     "output_type": "stream",
     "text": [
      "680K\tsample.txt\r\n"
     ]
    }
   ],
   "source": [
    "!du -sh sample.txt"
   ]
  },
  {
   "cell_type": "markdown",
   "metadata": {
    "slideshow": {
     "slide_type": "slide"
    }
   },
   "source": [
    "We will increase the size of this file by 1000. Let's make 1000 of copies of sample.txt in data/latin directory with this shell script."
   ]
  },
  {
   "cell_type": "code",
   "execution_count": 11,
   "metadata": {
    "slideshow": {
     "slide_type": "fragment"
    }
   },
   "outputs": [
    {
     "name": "stdout",
     "output_type": "stream",
     "text": [
      "Overwriting cp_file.sh\n"
     ]
    }
   ],
   "source": [
    "%%file cp_file.sh\n",
    "#!/bin/bash\n",
    "mkdir -p data/latin\n",
    "INPUT=sample.txt\n",
    "for num in $(seq 1 100)\n",
    "do\n",
    "    bn=$(basename $INPUT .txt)\n",
    "    cp $INPUT data/latin/$bn$num.txt\n",
    "done"
   ]
  },
  {
   "cell_type": "code",
   "execution_count": 12,
   "metadata": {
    "slideshow": {
     "slide_type": "fragment"
    }
   },
   "outputs": [],
   "source": [
    "!chmod +x cp_file.sh; ./cp_file.sh"
   ]
  },
  {
   "cell_type": "code",
   "execution_count": 13,
   "metadata": {
    "slideshow": {
     "slide_type": "fragment"
    }
   },
   "outputs": [
    {
     "name": "stdout",
     "output_type": "stream",
     "text": [
      "67M\tdata/latin/\r\n"
     ]
    }
   ],
   "source": [
    "!du -sh data/latin/"
   ]
  },
  {
   "cell_type": "code",
   "execution_count": 14,
   "metadata": {
    "slideshow": {
     "slide_type": "fragment"
    }
   },
   "outputs": [
    {
     "name": "stdout",
     "output_type": "stream",
     "text": [
      "17/12/08 14:51:06 WARN util.NativeCodeLoader: Unable to load native-hadoop library for your platform... using builtin-java classes where applicable\r\n"
     ]
    }
   ],
   "source": [
    "# put these files on HDFS\n",
    "!hdfs dfs -put data/latin /user/navaro"
   ]
  },
  {
   "cell_type": "markdown",
   "metadata": {
    "slideshow": {
     "slide_type": "slide"
    }
   },
   "source": [
    "## hdfs3\n",
    "\n",
    "[hdfs3](http://hdfs3.readthedocs.io/en/latest/) is an alternative native C/C++ HDFS client that interacts with HDFS without the JVM, exposing first class support to non-JVM languages like Python.\n",
    "\n",
    "This library, hdfs3, is a lightweight Python wrapper around the C/C++ libhdfs3 library. It provides both direct access to libhdfs3 from Python as well as a typical Pythonic interface."
   ]
  },
  {
   "cell_type": "code",
   "execution_count": 109,
   "metadata": {
    "slideshow": {
     "slide_type": "fragment"
    }
   },
   "outputs": [],
   "source": [
    "from hdfs3 import HDFileSystem\n",
    "hdfs = HDFileSystem(host='localhost', port=54310)"
   ]
  },
  {
   "cell_type": "code",
   "execution_count": 16,
   "metadata": {
    "slideshow": {
     "slide_type": "fragment"
    }
   },
   "outputs": [
    {
     "data": {
      "text/plain": [
       "['/user/pnavaro/1990.csv',\n",
       " '/user/pnavaro/1991.csv',\n",
       " '/user/pnavaro/1992.csv',\n",
       " '/user/pnavaro/1993.csv',\n",
       " '/user/pnavaro/1994.csv',\n",
       " '/user/pnavaro/1995.csv',\n",
       " '/user/pnavaro/1996.csv',\n",
       " '/user/pnavaro/1997.csv',\n",
       " '/user/pnavaro/1998.csv',\n",
       " '/user/pnavaro/1999.csv',\n",
       " '/user/pnavaro/2016_Yellow_Taxi_Trip_Data.csv',\n",
       " '/user/pnavaro/copied-file.txt',\n",
       " '/user/pnavaro/latin',\n",
       " '/user/pnavaro/nyc-taxi',\n",
       " '/user/pnavaro/nycflights.parquet',\n",
       " '/user/pnavaro/remote-file.txt',\n",
       " '/user/pnavaro/samples.txt']"
      ]
     },
     "execution_count": 16,
     "metadata": {},
     "output_type": "execute_result"
    }
   ],
   "source": [
    "hdfs.ls('/user/pnavaro')"
   ]
  },
  {
   "cell_type": "code",
   "execution_count": 17,
   "metadata": {
    "slideshow": {
     "slide_type": "slide"
    }
   },
   "outputs": [],
   "source": [
    "hdfs.put('sample.txt', '/user/pnavaro/remote-file.txt')"
   ]
  },
  {
   "cell_type": "code",
   "execution_count": 18,
   "metadata": {
    "slideshow": {
     "slide_type": "fragment"
    }
   },
   "outputs": [
    {
     "data": {
      "text/plain": [
       "['/user/pnavaro/1990.csv',\n",
       " '/user/pnavaro/1991.csv',\n",
       " '/user/pnavaro/1992.csv',\n",
       " '/user/pnavaro/1993.csv',\n",
       " '/user/pnavaro/1994.csv',\n",
       " '/user/pnavaro/1995.csv',\n",
       " '/user/pnavaro/1996.csv',\n",
       " '/user/pnavaro/1997.csv',\n",
       " '/user/pnavaro/1998.csv',\n",
       " '/user/pnavaro/1999.csv',\n",
       " '/user/pnavaro/2016_Yellow_Taxi_Trip_Data.csv',\n",
       " '/user/pnavaro/copied-file.txt',\n",
       " '/user/pnavaro/latin',\n",
       " '/user/pnavaro/nyc-taxi',\n",
       " '/user/pnavaro/nycflights.parquet',\n",
       " '/user/pnavaro/remote-file.txt',\n",
       " '/user/pnavaro/samples.txt']"
      ]
     },
     "execution_count": 18,
     "metadata": {},
     "output_type": "execute_result"
    }
   ],
   "source": [
    "hdfs.ls('/user/pnavaro/')"
   ]
  },
  {
   "cell_type": "code",
   "execution_count": 19,
   "metadata": {
    "slideshow": {
     "slide_type": "slide"
    }
   },
   "outputs": [
    {
     "data": {
      "text/plain": [
       "False"
      ]
     },
     "execution_count": 19,
     "metadata": {},
     "output_type": "execute_result"
    }
   ],
   "source": [
    "hdfs.mv('/user/pnavaro/remote-file.txt', '/user/pnavaro/copied-file.txt')"
   ]
  },
  {
   "cell_type": "code",
   "execution_count": 20,
   "metadata": {
    "slideshow": {
     "slide_type": "fragment"
    }
   },
   "outputs": [
    {
     "data": {
      "text/plain": [
       "['/user/pnavaro/1990.csv',\n",
       " '/user/pnavaro/1991.csv',\n",
       " '/user/pnavaro/1992.csv',\n",
       " '/user/pnavaro/1993.csv',\n",
       " '/user/pnavaro/1994.csv',\n",
       " '/user/pnavaro/1995.csv',\n",
       " '/user/pnavaro/1996.csv',\n",
       " '/user/pnavaro/1997.csv',\n",
       " '/user/pnavaro/1998.csv',\n",
       " '/user/pnavaro/1999.csv',\n",
       " '/user/pnavaro/2016_Yellow_Taxi_Trip_Data.csv',\n",
       " '/user/pnavaro/copied-file.txt',\n",
       " '/user/pnavaro/latin',\n",
       " '/user/pnavaro/nyc-taxi',\n",
       " '/user/pnavaro/nycflights.parquet',\n",
       " '/user/pnavaro/remote-file.txt',\n",
       " '/user/pnavaro/samples.txt']"
      ]
     },
     "execution_count": 20,
     "metadata": {},
     "output_type": "execute_result"
    }
   ],
   "source": [
    "hdfs.ls('/user/pnavaro')"
   ]
  },
  {
   "cell_type": "markdown",
   "metadata": {
    "slideshow": {
     "slide_type": "slide"
    }
   },
   "source": [
    "### Get filenames \n",
    "\n",
    "Here a python function that returns the complete list of filenames in\n",
    "a given local directory."
   ]
  },
  {
   "cell_type": "code",
   "execution_count": 21,
   "metadata": {
    "slideshow": {
     "slide_type": "fragment"
    }
   },
   "outputs": [
    {
     "data": {
      "text/plain": [
       "['sample81.txt',\n",
       " 'sample29.txt',\n",
       " 'sample64.txt',\n",
       " 'sample88.txt',\n",
       " 'sample51.txt',\n",
       " 'sample84.txt',\n",
       " 'sample32.txt',\n",
       " 'sample30.txt',\n",
       " 'sample27.txt',\n",
       " 'sample31.txt',\n",
       " 'sample61.txt',\n",
       " 'sample71.txt',\n",
       " 'sample41.txt',\n",
       " 'sample44.txt',\n",
       " 'sample12.txt',\n",
       " 'sample78.txt',\n",
       " 'sample55.txt',\n",
       " 'sample54.txt',\n",
       " 'sample98.txt',\n",
       " 'sample53.txt',\n",
       " 'sample42.txt',\n",
       " 'sample11.txt',\n",
       " 'sample73.txt',\n",
       " 'sample18.txt',\n",
       " 'sample59.txt',\n",
       " 'sample37.txt',\n",
       " 'sample57.txt',\n",
       " 'sample94.txt',\n",
       " 'sample2.txt',\n",
       " 'sample4.txt',\n",
       " 'sample19.txt',\n",
       " 'sample50.txt',\n",
       " 'sample35.txt',\n",
       " 'sample47.txt',\n",
       " 'sample89.txt',\n",
       " 'sample23.txt',\n",
       " 'sample16.txt',\n",
       " 'sample8.txt',\n",
       " 'sample5.txt',\n",
       " 'sample3.txt',\n",
       " 'sample87.txt',\n",
       " 'sample77.txt',\n",
       " 'sample83.txt',\n",
       " 'sample60.txt',\n",
       " 'sample26.txt',\n",
       " 'sample85.txt',\n",
       " 'sample76.txt',\n",
       " 'sample13.txt',\n",
       " 'sample69.txt',\n",
       " 'sample45.txt',\n",
       " 'sample17.txt',\n",
       " 'sample28.txt',\n",
       " 'sample80.txt',\n",
       " 'sample74.txt',\n",
       " 'sample91.txt',\n",
       " 'sample56.txt',\n",
       " 'sample34.txt',\n",
       " 'sample97.txt',\n",
       " 'sample49.txt',\n",
       " 'sample21.txt',\n",
       " 'sample90.txt',\n",
       " 'sample82.txt',\n",
       " 'sample75.txt',\n",
       " 'sample86.txt',\n",
       " 'sample20.txt',\n",
       " 'sample66.txt',\n",
       " 'sample38.txt',\n",
       " 'sample58.txt',\n",
       " 'sample93.txt',\n",
       " 'sample14.txt',\n",
       " 'sample96.txt',\n",
       " 'sample25.txt',\n",
       " 'sample7.txt',\n",
       " 'sample72.txt',\n",
       " 'sample99.txt',\n",
       " 'sample39.txt',\n",
       " 'sample9.txt',\n",
       " 'sample36.txt',\n",
       " 'sample95.txt',\n",
       " 'sample6.txt',\n",
       " 'sample79.txt',\n",
       " 'sample63.txt',\n",
       " 'sample70.txt',\n",
       " 'sample1.txt',\n",
       " 'sample43.txt',\n",
       " 'sample15.txt',\n",
       " 'sample10.txt',\n",
       " 'sample22.txt',\n",
       " 'sample24.txt',\n",
       " 'sample62.txt',\n",
       " 'sample100.txt',\n",
       " 'sample40.txt',\n",
       " 'sample68.txt',\n",
       " 'sample48.txt',\n",
       " 'sample33.txt',\n",
       " 'sample92.txt',\n",
       " 'sample46.txt',\n",
       " 'sample67.txt',\n",
       " 'sample65.txt',\n",
       " 'sample52.txt']"
      ]
     },
     "execution_count": 21,
     "metadata": {},
     "output_type": "execute_result"
    }
   ],
   "source": [
    "import os\n",
    "def get_filenames(root):\n",
    "    \"\"\"\n",
    "    Returns complete list of filenames in root directory\n",
    "    \"\"\"\n",
    "\n",
    "    files = []\n",
    "    for f in os.listdir(root):\n",
    "       if f.endswith(\".txt\"):\n",
    "          files.append(f)\n",
    "    \n",
    "    return files\n",
    "\n",
    "root = os.path.join(os.getcwd(),'data','latin')\n",
    "get_filenames(root)"
   ]
  },
  {
   "cell_type": "markdown",
   "metadata": {
    "slideshow": {
     "slide_type": "slide"
    }
   },
   "source": [
    "### Exercise\n",
    "- Change the function above by using hdfs3 to get filenames and size on HDFS.\n",
    "- Take a look at the [API](http://hdfs3.readthedocs.io/en/latest/api.html)"
   ]
  },
  {
   "cell_type": "code",
   "execution_count": 24,
   "metadata": {
    "slideshow": {
     "slide_type": "fragment"
    }
   },
   "outputs": [
    {
     "data": {
      "text/plain": [
       "['/user/pnavaro/copied-file.txt',\n",
       " '/user/pnavaro/remote-file.txt',\n",
       " '/user/pnavaro/samples.txt']"
      ]
     },
     "execution_count": 24,
     "metadata": {},
     "output_type": "execute_result"
    }
   ],
   "source": [
    "import os\n",
    "\n",
    "def get_hdfs_filenames(root):\n",
    "    files = []\n",
    "    for f in hdfs.ls(root):\n",
    "       if f.endswith(\".txt\"):\n",
    "          files.append(f)\n",
    " \n",
    "    return files\n",
    "    \n",
    "root = os.path.join('/user','pnavaro')    \n",
    "get_hdfs_filenames(root)"
   ]
  },
  {
   "cell_type": "markdown",
   "metadata": {},
   "source": [
    "### Get files size\n",
    "\n",
    "This python function below returns the total size of filenames in\n",
    "a given local directory."
   ]
  },
  {
   "cell_type": "code",
   "execution_count": 33,
   "metadata": {},
   "outputs": [
    {
     "name": "stdout",
     "output_type": "stream",
     "text": [
      "Size of files: 0.06463425233960152 GB\n"
     ]
    }
   ],
   "source": [
    "def files_total_size(root):\n",
    "   \"\"\" \n",
    "      Prints sum of filesize of txt files in root\n",
    "   \"\"\"\n",
    "   filesize = 0\n",
    "   for f in os.listdir(root):\n",
    "       if f.endswith(\".txt\"):\n",
    "           filesize += os.path.getsize(os.path.join(root,f))\n",
    "\n",
    "   print(\"Size of files:\", filesize / 1073741824, \"GB\")\n",
    "\n",
    "root = os.path.join(os.getcwd(),'data','latin')\n",
    "files_total_size(root)"
   ]
  },
  {
   "cell_type": "markdown",
   "metadata": {
    "slideshow": {
     "slide_type": "slide"
    }
   },
   "source": [
    "### Exercise\n",
    "- Change the function above by using hdfs3 to get size on HDFS.\n",
    "- Take a look at the [API](http://hdfs3.readthedocs.io/en/latest/api.html)"
   ]
  },
  {
   "cell_type": "code",
   "execution_count": null,
   "metadata": {},
   "outputs": [],
   "source": [
    "def hdfs_files_total_size(root):\n",
    "   \"\"\"\n",
    "   Prints sum of filesize of txt files in root\n",
    "   \"\"\"\n",
    "   filesize = hdfs.du(root, total=True)\n",
    "\n",
    "   return filesize[root] / 1073741824\n",
    "\n",
    "root = os.path.join('/user','pnavaro')\n",
    "hdfs_files_total_size(root)"
   ]
  },
  {
   "cell_type": "markdown",
   "metadata": {
    "slideshow": {
     "slide_type": "slide"
    }
   },
   "source": [
    "### Exercise \n",
    "\n",
    "- use your wordcount functions to count occurences of\n",
    "words in this dummy \"data lake\" of text files on hdfs."
   ]
  },
  {
   "cell_type": "code",
   "execution_count": 82,
   "metadata": {
    "slideshow": {
     "slide_type": "slide"
    }
   },
   "outputs": [],
   "source": [
    "import string\n",
    "def words(file):\n",
    "    \"\"\" Read a text file and return a sorted list of (word, 1) values.\"\"\"\n",
    "    translator = str.maketrans('', '', string.punctuation)\n",
    "    output = []\n",
    "    for line in file:\n",
    "        line = line.strip()\n",
    "        line = line.translate(translator)\n",
    "        for word in line.split():            \n",
    "            word = word.lower()\n",
    "            output.append((word, 1))\n",
    "    output.sort()\n",
    "    return output"
   ]
  },
  {
   "cell_type": "code",
   "execution_count": 83,
   "metadata": {},
   "outputs": [
    {
     "data": {
      "text/plain": [
       "b'Etincidunt consectetur voluptatem aliquam modi eius adipisci aliquam. Etincidunt dolorem etincidunt neque quaerat ut. Sed consectetur dolorem non non dolorem magnam ipsum. Numquam adipisci sed est porro dolore. Quaerat est neque dolore sed. Magnam sit amet dolor dolorem velit labore. Aliquam ipsum consectetur ut quaerat sed velit. Non non velit dolor eius consectetur neque.'"
      ]
     },
     "execution_count": 83,
     "metadata": {},
     "output_type": "execute_result"
    }
   ],
   "source": [
    "hdfs.head('samples.txt')"
   ]
  },
  {
   "cell_type": "code",
   "execution_count": 2,
   "metadata": {},
   "outputs": [],
   "source": [
    "import string\n",
    "def hdfs_words(file):\n",
    "    \"\"\" Read a text file and return a sorted list of (word, 1) values.\"\"\"\n",
    "    output = []\n",
    "    with hdfs.open(file) as f:\n",
    "       for line in f: # hdfs.open output is binary      \n",
    "           line = line.strip()\n",
    "           for word in line.split(b\" \"):            \n",
    "               word = word.lower().replace(b'.',b'')\n",
    "               output.append((word, 1))\n",
    "    output.sort()\n",
    "    return output"
   ]
  },
  {
   "cell_type": "code",
   "execution_count": 106,
   "metadata": {},
   "outputs": [
    {
     "name": "stderr",
     "output_type": "stream",
     "text": [
      "/opt/miniconda3/lib/python3.6/site-packages/ipykernel_launcher.py:6: DeprecationWarning: generator 'HDFile._genline' raised StopIteration\n",
      "  \n"
     ]
    },
    {
     "data": {
      "text/plain": [
       "[(b'adipisci', 1),\n",
       " (b'adipisci', 1),\n",
       " (b'aliquam', 1),\n",
       " (b'aliquam', 1),\n",
       " (b'aliquam', 1),\n",
       " (b'amet', 1),\n",
       " (b'consectetur', 1),\n",
       " (b'consectetur', 1),\n",
       " (b'consectetur', 1),\n",
       " (b'consectetur', 1),\n",
       " (b'dolor', 1),\n",
       " (b'dolor', 1),\n",
       " (b'dolore', 1),\n",
       " (b'dolore', 1),\n",
       " (b'dolorem', 1),\n",
       " (b'dolorem', 1),\n",
       " (b'dolorem', 1),\n",
       " (b'dolorem', 1),\n",
       " (b'eius', 1),\n",
       " (b'eius', 1),\n",
       " (b'est', 1),\n",
       " (b'est', 1),\n",
       " (b'etincidunt', 1),\n",
       " (b'etincidunt', 1),\n",
       " (b'etincidunt', 1),\n",
       " (b'ipsum', 1),\n",
       " (b'ipsum', 1),\n",
       " (b'labore', 1),\n",
       " (b'magnam', 1),\n",
       " (b'magnam', 1),\n",
       " (b'modi', 1),\n",
       " (b'neque', 1),\n",
       " (b'neque', 1),\n",
       " (b'neque', 1),\n",
       " (b'non', 1),\n",
       " (b'non', 1),\n",
       " (b'non', 1),\n",
       " (b'non', 1),\n",
       " (b'numquam', 1),\n",
       " (b'porro', 1),\n",
       " (b'quaerat', 1),\n",
       " (b'quaerat', 1),\n",
       " (b'quaerat', 1),\n",
       " (b'sed', 1),\n",
       " (b'sed', 1),\n",
       " (b'sed', 1),\n",
       " (b'sed', 1),\n",
       " (b'sit', 1),\n",
       " (b'ut', 1),\n",
       " (b'ut', 1),\n",
       " (b'velit', 1),\n",
       " (b'velit', 1),\n",
       " (b'velit', 1),\n",
       " (b'voluptatem', 1)]"
      ]
     },
     "execution_count": 106,
     "metadata": {},
     "output_type": "execute_result"
    }
   ],
   "source": [
    "counts = hdfs_words('samples.txt')\n",
    "counts"
   ]
  },
  {
   "cell_type": "code",
   "execution_count": 107,
   "metadata": {},
   "outputs": [],
   "source": [
    "import operator\n",
    "def reduce(words):\n",
    "    \"\"\" Read the sorted list from map and print out every word with \n",
    "    its number of occurences\"\"\"\n",
    "    d = {}\n",
    "    for w in words:\n",
    "        try:\n",
    "            d[w[0]] +=1\n",
    "        except KeyError:\n",
    "            d[w[0]] = 1 \n",
    "    \n",
    "    return sorted(d.items(), key=operator.itemgetter(1), reverse=True)"
   ]
  },
  {
   "cell_type": "code",
   "execution_count": 108,
   "metadata": {
    "slideshow": {
     "slide_type": "fragment"
    }
   },
   "outputs": [
    {
     "name": "stderr",
     "output_type": "stream",
     "text": [
      "/opt/miniconda3/lib/python3.6/site-packages/ipykernel_launcher.py:6: DeprecationWarning: generator 'HDFile._genline' raised StopIteration\n",
      "  \n"
     ]
    },
    {
     "data": {
      "text/plain": [
       "[(b'consectetur', 4),\n",
       " (b'dolorem', 4),\n",
       " (b'non', 4),\n",
       " (b'sed', 4),\n",
       " (b'aliquam', 3),\n",
       " (b'etincidunt', 3),\n",
       " (b'neque', 3),\n",
       " (b'quaerat', 3),\n",
       " (b'velit', 3),\n",
       " (b'adipisci', 2),\n",
       " (b'dolor', 2),\n",
       " (b'dolore', 2),\n",
       " (b'eius', 2),\n",
       " (b'est', 2),\n",
       " (b'ipsum', 2),\n",
       " (b'magnam', 2),\n",
       " (b'ut', 2),\n",
       " (b'amet', 1),\n",
       " (b'labore', 1),\n",
       " (b'modi', 1),\n",
       " (b'numquam', 1),\n",
       " (b'porro', 1),\n",
       " (b'sit', 1),\n",
       " (b'voluptatem', 1)]"
      ]
     },
     "execution_count": 108,
     "metadata": {},
     "output_type": "execute_result"
    }
   ],
   "source": [
    "file = 'samples.txt'\n",
    "result = reduce(hdfs_words(file))\n",
    "result"
   ]
  },
  {
   "cell_type": "code",
   "execution_count": null,
   "metadata": {
    "slideshow": {
     "slide_type": "slide"
    }
   },
   "outputs": [
    {
     "name": "stdout",
     "output_type": "stream",
     "text": [
      "{'/user/pnavaro/latin/sample1.txt': 3184213, '/user/pnavaro/latin/sample10.txt': 3184213, '/user/pnavaro/latin/sample100.txt': 3184213, '/user/pnavaro/latin/sample1000.txt': 3184213, '/user/pnavaro/latin/sample101.txt': 3184213, '/user/pnavaro/latin/sample102.txt': 3184213, '/user/pnavaro/latin/sample103.txt': 3184213, '/user/pnavaro/latin/sample104.txt': 3184213, '/user/pnavaro/latin/sample105.txt': 3184213, '/user/pnavaro/latin/sample106.txt': 3184213, '/user/pnavaro/latin/sample107.txt': 3184213, '/user/pnavaro/latin/sample108.txt': 3184213, '/user/pnavaro/latin/sample109.txt': 3184213, '/user/pnavaro/latin/sample11.txt': 3184213, '/user/pnavaro/latin/sample110.txt': 3184213, '/user/pnavaro/latin/sample111.txt': 3184213, '/user/pnavaro/latin/sample112.txt': 3184213, '/user/pnavaro/latin/sample113.txt': 3184213, '/user/pnavaro/latin/sample114.txt': 3184213, '/user/pnavaro/latin/sample115.txt': 3184213, '/user/pnavaro/latin/sample116.txt': 3184213, '/user/pnavaro/latin/sample117.txt': 3184213, '/user/pnavaro/latin/sample118.txt': 3184213, '/user/pnavaro/latin/sample119.txt': 3184213, '/user/pnavaro/latin/sample12.txt': 3184213, '/user/pnavaro/latin/sample120.txt': 3184213, '/user/pnavaro/latin/sample121.txt': 3184213, '/user/pnavaro/latin/sample122.txt': 3184213, '/user/pnavaro/latin/sample123.txt': 3184213, '/user/pnavaro/latin/sample124.txt': 3184213, '/user/pnavaro/latin/sample125.txt': 3184213, '/user/pnavaro/latin/sample126.txt': 3184213, '/user/pnavaro/latin/sample127.txt': 3184213, '/user/pnavaro/latin/sample128.txt': 3184213, '/user/pnavaro/latin/sample129.txt': 3184213, '/user/pnavaro/latin/sample13.txt': 3184213, '/user/pnavaro/latin/sample130.txt': 3184213, '/user/pnavaro/latin/sample131.txt': 3184213, '/user/pnavaro/latin/sample132.txt': 3184213, '/user/pnavaro/latin/sample133.txt': 3184213, '/user/pnavaro/latin/sample134.txt': 3184213, '/user/pnavaro/latin/sample135.txt': 3184213, '/user/pnavaro/latin/sample136.txt': 3184213, '/user/pnavaro/latin/sample137.txt': 3184213, '/user/pnavaro/latin/sample138.txt': 3184213, '/user/pnavaro/latin/sample139.txt': 3184213, '/user/pnavaro/latin/sample14.txt': 3184213, '/user/pnavaro/latin/sample140.txt': 3184213, '/user/pnavaro/latin/sample141.txt': 3184213, '/user/pnavaro/latin/sample142.txt': 3184213, '/user/pnavaro/latin/sample143.txt': 3184213, '/user/pnavaro/latin/sample144.txt': 3184213, '/user/pnavaro/latin/sample145.txt': 3184213, '/user/pnavaro/latin/sample146.txt': 3184213, '/user/pnavaro/latin/sample147.txt': 3184213, '/user/pnavaro/latin/sample148.txt': 3184213, '/user/pnavaro/latin/sample149.txt': 3184213, '/user/pnavaro/latin/sample15.txt': 3184213, '/user/pnavaro/latin/sample150.txt': 3184213, '/user/pnavaro/latin/sample151.txt': 3184213, '/user/pnavaro/latin/sample152.txt': 3184213, '/user/pnavaro/latin/sample153.txt': 3184213, '/user/pnavaro/latin/sample154.txt': 3184213, '/user/pnavaro/latin/sample155.txt': 3184213, '/user/pnavaro/latin/sample156.txt': 3184213, '/user/pnavaro/latin/sample157.txt': 3184213, '/user/pnavaro/latin/sample158.txt': 3184213, '/user/pnavaro/latin/sample159.txt': 3184213, '/user/pnavaro/latin/sample16.txt': 3184213, '/user/pnavaro/latin/sample160.txt': 3184213, '/user/pnavaro/latin/sample161.txt': 3184213, '/user/pnavaro/latin/sample162.txt': 3184213, '/user/pnavaro/latin/sample163.txt': 3184213, '/user/pnavaro/latin/sample164.txt': 3184213, '/user/pnavaro/latin/sample165.txt': 3184213, '/user/pnavaro/latin/sample166.txt': 3184213, '/user/pnavaro/latin/sample167.txt': 3184213, '/user/pnavaro/latin/sample168.txt': 3184213, '/user/pnavaro/latin/sample169.txt': 3184213, '/user/pnavaro/latin/sample17.txt': 3184213, '/user/pnavaro/latin/sample170.txt': 3184213, '/user/pnavaro/latin/sample171.txt': 3184213, '/user/pnavaro/latin/sample172.txt': 3184213, '/user/pnavaro/latin/sample173.txt': 3184213, '/user/pnavaro/latin/sample174.txt': 3184213, '/user/pnavaro/latin/sample175.txt': 3184213, '/user/pnavaro/latin/sample176.txt': 3184213, '/user/pnavaro/latin/sample177.txt': 3184213, '/user/pnavaro/latin/sample178.txt': 3184213, '/user/pnavaro/latin/sample179.txt': 3184213, '/user/pnavaro/latin/sample18.txt': 3184213, '/user/pnavaro/latin/sample180.txt': 3184213, '/user/pnavaro/latin/sample181.txt': 3184213, '/user/pnavaro/latin/sample182.txt': 3184213, '/user/pnavaro/latin/sample183.txt': 3184213, '/user/pnavaro/latin/sample184.txt': 3184213, '/user/pnavaro/latin/sample185.txt': 3184213, '/user/pnavaro/latin/sample186.txt': 3184213, '/user/pnavaro/latin/sample187.txt': 3184213, '/user/pnavaro/latin/sample188.txt': 3184213, '/user/pnavaro/latin/sample189.txt': 3184213, '/user/pnavaro/latin/sample19.txt': 3184213, '/user/pnavaro/latin/sample190.txt': 3184213, '/user/pnavaro/latin/sample191.txt': 3184213, '/user/pnavaro/latin/sample192.txt': 3184213, '/user/pnavaro/latin/sample193.txt': 3184213, '/user/pnavaro/latin/sample194.txt': 3184213, '/user/pnavaro/latin/sample195.txt': 3184213, '/user/pnavaro/latin/sample196.txt': 3184213, '/user/pnavaro/latin/sample197.txt': 3184213, '/user/pnavaro/latin/sample198.txt': 3184213, '/user/pnavaro/latin/sample199.txt': 3184213, '/user/pnavaro/latin/sample2.txt': 3184213, '/user/pnavaro/latin/sample20.txt': 3184213, '/user/pnavaro/latin/sample200.txt': 3184213, '/user/pnavaro/latin/sample201.txt': 3184213, '/user/pnavaro/latin/sample202.txt': 3184213, '/user/pnavaro/latin/sample203.txt': 3184213, '/user/pnavaro/latin/sample204.txt': 3184213, '/user/pnavaro/latin/sample205.txt': 3184213, '/user/pnavaro/latin/sample206.txt': 3184213, '/user/pnavaro/latin/sample207.txt': 3184213, '/user/pnavaro/latin/sample208.txt': 3184213, '/user/pnavaro/latin/sample209.txt': 3184213, '/user/pnavaro/latin/sample21.txt': 3184213, '/user/pnavaro/latin/sample210.txt': 3184213, '/user/pnavaro/latin/sample211.txt': 3184213, '/user/pnavaro/latin/sample212.txt': 3184213, '/user/pnavaro/latin/sample213.txt': 3184213, '/user/pnavaro/latin/sample214.txt': 3184213, '/user/pnavaro/latin/sample215.txt': 3184213, '/user/pnavaro/latin/sample216.txt': 3184213, '/user/pnavaro/latin/sample217.txt': 3184213, '/user/pnavaro/latin/sample218.txt': 3184213, '/user/pnavaro/latin/sample219.txt': 3184213, '/user/pnavaro/latin/sample22.txt': 3184213, '/user/pnavaro/latin/sample220.txt': 3184213, '/user/pnavaro/latin/sample221.txt': 3184213, '/user/pnavaro/latin/sample222.txt': 3184213, '/user/pnavaro/latin/sample223.txt': 3184213, '/user/pnavaro/latin/sample224.txt': 3184213, '/user/pnavaro/latin/sample225.txt': 3184213, '/user/pnavaro/latin/sample226.txt': 3184213, '/user/pnavaro/latin/sample227.txt': 3184213, '/user/pnavaro/latin/sample228.txt': 3184213, '/user/pnavaro/latin/sample229.txt': 3184213, '/user/pnavaro/latin/sample23.txt': 3184213, '/user/pnavaro/latin/sample230.txt': 3184213, '/user/pnavaro/latin/sample231.txt': 3184213, '/user/pnavaro/latin/sample232.txt': 3184213, '/user/pnavaro/latin/sample233.txt': 3184213, '/user/pnavaro/latin/sample234.txt': 3184213, '/user/pnavaro/latin/sample235.txt': 3184213, '/user/pnavaro/latin/sample236.txt': 3184213, '/user/pnavaro/latin/sample237.txt': 3184213, '/user/pnavaro/latin/sample238.txt': 3184213, '/user/pnavaro/latin/sample239.txt': 3184213, '/user/pnavaro/latin/sample24.txt': 3184213, '/user/pnavaro/latin/sample240.txt': 3184213, '/user/pnavaro/latin/sample241.txt': 3184213, '/user/pnavaro/latin/sample242.txt': 3184213, '/user/pnavaro/latin/sample243.txt': 3184213, '/user/pnavaro/latin/sample244.txt': 3184213, '/user/pnavaro/latin/sample245.txt': 3184213, '/user/pnavaro/latin/sample246.txt': 3184213, '/user/pnavaro/latin/sample247.txt': 3184213, '/user/pnavaro/latin/sample248.txt': 3184213, '/user/pnavaro/latin/sample249.txt': 3184213, '/user/pnavaro/latin/sample25.txt': 3184213, '/user/pnavaro/latin/sample250.txt': 3184213, '/user/pnavaro/latin/sample251.txt': 3184213, '/user/pnavaro/latin/sample252.txt': 3184213, '/user/pnavaro/latin/sample253.txt': 3184213, '/user/pnavaro/latin/sample254.txt': 3184213, '/user/pnavaro/latin/sample255.txt': 3184213, '/user/pnavaro/latin/sample256.txt': 3184213, '/user/pnavaro/latin/sample257.txt': 3184213, '/user/pnavaro/latin/sample258.txt': 3184213, '/user/pnavaro/latin/sample259.txt': 3184213, '/user/pnavaro/latin/sample26.txt': 3184213, '/user/pnavaro/latin/sample260.txt': 3184213, '/user/pnavaro/latin/sample261.txt': 3184213, '/user/pnavaro/latin/sample262.txt': 3184213, '/user/pnavaro/latin/sample263.txt': 3184213, '/user/pnavaro/latin/sample264.txt': 3184213, '/user/pnavaro/latin/sample265.txt': 3184213, '/user/pnavaro/latin/sample266.txt': 3184213, '/user/pnavaro/latin/sample267.txt': 3184213, '/user/pnavaro/latin/sample268.txt': 3184213, '/user/pnavaro/latin/sample269.txt': 3184213, '/user/pnavaro/latin/sample27.txt': 3184213, '/user/pnavaro/latin/sample270.txt': 3184213, '/user/pnavaro/latin/sample271.txt': 3184213, '/user/pnavaro/latin/sample272.txt': 3184213, '/user/pnavaro/latin/sample273.txt': 3184213, '/user/pnavaro/latin/sample274.txt': 3184213, '/user/pnavaro/latin/sample275.txt': 3184213, '/user/pnavaro/latin/sample276.txt': 3184213, '/user/pnavaro/latin/sample277.txt': 3184213, '/user/pnavaro/latin/sample278.txt': 3184213, '/user/pnavaro/latin/sample279.txt': 3184213, '/user/pnavaro/latin/sample28.txt': 3184213, '/user/pnavaro/latin/sample280.txt': 3184213, '/user/pnavaro/latin/sample281.txt': 3184213, '/user/pnavaro/latin/sample282.txt': 3184213, '/user/pnavaro/latin/sample283.txt': 3184213, '/user/pnavaro/latin/sample284.txt': 3184213, '/user/pnavaro/latin/sample285.txt': 3184213, '/user/pnavaro/latin/sample286.txt': 3184213, '/user/pnavaro/latin/sample287.txt': 3184213, '/user/pnavaro/latin/sample288.txt': 3184213, '/user/pnavaro/latin/sample289.txt': 3184213, '/user/pnavaro/latin/sample29.txt': 3184213, '/user/pnavaro/latin/sample290.txt': 3184213, '/user/pnavaro/latin/sample291.txt': 3184213, '/user/pnavaro/latin/sample292.txt': 3184213, '/user/pnavaro/latin/sample293.txt': 3184213, '/user/pnavaro/latin/sample294.txt': 3184213, '/user/pnavaro/latin/sample295.txt': 3184213, '/user/pnavaro/latin/sample296.txt': 3184213, '/user/pnavaro/latin/sample297.txt': 3184213, '/user/pnavaro/latin/sample298.txt': 3184213, '/user/pnavaro/latin/sample299.txt': 3184213, '/user/pnavaro/latin/sample3.txt': 3184213, '/user/pnavaro/latin/sample30.txt': 3184213, '/user/pnavaro/latin/sample300.txt': 3184213, '/user/pnavaro/latin/sample301.txt': 3184213, '/user/pnavaro/latin/sample302.txt': 3184213, '/user/pnavaro/latin/sample303.txt': 3184213, '/user/pnavaro/latin/sample304.txt': 3184213, '/user/pnavaro/latin/sample305.txt': 3184213, '/user/pnavaro/latin/sample306.txt': 3184213, '/user/pnavaro/latin/sample307.txt': 3184213, '/user/pnavaro/latin/sample308.txt': 3184213, '/user/pnavaro/latin/sample309.txt': 3184213, '/user/pnavaro/latin/sample31.txt': 3184213, '/user/pnavaro/latin/sample310.txt': 3184213, '/user/pnavaro/latin/sample311.txt': 3184213, '/user/pnavaro/latin/sample312.txt': 3184213, '/user/pnavaro/latin/sample313.txt': 3184213, '/user/pnavaro/latin/sample314.txt': 3184213, '/user/pnavaro/latin/sample315.txt': 3184213, '/user/pnavaro/latin/sample316.txt': 3184213, '/user/pnavaro/latin/sample317.txt': 3184213, '/user/pnavaro/latin/sample318.txt': 3184213, '/user/pnavaro/latin/sample319.txt': 3184213, '/user/pnavaro/latin/sample32.txt': 3184213, '/user/pnavaro/latin/sample320.txt': 3184213, '/user/pnavaro/latin/sample321.txt': 3184213, '/user/pnavaro/latin/sample322.txt': 3184213, '/user/pnavaro/latin/sample323.txt': 3184213, '/user/pnavaro/latin/sample324.txt': 3184213, '/user/pnavaro/latin/sample325.txt': 3184213, '/user/pnavaro/latin/sample326.txt': 3184213, '/user/pnavaro/latin/sample327.txt': 3184213, '/user/pnavaro/latin/sample328.txt': 3184213, '/user/pnavaro/latin/sample329.txt': 3184213, '/user/pnavaro/latin/sample33.txt': 3184213, '/user/pnavaro/latin/sample330.txt': 3184213, '/user/pnavaro/latin/sample331.txt': 3184213, '/user/pnavaro/latin/sample332.txt': 3184213, '/user/pnavaro/latin/sample333.txt': 3184213, '/user/pnavaro/latin/sample334.txt': 3184213, '/user/pnavaro/latin/sample335.txt': 3184213, '/user/pnavaro/latin/sample336.txt': 3184213, '/user/pnavaro/latin/sample337.txt': 3184213, '/user/pnavaro/latin/sample338.txt': 3184213, '/user/pnavaro/latin/sample339.txt': 3184213, '/user/pnavaro/latin/sample34.txt': 3184213, '/user/pnavaro/latin/sample340.txt': 3184213, '/user/pnavaro/latin/sample341.txt': 3184213, '/user/pnavaro/latin/sample342.txt': 3184213, '/user/pnavaro/latin/sample343.txt': 3184213, '/user/pnavaro/latin/sample344.txt': 3184213, '/user/pnavaro/latin/sample345.txt': 3184213, '/user/pnavaro/latin/sample346.txt': 3184213, '/user/pnavaro/latin/sample347.txt': 3184213, '/user/pnavaro/latin/sample348.txt': 3184213, '/user/pnavaro/latin/sample349.txt': 3184213, '/user/pnavaro/latin/sample35.txt': 3184213, '/user/pnavaro/latin/sample350.txt': 3184213, '/user/pnavaro/latin/sample351.txt': 3184213, '/user/pnavaro/latin/sample352.txt': 3184213, '/user/pnavaro/latin/sample353.txt': 3184213, '/user/pnavaro/latin/sample354.txt': 3184213, '/user/pnavaro/latin/sample355.txt': 3184213, '/user/pnavaro/latin/sample356.txt': 3184213, '/user/pnavaro/latin/sample357.txt': 3184213, '/user/pnavaro/latin/sample358.txt': 3184213, '/user/pnavaro/latin/sample359.txt': 3184213, '/user/pnavaro/latin/sample36.txt': 3184213, '/user/pnavaro/latin/sample360.txt': 3184213, '/user/pnavaro/latin/sample361.txt': 3184213, '/user/pnavaro/latin/sample362.txt': 3184213, '/user/pnavaro/latin/sample363.txt': 3184213, '/user/pnavaro/latin/sample364.txt': 3184213, '/user/pnavaro/latin/sample365.txt': 3184213, '/user/pnavaro/latin/sample366.txt': 3184213, '/user/pnavaro/latin/sample367.txt': 3184213, '/user/pnavaro/latin/sample368.txt': 3184213, '/user/pnavaro/latin/sample369.txt': 3184213, '/user/pnavaro/latin/sample37.txt': 3184213, '/user/pnavaro/latin/sample370.txt': 3184213, '/user/pnavaro/latin/sample371.txt': 3184213, '/user/pnavaro/latin/sample372.txt': 3184213, '/user/pnavaro/latin/sample373.txt': 3184213, '/user/pnavaro/latin/sample374.txt': 3184213, '/user/pnavaro/latin/sample375.txt': 3184213, '/user/pnavaro/latin/sample376.txt': 3184213, '/user/pnavaro/latin/sample377.txt': 3184213, '/user/pnavaro/latin/sample378.txt': 3184213, '/user/pnavaro/latin/sample379.txt': 3184213, '/user/pnavaro/latin/sample38.txt': 3184213, '/user/pnavaro/latin/sample380.txt': 3184213, '/user/pnavaro/latin/sample381.txt': 3184213, '/user/pnavaro/latin/sample382.txt': 3184213, '/user/pnavaro/latin/sample383.txt': 3184213, '/user/pnavaro/latin/sample384.txt': 3184213, '/user/pnavaro/latin/sample385.txt': 3184213, '/user/pnavaro/latin/sample386.txt': 3184213, '/user/pnavaro/latin/sample387.txt': 3184213, '/user/pnavaro/latin/sample388.txt': 3184213, '/user/pnavaro/latin/sample389.txt': 3184213, '/user/pnavaro/latin/sample39.txt': 3184213, '/user/pnavaro/latin/sample390.txt': 3184213, '/user/pnavaro/latin/sample391.txt': 3184213, '/user/pnavaro/latin/sample392.txt': 3184213, '/user/pnavaro/latin/sample393.txt': 3184213, '/user/pnavaro/latin/sample394.txt': 3184213, '/user/pnavaro/latin/sample395.txt': 3184213, '/user/pnavaro/latin/sample396.txt': 3184213, '/user/pnavaro/latin/sample397.txt': 3184213, '/user/pnavaro/latin/sample398.txt': 3184213, '/user/pnavaro/latin/sample399.txt': 3184213, '/user/pnavaro/latin/sample4.txt': 3184213, '/user/pnavaro/latin/sample40.txt': 3184213, '/user/pnavaro/latin/sample400.txt': 3184213, '/user/pnavaro/latin/sample401.txt': 3184213, '/user/pnavaro/latin/sample402.txt': 3184213, '/user/pnavaro/latin/sample403.txt': 3184213, '/user/pnavaro/latin/sample404.txt': 3184213, '/user/pnavaro/latin/sample405.txt': 3184213, '/user/pnavaro/latin/sample406.txt': 3184213, '/user/pnavaro/latin/sample407.txt': 3184213, '/user/pnavaro/latin/sample408.txt': 3184213, '/user/pnavaro/latin/sample409.txt': 3184213, '/user/pnavaro/latin/sample41.txt': 3184213, '/user/pnavaro/latin/sample410.txt': 3184213, '/user/pnavaro/latin/sample411.txt': 3184213, '/user/pnavaro/latin/sample412.txt': 3184213, '/user/pnavaro/latin/sample413.txt': 3184213, '/user/pnavaro/latin/sample414.txt': 3184213, '/user/pnavaro/latin/sample415.txt': 3184213, '/user/pnavaro/latin/sample416.txt': 3184213, '/user/pnavaro/latin/sample417.txt': 3184213, '/user/pnavaro/latin/sample418.txt': 3184213, '/user/pnavaro/latin/sample419.txt': 3184213, '/user/pnavaro/latin/sample42.txt': 3184213, '/user/pnavaro/latin/sample420.txt': 3184213, '/user/pnavaro/latin/sample421.txt': 3184213, '/user/pnavaro/latin/sample422.txt': 3184213, '/user/pnavaro/latin/sample423.txt': 3184213, '/user/pnavaro/latin/sample424.txt': 3184213, '/user/pnavaro/latin/sample425.txt': 3184213, '/user/pnavaro/latin/sample426.txt': 3184213, '/user/pnavaro/latin/sample427.txt': 3184213, '/user/pnavaro/latin/sample428.txt': 3184213, '/user/pnavaro/latin/sample429.txt': 3184213, '/user/pnavaro/latin/sample43.txt': 3184213, '/user/pnavaro/latin/sample430.txt': 3184213, '/user/pnavaro/latin/sample431.txt': 3184213, '/user/pnavaro/latin/sample432.txt': 3184213, '/user/pnavaro/latin/sample433.txt': 3184213, '/user/pnavaro/latin/sample434.txt': 3184213, '/user/pnavaro/latin/sample435.txt': 3184213, '/user/pnavaro/latin/sample436.txt': 3184213, '/user/pnavaro/latin/sample437.txt': 3184213, '/user/pnavaro/latin/sample438.txt': 3184213, '/user/pnavaro/latin/sample439.txt': 3184213, '/user/pnavaro/latin/sample44.txt': 3184213, '/user/pnavaro/latin/sample440.txt': 3184213, '/user/pnavaro/latin/sample441.txt': 3184213, '/user/pnavaro/latin/sample442.txt': 3184213, '/user/pnavaro/latin/sample443.txt': 3184213, '/user/pnavaro/latin/sample444.txt': 3184213, '/user/pnavaro/latin/sample445.txt': 3184213, '/user/pnavaro/latin/sample446.txt': 3184213, '/user/pnavaro/latin/sample447.txt': 3184213, '/user/pnavaro/latin/sample448.txt': 3184213, '/user/pnavaro/latin/sample449.txt': 3184213, '/user/pnavaro/latin/sample45.txt': 3184213, '/user/pnavaro/latin/sample450.txt': 3184213, '/user/pnavaro/latin/sample451.txt': 3184213, '/user/pnavaro/latin/sample452.txt': 3184213, '/user/pnavaro/latin/sample453.txt': 3184213, '/user/pnavaro/latin/sample454.txt': 3184213, '/user/pnavaro/latin/sample455.txt': 3184213, '/user/pnavaro/latin/sample456.txt': 3184213, '/user/pnavaro/latin/sample457.txt': 3184213, '/user/pnavaro/latin/sample458.txt': 3184213, '/user/pnavaro/latin/sample459.txt': 3184213, '/user/pnavaro/latin/sample46.txt': 3184213, '/user/pnavaro/latin/sample460.txt': 3184213, '/user/pnavaro/latin/sample461.txt': 3184213, '/user/pnavaro/latin/sample462.txt': 3184213, '/user/pnavaro/latin/sample463.txt': 3184213, '/user/pnavaro/latin/sample464.txt': 3184213, '/user/pnavaro/latin/sample465.txt': 3184213, '/user/pnavaro/latin/sample466.txt': 3184213, '/user/pnavaro/latin/sample467.txt': 3184213, '/user/pnavaro/latin/sample468.txt': 3184213, '/user/pnavaro/latin/sample469.txt': 3184213, '/user/pnavaro/latin/sample47.txt': 3184213, '/user/pnavaro/latin/sample470.txt': 3184213, '/user/pnavaro/latin/sample471.txt': 3184213, '/user/pnavaro/latin/sample472.txt': 3184213, '/user/pnavaro/latin/sample473.txt': 3184213, '/user/pnavaro/latin/sample474.txt': 3184213, '/user/pnavaro/latin/sample475.txt': 3184213, '/user/pnavaro/latin/sample476.txt': 3184213, '/user/pnavaro/latin/sample477.txt': 3184213, '/user/pnavaro/latin/sample478.txt': 3184213, '/user/pnavaro/latin/sample479.txt': 3184213, '/user/pnavaro/latin/sample48.txt': 3184213, '/user/pnavaro/latin/sample480.txt': 3184213, '/user/pnavaro/latin/sample481.txt': 3184213, '/user/pnavaro/latin/sample482.txt': 3184213, '/user/pnavaro/latin/sample483.txt': 3184213, '/user/pnavaro/latin/sample484.txt': 3184213, '/user/pnavaro/latin/sample485.txt': 3184213, '/user/pnavaro/latin/sample486.txt': 3184213, '/user/pnavaro/latin/sample487.txt': 3184213, '/user/pnavaro/latin/sample488.txt': 3184213, '/user/pnavaro/latin/sample489.txt': 3184213, '/user/pnavaro/latin/sample49.txt': 3184213, '/user/pnavaro/latin/sample490.txt': 3184213, '/user/pnavaro/latin/sample491.txt': 3184213, '/user/pnavaro/latin/sample492.txt': 3184213, '/user/pnavaro/latin/sample493.txt': 3184213, '/user/pnavaro/latin/sample494.txt': 3184213, '/user/pnavaro/latin/sample495.txt': 3184213, '/user/pnavaro/latin/sample496.txt': 3184213, '/user/pnavaro/latin/sample497.txt': 3184213, '/user/pnavaro/latin/sample498.txt': 3184213, '/user/pnavaro/latin/sample499.txt': 3184213, '/user/pnavaro/latin/sample5.txt': 3184213, '/user/pnavaro/latin/sample50.txt': 3184213, '/user/pnavaro/latin/sample500.txt': 3184213, '/user/pnavaro/latin/sample501.txt': 3184213, '/user/pnavaro/latin/sample502.txt': 3184213, '/user/pnavaro/latin/sample503.txt': 3184213, '/user/pnavaro/latin/sample504.txt': 3184213, '/user/pnavaro/latin/sample505.txt': 3184213, '/user/pnavaro/latin/sample506.txt': 3184213, '/user/pnavaro/latin/sample507.txt': 3184213, '/user/pnavaro/latin/sample508.txt': 3184213, '/user/pnavaro/latin/sample509.txt': 3184213, '/user/pnavaro/latin/sample51.txt': 3184213, '/user/pnavaro/latin/sample510.txt': 3184213, '/user/pnavaro/latin/sample511.txt': 3184213, '/user/pnavaro/latin/sample512.txt': 3184213, '/user/pnavaro/latin/sample513.txt': 3184213, '/user/pnavaro/latin/sample514.txt': 3184213, '/user/pnavaro/latin/sample515.txt': 3184213, '/user/pnavaro/latin/sample516.txt': 3184213, '/user/pnavaro/latin/sample517.txt': 3184213, '/user/pnavaro/latin/sample518.txt': 3184213, '/user/pnavaro/latin/sample519.txt': 3184213, '/user/pnavaro/latin/sample52.txt': 3184213, '/user/pnavaro/latin/sample520.txt': 3184213, '/user/pnavaro/latin/sample521.txt': 3184213, '/user/pnavaro/latin/sample522.txt': 3184213, '/user/pnavaro/latin/sample523.txt': 3184213, '/user/pnavaro/latin/sample524.txt': 3184213, '/user/pnavaro/latin/sample525.txt': 3184213, '/user/pnavaro/latin/sample526.txt': 3184213, '/user/pnavaro/latin/sample527.txt': 3184213, '/user/pnavaro/latin/sample528.txt': 3184213, '/user/pnavaro/latin/sample529.txt': 3184213, '/user/pnavaro/latin/sample53.txt': 3184213, '/user/pnavaro/latin/sample530.txt': 3184213, '/user/pnavaro/latin/sample531.txt': 3184213, '/user/pnavaro/latin/sample532.txt': 3184213, '/user/pnavaro/latin/sample533.txt': 3184213, '/user/pnavaro/latin/sample534.txt': 3184213, '/user/pnavaro/latin/sample535.txt': 3184213, '/user/pnavaro/latin/sample536.txt': 3184213, '/user/pnavaro/latin/sample537.txt': 3184213, '/user/pnavaro/latin/sample538.txt': 3184213, '/user/pnavaro/latin/sample539.txt': 3184213, '/user/pnavaro/latin/sample54.txt': 3184213, '/user/pnavaro/latin/sample540.txt': 3184213, '/user/pnavaro/latin/sample541.txt': 3184213, '/user/pnavaro/latin/sample542.txt': 3184213, '/user/pnavaro/latin/sample543.txt': 3184213, '/user/pnavaro/latin/sample544.txt': 3184213, '/user/pnavaro/latin/sample545.txt': 3184213, '/user/pnavaro/latin/sample546.txt': 3184213, '/user/pnavaro/latin/sample547.txt': 3184213, '/user/pnavaro/latin/sample548.txt': 3184213, '/user/pnavaro/latin/sample549.txt': 3184213, '/user/pnavaro/latin/sample55.txt': 3184213, '/user/pnavaro/latin/sample550.txt': 3184213, '/user/pnavaro/latin/sample551.txt': 3184213, '/user/pnavaro/latin/sample552.txt': 3184213, '/user/pnavaro/latin/sample553.txt': 3184213, '/user/pnavaro/latin/sample554.txt': 3184213, '/user/pnavaro/latin/sample555.txt': 3184213, '/user/pnavaro/latin/sample556.txt': 3184213, '/user/pnavaro/latin/sample557.txt': 3184213, '/user/pnavaro/latin/sample558.txt': 3184213, '/user/pnavaro/latin/sample559.txt': 3184213, '/user/pnavaro/latin/sample56.txt': 3184213, '/user/pnavaro/latin/sample560.txt': 3184213, '/user/pnavaro/latin/sample561.txt': 3184213, '/user/pnavaro/latin/sample562.txt': 3184213, '/user/pnavaro/latin/sample563.txt': 3184213, '/user/pnavaro/latin/sample564.txt': 3184213, '/user/pnavaro/latin/sample565.txt': 3184213, '/user/pnavaro/latin/sample566.txt': 3184213, '/user/pnavaro/latin/sample567.txt': 3184213, '/user/pnavaro/latin/sample568.txt': 3184213, '/user/pnavaro/latin/sample569.txt': 3184213, '/user/pnavaro/latin/sample57.txt': 3184213, '/user/pnavaro/latin/sample570.txt': 3184213, '/user/pnavaro/latin/sample571.txt': 3184213, '/user/pnavaro/latin/sample572.txt': 3184213, '/user/pnavaro/latin/sample573.txt': 3184213, '/user/pnavaro/latin/sample574.txt': 3184213, '/user/pnavaro/latin/sample575.txt': 3184213, '/user/pnavaro/latin/sample576.txt': 3184213, '/user/pnavaro/latin/sample577.txt': 3184213, '/user/pnavaro/latin/sample578.txt': 3184213, '/user/pnavaro/latin/sample579.txt': 3184213, '/user/pnavaro/latin/sample58.txt': 3184213, '/user/pnavaro/latin/sample580.txt': 3184213, '/user/pnavaro/latin/sample581.txt': 3184213, '/user/pnavaro/latin/sample582.txt': 3184213, '/user/pnavaro/latin/sample583.txt': 3184213, '/user/pnavaro/latin/sample584.txt': 3184213, '/user/pnavaro/latin/sample585.txt': 3184213, '/user/pnavaro/latin/sample586.txt': 3184213, '/user/pnavaro/latin/sample587.txt': 3184213, '/user/pnavaro/latin/sample588.txt': 3184213, '/user/pnavaro/latin/sample589.txt': 3184213, '/user/pnavaro/latin/sample59.txt': 3184213, '/user/pnavaro/latin/sample590.txt': 3184213, '/user/pnavaro/latin/sample591.txt': 3184213, '/user/pnavaro/latin/sample592.txt': 3184213, '/user/pnavaro/latin/sample593.txt': 3184213, '/user/pnavaro/latin/sample594.txt': 3184213, '/user/pnavaro/latin/sample595.txt': 3184213, '/user/pnavaro/latin/sample596.txt': 3184213, '/user/pnavaro/latin/sample597.txt': 3184213, '/user/pnavaro/latin/sample598.txt': 3184213, '/user/pnavaro/latin/sample599.txt': 3184213, '/user/pnavaro/latin/sample6.txt': 3184213, '/user/pnavaro/latin/sample60.txt': 3184213, '/user/pnavaro/latin/sample600.txt': 3184213, '/user/pnavaro/latin/sample601.txt': 3184213, '/user/pnavaro/latin/sample602.txt': 3184213, '/user/pnavaro/latin/sample603.txt': 3184213, '/user/pnavaro/latin/sample604.txt': 3184213, '/user/pnavaro/latin/sample605.txt': 3184213, '/user/pnavaro/latin/sample606.txt': 3184213, '/user/pnavaro/latin/sample607.txt': 3184213, '/user/pnavaro/latin/sample608.txt': 3184213, '/user/pnavaro/latin/sample609.txt': 3184213, '/user/pnavaro/latin/sample61.txt': 3184213, '/user/pnavaro/latin/sample610.txt': 3184213, '/user/pnavaro/latin/sample611.txt': 3184213, '/user/pnavaro/latin/sample612.txt': 3184213, '/user/pnavaro/latin/sample613.txt': 3184213, '/user/pnavaro/latin/sample614.txt': 3184213, '/user/pnavaro/latin/sample615.txt': 3184213, '/user/pnavaro/latin/sample616.txt': 3184213, '/user/pnavaro/latin/sample617.txt': 3184213, '/user/pnavaro/latin/sample618.txt': 3184213, '/user/pnavaro/latin/sample619.txt': 3184213, '/user/pnavaro/latin/sample62.txt': 3184213, '/user/pnavaro/latin/sample620.txt': 3184213, '/user/pnavaro/latin/sample621.txt': 3184213, '/user/pnavaro/latin/sample622.txt': 3184213, '/user/pnavaro/latin/sample623.txt': 3184213, '/user/pnavaro/latin/sample624.txt': 3184213, '/user/pnavaro/latin/sample625.txt': 3184213, '/user/pnavaro/latin/sample626.txt': 3184213, '/user/pnavaro/latin/sample627.txt': 3184213, '/user/pnavaro/latin/sample628.txt': 3184213, '/user/pnavaro/latin/sample629.txt': 3184213, '/user/pnavaro/latin/sample63.txt': 3184213, '/user/pnavaro/latin/sample630.txt': 3184213, '/user/pnavaro/latin/sample631.txt': 3184213, '/user/pnavaro/latin/sample632.txt': 3184213, '/user/pnavaro/latin/sample633.txt': 3184213, '/user/pnavaro/latin/sample634.txt': 3184213, '/user/pnavaro/latin/sample635.txt': 3184213, '/user/pnavaro/latin/sample636.txt': 3184213, '/user/pnavaro/latin/sample637.txt': 3184213, '/user/pnavaro/latin/sample638.txt': 3184213, '/user/pnavaro/latin/sample639.txt': 3184213, '/user/pnavaro/latin/sample64.txt': 3184213, '/user/pnavaro/latin/sample640.txt': 3184213, '/user/pnavaro/latin/sample641.txt': 3184213, '/user/pnavaro/latin/sample642.txt': 3184213, '/user/pnavaro/latin/sample643.txt': 3184213, '/user/pnavaro/latin/sample644.txt': 3184213, '/user/pnavaro/latin/sample645.txt': 3184213, '/user/pnavaro/latin/sample646.txt': 3184213, '/user/pnavaro/latin/sample647.txt': 3184213, '/user/pnavaro/latin/sample648.txt': 3184213, '/user/pnavaro/latin/sample649.txt': 3184213, '/user/pnavaro/latin/sample65.txt': 3184213, '/user/pnavaro/latin/sample650.txt': 3184213, '/user/pnavaro/latin/sample651.txt': 3184213, '/user/pnavaro/latin/sample652.txt': 3184213, '/user/pnavaro/latin/sample653.txt': 3184213, '/user/pnavaro/latin/sample654.txt': 3184213, '/user/pnavaro/latin/sample655.txt': 3184213, '/user/pnavaro/latin/sample656.txt': 3184213, '/user/pnavaro/latin/sample657.txt': 3184213, '/user/pnavaro/latin/sample658.txt': 3184213, '/user/pnavaro/latin/sample659.txt': 3184213, '/user/pnavaro/latin/sample66.txt': 3184213, '/user/pnavaro/latin/sample660.txt': 3184213, '/user/pnavaro/latin/sample661.txt': 3184213, '/user/pnavaro/latin/sample662.txt': 3184213, '/user/pnavaro/latin/sample663.txt': 3184213, '/user/pnavaro/latin/sample664.txt': 3184213, '/user/pnavaro/latin/sample665.txt': 3184213, '/user/pnavaro/latin/sample666.txt': 3184213, '/user/pnavaro/latin/sample667.txt': 3184213, '/user/pnavaro/latin/sample668.txt': 3184213, '/user/pnavaro/latin/sample669.txt': 3184213, '/user/pnavaro/latin/sample67.txt': 3184213, '/user/pnavaro/latin/sample670.txt': 3184213, '/user/pnavaro/latin/sample671.txt': 3184213, '/user/pnavaro/latin/sample672.txt': 3184213, '/user/pnavaro/latin/sample673.txt': 3184213, '/user/pnavaro/latin/sample674.txt': 3184213, '/user/pnavaro/latin/sample675.txt': 3184213, '/user/pnavaro/latin/sample676.txt': 3184213, '/user/pnavaro/latin/sample677.txt': 3184213, '/user/pnavaro/latin/sample678.txt': 3184213, '/user/pnavaro/latin/sample679.txt': 3184213, '/user/pnavaro/latin/sample68.txt': 3184213, '/user/pnavaro/latin/sample680.txt': 3184213, '/user/pnavaro/latin/sample681.txt': 3184213, '/user/pnavaro/latin/sample682.txt': 3184213, '/user/pnavaro/latin/sample683.txt': 3184213, '/user/pnavaro/latin/sample684.txt': 3184213, '/user/pnavaro/latin/sample685.txt': 3184213, '/user/pnavaro/latin/sample686.txt': 3184213, '/user/pnavaro/latin/sample687.txt': 3184213, '/user/pnavaro/latin/sample688.txt': 3184213, '/user/pnavaro/latin/sample689.txt': 3184213, '/user/pnavaro/latin/sample69.txt': 3184213, '/user/pnavaro/latin/sample690.txt': 3184213, '/user/pnavaro/latin/sample691.txt': 3184213, '/user/pnavaro/latin/sample692.txt': 3184213, '/user/pnavaro/latin/sample693.txt': 3184213, '/user/pnavaro/latin/sample694.txt': 3184213, '/user/pnavaro/latin/sample695.txt': 3184213, '/user/pnavaro/latin/sample696.txt': 3184213, '/user/pnavaro/latin/sample697.txt': 3184213, '/user/pnavaro/latin/sample698.txt': 3184213, '/user/pnavaro/latin/sample699.txt': 3184213, '/user/pnavaro/latin/sample7.txt': 3184213, '/user/pnavaro/latin/sample70.txt': 3184213, '/user/pnavaro/latin/sample700.txt': 3184213, '/user/pnavaro/latin/sample701.txt': 3184213, '/user/pnavaro/latin/sample702.txt': 3184213, '/user/pnavaro/latin/sample703.txt': 3184213, '/user/pnavaro/latin/sample704.txt': 3184213, '/user/pnavaro/latin/sample705.txt': 3184213, '/user/pnavaro/latin/sample706.txt': 3184213, '/user/pnavaro/latin/sample707.txt': 3184213, '/user/pnavaro/latin/sample708.txt': 3184213, '/user/pnavaro/latin/sample709.txt': 3184213, '/user/pnavaro/latin/sample71.txt': 3184213, '/user/pnavaro/latin/sample710.txt': 3184213, '/user/pnavaro/latin/sample711.txt': 3184213, '/user/pnavaro/latin/sample712.txt': 3184213, '/user/pnavaro/latin/sample713.txt': 3184213, '/user/pnavaro/latin/sample714.txt': 3184213, '/user/pnavaro/latin/sample715.txt': 3184213, '/user/pnavaro/latin/sample716.txt': 3184213, '/user/pnavaro/latin/sample717.txt': 3184213, '/user/pnavaro/latin/sample718.txt': 3184213, '/user/pnavaro/latin/sample719.txt': 3184213, '/user/pnavaro/latin/sample72.txt': 3184213, '/user/pnavaro/latin/sample720.txt': 3184213, '/user/pnavaro/latin/sample721.txt': 3184213, '/user/pnavaro/latin/sample722.txt': 3184213, '/user/pnavaro/latin/sample723.txt': 3184213, '/user/pnavaro/latin/sample724.txt': 3184213, '/user/pnavaro/latin/sample725.txt': 3184213, '/user/pnavaro/latin/sample726.txt': 3184213, '/user/pnavaro/latin/sample727.txt': 3184213, '/user/pnavaro/latin/sample728.txt': 3184213, '/user/pnavaro/latin/sample729.txt': 3184213, '/user/pnavaro/latin/sample73.txt': 3184213, '/user/pnavaro/latin/sample730.txt': 3184213, '/user/pnavaro/latin/sample731.txt': 3184213, '/user/pnavaro/latin/sample732.txt': 3184213, '/user/pnavaro/latin/sample733.txt': 3184213, '/user/pnavaro/latin/sample734.txt': 3184213, '/user/pnavaro/latin/sample735.txt': 3184213, '/user/pnavaro/latin/sample736.txt': 3184213, '/user/pnavaro/latin/sample737.txt': 3184213, '/user/pnavaro/latin/sample738.txt': 3184213, '/user/pnavaro/latin/sample739.txt': 3184213, '/user/pnavaro/latin/sample74.txt': 3184213, '/user/pnavaro/latin/sample740.txt': 3184213, '/user/pnavaro/latin/sample741.txt': 3184213, '/user/pnavaro/latin/sample742.txt': 3184213, '/user/pnavaro/latin/sample743.txt': 3184213, '/user/pnavaro/latin/sample744.txt': 3184213, '/user/pnavaro/latin/sample745.txt': 3184213, '/user/pnavaro/latin/sample746.txt': 3184213, '/user/pnavaro/latin/sample747.txt': 3184213, '/user/pnavaro/latin/sample748.txt': 3184213, '/user/pnavaro/latin/sample749.txt': 3184213, '/user/pnavaro/latin/sample75.txt': 3184213, '/user/pnavaro/latin/sample750.txt': 3184213, '/user/pnavaro/latin/sample751.txt': 3184213, '/user/pnavaro/latin/sample752.txt': 3184213, '/user/pnavaro/latin/sample753.txt': 3184213, '/user/pnavaro/latin/sample754.txt': 3184213, '/user/pnavaro/latin/sample755.txt': 3184213, '/user/pnavaro/latin/sample756.txt': 3184213, '/user/pnavaro/latin/sample757.txt': 3184213, '/user/pnavaro/latin/sample758.txt': 3184213, '/user/pnavaro/latin/sample759.txt': 3184213, '/user/pnavaro/latin/sample76.txt': 3184213, '/user/pnavaro/latin/sample760.txt': 3184213, '/user/pnavaro/latin/sample761.txt': 3184213, '/user/pnavaro/latin/sample762.txt': 3184213, '/user/pnavaro/latin/sample763.txt': 3184213, '/user/pnavaro/latin/sample764.txt': 3184213, '/user/pnavaro/latin/sample765.txt': 3184213, '/user/pnavaro/latin/sample766.txt': 3184213, '/user/pnavaro/latin/sample767.txt': 3184213, '/user/pnavaro/latin/sample768.txt': 3184213, '/user/pnavaro/latin/sample769.txt': 3184213, '/user/pnavaro/latin/sample77.txt': 3184213, '/user/pnavaro/latin/sample770.txt': 3184213, '/user/pnavaro/latin/sample771.txt': 3184213, '/user/pnavaro/latin/sample772.txt': 3184213, '/user/pnavaro/latin/sample773.txt': 3184213, '/user/pnavaro/latin/sample774.txt': 3184213, '/user/pnavaro/latin/sample775.txt': 3184213, '/user/pnavaro/latin/sample776.txt': 3184213, '/user/pnavaro/latin/sample777.txt': 3184213, '/user/pnavaro/latin/sample778.txt': 3184213, '/user/pnavaro/latin/sample779.txt': 3184213, '/user/pnavaro/latin/sample78.txt': 3184213, '/user/pnavaro/latin/sample780.txt': 3184213, '/user/pnavaro/latin/sample781.txt': 3184213, '/user/pnavaro/latin/sample782.txt': 3184213, '/user/pnavaro/latin/sample783.txt': 3184213, '/user/pnavaro/latin/sample784.txt': 3184213, '/user/pnavaro/latin/sample785.txt': 3184213, '/user/pnavaro/latin/sample786.txt': 3184213, '/user/pnavaro/latin/sample787.txt': 3184213, '/user/pnavaro/latin/sample788.txt': 3184213, '/user/pnavaro/latin/sample789.txt': 3184213, '/user/pnavaro/latin/sample79.txt': 3184213, '/user/pnavaro/latin/sample790.txt': 3184213, '/user/pnavaro/latin/sample791.txt': 3184213, '/user/pnavaro/latin/sample792.txt': 3184213, '/user/pnavaro/latin/sample793.txt': 3184213, '/user/pnavaro/latin/sample794.txt': 3184213, '/user/pnavaro/latin/sample795.txt': 3184213, '/user/pnavaro/latin/sample796.txt': 3184213, '/user/pnavaro/latin/sample797.txt': 3184213, '/user/pnavaro/latin/sample798.txt': 3184213, '/user/pnavaro/latin/sample799.txt': 3184213, '/user/pnavaro/latin/sample8.txt': 3184213, '/user/pnavaro/latin/sample80.txt': 3184213, '/user/pnavaro/latin/sample800.txt': 3184213, '/user/pnavaro/latin/sample801.txt': 3184213, '/user/pnavaro/latin/sample802.txt': 3184213, '/user/pnavaro/latin/sample803.txt': 3184213, '/user/pnavaro/latin/sample804.txt': 3184213, '/user/pnavaro/latin/sample805.txt': 3184213, '/user/pnavaro/latin/sample806.txt': 3184213, '/user/pnavaro/latin/sample807.txt': 3184213, '/user/pnavaro/latin/sample808.txt': 3184213, '/user/pnavaro/latin/sample809.txt': 3184213, '/user/pnavaro/latin/sample81.txt': 3184213, '/user/pnavaro/latin/sample810.txt': 3184213, '/user/pnavaro/latin/sample811.txt': 3184213, '/user/pnavaro/latin/sample812.txt': 3184213, '/user/pnavaro/latin/sample813.txt': 3184213, '/user/pnavaro/latin/sample814.txt': 3184213, '/user/pnavaro/latin/sample815.txt': 3184213, '/user/pnavaro/latin/sample816.txt': 3184213, '/user/pnavaro/latin/sample817.txt': 3184213, '/user/pnavaro/latin/sample818.txt': 3184213, '/user/pnavaro/latin/sample819.txt': 3184213, '/user/pnavaro/latin/sample82.txt': 3184213, '/user/pnavaro/latin/sample820.txt': 3184213, '/user/pnavaro/latin/sample821.txt': 3184213, '/user/pnavaro/latin/sample822.txt': 3184213, '/user/pnavaro/latin/sample823.txt': 3184213, '/user/pnavaro/latin/sample824.txt': 3184213, '/user/pnavaro/latin/sample825.txt': 3184213, '/user/pnavaro/latin/sample826.txt': 3184213, '/user/pnavaro/latin/sample827.txt': 3184213, '/user/pnavaro/latin/sample828.txt': 3184213, '/user/pnavaro/latin/sample829.txt': 3184213, '/user/pnavaro/latin/sample83.txt': 3184213, '/user/pnavaro/latin/sample830.txt': 3184213, '/user/pnavaro/latin/sample831.txt': 3184213, '/user/pnavaro/latin/sample832.txt': 3184213, '/user/pnavaro/latin/sample833.txt': 3184213, '/user/pnavaro/latin/sample834.txt': 3184213, '/user/pnavaro/latin/sample835.txt': 3184213, '/user/pnavaro/latin/sample836.txt': 3184213, '/user/pnavaro/latin/sample837.txt': 3184213, '/user/pnavaro/latin/sample838.txt': 3184213, '/user/pnavaro/latin/sample839.txt': 3184213, '/user/pnavaro/latin/sample84.txt': 3184213, '/user/pnavaro/latin/sample840.txt': 3184213, '/user/pnavaro/latin/sample841.txt': 3184213, '/user/pnavaro/latin/sample842.txt': 3184213, '/user/pnavaro/latin/sample843.txt': 3184213, '/user/pnavaro/latin/sample844.txt': 3184213, '/user/pnavaro/latin/sample845.txt': 3184213, '/user/pnavaro/latin/sample846.txt': 3184213, '/user/pnavaro/latin/sample847.txt': 3184213, '/user/pnavaro/latin/sample848.txt': 3184213, '/user/pnavaro/latin/sample849.txt': 3184213, '/user/pnavaro/latin/sample85.txt': 3184213, '/user/pnavaro/latin/sample850.txt': 3184213, '/user/pnavaro/latin/sample851.txt': 3184213, '/user/pnavaro/latin/sample852.txt': 3184213, '/user/pnavaro/latin/sample853.txt': 3184213, '/user/pnavaro/latin/sample854.txt': 3184213, '/user/pnavaro/latin/sample855.txt': 3184213, '/user/pnavaro/latin/sample856.txt': 3184213, '/user/pnavaro/latin/sample857.txt': 3184213, '/user/pnavaro/latin/sample858.txt': 3184213, '/user/pnavaro/latin/sample859.txt': 3184213, '/user/pnavaro/latin/sample86.txt': 3184213, '/user/pnavaro/latin/sample860.txt': 3184213, '/user/pnavaro/latin/sample861.txt': 3184213, '/user/pnavaro/latin/sample862.txt': 3184213, '/user/pnavaro/latin/sample863.txt': 3184213, '/user/pnavaro/latin/sample864.txt': 3184213, '/user/pnavaro/latin/sample865.txt': 3184213, '/user/pnavaro/latin/sample866.txt': 3184213, '/user/pnavaro/latin/sample867.txt': 3184213, '/user/pnavaro/latin/sample868.txt': 3184213, '/user/pnavaro/latin/sample869.txt': 3184213, '/user/pnavaro/latin/sample87.txt': 3184213, '/user/pnavaro/latin/sample870.txt': 3184213, '/user/pnavaro/latin/sample871.txt': 3184213, '/user/pnavaro/latin/sample872.txt': 3184213, '/user/pnavaro/latin/sample873.txt': 3184213, '/user/pnavaro/latin/sample874.txt': 3184213, '/user/pnavaro/latin/sample875.txt': 3184213, '/user/pnavaro/latin/sample876.txt': 3184213, '/user/pnavaro/latin/sample877.txt': 3184213, '/user/pnavaro/latin/sample878.txt': 3184213, '/user/pnavaro/latin/sample879.txt': 3184213, '/user/pnavaro/latin/sample88.txt': 3184213, '/user/pnavaro/latin/sample880.txt': 3184213, '/user/pnavaro/latin/sample881.txt': 3184213, '/user/pnavaro/latin/sample882.txt': 3184213, '/user/pnavaro/latin/sample883.txt': 3184213, '/user/pnavaro/latin/sample884.txt': 3184213, '/user/pnavaro/latin/sample885.txt': 3184213, '/user/pnavaro/latin/sample886.txt': 3184213, '/user/pnavaro/latin/sample887.txt': 3184213, '/user/pnavaro/latin/sample888.txt': 3184213, '/user/pnavaro/latin/sample889.txt': 3184213, '/user/pnavaro/latin/sample89.txt': 3184213, '/user/pnavaro/latin/sample890.txt': 3184213, '/user/pnavaro/latin/sample891.txt': 3184213, '/user/pnavaro/latin/sample892.txt': 3184213, '/user/pnavaro/latin/sample893.txt': 3184213, '/user/pnavaro/latin/sample894.txt': 3184213, '/user/pnavaro/latin/sample895.txt': 3184213, '/user/pnavaro/latin/sample896.txt': 3184213, '/user/pnavaro/latin/sample897.txt': 3184213, '/user/pnavaro/latin/sample898.txt': 3184213, '/user/pnavaro/latin/sample899.txt': 3184213, '/user/pnavaro/latin/sample9.txt': 3184213, '/user/pnavaro/latin/sample90.txt': 3184213, '/user/pnavaro/latin/sample900.txt': 3184213, '/user/pnavaro/latin/sample901.txt': 3184213, '/user/pnavaro/latin/sample902.txt': 3184213, '/user/pnavaro/latin/sample903.txt': 3184213, '/user/pnavaro/latin/sample904.txt': 3184213, '/user/pnavaro/latin/sample905.txt': 3184213, '/user/pnavaro/latin/sample906.txt': 3184213, '/user/pnavaro/latin/sample907.txt': 3184213, '/user/pnavaro/latin/sample908.txt': 3184213, '/user/pnavaro/latin/sample909.txt': 3184213, '/user/pnavaro/latin/sample91.txt': 3184213, '/user/pnavaro/latin/sample910.txt': 3184213, '/user/pnavaro/latin/sample911.txt': 3184213, '/user/pnavaro/latin/sample912.txt': 3184213, '/user/pnavaro/latin/sample913.txt': 3184213, '/user/pnavaro/latin/sample914.txt': 3184213, '/user/pnavaro/latin/sample915.txt': 3184213, '/user/pnavaro/latin/sample916.txt': 3184213, '/user/pnavaro/latin/sample917.txt': 3184213, '/user/pnavaro/latin/sample918.txt': 3184213, '/user/pnavaro/latin/sample919.txt': 3184213, '/user/pnavaro/latin/sample92.txt': 3184213, '/user/pnavaro/latin/sample920.txt': 3184213, '/user/pnavaro/latin/sample921.txt': 3184213, '/user/pnavaro/latin/sample922.txt': 3184213, '/user/pnavaro/latin/sample923.txt': 3184213, '/user/pnavaro/latin/sample924.txt': 3184213, '/user/pnavaro/latin/sample925.txt': 3184213, '/user/pnavaro/latin/sample926.txt': 3184213, '/user/pnavaro/latin/sample927.txt': 3184213, '/user/pnavaro/latin/sample928.txt': 3184213, '/user/pnavaro/latin/sample929.txt': 3184213, '/user/pnavaro/latin/sample93.txt': 3184213, '/user/pnavaro/latin/sample930.txt': 3184213, '/user/pnavaro/latin/sample931.txt': 3184213, '/user/pnavaro/latin/sample932.txt': 3184213, '/user/pnavaro/latin/sample933.txt': 3184213, '/user/pnavaro/latin/sample934.txt': 3184213, '/user/pnavaro/latin/sample935.txt': 3184213, '/user/pnavaro/latin/sample936.txt': 3184213, '/user/pnavaro/latin/sample937.txt': 3184213, '/user/pnavaro/latin/sample938.txt': 3184213, '/user/pnavaro/latin/sample939.txt': 3184213, '/user/pnavaro/latin/sample94.txt': 3184213, '/user/pnavaro/latin/sample940.txt': 3184213, '/user/pnavaro/latin/sample941.txt': 3184213, '/user/pnavaro/latin/sample942.txt': 3184213, '/user/pnavaro/latin/sample943.txt': 3184213, '/user/pnavaro/latin/sample944.txt': 3184213, '/user/pnavaro/latin/sample945.txt': 3184213, '/user/pnavaro/latin/sample946.txt': 3184213, '/user/pnavaro/latin/sample947.txt': 3184213, '/user/pnavaro/latin/sample948.txt': 3184213, '/user/pnavaro/latin/sample949.txt': 3184213, '/user/pnavaro/latin/sample95.txt': 3184213, '/user/pnavaro/latin/sample950.txt': 3184213, '/user/pnavaro/latin/sample951.txt': 3184213, '/user/pnavaro/latin/sample952.txt': 3184213, '/user/pnavaro/latin/sample953.txt': 3184213, '/user/pnavaro/latin/sample954.txt': 3184213, '/user/pnavaro/latin/sample955.txt': 3184213, '/user/pnavaro/latin/sample956.txt': 3184213, '/user/pnavaro/latin/sample957.txt': 3184213, '/user/pnavaro/latin/sample958.txt': 3184213, '/user/pnavaro/latin/sample959.txt': 3184213, '/user/pnavaro/latin/sample96.txt': 3184213, '/user/pnavaro/latin/sample960.txt': 3184213, '/user/pnavaro/latin/sample961.txt': 3184213, '/user/pnavaro/latin/sample962.txt': 3184213, '/user/pnavaro/latin/sample963.txt': 3184213, '/user/pnavaro/latin/sample964.txt': 3184213, '/user/pnavaro/latin/sample965.txt': 3184213, '/user/pnavaro/latin/sample966.txt': 3184213, '/user/pnavaro/latin/sample967.txt': 3184213, '/user/pnavaro/latin/sample968.txt': 3184213, '/user/pnavaro/latin/sample969.txt': 3184213, '/user/pnavaro/latin/sample97.txt': 3184213, '/user/pnavaro/latin/sample970.txt': 3184213, '/user/pnavaro/latin/sample971.txt': 3184213, '/user/pnavaro/latin/sample972.txt': 3184213, '/user/pnavaro/latin/sample973.txt': 3184213, '/user/pnavaro/latin/sample974.txt': 3184213, '/user/pnavaro/latin/sample975.txt': 3184213, '/user/pnavaro/latin/sample976.txt': 3184213, '/user/pnavaro/latin/sample977.txt': 3184213, '/user/pnavaro/latin/sample978.txt': 3184213, '/user/pnavaro/latin/sample979.txt': 3184213, '/user/pnavaro/latin/sample98.txt': 3184213, '/user/pnavaro/latin/sample980.txt': 3184213, '/user/pnavaro/latin/sample981.txt': 3184213, '/user/pnavaro/latin/sample982.txt': 3184213, '/user/pnavaro/latin/sample983.txt': 3184213, '/user/pnavaro/latin/sample984.txt': 3184213, '/user/pnavaro/latin/sample985.txt': 3184213, '/user/pnavaro/latin/sample986.txt': 3184213, '/user/pnavaro/latin/sample987.txt': 3184213, '/user/pnavaro/latin/sample988.txt': 3184213, '/user/pnavaro/latin/sample989.txt': 3184213, '/user/pnavaro/latin/sample99.txt': 3184213, '/user/pnavaro/latin/sample990.txt': 3184213, '/user/pnavaro/latin/sample991.txt': 3184213, '/user/pnavaro/latin/sample992.txt': 3184213, '/user/pnavaro/latin/sample993.txt': 3184213, '/user/pnavaro/latin/sample994.txt': 3184213, '/user/pnavaro/latin/sample995.txt': 3184213, '/user/pnavaro/latin/sample996.txt': 3184213, '/user/pnavaro/latin/sample997.txt': 3184213, '/user/pnavaro/latin/sample998.txt': 3184213, '/user/pnavaro/latin/sample999.txt': 3184213}\n"
     ]
    }
   ],
   "source": [
    "# Run the modified functions on hdfs latin directory\n",
    "# Use functions to get filenames and size to display total ammount\n",
    "# of gigabytes processed.\n",
    "\n",
    "import itertools\n",
    "\n",
    "files = hdfs.glob(\"/user/pnavaro/latin/*.txt\")\n",
    "print(hdfs.du(\"/user/pnavaro/latin/\"))\n",
    "mapped_values = map(hdfs_words, files)\n",
    "results = reduce(itertools.chain(*mapped_values))\n",
    "results"
   ]
  },
  {
   "cell_type": "markdown",
   "metadata": {
    "slideshow": {
     "slide_type": "slide"
    }
   },
   "source": [
    "### Exercise\n",
    "\n",
    "Do the work with a Spark context.\n",
    "By using the [Cheat Sheet](http://datacamp-community.s3.amazonaws.com/4d91fcbc-820d-4ae2-891b-f7a436ebefd4), you can create a parallel collection with `textFile`.\n",
    "You can do your wordcount with functions `map`, `flatMap`, `reduceByKey` and `sortByKey`. Do some tries on a small local text file before to analyze the \"latin data lake\" on hdfs."
   ]
  },
  {
   "cell_type": "code",
   "execution_count": 45,
   "metadata": {
    "slideshow": {
     "slide_type": "slide"
    }
   },
   "outputs": [
    {
     "data": {
      "text/html": [
       "\n",
       "        <div>\n",
       "            <p><b>SparkContext</b></p>\n",
       "\n",
       "            <p><a href=\"http://10.9.6.5:4040\">Spark UI</a></p>\n",
       "\n",
       "            <dl>\n",
       "              <dt>Version</dt>\n",
       "                <dd><code>v2.2.0</code></dd>\n",
       "              <dt>Master</dt>\n",
       "                <dd><code>local[16]</code></dd>\n",
       "              <dt>AppName</dt>\n",
       "                <dd><code>Lorem Count</code></dd>\n",
       "            </dl>\n",
       "        </div>\n",
       "        "
      ],
      "text/plain": [
       "<SparkContext master=local[16] appName=Lorem Count>"
      ]
     },
     "execution_count": 45,
     "metadata": {},
     "output_type": "execute_result"
    }
   ],
   "source": [
    "from pyspark import SparkContext\n",
    "sc = SparkContext(\"spark://hadoop1:7077\", \"Your Name\")\n",
    "sc"
   ]
  },
  {
   "cell_type": "code",
   "execution_count": 47,
   "metadata": {
    "slideshow": {
     "slide_type": "slide"
    }
   },
   "outputs": [
    {
     "data": {
      "text/plain": [
       "[(13, 'quaerat'),\n",
       " (12, 'est'),\n",
       " (12, 'neque'),\n",
       " (10, 'dolor'),\n",
       " (9, 'amet'),\n",
       " (9, 'ut'),\n",
       " (9, 'numquam'),\n",
       " (8, 'eius'),\n",
       " (8, 'quiquia'),\n",
       " (8, 'tempora'),\n",
       " (8, 'sit'),\n",
       " (8, 'dolorem'),\n",
       " (7, 'labore'),\n",
       " (6, 'dolore'),\n",
       " (6, 'aliquam'),\n",
       " (6, 'etincidunt'),\n",
       " (6, 'voluptatem'),\n",
       " (6, 'velit'),\n",
       " (5, 'ipsum'),\n",
       " (5, 'consectetur'),\n",
       " (5, 'modi'),\n",
       " (5, 'sed'),\n",
       " (5, 'quisquam'),\n",
       " (5, 'adipisci'),\n",
       " (4, 'magnam'),\n",
       " (4, 'non'),\n",
       " (3, 'porro')]"
      ]
     },
     "execution_count": 47,
     "metadata": {},
     "output_type": "execute_result"
    }
   ],
   "source": [
    "files = \"sample.txt\"\n",
    "\n",
    "# Your code here...\n",
    "# wordcounts = ...\n",
    "\n",
    "wordcounts.collect()\n"
   ]
  },
  {
   "cell_type": "code",
   "execution_count": null,
   "metadata": {},
   "outputs": [],
   "source": [
    "sc.stop()"
   ]
  }
 ],
 "metadata": {
  "celltoolbar": "Slideshow",
  "kernelspec": {
   "display_name": "Python 3",
   "language": "python",
   "name": "python3"
  },
  "language_info": {
   "codemirror_mode": {
    "name": "ipython",
    "version": 3
   },
   "file_extension": ".py",
   "mimetype": "text/x-python",
   "name": "python",
   "nbconvert_exporter": "python",
   "pygments_lexer": "ipython3",
   "version": "3.6.4"
  }
 },
 "nbformat": 4,
 "nbformat_minor": 2
}
