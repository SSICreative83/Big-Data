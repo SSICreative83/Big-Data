{
 "cells": [
  {
   "cell_type": "markdown",
   "metadata": {
    "slideshow": {
     "slide_type": "slide"
    }
   },
   "source": [
    "Pierre Navaro - [Institut de Recherche Mathématique de Rennes](https://irmar.univ-rennes1.fr) - [CNRS](http://www.cnrs.fr/)\n",
    "\n",
    "[![nbviewer](https://img.shields.io/badge/render-nbviewer-orange.svg)](http://nbviewer.jupyter.org/github/pnavaro/big-data/blob/master/01.MapReduce.ipynb)\n",
    "\n",
    "Some recommendations:\n",
    "- *Please don't google the solution on the web, use the python documentation through `help` function.*\n",
    "- *Do not try to find a clever or optimized solution, do something that works.*\n",
    "- *Please don't get solution from your friends*\n",
    "- *Notebooks will be updated next week with solutions*"
   ]
  },
  {
   "cell_type": "markdown",
   "metadata": {
    "slideshow": {
     "slide_type": "slide"
    }
   },
   "source": [
    "# Data processing through MapReduce\n",
    "\n",
    "![MapReduce](http://mm-tom.s3.amazonaws.com/blog/MapReduce.png)"
   ]
  },
  {
   "cell_type": "markdown",
   "metadata": {
    "slideshow": {
     "slide_type": "slide"
    }
   },
   "source": [
    "\n",
    "## `map` function example\n",
    "\n",
    "The `map(func, seq)` Python function applies the function func to all the elements of the sequence seq. It returns a new list with the elements changed by func"
   ]
  },
  {
   "cell_type": "code",
   "execution_count": 1,
   "metadata": {
    "slideshow": {
     "slide_type": "fragment"
    }
   },
   "outputs": [
    {
     "data": {
      "text/plain": [
       "<map at 0x7fd24465b828>"
      ]
     },
     "execution_count": 1,
     "metadata": {},
     "output_type": "execute_result"
    }
   ],
   "source": [
    "def f(x):\n",
    "    return x + 1\n",
    "\n",
    "res = map(f, [2, 6, -3, 7])\n",
    "res  # Res is an iterator"
   ]
  },
  {
   "cell_type": "code",
   "execution_count": 2,
   "metadata": {
    "slideshow": {
     "slide_type": "fragment"
    }
   },
   "outputs": [
    {
     "name": "stdout",
     "output_type": "stream",
     "text": [
      "3 7 -2 8\n"
     ]
    }
   ],
   "source": [
    "print(*res)"
   ]
  },
  {
   "cell_type": "markdown",
   "metadata": {
    "slideshow": {
     "slide_type": "slide"
    }
   },
   "source": [
    "## `functools.reduce` example\n",
    "\n",
    "The function `reduce(func, seq)` continually applies the function func() to the sequence seq and return a single value. For example, reduce(f, [1, 2, 3, 4, 5]) calculates f(f(f(f(1,2),3),4),5)."
   ]
  },
  {
   "cell_type": "code",
   "execution_count": 3,
   "metadata": {
    "slideshow": {
     "slide_type": "fragment"
    }
   },
   "outputs": [
    {
     "data": {
      "text/plain": [
       "15"
      ]
     },
     "execution_count": 3,
     "metadata": {},
     "output_type": "execute_result"
    }
   ],
   "source": [
    "def g(x,y):\n",
    "    return x + y\n",
    "\n",
    "from functools import reduce\n",
    "reduce(g, [1, 2, 3, 4, 5]) # computes ((((1+2)+3)+4)+5). "
   ]
  },
  {
   "cell_type": "markdown",
   "metadata": {
    "slideshow": {
     "slide_type": "slide"
    }
   },
   "source": [
    "## Vector norm\n",
    "We want to compute the vector norm $|v| = \\sqrt{\\sum_i v_i^2}$ with a Map-Reduce process:\n",
    "- use `map` function\n",
    "- use `reduce` funtion from `functools`"
   ]
  },
  {
   "cell_type": "markdown",
   "metadata": {
    "slideshow": {
     "slide_type": "fragment"
    }
   },
   "source": [
    "### Exercise 1.1\n",
    "Write these two functions and compute the norm of V representing by the Python list `V` above."
   ]
  },
  {
   "cell_type": "code",
   "execution_count": 4,
   "metadata": {
    "scrolled": false,
    "slideshow": {
     "slide_type": "fragment"
    }
   },
   "outputs": [],
   "source": [
    "V = [4,1,2,3]\n"
   ]
  },
  {
   "cell_type": "code",
   "execution_count": 5,
   "metadata": {},
   "outputs": [
    {
     "data": {
      "text/plain": [
       "True"
      ]
     },
     "execution_count": 5,
     "metadata": {},
     "output_type": "execute_result"
    }
   ],
   "source": [
    "from operator import add\n",
    "from functools import reduce\n",
    "from math import sqrt\n",
    "\n",
    "f = lambda x: x*x   # Function applied\n",
    "L = map(f, V)       # map return a iterator\n",
    "s = reduce(add,L)   # reduce compute the sum\n",
    "sqrt(s) == sqrt(sum(map(f,V))) # check the result"
   ]
  },
  {
   "cell_type": "markdown",
   "metadata": {
    "slideshow": {
     "slide_type": "slide"
    }
   },
   "source": [
    "## Wordcount Example\n",
    "\n",
    "[WordCount](https://hadoop.apache.org/docs/current/hadoop-mapreduce-client/hadoop-mapreduce-client-core/MapReduceTutorial.html#Example:_WordCount_v1.0) is a simple application that counts the number of occurrences of each word in a given input set.\n",
    "\n",
    "Each mapper takes a line of text files as input and breaks it into words. It then emits a key/value pair of the word and 1 (separated by a tab). Each reducer sums the counts for each word and emits a single key/value with the word and sum."
   ]
  },
  {
   "cell_type": "code",
   "execution_count": 8,
   "metadata": {
    "scrolled": false,
    "slideshow": {
     "slide_type": "fragment"
    }
   },
   "outputs": [
    {
     "name": "stdout",
     "output_type": "stream",
     "text": [
      "Ut sed adipisci sed labore. Etincidunt dolor sed dolore magnam. Quisquam modi adipisci velit. Aliquam ipsum aliquam etincidunt etincidunt ut dolor. Qu\n"
     ]
    }
   ],
   "source": [
    "from lorem import text\n",
    "t = text()\n",
    "\n",
    "with open(\"sample.txt\", \"w\") as sample:\n",
    "    sample.write(t)\n",
    "\n",
    "print(t[:150]) # print only 150 first characters"
   ]
  },
  {
   "cell_type": "markdown",
   "metadata": {
    "slideshow": {
     "slide_type": "slide"
    }
   },
   "source": [
    "### Exercise 1.2\n",
    "Write a python program that counts the number of words in that file.\n"
   ]
  },
  {
   "cell_type": "code",
   "execution_count": 9,
   "metadata": {},
   "outputs": [
    {
     "data": {
      "text/plain": [
       "298"
      ]
     },
     "execution_count": 9,
     "metadata": {},
     "output_type": "execute_result"
    }
   ],
   "source": [
    "import re\n",
    "splitter = re.compile('\\w+') # use regular expression to split file into words\n",
    "with open('sample.txt', 'r') as f:\n",
    "    data = f.read()\n",
    "result = len(splitter.findall(data))\n",
    "result"
   ]
  },
  {
   "cell_type": "markdown",
   "metadata": {
    "slideshow": {
     "slide_type": "slide"
    }
   },
   "source": [
    "## Map - Read file and return a key/value pairs\n",
    "\n",
    "### Exercise 1.3\n",
    "\n",
    "Write a function `words` with file name as input that returns a sorted sequence of tuples (word, 1) values.\n",
    "\n",
    "Hints: `str.lower` , `str.maketrans` and `str.translate` methods can help to remove punctuation (`string.punctuation`)."
   ]
  },
  {
   "cell_type": "code",
   "execution_count": 10,
   "metadata": {},
   "outputs": [],
   "source": [
    "import string\n",
    "\n",
    "def words(file):\n",
    "    \"\"\"\n",
    "    Read a text file and return a sorted list of (word, 1) values.\n",
    "    \"\"\"\n",
    "    translator = str.maketrans('', '', string.punctuation)\n",
    "    output = []\n",
    "    with open(file) as f:\n",
    "        for line in f:\n",
    "            line = line.strip()\n",
    "            line = line.translate(translator)\n",
    "            for word in line.split():\n",
    "                word = word.lower()\n",
    "                output.append((word, 1))\n",
    "    output.sort()\n",
    "    return output"
   ]
  },
  {
   "cell_type": "markdown",
   "metadata": {
    "slideshow": {
     "slide_type": "slide"
    }
   },
   "source": [
    "# Reduce \n",
    "\n",
    "### Exercice 1.4\n",
    "\n",
    "Write the funtion `reduce` to read the results of words and sum the occurrences of each word to a final count, and then output the results\n",
    "as a list of (word, occurences). Two steps:\n",
    "- Group (word, 1) pairs into a dictionary as\n",
    "```python\n",
    "{word1 : [1, 1], word2 : [1, 1, 1], word3 : [1] }\n",
    "```\n",
    "- Reduce operation prints out the word and its number of occurences."
   ]
  },
  {
   "cell_type": "code",
   "execution_count": 11,
   "metadata": {},
   "outputs": [],
   "source": [
    "import operator\n",
    "def reduce(words):\n",
    "    \"\"\" Read the sorted list from map and print out every word with \n",
    "    its number of occurences\"\"\"\n",
    "    d = {}\n",
    "    for w in words:\n",
    "        try:\n",
    "            d[w[0]] +=1\n",
    "        except KeyError:\n",
    "            d[w[0]] = 1 \n",
    "    \n",
    "    return sorted(d.items(), key=operator.itemgetter(1), reverse=True)"
   ]
  },
  {
   "cell_type": "markdown",
   "metadata": {
    "slideshow": {
     "slide_type": "slide"
    }
   },
   "source": [
    "### Exercise 1.5\n",
    "\n",
    "Use `words` and `reduce` functions to return the words list of sample.txt with number of occurrences.\n",
    "\n",
    "Each item of this list is a tuple. Sort this list with `operator.itemgetter(1)` to use the second element of this tuple as key for the `sorted` function."
   ]
  },
  {
   "cell_type": "code",
   "execution_count": 12,
   "metadata": {},
   "outputs": [
    {
     "data": {
      "text/plain": [
       "[('etincidunt', 18),\n",
       " ('amet', 15),\n",
       " ('numquam', 15),\n",
       " ('sed', 15),\n",
       " ('adipisci', 14),\n",
       " ('ut', 14),\n",
       " ('est', 13),\n",
       " ('labore', 13),\n",
       " ('modi', 13),\n",
       " ('quiquia', 13),\n",
       " ('porro', 12),\n",
       " ('consectetur', 11),\n",
       " ('dolor', 11),\n",
       " ('ipsum', 11),\n",
       " ('dolorem', 10),\n",
       " ('magnam', 10),\n",
       " ('non', 10),\n",
       " ('sit', 10),\n",
       " ('voluptatem', 10),\n",
       " ('quaerat', 9),\n",
       " ('aliquam', 8),\n",
       " ('dolore', 8),\n",
       " ('neque', 8),\n",
       " ('eius', 7),\n",
       " ('quisquam', 7),\n",
       " ('tempora', 7),\n",
       " ('velit', 6)]"
      ]
     },
     "execution_count": 12,
     "metadata": {},
     "output_type": "execute_result"
    }
   ],
   "source": [
    "\n",
    "reduce(words('sample.txt'))\n"
   ]
  },
  {
   "cell_type": "markdown",
   "metadata": {
    "slideshow": {
     "slide_type": "slide"
    }
   },
   "source": [
    "### Exercise 1.6\n",
    "\n",
    "Create 8 files `sample[0-7].txt` and use functions implemented above to\n",
    "count (word, occurences). Set most common words at the top of the output list.\n",
    "\n"
   ]
  },
  {
   "cell_type": "code",
   "execution_count": 13,
   "metadata": {
    "slideshow": {
     "slide_type": "fragment"
    }
   },
   "outputs": [],
   "source": [
    "from lorem import text\n",
    "for i in range(8):\n",
    "    with open(\"sample{0:02d}.txt\".format(i), \"w\") as f:\n",
    "        f.write(text())"
   ]
  },
  {
   "cell_type": "markdown",
   "metadata": {
    "slideshow": {
     "slide_type": "slide"
    }
   },
   "source": [
    "### Solution 1 with a for loop"
   ]
  },
  {
   "cell_type": "code",
   "execution_count": 14,
   "metadata": {
    "slideshow": {
     "slide_type": "fragment"
    }
   },
   "outputs": [
    {
     "data": {
      "text/plain": [
       "[('non', 68),\n",
       " ('adipisci', 64),\n",
       " ('consectetur', 64),\n",
       " ('dolorem', 64),\n",
       " ('quiquia', 62),\n",
       " ('dolore', 58),\n",
       " ('sit', 56),\n",
       " ('velit', 56),\n",
       " ('quaerat', 54),\n",
       " ('dolor', 53),\n",
       " ('modi', 52),\n",
       " ('numquam', 52),\n",
       " ('amet', 51),\n",
       " ('etincidunt', 51),\n",
       " ('quisquam', 51),\n",
       " ('sed', 51),\n",
       " ('neque', 50),\n",
       " ('porro', 50),\n",
       " ('ipsum', 49),\n",
       " ('magnam', 49),\n",
       " ('eius', 48),\n",
       " ('ut', 47),\n",
       " ('tempora', 45),\n",
       " ('aliquam', 44),\n",
       " ('voluptatem', 44),\n",
       " ('labore', 42),\n",
       " ('est', 34)]"
      ]
     },
     "execution_count": 14,
     "metadata": {},
     "output_type": "execute_result"
    }
   ],
   "source": [
    "import glob\n",
    "import collections\n",
    "files = glob.glob('sample0*.txt')\n",
    "\n",
    "mapped_values = []\n",
    "for file in files:  # loop over files\n",
    "    mapped_values += words(file)\n",
    "\n",
    "reduce(mapped_values)"
   ]
  },
  {
   "cell_type": "markdown",
   "metadata": {
    "slideshow": {
     "slide_type": "slide"
    }
   },
   "source": [
    "### Solution 2 with `map` function\n",
    "`itertools.chain(*mapped_values)` is used for treating consecutive sequences as a single sequence. It makes an iterator that returns elements from the first iterable until it is exhausted, then proceeds to the next iterable, until all of the iterables are exhausted."
   ]
  },
  {
   "cell_type": "code",
   "execution_count": 15,
   "metadata": {
    "slideshow": {
     "slide_type": "fragment"
    }
   },
   "outputs": [
    {
     "data": {
      "text/plain": [
       "[('non', 68),\n",
       " ('adipisci', 64),\n",
       " ('consectetur', 64),\n",
       " ('dolorem', 64),\n",
       " ('quiquia', 62),\n",
       " ('dolore', 58),\n",
       " ('sit', 56),\n",
       " ('velit', 56),\n",
       " ('quaerat', 54),\n",
       " ('dolor', 53),\n",
       " ('modi', 52),\n",
       " ('numquam', 52),\n",
       " ('amet', 51),\n",
       " ('etincidunt', 51),\n",
       " ('quisquam', 51),\n",
       " ('sed', 51),\n",
       " ('neque', 50),\n",
       " ('porro', 50),\n",
       " ('ipsum', 49),\n",
       " ('magnam', 49),\n",
       " ('eius', 48),\n",
       " ('ut', 47),\n",
       " ('tempora', 45),\n",
       " ('aliquam', 44),\n",
       " ('voluptatem', 44),\n",
       " ('labore', 42),\n",
       " ('est', 34)]"
      ]
     },
     "execution_count": 15,
     "metadata": {},
     "output_type": "execute_result"
    }
   ],
   "source": [
    "import glob\n",
    "import collections\n",
    "import itertools\n",
    "files = glob.glob('sample0*.txt')\n",
    "\n",
    "mapped_values = map(words, files)\n",
    "\n",
    "reduce(itertools.chain(*mapped_values))"
   ]
  },
  {
   "cell_type": "code",
   "execution_count": 16,
   "metadata": {},
   "outputs": [
    {
     "data": {
      "text/plain": [
       "[('blue', 6), ('red', 1), ('yellow', 4)]"
      ]
     },
     "execution_count": 16,
     "metadata": {},
     "output_type": "execute_result"
    }
   ],
   "source": [
    "from collections import defaultdict\n",
    "s = [('yellow', 1), ('blue', 2), ('yellow', 3), ('blue', 4), ('red', 1)]\n",
    "d = defaultdict(int)\n",
    "for k, v in s:\n",
    "    d[k] += v\n",
    "\n",
    "sorted(d.items())"
   ]
  },
  {
   "cell_type": "code",
   "execution_count": null,
   "metadata": {
    "collapsed": true
   },
   "outputs": [],
   "source": []
  }
 ],
 "metadata": {
  "kernelspec": {
   "display_name": "Python 3",
   "language": "python",
   "name": "python3"
  },
  "language_info": {
   "codemirror_mode": {
    "name": "ipython",
    "version": 3
   },
   "file_extension": ".py",
   "mimetype": "text/x-python",
   "name": "python",
   "nbconvert_exporter": "python",
   "pygments_lexer": "ipython3",
   "version": "3.6.3"
  }
 },
 "nbformat": 4,
 "nbformat_minor": 2
}
